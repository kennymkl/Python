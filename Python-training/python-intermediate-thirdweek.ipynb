{
 "cells": [
  {
   "cell_type": "markdown",
   "id": "4ec22164-096f-4664-a9b9-71ea71957ad5",
   "metadata": {},
   "source": [
    "## Reading from Spreadsheets"
   ]
  },
  {
   "cell_type": "code",
   "execution_count": 2,
   "id": "ec24dcc8-b4ef-4704-9335-e6de5ccc48cc",
   "metadata": {},
   "outputs": [
    {
     "name": "stdout",
     "output_type": "stream",
     "text": [
      "Collecting openpyxl\n",
      "  Downloading openpyxl-3.1.5-py2.py3-none-any.whl.metadata (2.5 kB)\n",
      "Collecting et-xmlfile (from openpyxl)\n",
      "  Downloading et_xmlfile-1.1.0-py3-none-any.whl.metadata (1.8 kB)\n",
      "Downloading openpyxl-3.1.5-py2.py3-none-any.whl (250 kB)\n",
      "Downloading et_xmlfile-1.1.0-py3-none-any.whl (4.7 kB)\n",
      "Installing collected packages: et-xmlfile, openpyxl\n",
      "Successfully installed et-xmlfile-1.1.0 openpyxl-3.1.5\n"
     ]
    }
   ],
   "source": [
    "!pip install openpyxl"
   ]
  },
  {
   "cell_type": "code",
   "execution_count": 6,
   "id": "059b8af4-b254-40ab-8d5e-449ee6703365",
   "metadata": {},
   "outputs": [],
   "source": [
    "import openpyxl"
   ]
  },
  {
   "cell_type": "code",
   "execution_count": 7,
   "id": "ae483f3f-1aab-4df3-bb9f-b4f8ccb5aebf",
   "metadata": {},
   "outputs": [],
   "source": [
    "work_book = openpyxl.load_workbook('company_revenue.xlsx')"
   ]
  },
  {
   "cell_type": "code",
   "execution_count": 8,
   "id": "62c6b9e6-0bf1-410f-b394-f4e88c1954d8",
   "metadata": {},
   "outputs": [
    {
     "data": {
      "text/plain": [
       "['Revenue']"
      ]
     },
     "execution_count": 8,
     "metadata": {},
     "output_type": "execute_result"
    }
   ],
   "source": [
    "work_book.sheetnames"
   ]
  },
  {
   "cell_type": "code",
   "execution_count": 9,
   "id": "a57f5453-ac1b-4aff-adff-24abf4dff3b2",
   "metadata": {},
   "outputs": [],
   "source": [
    "sheet_obj = work_book['Revenue'] #assigned sheet object from the workbook (its like a dataframe)"
   ]
  },
  {
   "cell_type": "code",
   "execution_count": 10,
   "id": "73c2417f-8fbe-458d-99c3-13fcfdc2e395",
   "metadata": {},
   "outputs": [
    {
     "data": {
      "text/plain": [
       "'Revenue'"
      ]
     },
     "execution_count": 10,
     "metadata": {},
     "output_type": "execute_result"
    }
   ],
   "source": [
    "sheet_obj.title"
   ]
  },
  {
   "cell_type": "code",
   "execution_count": 12,
   "id": "4eb75f02-fbfa-4809-8404-328d36426116",
   "metadata": {},
   "outputs": [
    {
     "data": {
      "text/plain": [
       "<Cell 'Revenue'.A1>"
      ]
     },
     "execution_count": 12,
     "metadata": {},
     "output_type": "execute_result"
    }
   ],
   "source": [
    "sheet_obj['A1']"
   ]
  },
  {
   "cell_type": "code",
   "execution_count": 13,
   "id": "1f11b5fb-9b44-4b19-be56-cf13abac8f08",
   "metadata": {},
   "outputs": [
    {
     "data": {
      "text/plain": [
       "'Region'"
      ]
     },
     "execution_count": 13,
     "metadata": {},
     "output_type": "execute_result"
    }
   ],
   "source": [
    "sheet_obj['A1'].value #contents of the cell"
   ]
  },
  {
   "cell_type": "code",
   "execution_count": 15,
   "id": "006253ee-3c99-4c74-82f7-94f9415eb1ea",
   "metadata": {},
   "outputs": [
    {
     "data": {
      "text/plain": [
       "openpyxl.cell.cell.Cell"
      ]
     },
     "execution_count": 15,
     "metadata": {},
     "output_type": "execute_result"
    }
   ],
   "source": [
    "type (sheet_obj['B1']) #a lot of nested types"
   ]
  },
  {
   "cell_type": "code",
   "execution_count": 16,
   "id": "c1e553cf-cd58-458f-8814-4cd8f946802e",
   "metadata": {},
   "outputs": [
    {
     "data": {
      "text/plain": [
       "['__class__',\n",
       " '__delattr__',\n",
       " '__dir__',\n",
       " '__doc__',\n",
       " '__eq__',\n",
       " '__format__',\n",
       " '__ge__',\n",
       " '__getattribute__',\n",
       " '__getstate__',\n",
       " '__gt__',\n",
       " '__hash__',\n",
       " '__init__',\n",
       " '__init_subclass__',\n",
       " '__le__',\n",
       " '__lt__',\n",
       " '__module__',\n",
       " '__ne__',\n",
       " '__new__',\n",
       " '__reduce__',\n",
       " '__reduce_ex__',\n",
       " '__repr__',\n",
       " '__setattr__',\n",
       " '__sizeof__',\n",
       " '__slots__',\n",
       " '__str__',\n",
       " '__subclasshook__',\n",
       " '_bind_value',\n",
       " '_comment',\n",
       " '_hyperlink',\n",
       " '_style',\n",
       " '_value',\n",
       " 'alignment',\n",
       " 'base_date',\n",
       " 'border',\n",
       " 'check_error',\n",
       " 'check_string',\n",
       " 'col_idx',\n",
       " 'column',\n",
       " 'column_letter',\n",
       " 'comment',\n",
       " 'coordinate',\n",
       " 'data_type',\n",
       " 'encoding',\n",
       " 'fill',\n",
       " 'font',\n",
       " 'has_style',\n",
       " 'hyperlink',\n",
       " 'internal_value',\n",
       " 'is_date',\n",
       " 'number_format',\n",
       " 'offset',\n",
       " 'parent',\n",
       " 'pivotButton',\n",
       " 'protection',\n",
       " 'quotePrefix',\n",
       " 'row',\n",
       " 'style',\n",
       " 'style_id',\n",
       " 'value']"
      ]
     },
     "execution_count": 16,
     "metadata": {},
     "output_type": "execute_result"
    }
   ],
   "source": [
    "dir (sheet_obj['B1']) #to see all the attributes or properties that we can use to manipulate a cell object"
   ]
  },
  {
   "cell_type": "code",
   "execution_count": 17,
   "id": "317950b1-c760-4365-9ea6-e5991c71162f",
   "metadata": {},
   "outputs": [],
   "source": [
    "cell = sheet_obj['B1']"
   ]
  },
  {
   "cell_type": "code",
   "execution_count": 18,
   "id": "df59981d-af69-4e87-b2f0-fbae93c67ac4",
   "metadata": {},
   "outputs": [
    {
     "data": {
      "text/plain": [
       "1"
      ]
     },
     "execution_count": 18,
     "metadata": {},
     "output_type": "execute_result"
    }
   ],
   "source": [
    "cell.row  #starts with 1 NOT 0"
   ]
  },
  {
   "cell_type": "code",
   "execution_count": 19,
   "id": "7f0192a6-c371-4f70-acec-03819b46c2b7",
   "metadata": {},
   "outputs": [
    {
     "data": {
      "text/plain": [
       "2"
      ]
     },
     "execution_count": 19,
     "metadata": {},
     "output_type": "execute_result"
    }
   ],
   "source": [
    "cell.column"
   ]
  },
  {
   "cell_type": "code",
   "execution_count": 20,
   "id": "399476a2-00c7-43da-8f79-fcd1ef25c6e7",
   "metadata": {},
   "outputs": [
    {
     "data": {
      "text/plain": [
       "'General'"
      ]
     },
     "execution_count": 20,
     "metadata": {},
     "output_type": "execute_result"
    }
   ],
   "source": [
    "cell.number_format #one of its properties"
   ]
  },
  {
   "cell_type": "code",
   "execution_count": 21,
   "id": "c3a69df9-4278-4abd-9edd-d88bc01c3ac4",
   "metadata": {},
   "outputs": [
    {
     "data": {
      "text/plain": [
       "'s'"
      ]
     },
     "execution_count": 21,
     "metadata": {},
     "output_type": "execute_result"
    }
   ],
   "source": [
    "cell.data_type #data type in this case is a spring because it is an s"
   ]
  },
  {
   "cell_type": "code",
   "execution_count": 22,
   "id": "36ece53e-bc7f-4fa7-85a5-77af5b639c9d",
   "metadata": {},
   "outputs": [
    {
     "data": {
      "text/plain": [
       "'B1'"
      ]
     },
     "execution_count": 22,
     "metadata": {},
     "output_type": "execute_result"
    }
   ],
   "source": [
    "cell.coordinate"
   ]
  },
  {
   "cell_type": "code",
   "execution_count": 23,
   "id": "0fa39fe2-7c0c-486a-bc3f-08cd6b1ffd9c",
   "metadata": {},
   "outputs": [
    {
     "data": {
      "text/plain": [
       "'Country'"
      ]
     },
     "execution_count": 23,
     "metadata": {},
     "output_type": "execute_result"
    }
   ],
   "source": [
    "cell.value"
   ]
  },
  {
   "cell_type": "code",
   "execution_count": 31,
   "id": "bb7af7c6-02d6-49e2-9049-c21ef3e467dd",
   "metadata": {},
   "outputs": [
    {
     "name": "stdout",
     "output_type": "stream",
     "text": [
      "Baby Food based in Tuvalu, Australia and Oceania has a profit of $951410.5\n",
      "\n"
     ]
    }
   ],
   "source": [
    "print(f\"\"\"{sheet_obj['C2'].value}\\\n",
    " based in {sheet_obj['B2'].value}, {sheet_obj['A2'].value}\\\n",
    " has a profit of ${sheet_obj['N2'].value}\n",
    "\"\"\")"
   ]
  },
  {
   "cell_type": "code",
   "execution_count": 36,
   "id": "14514a13-60d4-44cb-98a8-fc17a3ec651c",
   "metadata": {},
   "outputs": [
    {
     "data": {
      "text/plain": [
       "<Cell 'Revenue'.C2>"
      ]
     },
     "execution_count": 36,
     "metadata": {},
     "output_type": "execute_result"
    }
   ],
   "source": [
    "sheet_obj.cell(row=2,column=3) #starts with 1 dont forget"
   ]
  },
  {
   "cell_type": "code",
   "execution_count": 37,
   "id": "b18b470f-04d3-4325-93c2-8ad254e72b6b",
   "metadata": {},
   "outputs": [
    {
     "data": {
      "text/plain": [
       "101"
      ]
     },
     "execution_count": 37,
     "metadata": {},
     "output_type": "execute_result"
    }
   ],
   "source": [
    "sheet_obj.max_row"
   ]
  },
  {
   "cell_type": "code",
   "execution_count": 38,
   "id": "9e7073eb-d89d-49a9-a37f-f961ebc9f1d5",
   "metadata": {},
   "outputs": [
    {
     "data": {
      "text/plain": [
       "14"
      ]
     },
     "execution_count": 38,
     "metadata": {},
     "output_type": "execute_result"
    }
   ],
   "source": [
    "sheet_obj.max_column #useful when iterating"
   ]
  },
  {
   "cell_type": "code",
   "execution_count": 39,
   "id": "8bc5d676-7585-46a8-9494-3ec197ce1e7d",
   "metadata": {},
   "outputs": [],
   "source": [
    "max_col = sheet_obj.max_column"
   ]
  },
  {
   "cell_type": "code",
   "execution_count": 40,
   "id": "5596097d-1c86-4f55-a284-35a78f9d4066",
   "metadata": {},
   "outputs": [
    {
     "name": "stdout",
     "output_type": "stream",
     "text": [
      "Region\n",
      "Country\n",
      "Item Type\n",
      "Sales Channel\n",
      "Order Priority\n",
      "Order Date\n",
      "Order ID\n",
      "Ship Date\n",
      "Units Sold\n",
      "Unit Price\n",
      "Unit Cost\n",
      "Total Revenue\n",
      "Total Cost\n",
      "Total Profit\n"
     ]
    }
   ],
   "source": [
    "for i in range(1,max_col+1):\n",
    "    cell_obj = sheet_obj.cell(row=1,column = i)\n",
    "    print(cell_obj.value)"
   ]
  },
  {
   "cell_type": "code",
   "execution_count": 41,
   "id": "411aa47f-09ad-4db4-85fe-512ada11586c",
   "metadata": {},
   "outputs": [
    {
     "name": "stdout",
     "output_type": "stream",
     "text": [
      "Region\n",
      "Australia and Oceania\n",
      "Central America and the Caribbean\n",
      "Europe\n",
      "Sub-Saharan Africa\n",
      "Sub-Saharan Africa\n",
      "Australia and Oceania\n",
      "Sub-Saharan Africa\n",
      "Sub-Saharan Africa\n",
      "Sub-Saharan Africa\n",
      "Sub-Saharan Africa\n",
      "Asia\n",
      "Sub-Saharan Africa\n",
      "Asia\n",
      "Central America and the Caribbean\n",
      "Asia\n",
      "Europe\n",
      "Asia\n",
      "Sub-Saharan Africa\n",
      "Asia\n",
      "Australia and Oceania\n",
      "Europe\n",
      "Europe\n",
      "Central America and the Caribbean\n",
      "Australia and Oceania\n",
      "Europe\n",
      "Europe\n",
      "Australia and Oceania\n",
      "Sub-Saharan Africa\n",
      "Europe\n",
      "Sub-Saharan Africa\n",
      "Europe\n",
      "Sub-Saharan Africa\n",
      "Australia and Oceania\n",
      "Asia\n",
      "Sub-Saharan Africa\n",
      "Central America and the Caribbean\n",
      "Middle East and North Africa\n",
      "Sub-Saharan Africa\n",
      "Asia\n",
      "Europe\n",
      "Sub-Saharan Africa\n",
      "Middle East and North Africa\n",
      "Sub-Saharan Africa\n",
      "Europe\n",
      "Asia\n",
      "Sub-Saharan Africa\n",
      "Europe\n",
      "Europe\n",
      "Europe\n",
      "Sub-Saharan Africa\n",
      "Europe\n",
      "Sub-Saharan Africa\n",
      "Middle East and North Africa\n",
      "Sub-Saharan Africa\n",
      "Sub-Saharan Africa\n",
      "Sub-Saharan Africa\n",
      "Australia and Oceania\n",
      "Europe\n",
      "Europe\n",
      "Sub-Saharan Africa\n",
      "Australia and Oceania\n",
      "Europe\n",
      "Sub-Saharan Africa\n",
      "Middle East and North Africa\n",
      "Central America and the Caribbean\n",
      "Sub-Saharan Africa\n",
      "Sub-Saharan Africa\n",
      "Central America and the Caribbean\n",
      "Europe\n",
      "Sub-Saharan Africa\n",
      "Asia\n",
      "Middle East and North Africa\n",
      "Sub-Saharan Africa\n",
      "Sub-Saharan Africa\n",
      "Middle East and North Africa\n",
      "North America\n",
      "Australia and Oceania\n",
      "Asia\n",
      "Europe\n",
      "Australia and Oceania\n",
      "Europe\n",
      "Middle East and North Africa\n",
      "Middle East and North Africa\n",
      "Sub-Saharan Africa\n",
      "Sub-Saharan Africa\n",
      "North America\n",
      "Sub-Saharan Africa\n",
      "Sub-Saharan Africa\n",
      "Middle East and North Africa\n",
      "Europe\n",
      "Sub-Saharan Africa\n",
      "Australia and Oceania\n",
      "Middle East and North Africa\n",
      "Europe\n",
      "Central America and the Caribbean\n",
      "Sub-Saharan Africa\n",
      "Asia\n",
      "Sub-Saharan Africa\n",
      "North America\n",
      "Sub-Saharan Africa\n"
     ]
    }
   ],
   "source": [
    "max_row = sheet_obj.max_row\n",
    "for i in range(1,max_row+1):\n",
    "    cell_obj = sheet_obj.cell(row=i,column = 1)\n",
    "    print(cell_obj.value)"
   ]
  },
  {
   "cell_type": "code",
   "execution_count": 42,
   "id": "77035dfb-397e-43ca-bb2a-a8c33610198d",
   "metadata": {},
   "outputs": [
    {
     "data": {
      "text/plain": [
       "((<Cell 'Revenue'.A1>, <Cell 'Revenue'.B1>, <Cell 'Revenue'.C1>),\n",
       " (<Cell 'Revenue'.A2>, <Cell 'Revenue'.B2>, <Cell 'Revenue'.C2>))"
      ]
     },
     "execution_count": 42,
     "metadata": {},
     "output_type": "execute_result"
    }
   ],
   "source": [
    "##cell ranges\n",
    "sheet_obj['A1':'C2']"
   ]
  },
  {
   "cell_type": "code",
   "execution_count": 44,
   "id": "6711368f-7e73-414c-b1b7-e7ceb2d99761",
   "metadata": {},
   "outputs": [
    {
     "name": "stdout",
     "output_type": "stream",
     "text": [
      "A1 Region\n",
      "B1 Country\n",
      "C1 Item Type\n",
      "--------------------------\n",
      "A2 Australia and Oceania\n",
      "B2 Tuvalu\n",
      "C2 Baby Food\n",
      "--------------------------\n"
     ]
    }
   ],
   "source": [
    "for rows in sheet_obj['A1':'C2']:\n",
    "    for cell in rows:\n",
    "        print(cell.coordinate,cell.value)  #shows where one row ends/starts\n",
    "    print('--------------------------')"
   ]
  },
  {
   "cell_type": "code",
   "execution_count": 46,
   "id": "88cc7f34-e8ab-4f97-b92e-9203b10901ae",
   "metadata": {},
   "outputs": [
    {
     "name": "stdout",
     "output_type": "stream",
     "text": [
      "(<Cell 'Revenue'.A1>, <Cell 'Revenue'.B1>, <Cell 'Revenue'.C1>)\n",
      "(<Cell 'Revenue'.A2>, <Cell 'Revenue'.B2>, <Cell 'Revenue'.C2>)\n"
     ]
    }
   ],
   "source": [
    "for row in sheet_obj.iter_rows(min_row = 1,max_row=2,min_col=1,max_col=3):  #same thing as before but uses the iter_rows\n",
    "    print(row)"
   ]
  },
  {
   "cell_type": "code",
   "execution_count": 47,
   "id": "6001f1f6-6ab0-4431-868a-a48df1e0899f",
   "metadata": {},
   "outputs": [
    {
     "name": "stdout",
     "output_type": "stream",
     "text": [
      "('Region', 'Country', 'Item Type')\n",
      "('Australia and Oceania', 'Tuvalu', 'Baby Food')\n"
     ]
    }
   ],
   "source": [
    "for value in sheet_obj.iter_rows(min_row = 1,max_row=2,min_col=1,max_col=3,values_only=True): #this one just gets value and ignores metadata\n",
    "    print(value)"
   ]
  },
  {
   "cell_type": "code",
   "execution_count": 48,
   "id": "400e3f1e-16c6-47e3-b459-c5f1aa05afdd",
   "metadata": {},
   "outputs": [],
   "source": [
    "## convert to json\n",
    "import json"
   ]
  },
  {
   "cell_type": "code",
   "execution_count": 51,
   "id": "1170b220-ab22-460f-a4c5-e68f6f0be421",
   "metadata": {},
   "outputs": [
    {
     "name": "stdout",
     "output_type": "stream",
     "text": [
      "('Australia and Oceania', 'Tuvalu', 'Baby Food')\n",
      "----------\n",
      "('Central America and the Caribbean', 'Grenada', 'Cereal')\n",
      "----------\n",
      "('Europe', 'Russia', 'Office Supplies')\n",
      "----------\n"
     ]
    }
   ],
   "source": [
    "grocery = {}\n",
    "for row in sheet_obj.iter_rows(min_row = 2,max_row = 4,min_col=1,max_col=3,values_only=True):\n",
    "    item = row[2]\n",
    "    loc_details = {\n",
    "    \"Region\":row[0],\n",
    "        \"Country\":row[1]\n",
    "    }\n",
    "    grocery[item] = loc_details \n",
    "    #row[0] region row[1] country row[2] item\n",
    "    print(row)\n",
    "    print(\"----------\")"
   ]
  },
  {
   "cell_type": "code",
   "execution_count": 52,
   "id": "67a97911-9f67-4011-bdc8-922b2df7ba91",
   "metadata": {},
   "outputs": [
    {
     "name": "stdout",
     "output_type": "stream",
     "text": [
      "{\n",
      "    \"Baby Food\": {\n",
      "        \"Country\": \"Tuvalu\",\n",
      "        \"Region\": \"Australia and Oceania\"\n",
      "    },\n",
      "    \"Cereal\": {\n",
      "        \"Country\": \"Grenada\",\n",
      "        \"Region\": \"Central America and the Caribbean\"\n",
      "    },\n",
      "    \"Office Supplies\": {\n",
      "        \"Country\": \"Russia\",\n",
      "        \"Region\": \"Europe\"\n",
      "    }\n",
      "}\n"
     ]
    }
   ],
   "source": [
    "print(json.dumps(grocery,indent=4,sort_keys=True))"
   ]
  },
  {
   "cell_type": "code",
   "execution_count": 53,
   "id": "097c0647-1160-48bc-9277-837aabb7e59c",
   "metadata": {},
   "outputs": [],
   "source": [
    "json_obj = json.dumps(grocery,indent=4,sort_keys=True)"
   ]
  },
  {
   "cell_type": "code",
   "execution_count": 55,
   "id": "2a610a68-c5cf-421b-aa78-ccb2d762281a",
   "metadata": {},
   "outputs": [],
   "source": [
    "with open(\"groceryitems.json\", \"w\") as outfile:\n",
    "\toutfile.write(json_obj)"
   ]
  },
  {
   "cell_type": "markdown",
   "id": "d23d7d50-2ce4-4b97-837d-13eeea20d9f5",
   "metadata": {},
   "source": [
    "## Writing to Spreadsheets"
   ]
  },
  {
   "cell_type": "code",
   "execution_count": 56,
   "id": "f711ccd6-91bc-48b7-acad-8649215e3368",
   "metadata": {},
   "outputs": [],
   "source": [
    "import openpyxl"
   ]
  },
  {
   "cell_type": "code",
   "execution_count": 59,
   "id": "b64f4eb2-7a85-41b3-851e-78a61f7e4336",
   "metadata": {},
   "outputs": [],
   "source": [
    "work_book = openpyxl.Workbook()"
   ]
  },
  {
   "cell_type": "code",
   "execution_count": 60,
   "id": "257b39b2-dbfd-471f-b24b-3bbcff25881d",
   "metadata": {},
   "outputs": [
    {
     "data": {
      "text/plain": [
       "<Worksheet \"Sheet\">"
      ]
     },
     "execution_count": 60,
     "metadata": {},
     "output_type": "execute_result"
    }
   ],
   "source": [
    "work_book.active #to see what sheet this is"
   ]
  },
  {
   "cell_type": "code",
   "execution_count": 61,
   "id": "c6c95e6f-c4df-492c-b938-fac48f369877",
   "metadata": {},
   "outputs": [],
   "source": [
    "sheet = work_book['Sheet']"
   ]
  },
  {
   "cell_type": "code",
   "execution_count": 62,
   "id": "7b2585db-9ec3-4948-a31b-64a762ef1ae5",
   "metadata": {},
   "outputs": [],
   "source": [
    "sheet['A1'] = 'Health'\n",
    "sheet['B1'] = 'Armor'\n",
    "sheet['C1'] = 'Cash'\n",
    "sheet['D1'] = 'Name'"
   ]
  },
  {
   "cell_type": "code",
   "execution_count": 64,
   "id": "8ced6fbd-42fd-4e88-ad6a-c5271dde775e",
   "metadata": {},
   "outputs": [
    {
     "data": {
      "text/plain": [
       "'Name'"
      ]
     },
     "execution_count": 64,
     "metadata": {},
     "output_type": "execute_result"
    }
   ],
   "source": [
    "sheet['D1'].value"
   ]
  },
  {
   "cell_type": "code",
   "execution_count": 65,
   "id": "5c23a5c9-4ffc-4521-b3bc-15b3cf58a20d",
   "metadata": {},
   "outputs": [],
   "source": [
    "work_book.save('game_players.xlsx')"
   ]
  },
  {
   "cell_type": "code",
   "execution_count": 66,
   "id": "e0fedf00-149c-4379-9c10-4ef8160a00ae",
   "metadata": {},
   "outputs": [],
   "source": [
    "sheet['B1'] = 'Health'\n",
    "sheet['C1'] = 'Armor'\n",
    "sheet['D1'] = 'Cash'\n",
    "sheet['A1'] = 'Name'  ##change the name to a1 and shift everything else\n",
    "sheet['E1'] = 'Car'"
   ]
  },
  {
   "cell_type": "code",
   "execution_count": 67,
   "id": "20b15e79-7e6d-4346-a033-9053f5883e74",
   "metadata": {},
   "outputs": [],
   "source": [
    "work_book.save('game_players.xlsx') #overwrites changes to the workbook"
   ]
  },
  {
   "cell_type": "code",
   "execution_count": 69,
   "id": "0726af73-54db-4ead-af2a-d963fc65029f",
   "metadata": {},
   "outputs": [
    {
     "data": {
      "text/plain": [
       "'A1:E1'"
      ]
     },
     "execution_count": 69,
     "metadata": {},
     "output_type": "execute_result"
    }
   ],
   "source": [
    "sheet.calculate_dimension()  #returning the range that has data"
   ]
  },
  {
   "cell_type": "code",
   "execution_count": 71,
   "id": "245a4d5c-2b6c-4815-9f8a-27239988619f",
   "metadata": {},
   "outputs": [],
   "source": [
    "sheet.append(['Bobby','Kevlar','20%',500000,'Turismo'])"
   ]
  },
  {
   "cell_type": "code",
   "execution_count": 72,
   "id": "b8c94485-ae14-417c-8c9f-65d66c1cd756",
   "metadata": {},
   "outputs": [],
   "source": [
    "work_book.save('game_players.xlsx')"
   ]
  },
  {
   "cell_type": "code",
   "execution_count": 73,
   "id": "cadb2128-d60b-4890-8057-1b7053153068",
   "metadata": {},
   "outputs": [],
   "source": [
    "sheet.insert_rows(idx=2,amount=3) #inserting 3 rows starting from row number 2"
   ]
  },
  {
   "cell_type": "code",
   "execution_count": 74,
   "id": "c1f31a99-4eff-4a2d-aaac-0b79d8d34a47",
   "metadata": {},
   "outputs": [],
   "source": [
    "sheet.insert_cols(idx=3) #inserting a new column at C since start with 1,2,3.."
   ]
  },
  {
   "cell_type": "code",
   "execution_count": 75,
   "id": "1eee713b-f5ba-4dc3-971c-918381f74d7a",
   "metadata": {},
   "outputs": [
    {
     "data": {
      "text/plain": [
       "'A1:F5'"
      ]
     },
     "execution_count": 75,
     "metadata": {},
     "output_type": "execute_result"
    }
   ],
   "source": [
    "sheet.calculate_dimension()"
   ]
  },
  {
   "cell_type": "code",
   "execution_count": 76,
   "id": "4e602a09-6767-41b0-92a4-80c6f04fdd36",
   "metadata": {},
   "outputs": [],
   "source": [
    "work_book.save('game_players.xlsx')  #a new empty column and empty new rows that will reflect"
   ]
  },
  {
   "cell_type": "code",
   "execution_count": 77,
   "id": "689cbf8f-e278-476c-8bc5-d35c2e304683",
   "metadata": {},
   "outputs": [],
   "source": [
    "sheet.delete_rows(idx=2,amount=3) #deletes what we inserted"
   ]
  },
  {
   "cell_type": "code",
   "execution_count": 78,
   "id": "44bd5f94-89d8-43d8-b06a-1c9a084fa494",
   "metadata": {},
   "outputs": [],
   "source": [
    "sheet.delete_cols(3)"
   ]
  },
  {
   "cell_type": "code",
   "execution_count": 79,
   "id": "2bdaa59e-1c73-4939-850f-2dedd898f560",
   "metadata": {},
   "outputs": [
    {
     "data": {
      "text/plain": [
       "'A1:E2'"
      ]
     },
     "execution_count": 79,
     "metadata": {},
     "output_type": "execute_result"
    }
   ],
   "source": [
    "sheet.calculate_dimension()"
   ]
  },
  {
   "cell_type": "code",
   "execution_count": 80,
   "id": "8b40e641-5e75-4512-a5b4-7468da797f78",
   "metadata": {},
   "outputs": [],
   "source": [
    "work_book.save('game_players.xlsx') "
   ]
  },
  {
   "cell_type": "code",
   "execution_count": 82,
   "id": "d392491d-7bb7-4574-81f9-a50296ddee3c",
   "metadata": {},
   "outputs": [
    {
     "data": {
      "text/plain": [
       "'FirstSheet'"
      ]
     },
     "execution_count": 82,
     "metadata": {},
     "output_type": "execute_result"
    }
   ],
   "source": [
    "##adjust sheet names\n",
    "\n",
    "sheet.title = 'FirstSheet'\n",
    "sheet.title"
   ]
  },
  {
   "cell_type": "code",
   "execution_count": 1,
   "id": "c30b6e83-9cab-4631-a025-4f44ebcbd1d1",
   "metadata": {},
   "outputs": [],
   "source": [
    "data = [['Planet','Radius','Distance from the Sun'],['Earth',6371,150],['Mars',3389,228],['Mercury',2440,58]]"
   ]
  },
  {
   "cell_type": "code",
   "execution_count": 2,
   "id": "7c2781de-97a9-4e81-9892-6b3293781837",
   "metadata": {},
   "outputs": [],
   "source": [
    "import openpyxl"
   ]
  },
  {
   "cell_type": "code",
   "execution_count": 3,
   "id": "65f2ecf1-ea39-4413-ba02-e9d8001e6792",
   "metadata": {},
   "outputs": [],
   "source": [
    "planet_wb = openpyxl.Workbook()"
   ]
  },
  {
   "cell_type": "code",
   "execution_count": 4,
   "id": "d7e9567f-eac3-4795-a7ce-39394ddcf50a",
   "metadata": {},
   "outputs": [],
   "source": [
    "planet_sheet = planet_wb['Sheet']"
   ]
  },
  {
   "cell_type": "code",
   "execution_count": 6,
   "id": "8d5fe079-c799-4a75-b630-3aa6e6782481",
   "metadata": {},
   "outputs": [],
   "source": [
    "planet_sheet.title = 'Planets'"
   ]
  },
  {
   "cell_type": "code",
   "execution_count": 8,
   "id": "f22ee6ef-9bc4-46ea-a309-a02b5dcec7a4",
   "metadata": {},
   "outputs": [],
   "source": [
    "for row in data:\n",
    "    planet_sheet.append(row)"
   ]
  },
  {
   "cell_type": "code",
   "execution_count": 9,
   "id": "57e11846-7133-43ef-be9d-64493d0b6502",
   "metadata": {},
   "outputs": [
    {
     "data": {
      "text/plain": [
       "'A1:C4'"
      ]
     },
     "execution_count": 9,
     "metadata": {},
     "output_type": "execute_result"
    }
   ],
   "source": [
    "planet_sheet.calculate_dimension()"
   ]
  },
  {
   "cell_type": "code",
   "execution_count": 10,
   "id": "774e7179-ae4d-4223-8147-980927a67aac",
   "metadata": {},
   "outputs": [],
   "source": [
    "planet_wb.save('planets.xlsx')"
   ]
  },
  {
   "cell_type": "code",
   "execution_count": 14,
   "id": "6a443fac-2ff0-4555-aee2-819a2323b4ce",
   "metadata": {},
   "outputs": [],
   "source": [
    "##freeze panes\n",
    "work_book = openpyxl.load_workbook('zomato.xlsx')"
   ]
  },
  {
   "cell_type": "code",
   "execution_count": 15,
   "id": "ac0d72c4-5a3b-4394-a986-fd95d619aee8",
   "metadata": {},
   "outputs": [],
   "source": [
    "sheet = work_book.active"
   ]
  },
  {
   "cell_type": "code",
   "execution_count": 16,
   "id": "2decc870-89a4-4b46-b2f2-8095070f0b88",
   "metadata": {},
   "outputs": [],
   "source": [
    "sheet.freeze_panes = 'A2'"
   ]
  },
  {
   "cell_type": "code",
   "execution_count": 17,
   "id": "d1f988d6-3aa0-4465-a7a2-e43b233f979c",
   "metadata": {},
   "outputs": [],
   "source": [
    "work_book.save('zomato.xlsx')"
   ]
  },
  {
   "cell_type": "code",
   "execution_count": 18,
   "id": "7e3eb7fc-de51-43f8-be95-92196198c99b",
   "metadata": {},
   "outputs": [],
   "source": [
    "sheet.freeze_panes = 'B1'  #freezes column A"
   ]
  },
  {
   "cell_type": "code",
   "execution_count": 19,
   "id": "8c090dba-d18e-48b5-8411-13b518cb493a",
   "metadata": {},
   "outputs": [],
   "source": [
    "work_book.save('zomato.xlsx')"
   ]
  },
  {
   "cell_type": "code",
   "execution_count": 20,
   "id": "ac3ec35a-1cb7-4861-8d46-32a67a33ab9c",
   "metadata": {},
   "outputs": [],
   "source": [
    "sheet.freeze_panes = 'C2' #any above the row and any on the left will freeze"
   ]
  },
  {
   "cell_type": "code",
   "execution_count": 21,
   "id": "7682dd28-acca-4fc9-a189-347d9ce166ee",
   "metadata": {},
   "outputs": [],
   "source": [
    "work_book.save('zomato.xlsx')"
   ]
  },
  {
   "cell_type": "markdown",
   "id": "741693ab-e0d2-4438-a871-c83b863f359c",
   "metadata": {},
   "source": [
    "## Filter/Sort Data"
   ]
  },
  {
   "cell_type": "code",
   "execution_count": 22,
   "id": "39a23b44-6259-4081-95d2-1d4d51db4d85",
   "metadata": {},
   "outputs": [],
   "source": [
    "import openpyxl"
   ]
  },
  {
   "cell_type": "code",
   "execution_count": 23,
   "id": "2efd5f93-ad6f-431c-9612-a3ea9a147671",
   "metadata": {},
   "outputs": [],
   "source": [
    "work_book = openpyxl.Workbook()"
   ]
  },
  {
   "cell_type": "code",
   "execution_count": 25,
   "id": "8db9bdd7-b53d-43c8-a5c8-844a08436308",
   "metadata": {},
   "outputs": [],
   "source": [
    "work_sheet = work_book.active"
   ]
  },
  {
   "cell_type": "code",
   "execution_count": 26,
   "id": "a933ab47-1a0b-475d-b970-1ef28f06aeb5",
   "metadata": {},
   "outputs": [],
   "source": [
    "data = [['Champion','Year'],['FR',2018],['SP',2010],['IT',2006],['FR',1998],['BRZ',1994],['ARG',1986],['GER',1974],['BRZ',1970],['ENG',1966]\n",
    "       ]"
   ]
  },
  {
   "cell_type": "code",
   "execution_count": 27,
   "id": "209d0997-dc72-4605-9127-8e7e7d94ed17",
   "metadata": {},
   "outputs": [],
   "source": [
    "for item in data:\n",
    "    work_sheet.append(item)"
   ]
  },
  {
   "cell_type": "code",
   "execution_count": 29,
   "id": "6b2dd41b-82b8-4ef1-8658-f087d004f0c2",
   "metadata": {},
   "outputs": [],
   "source": [
    "work_book.save('wc_winners.xlsx')"
   ]
  },
  {
   "cell_type": "code",
   "execution_count": 31,
   "id": "da84025e-6211-464b-a5eb-0a75f7c5c1b4",
   "metadata": {},
   "outputs": [
    {
     "data": {
      "text/plain": [
       "'A1:B10'"
      ]
     },
     "execution_count": 31,
     "metadata": {},
     "output_type": "execute_result"
    }
   ],
   "source": [
    "work_sheet.calculate_dimension()"
   ]
  },
  {
   "cell_type": "code",
   "execution_count": 32,
   "id": "7f312be3-064e-4623-91c8-812b6927594f",
   "metadata": {},
   "outputs": [],
   "source": [
    "work_sheet.auto_filter.ref = work_sheet.calculate_dimension() #filter the selected rows, in this case all of them"
   ]
  },
  {
   "cell_type": "code",
   "execution_count": 36,
   "id": "ecc62862-538a-4571-abc2-5b5ce67e0ccf",
   "metadata": {},
   "outputs": [],
   "source": [
    "work_sheet.auto_filter.add_filter_column(0,['BRZ','IT','ARG'])"
   ]
  },
  {
   "cell_type": "code",
   "execution_count": 37,
   "id": "9e26c90f-3e53-4f29-b24a-0842e942b75f",
   "metadata": {},
   "outputs": [],
   "source": [
    "work_book.save('wc_winners.xlsx') #there is a bug so select reapply in excel"
   ]
  },
  {
   "cell_type": "code",
   "execution_count": 38,
   "id": "94156ede-d51a-4cd9-99c7-04cccff0126c",
   "metadata": {},
   "outputs": [
    {
     "data": {
      "text/plain": [
       "(<Cell 'Sheet'.B2>, <Cell 'Sheet'.B10>)"
      ]
     },
     "execution_count": 38,
     "metadata": {},
     "output_type": "execute_result"
    }
   ],
   "source": [
    "work_sheet['B'][1],work_sheet['B'][-1]"
   ]
  },
  {
   "cell_type": "code",
   "execution_count": 39,
   "id": "ec9450b6-96e8-4939-ab52-0ce63ef9c0dc",
   "metadata": {},
   "outputs": [
    {
     "data": {
      "text/plain": [
       "'B2:B10'"
      ]
     },
     "execution_count": 39,
     "metadata": {},
     "output_type": "execute_result"
    }
   ],
   "source": [
    "range_str = work_sheet['B'][1].coordinate + ':' + work_sheet['B'][-1].coordinate\n",
    "range_str"
   ]
  },
  {
   "cell_type": "code",
   "execution_count": 40,
   "id": "02c7fa0a-7fb6-42d0-9b10-3d4216203617",
   "metadata": {},
   "outputs": [],
   "source": [
    "work_sheet.auto_filter.add_sort_condition(range_str,descending=True)"
   ]
  },
  {
   "cell_type": "code",
   "execution_count": 41,
   "id": "80f99d98-44cc-4d87-96f0-61080d2848ea",
   "metadata": {},
   "outputs": [],
   "source": [
    "work_book.save('wc_winners.xlsx') #there is a bug so select reapply in excel"
   ]
  },
  {
   "cell_type": "markdown",
   "id": "e4b4969c-689b-4302-820b-ff1c1830c6c9",
   "metadata": {},
   "source": [
    "## Resize/Merge Rows & Columns"
   ]
  },
  {
   "cell_type": "code",
   "execution_count": 42,
   "id": "eae479a9-4e1e-4ae9-8714-f885c567578a",
   "metadata": {},
   "outputs": [],
   "source": [
    "import openpyxl\n",
    "work_book = openpyxl.Workbook()"
   ]
  },
  {
   "cell_type": "code",
   "execution_count": 43,
   "id": "2a3d4e4b-914f-41bf-a951-b95dcdd2c59d",
   "metadata": {},
   "outputs": [
    {
     "data": {
      "text/plain": [
       "<Worksheet \"Sheet\">"
      ]
     },
     "execution_count": 43,
     "metadata": {},
     "output_type": "execute_result"
    }
   ],
   "source": [
    "sheet_obj = work_book.active\n",
    "sheet_obj"
   ]
  },
  {
   "cell_type": "code",
   "execution_count": 44,
   "id": "c08873d3-f174-4f07-9d22-22bf14681e9d",
   "metadata": {},
   "outputs": [
    {
     "data": {
      "text/plain": [
       "<Worksheet \"FirstSheet\">"
      ]
     },
     "execution_count": 44,
     "metadata": {},
     "output_type": "execute_result"
    }
   ],
   "source": [
    "sheet_obj.title = 'FirstSheet'\n",
    "sheet_obj"
   ]
  },
  {
   "cell_type": "code",
   "execution_count": 45,
   "id": "48d88844-0726-429f-a862-736e8815a083",
   "metadata": {},
   "outputs": [],
   "source": [
    "sheet_obj['C1'] = 'A high row'\n",
    "sheet_obj['D4'] = 'A wide column'"
   ]
  },
  {
   "cell_type": "code",
   "execution_count": 46,
   "id": "aab64ba3-72a8-4a60-83ff-a4ac60beeb70",
   "metadata": {},
   "outputs": [],
   "source": [
    "sheet_obj.row_dimensions[1].height = 70"
   ]
  },
  {
   "cell_type": "code",
   "execution_count": 47,
   "id": "cb958828-80f1-47be-b63b-33935a461c9b",
   "metadata": {},
   "outputs": [],
   "source": [
    "sheet_obj.column_dimensions['D'].width = 60"
   ]
  },
  {
   "cell_type": "code",
   "execution_count": 48,
   "id": "3b76854f-3f37-46b2-8c1b-c9a3b0454c0a",
   "metadata": {},
   "outputs": [],
   "source": [
    "work_book.save('resize.xlsx')"
   ]
  },
  {
   "cell_type": "code",
   "execution_count": 49,
   "id": "8bda8a46-28af-4b8a-8d5f-4495b7832f76",
   "metadata": {},
   "outputs": [
    {
     "data": {
      "text/plain": [
       "<Worksheet \"BrandNewSheet\">"
      ]
     },
     "execution_count": 49,
     "metadata": {},
     "output_type": "execute_result"
    }
   ],
   "source": [
    "work_book.create_sheet(title='BrandNewSheet',index=0)"
   ]
  },
  {
   "cell_type": "code",
   "execution_count": 50,
   "id": "8cc3b68f-2757-4049-acbc-d05d65b1396f",
   "metadata": {},
   "outputs": [
    {
     "data": {
      "text/plain": [
       "<Worksheet \"BrandNewSheet\">"
      ]
     },
     "execution_count": 50,
     "metadata": {},
     "output_type": "execute_result"
    }
   ],
   "source": [
    "new_sheet = work_book.active\n",
    "new_sheet"
   ]
  },
  {
   "cell_type": "code",
   "execution_count": 51,
   "id": "978c2da8-c2e6-41bf-a5a6-654b59cdd3a4",
   "metadata": {},
   "outputs": [],
   "source": [
    "work_book.save('resize.xlsx')"
   ]
  },
  {
   "cell_type": "code",
   "execution_count": 53,
   "id": "19dd26a4-45bc-455f-8cc9-28a6ba1705b7",
   "metadata": {},
   "outputs": [],
   "source": [
    "new_sheet.merge_cells('A1:D3')"
   ]
  },
  {
   "cell_type": "code",
   "execution_count": 54,
   "id": "0188a904-8bda-40db-b257-c595745b598c",
   "metadata": {},
   "outputs": [],
   "source": [
    "work_book.save('resize.xlsx')"
   ]
  },
  {
   "cell_type": "code",
   "execution_count": 55,
   "id": "ac4f0db0-e5fd-44e3-8d85-bbfb80fa1ffb",
   "metadata": {},
   "outputs": [
    {
     "ename": "AttributeError",
     "evalue": "'MergedCell' object attribute 'value' is read-only",
     "output_type": "error",
     "traceback": [
      "\u001b[1;31m---------------------------------------------------------------------------\u001b[0m",
      "\u001b[1;31mAttributeError\u001b[0m                            Traceback (most recent call last)",
      "Cell \u001b[1;32mIn[55], line 1\u001b[0m\n\u001b[1;32m----> 1\u001b[0m new_sheet[\u001b[38;5;124m'\u001b[39m\u001b[38;5;124mC2\u001b[39m\u001b[38;5;124m'\u001b[39m] \u001b[38;5;241m=\u001b[39m \u001b[38;5;124m'\u001b[39m\u001b[38;5;124mData in a merged cell\u001b[39m\u001b[38;5;124m'\u001b[39m\n",
      "File \u001b[1;32m~\\anaconda3\\envs\\practice_env\\Lib\\site-packages\\openpyxl\\worksheet\\worksheet.py:317\u001b[0m, in \u001b[0;36mWorksheet.__setitem__\u001b[1;34m(self, key, value)\u001b[0m\n\u001b[0;32m    316\u001b[0m \u001b[38;5;28;01mdef\u001b[39;00m \u001b[38;5;21m__setitem__\u001b[39m(\u001b[38;5;28mself\u001b[39m, key, value):\n\u001b[1;32m--> 317\u001b[0m     \u001b[38;5;28mself\u001b[39m[key]\u001b[38;5;241m.\u001b[39mvalue \u001b[38;5;241m=\u001b[39m value\n",
      "\u001b[1;31mAttributeError\u001b[0m: 'MergedCell' object attribute 'value' is read-only"
     ]
    }
   ],
   "source": [
    "new_sheet['C2'] = 'Data in a merged cell'    #need to refer to it with its top cell because other cells are read only"
   ]
  },
  {
   "cell_type": "code",
   "execution_count": 56,
   "id": "2fcfcafe-a597-466a-b39e-d0e9f0fd16aa",
   "metadata": {},
   "outputs": [],
   "source": [
    "new_sheet['A1'] = 'Data in a merged cell'\n",
    "work_book.save('resize.xlsx')"
   ]
  },
  {
   "cell_type": "code",
   "execution_count": 57,
   "id": "5140cd4d-d013-4352-8718-6b9ef0fdf509",
   "metadata": {},
   "outputs": [],
   "source": [
    "from openpyxl.styles import Alignment\n",
    "new_sheet['A1'].alignment = Alignment(horizontal='center') #now horizontally center aligned"
   ]
  },
  {
   "cell_type": "code",
   "execution_count": 58,
   "id": "1443a2c1-d17f-45c3-b2cc-fb107281f8ce",
   "metadata": {},
   "outputs": [],
   "source": [
    "work_book.save('resize.xlsx')"
   ]
  },
  {
   "cell_type": "code",
   "execution_count": 59,
   "id": "b996823a-4da9-472b-b205-d6770c2062f9",
   "metadata": {},
   "outputs": [],
   "source": [
    "new_sheet['A1'].alignment = Alignment(vertical='center')  #the horizontal alignment will be overwritten so need to specify\n",
    "work_book.save('resize.xlsx')"
   ]
  },
  {
   "cell_type": "code",
   "execution_count": 61,
   "id": "caabea5b-73cf-477f-b43d-530178b04d58",
   "metadata": {},
   "outputs": [],
   "source": [
    "new_sheet['A1'].alignment = Alignment(vertical='top',horizontal='right') \n",
    "work_book.save('resize.xlsx')"
   ]
  },
  {
   "cell_type": "code",
   "execution_count": 62,
   "id": "ebb19016-bfc5-4307-a5d8-cd49e777e20e",
   "metadata": {},
   "outputs": [],
   "source": [
    "new_sheet.merge_cells('B5:G5')\n",
    "new_sheet['B5'] = 'We just merged cells in the same row'\n",
    "new_sheet['B5'].alignment = Alignment(horizontal='center')\n",
    "work_book.save('resize.xlsx')"
   ]
  },
  {
   "cell_type": "markdown",
   "id": "ca985b6c-99f1-451c-98ca-8a3fc9316eac",
   "metadata": {},
   "source": [
    "## Fonts & Styles"
   ]
  },
  {
   "cell_type": "code",
   "execution_count": 63,
   "id": "daa2bed7-1a68-42b6-aa95-04434975c545",
   "metadata": {},
   "outputs": [],
   "source": [
    "import openpyxl"
   ]
  },
  {
   "cell_type": "code",
   "execution_count": 64,
   "id": "50bcc84b-a7ea-4282-b71d-f5d496f8c1fd",
   "metadata": {},
   "outputs": [
    {
     "data": {
      "text/plain": [
       "['Sheet1']"
      ]
     },
     "execution_count": 64,
     "metadata": {},
     "output_type": "execute_result"
    }
   ],
   "source": [
    "work_book = openpyxl.load_workbook('student_data.xlsx')\n",
    "work_book.sheetnames"
   ]
  },
  {
   "cell_type": "code",
   "execution_count": 65,
   "id": "77d4f21c-4e4a-4575-8a96-6ffc2b64ee94",
   "metadata": {},
   "outputs": [],
   "source": [
    "sheet = work_book['Sheet1']"
   ]
  },
  {
   "cell_type": "code",
   "execution_count": 74,
   "id": "36805004-3316-401b-98c2-5ea8be9ed256",
   "metadata": {},
   "outputs": [],
   "source": [
    "from openpyxl.styles import Font, Color, Alignment, Border, Side, colors\n",
    "bold_font = Font(bold=True)\n",
    "big_red = Font(color='FF000000',size=20)\n",
    "center_aligned_text = Alignment(horizontal='center')\n",
    "double_border_side = Side(border_style='double')"
   ]
  },
  {
   "cell_type": "code",
   "execution_count": 75,
   "id": "b19a25b0-896b-47dc-8b4b-da750f75ab15",
   "metadata": {},
   "outputs": [],
   "source": [
    "square_border = Border(top = double_border_side,right=double_border_side,bottom=double_border_side,left=double_border_side)"
   ]
  },
  {
   "cell_type": "code",
   "execution_count": 77,
   "id": "bcbccda1-def3-499c-82aa-5562d7b0ebdb",
   "metadata": {},
   "outputs": [],
   "source": [
    "sheet['B2'].font = bold_font\n",
    "sheet['B3'].font = big_red\n",
    "sheet['C4'].alignment = center_aligned_text\n",
    "sheet['C5'].border = square_border"
   ]
  },
  {
   "cell_type": "code",
   "execution_count": 78,
   "id": "e321a84b-c839-4021-b067-d303ed7df203",
   "metadata": {},
   "outputs": [],
   "source": [
    "work_book.save('styled.xlsx')"
   ]
  },
  {
   "cell_type": "code",
   "execution_count": 81,
   "id": "c0f12144-64c8-49f8-a269-667db4b98452",
   "metadata": {},
   "outputs": [],
   "source": [
    "from openpyxl.styles import NamedStyle\n",
    "custom_style = NamedStyle(name='header')\n",
    "custom_style.font = Font(bold=True)\n",
    "custom_style.alignment = Alignment (horizontal='center',vertical = 'center')"
   ]
  },
  {
   "cell_type": "code",
   "execution_count": 82,
   "id": "330337f5-07aa-4402-ae5b-63aab2f293ac",
   "metadata": {},
   "outputs": [],
   "source": [
    "header_row = sheet[1]\n",
    "for cell in header_row:\n",
    "    cell.style = custom_style\n",
    "work_book.save('styled.xlsx')"
   ]
  },
  {
   "cell_type": "code",
   "execution_count": 84,
   "id": "f1ece419-57e4-491f-a5b4-0413f64fecd8",
   "metadata": {},
   "outputs": [],
   "source": [
    "from openpyxl.styles.fills import PatternFill\n",
    "one_more = NamedStyle(name=\"highlight\")\n",
    "one_more.fill = PatternFill(fgColor = colors.Color('d7abcc'),patternType = 'lightHorizontal')"
   ]
  },
  {
   "cell_type": "code",
   "execution_count": 85,
   "id": "e40a73de-2ffb-461d-817a-660910149b1c",
   "metadata": {},
   "outputs": [],
   "source": [
    "for cell in sheet ['A']:\n",
    "    cell.style = one_more\n",
    "work_book.save('styled.xlsx')"
   ]
  },
  {
   "cell_type": "code",
   "execution_count": 86,
   "id": "f98144bd-b42c-415a-8ca1-0aaf9803227e",
   "metadata": {},
   "outputs": [],
   "source": [
    "import openpyxl\n",
    "work_book = openpyxl.load_workbook('sales_record.xlsx')\n",
    "sheet = work_book.active"
   ]
  },
  {
   "cell_type": "code",
   "execution_count": 88,
   "id": "feb29999-5831-47f6-8fb8-1f285d7f117c",
   "metadata": {},
   "outputs": [
    {
     "name": "stdout",
     "output_type": "stream",
     "text": [
      "Max row: 101 Max column: 14\n"
     ]
    }
   ],
   "source": [
    "print(f\"\"\"Max row: {sheet.max_row} Max column: {sheet.max_column}\"\"\")"
   ]
  },
  {
   "cell_type": "code",
   "execution_count": 89,
   "id": "74471e39-e2f2-4a8f-a771-2dbd11295e2f",
   "metadata": {},
   "outputs": [],
   "source": [
    "for row in sheet ['K2:M101']:\n",
    "    for cell in row:\n",
    "        cell.number_format = '#,##0'"
   ]
  },
  {
   "cell_type": "code",
   "execution_count": 90,
   "id": "ee297991-3554-4d3f-aa47-959d2d90cb43",
   "metadata": {},
   "outputs": [],
   "source": [
    "work_book.save('sales_record.xlsx')"
   ]
  },
  {
   "cell_type": "code",
   "execution_count": null,
   "id": "37f7ec79-5622-420c-8ea6-90f8d8fa4cdc",
   "metadata": {},
   "outputs": [],
   "source": [
    "from openpyxl.styles import PatternFill, colors\n",
    "from openpyxl.styles.differential import DifferentialStyle\n",
    "from openpyxl.formatting.rule import Rule"
   ]
  },
  {
   "cell_type": "markdown",
   "id": "90ad3929-2c4e-4ca9-a8c5-2e9eafab7bd7",
   "metadata": {},
   "source": [
    "## Line Charts"
   ]
  },
  {
   "cell_type": "code",
   "execution_count": 1,
   "id": "65d6be0a-d72b-494f-8fab-3eb52f33acde",
   "metadata": {},
   "outputs": [],
   "source": [
    "from openpyxl.chart import LineChart, Reference "
   ]
  },
  {
   "cell_type": "code",
   "execution_count": 3,
   "id": "9896450e-9aee-4c22-b43a-3e11a19c2b1a",
   "metadata": {},
   "outputs": [],
   "source": [
    "import openpyxl\n",
    "wb = openpyxl.load_workbook('oil_prices.xlsx')\n",
    "sheet = wb.active "
   ]
  },
  {
   "cell_type": "code",
   "execution_count": 4,
   "id": "23c9b0e2-fba9-41ea-a67b-8a3c485d8f42",
   "metadata": {},
   "outputs": [],
   "source": [
    "values = Reference(sheet, min_col = 2, min_row = 2, \n",
    "                          max_col = 2, max_row = sheet.max_row) "
   ]
  },
  {
   "cell_type": "code",
   "execution_count": 5,
   "id": "8d92778d-32ca-4b54-8850-59ce2ed0b9fa",
   "metadata": {},
   "outputs": [],
   "source": [
    "chart = LineChart() "
   ]
  },
  {
   "cell_type": "code",
   "execution_count": 6,
   "id": "e8355c6c-996f-4ede-a3e9-848c66259e2a",
   "metadata": {},
   "outputs": [],
   "source": [
    "chart.add_data(values) "
   ]
  },
  {
   "cell_type": "code",
   "execution_count": 7,
   "id": "e70b39ad-824e-4527-9dfb-1e6bae7caa25",
   "metadata": {},
   "outputs": [],
   "source": [
    "chart.title = \"Brent Crude Prices\""
   ]
  },
  {
   "cell_type": "code",
   "execution_count": 8,
   "id": "1cc901c7-2fad-4bf4-babe-26bdcd2fa799",
   "metadata": {},
   "outputs": [],
   "source": [
    "chart.x_axis.title = \"Time\""
   ]
  },
  {
   "cell_type": "code",
   "execution_count": 9,
   "id": "a74f6bbc-c5e4-46b4-a767-da029051c9b2",
   "metadata": {},
   "outputs": [],
   "source": [
    "chart.y_axis.title = \"Price(US$)\""
   ]
  },
  {
   "cell_type": "code",
   "execution_count": 10,
   "id": "01150706-5b5b-4c07-9fa4-6df655f8cda5",
   "metadata": {},
   "outputs": [],
   "source": [
    "sheet.add_chart(chart, \"E5\")  #adding chart to the sheet (anchored to cell E5)"
   ]
  },
  {
   "cell_type": "code",
   "execution_count": 12,
   "id": "c4183a1d-ac84-4a13-a967-19a301010731",
   "metadata": {},
   "outputs": [],
   "source": [
    "wb.save(\"oil_price_charts.xlsx\") #save the xlsx file"
   ]
  },
  {
   "cell_type": "code",
   "execution_count": 13,
   "id": "9ef4d68b-30c8-439c-8682-f5ade3478f40",
   "metadata": {},
   "outputs": [],
   "source": [
    "chart = LineChart() \n",
    "\n",
    "chart.title = \"Brent Crude Prices\"\n",
    "chart.x_axis.title = \"Time\"\n",
    "chart.y_axis.title = \"Price(US$)\""
   ]
  },
  {
   "cell_type": "code",
   "execution_count": 14,
   "id": "1aa62f05-ec4d-4c87-a7b4-15d4955a76e8",
   "metadata": {},
   "outputs": [],
   "source": [
    "values = Reference(sheet, min_col = 2, min_row = 1, \n",
    "                          max_col = 2, max_row = sheet.max_row) "
   ]
  },
  {
   "cell_type": "code",
   "execution_count": 15,
   "id": "74b51283-a825-435d-a2dc-9cb98ac31c38",
   "metadata": {},
   "outputs": [],
   "source": [
    "chart.add_data(values, titles_from_data = True)"
   ]
  },
  {
   "cell_type": "code",
   "execution_count": 16,
   "id": "18e611a4-1d2f-4a17-98fa-9d47a3c2c4ba",
   "metadata": {},
   "outputs": [],
   "source": [
    "dates = Reference(sheet, min_col = 1, min_row = 2, \n",
    "                         max_col = 1, max_row = sheet.max_row)"
   ]
  },
  {
   "cell_type": "code",
   "execution_count": 17,
   "id": "8f6fb0ba-4870-487b-9709-f5d48118e929",
   "metadata": {},
   "outputs": [],
   "source": [
    "chart.set_categories(dates)"
   ]
  },
  {
   "cell_type": "code",
   "execution_count": 18,
   "id": "a7b1ad7f-35c5-477e-a98d-fbe62332c86e",
   "metadata": {},
   "outputs": [],
   "source": [
    "chart.x_axis.tickLblSkip = 24"
   ]
  },
  {
   "cell_type": "code",
   "execution_count": 19,
   "id": "63b5c426-4766-4109-9282-1b9f96a3721a",
   "metadata": {},
   "outputs": [
    {
     "data": {
      "text/plain": [
       "(15, 7.5)"
      ]
     },
     "execution_count": 19,
     "metadata": {},
     "output_type": "execute_result"
    }
   ],
   "source": [
    "chart.width, chart.height"
   ]
  },
  {
   "cell_type": "code",
   "execution_count": 20,
   "id": "dd7caff1-29f0-43e4-8402-57baf3978b06",
   "metadata": {},
   "outputs": [],
   "source": [
    "chart.width = 25\n",
    "chart.height = 12.5"
   ]
  },
  {
   "cell_type": "code",
   "execution_count": 21,
   "id": "d6e9ae12-65cc-47df-94e9-07c67387eda5",
   "metadata": {},
   "outputs": [],
   "source": [
    "sheet.add_chart(chart, \"L5\")"
   ]
  },
  {
   "cell_type": "code",
   "execution_count": 22,
   "id": "c5ef59a7-d531-49d0-a664-afd861bb7af2",
   "metadata": {},
   "outputs": [],
   "source": [
    "wb.save(\"oil_price_charts.xlsx\") "
   ]
  },
  {
   "cell_type": "code",
   "execution_count": 23,
   "id": "ceb2d0f4-ff19-426c-9e0a-42ad2b582a26",
   "metadata": {},
   "outputs": [],
   "source": [
    "chart = LineChart() \n",
    "\n",
    "chart.title = \"Brent Crude Prices\"\n",
    "chart.x_axis.title = \"Time\"\n",
    "chart.y_axis.title = \"Price(US$)\""
   ]
  },
  {
   "cell_type": "code",
   "execution_count": 24,
   "id": "5ec4ada8-65a8-4854-9829-35f3d2d11b02",
   "metadata": {},
   "outputs": [],
   "source": [
    "values = Reference(sheet, min_col = 2, min_row = 1, \n",
    "                          max_col = 2, max_row = sheet.max_row) \n",
    "\n",
    "chart.add_data(values, titles_from_data = True)"
   ]
  },
  {
   "cell_type": "code",
   "execution_count": 25,
   "id": "51fbd937-6ef8-4b0d-9c3e-82c4b07a1a2f",
   "metadata": {},
   "outputs": [],
   "source": [
    "dates = Reference(sheet, min_col = 1, min_row = 2, \n",
    "                         max_col = 1, max_row = sheet.max_row)\n",
    "\n",
    "chart.set_categories(dates)"
   ]
  },
  {
   "cell_type": "code",
   "execution_count": 26,
   "id": "17e50ebe-3d34-4bc8-abf3-c7bb31112d5a",
   "metadata": {},
   "outputs": [],
   "source": [
    "chart.x_axis.tickLblSkip = 24\n",
    "\n",
    "chart.width = 25\n",
    "chart.height = 12.5"
   ]
  },
  {
   "cell_type": "code",
   "execution_count": 27,
   "id": "6080cfb5-b6a4-461b-b8bd-9b6e644f4e31",
   "metadata": {},
   "outputs": [],
   "source": [
    "chart.style = 3"
   ]
  },
  {
   "cell_type": "code",
   "execution_count": 28,
   "id": "b7c493e5-b56a-4c15-b566-eb91734b5d17",
   "metadata": {},
   "outputs": [],
   "source": [
    "sheet.add_chart(chart, \"E30\")"
   ]
  },
  {
   "cell_type": "code",
   "execution_count": 29,
   "id": "7b5af730-fc4d-4229-a152-3ad25ecdce35",
   "metadata": {},
   "outputs": [],
   "source": [
    "wb.save(\"oil_price_charts.xlsx\") "
   ]
  },
  {
   "cell_type": "code",
   "execution_count": 30,
   "id": "57174366-caa0-474a-840e-cb0c34912319",
   "metadata": {},
   "outputs": [],
   "source": [
    "from openpyxl.chart import AreaChart"
   ]
  },
  {
   "cell_type": "code",
   "execution_count": 31,
   "id": "6bb63d53-5fa7-46ad-b51f-4eec2a6aabf4",
   "metadata": {},
   "outputs": [],
   "source": [
    "area_chart = AreaChart()"
   ]
  },
  {
   "cell_type": "code",
   "execution_count": 32,
   "id": "6ffb1174-9a8b-426d-b073-8073c7ff4940",
   "metadata": {},
   "outputs": [],
   "source": [
    "area_chart.title = \"Brent Crude Prices\"\n",
    "area_chart.x_axis.title = \"Time\"\n",
    "area_chart.y_axis.title = \"Price(US$)\"\n",
    "area_chart.add_data(values, titles_from_data = True)\n",
    "area_chart.set_categories(dates)"
   ]
  },
  {
   "cell_type": "code",
   "execution_count": 33,
   "id": "ecca1d15-e7f1-4a55-a577-eb91ec67c3e7",
   "metadata": {},
   "outputs": [],
   "source": [
    "area_chart.x_axis.tickLblSkip = 24"
   ]
  },
  {
   "cell_type": "code",
   "execution_count": 34,
   "id": "8cc3751e-317e-4cf4-af46-5f9f8b08a06a",
   "metadata": {},
   "outputs": [
    {
     "data": {
      "text/plain": [
       "[<openpyxl.chart.series.Series object>\n",
       " Parameters:]"
      ]
     },
     "execution_count": 34,
     "metadata": {},
     "output_type": "execute_result"
    }
   ],
   "source": [
    "area_chart.series"
   ]
  },
  {
   "cell_type": "code",
   "execution_count": 35,
   "id": "49943b46-d4cd-4a57-a0ee-1e9e0975bcf2",
   "metadata": {},
   "outputs": [],
   "source": [
    "area_chart.series[0].graphicalProperties.solidFill = \"ff9900\""
   ]
  },
  {
   "cell_type": "code",
   "execution_count": 36,
   "id": "aeedcefc-cfde-4c49-ba0a-b9da63f9ecd7",
   "metadata": {},
   "outputs": [],
   "source": [
    "sheet.add_chart(area_chart, \"L30\")"
   ]
  },
  {
   "cell_type": "code",
   "execution_count": 37,
   "id": "462ce553-f1df-4304-b463-e18982d26892",
   "metadata": {},
   "outputs": [],
   "source": [
    "wb.save(\"oil_price_charts.xlsx\") "
   ]
  },
  {
   "cell_type": "code",
   "execution_count": 38,
   "id": "afe20181-9ea8-4b58-a001-7ff4c0468e52",
   "metadata": {},
   "outputs": [],
   "source": [
    "##tech stocks\n",
    "wb = openpyxl.load_workbook('tech_stocks.xlsx')\n",
    "sheet = wb.active "
   ]
  },
  {
   "cell_type": "code",
   "execution_count": 39,
   "id": "e1e4d9c9-2417-4512-a537-cd548a31c05a",
   "metadata": {},
   "outputs": [],
   "source": [
    "multi_line_chart = LineChart()\n",
    "\n",
    "multi_line_chart.title = \"Facebook vs. Netflix\"\n",
    "multi_line_chart.x_axis.title = \"Time (Sep-2018 to Sep-2019)\"\n",
    "multi_line_chart.y_axis.title = \"Price(US$)\"\n",
    "values = Reference(sheet, min_col = 2, min_row = 1, \n",
    "                          max_col = 3, max_row = sheet.max_row) "
   ]
  },
  {
   "cell_type": "code",
   "execution_count": 40,
   "id": "a2f38776-288b-46d2-9344-67a388a81aa0",
   "metadata": {},
   "outputs": [],
   "source": [
    "multi_line_chart.add_data(values, titles_from_data = True)"
   ]
  },
  {
   "cell_type": "code",
   "execution_count": 41,
   "id": "9c3e0fe4-4542-4565-8055-e8fadbdd6fc1",
   "metadata": {},
   "outputs": [],
   "source": [
    "dates = Reference(sheet, min_col = 1, min_row = 2, \n",
    "                         max_col = 1, max_row = sheet.max_row)"
   ]
  },
  {
   "cell_type": "code",
   "execution_count": 42,
   "id": "b1afc3c8-085f-41bd-9a5e-7ed299b5d8f5",
   "metadata": {},
   "outputs": [],
   "source": [
    "multi_line_chart.set_categories(dates)\n",
    "\n",
    "multi_line_chart.x_axis.tickLblSkip = 40"
   ]
  },
  {
   "cell_type": "code",
   "execution_count": 43,
   "id": "c5d8460a-8b95-4f6f-9e7f-41e73c2f63b4",
   "metadata": {},
   "outputs": [
    {
     "data": {
      "text/plain": [
       "2"
      ]
     },
     "execution_count": 43,
     "metadata": {},
     "output_type": "execute_result"
    }
   ],
   "source": [
    "len(multi_line_chart.series)"
   ]
  },
  {
   "cell_type": "code",
   "execution_count": 44,
   "id": "653d9dc9-7f54-413c-9591-71b599bcc4fb",
   "metadata": {},
   "outputs": [],
   "source": [
    "fb_series = multi_line_chart.series[0]\n",
    "nflx_series = multi_line_chart.series[1]"
   ]
  },
  {
   "cell_type": "code",
   "execution_count": 45,
   "id": "7d2236b3-e13e-4f86-9e34-afdd57c8a19b",
   "metadata": {},
   "outputs": [],
   "source": [
    "fb_series.graphicalProperties.line.solidFill = 'FF0000'\n",
    "fb_series.graphicalProperties.line.width = 2"
   ]
  },
  {
   "cell_type": "code",
   "execution_count": 46,
   "id": "72824330-35b6-4dec-a3a9-a77051f3ae25",
   "metadata": {},
   "outputs": [],
   "source": [
    "nflx_series.graphicalProperties.line.dashStyle = 'sysDot'\n",
    "nflx_series.graphicalProperties.line.solidFill = '0000FF'"
   ]
  },
  {
   "cell_type": "code",
   "execution_count": 47,
   "id": "c284bed7-cf8a-4c11-9fd2-db5534763419",
   "metadata": {},
   "outputs": [],
   "source": [
    "multi_line_chart.width = 25\n",
    "multi_line_chart.height = 12.5"
   ]
  },
  {
   "cell_type": "code",
   "execution_count": 48,
   "id": "739c6d5b-95ef-410f-91bb-5096bab9c7b7",
   "metadata": {},
   "outputs": [],
   "source": [
    "sheet.add_chart(multi_line_chart, \"E5\")"
   ]
  },
  {
   "cell_type": "code",
   "execution_count": 49,
   "id": "e758af14-cdce-461a-8f6f-118af9c6dc78",
   "metadata": {},
   "outputs": [],
   "source": [
    "wb.save(\"tech_stocks_charts.xlsx\") "
   ]
  },
  {
   "cell_type": "markdown",
   "id": "0bc37d85-27f2-4f6a-a286-a355f8ae0020",
   "metadata": {},
   "source": [
    "## Bar Charts"
   ]
  },
  {
   "cell_type": "code",
   "execution_count": 50,
   "id": "2fd3c3da-423b-4e14-9689-f345051d750b",
   "metadata": {},
   "outputs": [],
   "source": [
    "from openpyxl import Workbook\n",
    "from openpyxl.chart import BarChart, Reference\n",
    "work_book = Workbook()\n",
    "sheet = work_book.active\n"
   ]
  },
  {
   "cell_type": "code",
   "execution_count": 51,
   "id": "c0032eb5-4f24-4a2f-bf71-752c705dbc6b",
   "metadata": {},
   "outputs": [],
   "source": [
    "revenues = [[\"Company\", \"2017\", \"2018\"],\n",
    "           [\"Facebook\", 40, 55.8],\n",
    "           [\"Apple\", 229.32, 265],\n",
    "           [\"Netflix\", 11.69, 15.79],\n",
    "           [\"Amazon\", 177.86, 232.88]]\n",
    "\n",
    "for revenue in revenues:\n",
    "    sheet.append(revenue)"
   ]
  },
  {
   "cell_type": "code",
   "execution_count": 52,
   "id": "47ad28c3-a822-41b6-a008-885dd185980a",
   "metadata": {},
   "outputs": [],
   "source": [
    "chart = BarChart()"
   ]
  },
  {
   "cell_type": "code",
   "execution_count": 53,
   "id": "b0683738-fb51-4eb2-8c3d-b9a088e5dec3",
   "metadata": {},
   "outputs": [],
   "source": [
    "chart.type = \"col\""
   ]
  },
  {
   "cell_type": "code",
   "execution_count": 54,
   "id": "3439316c-4a21-49d3-b7e0-cfdb4650d0e5",
   "metadata": {},
   "outputs": [],
   "source": [
    "chart.title = \"Bar Chart\""
   ]
  },
  {
   "cell_type": "code",
   "execution_count": 55,
   "id": "5d97b2b5-8f27-411a-88d3-4846916b8dc1",
   "metadata": {},
   "outputs": [],
   "source": [
    "chart.x_axis.title = 'Company'\n",
    "chart.y_axis.title = 'Revenue (B$)'"
   ]
  },
  {
   "cell_type": "code",
   "execution_count": 56,
   "id": "644140cd-7e6c-4ca4-951b-89db81cb2407",
   "metadata": {},
   "outputs": [],
   "source": [
    "data = Reference(worksheet=sheet,\n",
    "                 min_row=1,\n",
    "                 max_row=sheet.max_row,\n",
    "                 min_col=2,\n",
    "                 max_col=3)"
   ]
  },
  {
   "cell_type": "code",
   "execution_count": 57,
   "id": "838bc9a2-1eae-484e-96a3-75569c656f45",
   "metadata": {},
   "outputs": [],
   "source": [
    "cats = Reference(worksheet=sheet, \n",
    "                 min_row=2, \n",
    "                 max_row=sheet.max_row, \n",
    "                 min_col=1,\n",
    "                 max_col = 1)"
   ]
  },
  {
   "cell_type": "code",
   "execution_count": 58,
   "id": "f4b0db7b-acc2-4425-828c-875094d35357",
   "metadata": {},
   "outputs": [],
   "source": [
    "chart.add_data(data, titles_from_data=True)"
   ]
  },
  {
   "cell_type": "code",
   "execution_count": 59,
   "id": "fe5e32d6-148b-454b-9f7e-0695e4fb1852",
   "metadata": {},
   "outputs": [],
   "source": [
    "chart.set_categories(cats)"
   ]
  },
  {
   "cell_type": "code",
   "execution_count": 64,
   "id": "0190a543-435a-4e58-8c9b-dfb7949e8732",
   "metadata": {},
   "outputs": [],
   "source": [
    "from copy import deepcopy #horizontal"
   ]
  },
  {
   "cell_type": "code",
   "execution_count": 65,
   "id": "f4d436ea-a34f-4e17-8f5a-33ce2641ddea",
   "metadata": {},
   "outputs": [],
   "source": [
    "hor_chart = deepcopy(chart)"
   ]
  },
  {
   "cell_type": "code",
   "execution_count": 66,
   "id": "600abd66-7add-4b4d-b258-31bbc5313e38",
   "metadata": {},
   "outputs": [],
   "source": [
    "hor_chart.type = \"bar\""
   ]
  },
  {
   "cell_type": "code",
   "execution_count": 67,
   "id": "145167f8-87cc-4e2f-a0cc-419c7ee7773b",
   "metadata": {},
   "outputs": [],
   "source": [
    "hor_chart.title = \"Horizontal Bar Chart\"\n",
    "chart.y_axis.title = 'Revenue (B$)'\n",
    "chart.x_axis.title = 'Company'\n",
    "sheet.add_chart(hor_chart, \"P3\")"
   ]
  },
  {
   "cell_type": "code",
   "execution_count": 69,
   "id": "1d3cc35e-3f79-457a-a759-f6966dd05afe",
   "metadata": {},
   "outputs": [],
   "source": [
    "##stacked chart\n",
    "stacked_chart = deepcopy(chart)\n",
    "stacked_chart.type = \"col\"\n",
    "stacked_chart.grouping = \"stacked\"\n",
    "stacked_chart.overlap = 100\n",
    "stacked_chart.title = 'Stacked Chart'\n"
   ]
  },
  {
   "cell_type": "code",
   "execution_count": 70,
   "id": "f5dadf6e-1120-49b5-a5c6-aa5f0eba2dc7",
   "metadata": {},
   "outputs": [],
   "source": [
    "sheet.add_chart(stacked_chart, \"F20\")"
   ]
  },
  {
   "cell_type": "code",
   "execution_count": 71,
   "id": "aabfdd86-6eea-4d92-8187-1a3ea620986c",
   "metadata": {},
   "outputs": [],
   "source": [
    "from openpyxl.chart import BarChart3D  #3d"
   ]
  },
  {
   "cell_type": "code",
   "execution_count": 72,
   "id": "aa413717-bc55-491a-bd73-6f0f9a188fdd",
   "metadata": {},
   "outputs": [],
   "source": [
    "chart_3d = BarChart3D()"
   ]
  },
  {
   "cell_type": "code",
   "execution_count": 73,
   "id": "c60888e9-00e5-438d-ac10-8a116074886c",
   "metadata": {},
   "outputs": [],
   "source": [
    "chart_3d.type = \"col\""
   ]
  },
  {
   "cell_type": "code",
   "execution_count": 74,
   "id": "a70024e1-0122-4a1f-a11a-ac94da0cc744",
   "metadata": {},
   "outputs": [],
   "source": [
    "chart_3d.title = \"3D Bar Chart\"\n",
    "chart_3d.y_axis.title = 'Revenue (B$)'\n",
    "chart_3d.x_axis.title = 'Company'\n",
    "chart_3d.add_data(data, titles_from_data=True)\n",
    "chart_3d.set_categories(cats)"
   ]
  },
  {
   "cell_type": "code",
   "execution_count": 76,
   "id": "fd2178d5-9f82-4552-9c9e-b34e7f415d2e",
   "metadata": {},
   "outputs": [],
   "source": [
    "sheet.add_chart(chart_3d, \"P20\")"
   ]
  },
  {
   "cell_type": "markdown",
   "id": "5991acb3-ad27-4141-b468-d34a1de79e32",
   "metadata": {},
   "source": [
    "## Bubble Charts"
   ]
  },
  {
   "cell_type": "code",
   "execution_count": 77,
   "id": "8c8027c9-615a-479b-ba77-1c2574e16cb7",
   "metadata": {},
   "outputs": [],
   "source": [
    "import openpyxl "
   ]
  },
  {
   "cell_type": "code",
   "execution_count": 78,
   "id": "4a6023a0-3d51-4074-a940-56a8ab5215d7",
   "metadata": {},
   "outputs": [],
   "source": [
    "from openpyxl.chart import BubbleChart, Reference, Series "
   ]
  },
  {
   "cell_type": "code",
   "execution_count": 79,
   "id": "d5173a15-431c-4e11-8b20-c5a93159397e",
   "metadata": {},
   "outputs": [],
   "source": [
    "work_book = openpyxl.Workbook()\n",
    "sheet = work_book.active \n",
    "rows = [ \n",
    "        (\"Year\", \"Revenue('000 USD)\", \"Market Share\"), \n",
    "        (2012, 2300, 7.5), \n",
    "        (2013, 3100, 7.9),\n",
    "        (2014, 6540, 9.5),\n",
    "        (2015, 12200, 12.1),\n",
    "        (2016, 14890, 10.8), \n",
    "        (2017, 13020, 12.0),\n",
    "        (2018, 13860, 15.3)\n",
    "       ] "
   ]
  },
  {
   "cell_type": "code",
   "execution_count": 80,
   "id": "55e9906b-4a4a-49c1-afbf-4a6b17bfb72e",
   "metadata": {},
   "outputs": [
    {
     "data": {
      "text/plain": [
       "8"
      ]
     },
     "execution_count": 80,
     "metadata": {},
     "output_type": "execute_result"
    }
   ],
   "source": [
    "for row in rows: \n",
    "    sheet.append(row) \n",
    "chart = BubbleChart() \n",
    "sheet.max_row"
   ]
  },
  {
   "cell_type": "code",
   "execution_count": 81,
   "id": "58730bc1-1a34-4830-b7a8-fe05745adde0",
   "metadata": {},
   "outputs": [],
   "source": [
    "x_values = Reference(sheet, min_col = 1, max_col = 1,\n",
    "                            min_row = 2, max_row = sheet.max_row)"
   ]
  },
  {
   "cell_type": "code",
   "execution_count": 82,
   "id": "93701673-7b75-4fae-81e8-2a6668ebb774",
   "metadata": {},
   "outputs": [],
   "source": [
    "y_values = Reference(sheet, min_col = 2, max_col = 2,\n",
    "                            min_row = 2, max_row = sheet.max_row) "
   ]
  },
  {
   "cell_type": "code",
   "execution_count": 83,
   "id": "a335a619-da82-46a1-a325-08b7e5bfd08e",
   "metadata": {},
   "outputs": [],
   "source": [
    "sizes = Reference(sheet, min_col = 3, max_col = 4,\n",
    "                         min_row = 2, max_row = sheet.max_row) "
   ]
  },
  {
   "cell_type": "code",
   "execution_count": 84,
   "id": "0d30b1b1-3c99-4eea-b634-713e83d087d5",
   "metadata": {},
   "outputs": [],
   "source": [
    "series = Series(values = y_values, \n",
    "                xvalues = x_values, \n",
    "                zvalues = sizes, \n",
    "                title =\"Market Share\") "
   ]
  },
  {
   "cell_type": "code",
   "execution_count": 85,
   "id": "c54ff8d0-ed0c-4ffb-95a8-9aa8263db774",
   "metadata": {},
   "outputs": [],
   "source": [
    "chart.series.append(series) "
   ]
  },
  {
   "cell_type": "code",
   "execution_count": 86,
   "id": "e859856f-5148-4d26-9dab-6464e6eec24b",
   "metadata": {},
   "outputs": [],
   "source": [
    "chart.title = \"Revenues and Market Share (2012-2018)\""
   ]
  },
  {
   "cell_type": "code",
   "execution_count": 87,
   "id": "f5c60966-db31-4757-a26d-a3e1717a2a56",
   "metadata": {},
   "outputs": [],
   "source": [
    "chart.x_axis.title = \"Year\""
   ]
  },
  {
   "cell_type": "code",
   "execution_count": 88,
   "id": "5a01009d-f571-4adf-b820-68033b4616f6",
   "metadata": {},
   "outputs": [],
   "source": [
    "chart.y_axis.title = \"Revenues(USD)\""
   ]
  },
  {
   "cell_type": "code",
   "execution_count": 89,
   "id": "9389285f-7f5f-4251-85f0-54ee6d00ebca",
   "metadata": {},
   "outputs": [],
   "source": [
    "chart.y_axis.number_format = '$#,##0K'"
   ]
  },
  {
   "cell_type": "code",
   "execution_count": 90,
   "id": "89f9c395-b25e-4d7a-aecb-53d17bc267bf",
   "metadata": {},
   "outputs": [],
   "source": [
    "chart.width = 25\n",
    "chart.height = 12.5"
   ]
  },
  {
   "cell_type": "code",
   "execution_count": 91,
   "id": "f1ed5391-dcc0-4727-8bca-6b55758b71c7",
   "metadata": {},
   "outputs": [],
   "source": [
    "sheet.add_chart(chart, \"F6\") \n",
    "work_book.save(\"bubble_chart.xlsx\") "
   ]
  },
  {
   "cell_type": "markdown",
   "id": "deacccac-f892-46ef-83d1-4dc1cb1c9d68",
   "metadata": {},
   "source": [
    "## Classes & Instances"
   ]
  },
  {
   "cell_type": "code",
   "execution_count": 92,
   "id": "8656db8d-cfef-4320-b929-07023cb0a819",
   "metadata": {},
   "outputs": [
    {
     "data": {
      "text/plain": [
       "type"
      ]
     },
     "execution_count": 92,
     "metadata": {},
     "output_type": "execute_result"
    }
   ],
   "source": [
    "#build an empty class\n",
    "class Student:\n",
    "    pass\n",
    "type(Student)"
   ]
  },
  {
   "cell_type": "code",
   "execution_count": 93,
   "id": "a7422b65-5222-4015-a4a3-8bcd2301f545",
   "metadata": {},
   "outputs": [],
   "source": [
    "object_1 = Student()\n",
    "object_2 = Student()"
   ]
  },
  {
   "cell_type": "code",
   "execution_count": 94,
   "id": "1d35bba6-5da1-4d31-98e2-e8d713b9c791",
   "metadata": {},
   "outputs": [
    {
     "data": {
      "text/plain": [
       "<__main__.Student at 0x187174fa6f0>"
      ]
     },
     "execution_count": 94,
     "metadata": {},
     "output_type": "execute_result"
    }
   ],
   "source": [
    "object_1"
   ]
  },
  {
   "cell_type": "code",
   "execution_count": 95,
   "id": "8f631d6c-8d4a-4231-abdc-65ca04c509f0",
   "metadata": {},
   "outputs": [
    {
     "data": {
      "text/plain": [
       "<__main__.Student at 0x187174f9ee0>"
      ]
     },
     "execution_count": 95,
     "metadata": {},
     "output_type": "execute_result"
    }
   ],
   "source": [
    "object_2"
   ]
  },
  {
   "cell_type": "code",
   "execution_count": 97,
   "id": "b4dc8c5c-e854-4e4a-81f9-565df7048329",
   "metadata": {},
   "outputs": [
    {
     "data": {
      "text/plain": [
       "True"
      ]
     },
     "execution_count": 97,
     "metadata": {},
     "output_type": "execute_result"
    }
   ],
   "source": [
    "isinstance(object_1, Student)  #an instance belongs to a specific class"
   ]
  },
  {
   "cell_type": "code",
   "execution_count": 98,
   "id": "af69606d-1720-49b3-b5f5-7d3623d6976d",
   "metadata": {},
   "outputs": [
    {
     "data": {
      "text/plain": [
       "True"
      ]
     },
     "execution_count": 98,
     "metadata": {},
     "output_type": "execute_result"
    }
   ],
   "source": [
    "isinstance(object_2, Student)"
   ]
  },
  {
   "cell_type": "code",
   "execution_count": 99,
   "id": "236602e7-38e1-4b0d-b61d-cb622ee7ad59",
   "metadata": {},
   "outputs": [
    {
     "ename": "NameError",
     "evalue": "name 'object_3' is not defined",
     "output_type": "error",
     "traceback": [
      "\u001b[1;31m---------------------------------------------------------------------------\u001b[0m",
      "\u001b[1;31mNameError\u001b[0m                                 Traceback (most recent call last)",
      "Cell \u001b[1;32mIn[99], line 1\u001b[0m\n\u001b[1;32m----> 1\u001b[0m \u001b[38;5;28misinstance\u001b[39m(object_3, Student)\n",
      "\u001b[1;31mNameError\u001b[0m: name 'object_3' is not defined"
     ]
    }
   ],
   "source": [
    "isinstance(object_3, Student)"
   ]
  },
  {
   "cell_type": "code",
   "execution_count": 100,
   "id": "1f6c0bf8-0e7d-46f6-bfa5-6a9f6f59322a",
   "metadata": {},
   "outputs": [
    {
     "data": {
      "text/plain": [
       "False"
      ]
     },
     "execution_count": 100,
     "metadata": {},
     "output_type": "execute_result"
    }
   ],
   "source": [
    "object_3 = {}\n",
    "\n",
    "isinstance(object_3, Student)"
   ]
  },
  {
   "cell_type": "code",
   "execution_count": 101,
   "id": "a3ed8e65-6776-459d-9118-0e571bb5762b",
   "metadata": {},
   "outputs": [],
   "source": [
    "object_1.name = 'Michel'\n",
    "\n",
    "object_1.email = 'Michel@xyz.com'"
   ]
  },
  {
   "cell_type": "code",
   "execution_count": 102,
   "id": "f7b23ea6-1cb9-4370-b3a4-5f0c6d4f265f",
   "metadata": {},
   "outputs": [
    {
     "data": {
      "text/plain": [
       "'Michel'"
      ]
     },
     "execution_count": 102,
     "metadata": {},
     "output_type": "execute_result"
    }
   ],
   "source": [
    "object_1.name"
   ]
  },
  {
   "cell_type": "code",
   "execution_count": 103,
   "id": "ebc11fcb-1c2c-44fd-b31a-99fe0df6955b",
   "metadata": {},
   "outputs": [
    {
     "data": {
      "text/plain": [
       "'Michel@xyz.com'"
      ]
     },
     "execution_count": 103,
     "metadata": {},
     "output_type": "execute_result"
    }
   ],
   "source": [
    "object_1.email"
   ]
  },
  {
   "cell_type": "code",
   "execution_count": 104,
   "id": "597097d8-9c4a-4f7c-bb4d-5876b6387236",
   "metadata": {},
   "outputs": [
    {
     "ename": "AttributeError",
     "evalue": "'Student' object has no attribute 'school'",
     "output_type": "error",
     "traceback": [
      "\u001b[1;31m---------------------------------------------------------------------------\u001b[0m",
      "\u001b[1;31mAttributeError\u001b[0m                            Traceback (most recent call last)",
      "Cell \u001b[1;32mIn[104], line 1\u001b[0m\n\u001b[1;32m----> 1\u001b[0m object_1\u001b[38;5;241m.\u001b[39mschool\n",
      "\u001b[1;31mAttributeError\u001b[0m: 'Student' object has no attribute 'school'"
     ]
    }
   ],
   "source": [
    "object_1.school"
   ]
  },
  {
   "cell_type": "code",
   "execution_count": 105,
   "id": "9ee24ab7-d970-4915-be94-eace4a7a290e",
   "metadata": {},
   "outputs": [],
   "source": [
    "object_2.name = 'Chad'\n",
    "object_2.email = 'Chad@xyz.com'"
   ]
  },
  {
   "cell_type": "code",
   "execution_count": 106,
   "id": "443c6e8c-d7f1-4da6-a7f5-166915e1631d",
   "metadata": {},
   "outputs": [
    {
     "data": {
      "text/plain": [
       "'Chad'"
      ]
     },
     "execution_count": 106,
     "metadata": {},
     "output_type": "execute_result"
    }
   ],
   "source": [
    "object_2.name"
   ]
  },
  {
   "cell_type": "code",
   "execution_count": 107,
   "id": "b5de1d03-4d96-4121-9f56-a7608b970e7e",
   "metadata": {},
   "outputs": [
    {
     "data": {
      "text/plain": [
       "'Chad@xyz.com'"
      ]
     },
     "execution_count": 107,
     "metadata": {},
     "output_type": "execute_result"
    }
   ],
   "source": [
    "object_2.email"
   ]
  },
  {
   "cell_type": "code",
   "execution_count": 108,
   "id": "f94a6e36-9da2-4403-958f-a0796492154a",
   "metadata": {},
   "outputs": [
    {
     "ename": "AttributeError",
     "evalue": "'Student' object has no attribute 'school'",
     "output_type": "error",
     "traceback": [
      "\u001b[1;31m---------------------------------------------------------------------------\u001b[0m",
      "\u001b[1;31mAttributeError\u001b[0m                            Traceback (most recent call last)",
      "Cell \u001b[1;32mIn[108], line 1\u001b[0m\n\u001b[1;32m----> 1\u001b[0m object_2\u001b[38;5;241m.\u001b[39mschool\n",
      "\u001b[1;31mAttributeError\u001b[0m: 'Student' object has no attribute 'school'"
     ]
    }
   ],
   "source": [
    "object_2.school"
   ]
  },
  {
   "cell_type": "code",
   "execution_count": 109,
   "id": "3ca249e5-8be7-42b3-95f1-e883fa05ea75",
   "metadata": {},
   "outputs": [
    {
     "ename": "AttributeError",
     "evalue": "'Student' object has no attribute 'name'",
     "output_type": "error",
     "traceback": [
      "\u001b[1;31m---------------------------------------------------------------------------\u001b[0m",
      "\u001b[1;31mAttributeError\u001b[0m                            Traceback (most recent call last)",
      "Cell \u001b[1;32mIn[109], line 2\u001b[0m\n\u001b[0;32m      1\u001b[0m object_3 \u001b[38;5;241m=\u001b[39m Student()\n\u001b[1;32m----> 2\u001b[0m object_3\u001b[38;5;241m.\u001b[39mname\n",
      "\u001b[1;31mAttributeError\u001b[0m: 'Student' object has no attribute 'name'"
     ]
    }
   ],
   "source": [
    "object_3 = Student()\n",
    "object_3.name"
   ]
  },
  {
   "cell_type": "code",
   "execution_count": 110,
   "id": "2fb0a9f0-9f6f-4100-acc9-1b88d003d0e4",
   "metadata": {},
   "outputs": [],
   "source": [
    "##new class student\n",
    "class Student:\n",
    "    name = ''\n",
    "    score = 0\n",
    "    active = True"
   ]
  },
  {
   "cell_type": "code",
   "execution_count": 111,
   "id": "9657029e-995b-4a8a-9c6c-70c354222cc4",
   "metadata": {},
   "outputs": [],
   "source": [
    "s1 = Student()"
   ]
  },
  {
   "cell_type": "code",
   "execution_count": 112,
   "id": "68f0bde3-a680-4acb-90c8-10b3ec712215",
   "metadata": {},
   "outputs": [
    {
     "data": {
      "text/plain": [
       "('', 0, True)"
      ]
     },
     "execution_count": 112,
     "metadata": {},
     "output_type": "execute_result"
    }
   ],
   "source": [
    "s1.name, s1.score, s1.active"
   ]
  },
  {
   "cell_type": "code",
   "execution_count": 113,
   "id": "6744a803-4c2f-48fa-bc7b-494630b48849",
   "metadata": {},
   "outputs": [
    {
     "data": {
      "text/plain": [
       "('John', 50, True)"
      ]
     },
     "execution_count": 113,
     "metadata": {},
     "output_type": "execute_result"
    }
   ],
   "source": [
    "s1.name = 'John'\n",
    "s1.score = 50\n",
    "s1.name, s1.score, s1.active"
   ]
  },
  {
   "cell_type": "code",
   "execution_count": 114,
   "id": "d9abec65-9f86-4e7c-9ed1-4872f1009b5f",
   "metadata": {},
   "outputs": [],
   "source": [
    "s2 = Student()"
   ]
  },
  {
   "cell_type": "code",
   "execution_count": 115,
   "id": "46debe30-273b-4b42-95c3-6c6f080c7d3a",
   "metadata": {},
   "outputs": [
    {
     "data": {
      "text/plain": [
       "('', 0, True)"
      ]
     },
     "execution_count": 115,
     "metadata": {},
     "output_type": "execute_result"
    }
   ],
   "source": [
    "s2.name, s2.score, s2.active"
   ]
  },
  {
   "cell_type": "code",
   "execution_count": 116,
   "id": "50053de2-763e-47cf-b048-855b90eb4127",
   "metadata": {},
   "outputs": [],
   "source": [
    "s2.name = 'Lily'"
   ]
  },
  {
   "cell_type": "code",
   "execution_count": 117,
   "id": "9f875827-db5c-4c54-94fc-ca2334d781bc",
   "metadata": {},
   "outputs": [
    {
     "data": {
      "text/plain": [
       "('Lily', 0, True)"
      ]
     },
     "execution_count": 117,
     "metadata": {},
     "output_type": "execute_result"
    }
   ],
   "source": [
    "s2.name, s2.score, s2.active"
   ]
  },
  {
   "cell_type": "code",
   "execution_count": 118,
   "id": "9f71b3aa-f8f4-401f-a13a-af199fbf0747",
   "metadata": {},
   "outputs": [
    {
     "data": {
      "text/plain": [
       "('John', 50, True)"
      ]
     },
     "execution_count": 118,
     "metadata": {},
     "output_type": "execute_result"
    }
   ],
   "source": [
    "s1.name, s1.score, s1.active"
   ]
  },
  {
   "cell_type": "code",
   "execution_count": 119,
   "id": "1894f438-30d0-4fc8-b65b-b2e8bce0cf92",
   "metadata": {},
   "outputs": [
    {
     "data": {
      "text/plain": [
       "('Lily', 0, False)"
      ]
     },
     "execution_count": 119,
     "metadata": {},
     "output_type": "execute_result"
    }
   ],
   "source": [
    "s2.active = False\n",
    "s2.name, s2.score, s2.active"
   ]
  },
  {
   "cell_type": "code",
   "execution_count": 120,
   "id": "2c0a6173-6d49-4b8c-bf46-d1e7ca7ebafd",
   "metadata": {},
   "outputs": [
    {
     "data": {
      "text/plain": [
       "('John', 50, True)"
      ]
     },
     "execution_count": 120,
     "metadata": {},
     "output_type": "execute_result"
    }
   ],
   "source": [
    "s1.name, s1.score, s1.active"
   ]
  },
  {
   "cell_type": "code",
   "execution_count": 121,
   "id": "8e6a320a-f5f9-43e4-9e42-77c8869b1139",
   "metadata": {},
   "outputs": [],
   "source": [
    "##using init\n",
    "class Student:\n",
    "    \n",
    "    def __init__(self):\n",
    "        \n",
    "        print('Initialize called!')"
   ]
  },
  {
   "cell_type": "code",
   "execution_count": 122,
   "id": "6da54007-ae24-4c79-bd6d-3f8fe39ddcca",
   "metadata": {},
   "outputs": [
    {
     "name": "stdout",
     "output_type": "stream",
     "text": [
      "Initialize called!\n"
     ]
    }
   ],
   "source": [
    "s1 = Student()"
   ]
  },
  {
   "cell_type": "code",
   "execution_count": 123,
   "id": "50b236a7-9336-4345-b791-073b79059d79",
   "metadata": {},
   "outputs": [
    {
     "name": "stdout",
     "output_type": "stream",
     "text": [
      "Initialize called!\n",
      "Initialize called!\n"
     ]
    }
   ],
   "source": [
    "s2 = Student()\n",
    "s3 = Student()"
   ]
  },
  {
   "cell_type": "code",
   "execution_count": 124,
   "id": "fb26f26d-9b35-4892-8c29-7f148f893da1",
   "metadata": {},
   "outputs": [],
   "source": [
    "class Student:\n",
    "    def __init__():\n",
    "        print('Initialize called!')"
   ]
  },
  {
   "cell_type": "code",
   "execution_count": 125,
   "id": "d77a5eee-704c-4a72-8c57-375da02ac580",
   "metadata": {},
   "outputs": [
    {
     "ename": "TypeError",
     "evalue": "Student.__init__() takes 0 positional arguments but 1 was given",
     "output_type": "error",
     "traceback": [
      "\u001b[1;31m---------------------------------------------------------------------------\u001b[0m",
      "\u001b[1;31mTypeError\u001b[0m                                 Traceback (most recent call last)",
      "Cell \u001b[1;32mIn[125], line 1\u001b[0m\n\u001b[1;32m----> 1\u001b[0m s1 \u001b[38;5;241m=\u001b[39m Student()\n",
      "\u001b[1;31mTypeError\u001b[0m: Student.__init__() takes 0 positional arguments but 1 was given"
     ]
    }
   ],
   "source": [
    "s1 = Student()"
   ]
  },
  {
   "cell_type": "code",
   "execution_count": 126,
   "id": "40f0bd6a-e52f-48cb-9e55-76549a459886",
   "metadata": {},
   "outputs": [],
   "source": [
    "class Student:\n",
    "    def __init__(boo):\n",
    "        print('Initialize called!')"
   ]
  },
  {
   "cell_type": "code",
   "execution_count": 127,
   "id": "954b0408-61b6-4a88-8b3b-b295dca46f6e",
   "metadata": {},
   "outputs": [
    {
     "name": "stdout",
     "output_type": "stream",
     "text": [
      "Initialize called!\n"
     ]
    }
   ],
   "source": [
    "s1 = Student()"
   ]
  },
  {
   "cell_type": "code",
   "execution_count": 128,
   "id": "2a4ec42f-facb-4711-b70d-11d7761c3ba6",
   "metadata": {},
   "outputs": [],
   "source": [
    "class Student:\n",
    "    def __init__(self, name):\n",
    "        self.name = name\n",
    "        self.mail = name + \".\" + \"@xyz.com\""
   ]
  },
  {
   "cell_type": "code",
   "execution_count": 129,
   "id": "902a7c04-492e-4c7e-b353-8a74c340a3e3",
   "metadata": {},
   "outputs": [
    {
     "ename": "TypeError",
     "evalue": "Student.__init__() missing 1 required positional argument: 'name'",
     "output_type": "error",
     "traceback": [
      "\u001b[1;31m---------------------------------------------------------------------------\u001b[0m",
      "\u001b[1;31mTypeError\u001b[0m                                 Traceback (most recent call last)",
      "Cell \u001b[1;32mIn[129], line 1\u001b[0m\n\u001b[1;32m----> 1\u001b[0m s1 \u001b[38;5;241m=\u001b[39m Student()\n",
      "\u001b[1;31mTypeError\u001b[0m: Student.__init__() missing 1 required positional argument: 'name'"
     ]
    }
   ],
   "source": [
    "s1 = Student()"
   ]
  },
  {
   "cell_type": "code",
   "execution_count": 130,
   "id": "ef99b62b-0846-48fa-9add-934a0892bced",
   "metadata": {},
   "outputs": [
    {
     "ename": "TypeError",
     "evalue": "Student.__init__() takes 2 positional arguments but 3 were given",
     "output_type": "error",
     "traceback": [
      "\u001b[1;31m---------------------------------------------------------------------------\u001b[0m",
      "\u001b[1;31mTypeError\u001b[0m                                 Traceback (most recent call last)",
      "Cell \u001b[1;32mIn[130], line 2\u001b[0m\n\u001b[0;32m      1\u001b[0m s1 \u001b[38;5;241m=\u001b[39m Student(\u001b[38;5;124m'\u001b[39m\u001b[38;5;124mMichel\u001b[39m\u001b[38;5;124m'\u001b[39m)\n\u001b[1;32m----> 2\u001b[0m s1 \u001b[38;5;241m=\u001b[39m Student(\u001b[38;5;124m'\u001b[39m\u001b[38;5;124mMichel\u001b[39m\u001b[38;5;124m'\u001b[39m, \u001b[38;5;124m'\u001b[39m\u001b[38;5;124mMichel@xyz.com\u001b[39m\u001b[38;5;124m'\u001b[39m)\n",
      "\u001b[1;31mTypeError\u001b[0m: Student.__init__() takes 2 positional arguments but 3 were given"
     ]
    }
   ],
   "source": [
    "s1 = Student('Michel')\n",
    "s1 = Student('Michel', 'Michel@xyz.com')"
   ]
  },
  {
   "cell_type": "code",
   "execution_count": 131,
   "id": "d93ca976-6bfc-4e72-b319-c201cdb8729b",
   "metadata": {},
   "outputs": [
    {
     "name": "stdout",
     "output_type": "stream",
     "text": [
      "<__main__.Student object at 0x0000018717590830>\n"
     ]
    }
   ],
   "source": [
    "print(s1)"
   ]
  },
  {
   "cell_type": "code",
   "execution_count": 133,
   "id": "7bc27885-53d2-41e1-9f6c-e1eb00058154",
   "metadata": {},
   "outputs": [
    {
     "data": {
      "text/plain": [
       "'Michel.@xyz.com'"
      ]
     },
     "execution_count": 133,
     "metadata": {},
     "output_type": "execute_result"
    }
   ],
   "source": [
    "\n",
    "s1.mail"
   ]
  },
  {
   "cell_type": "code",
   "execution_count": 134,
   "id": "6b2dade9-3527-4670-9e96-6d851f186af7",
   "metadata": {},
   "outputs": [],
   "source": [
    "s2 = Student('Chad')"
   ]
  },
  {
   "cell_type": "code",
   "execution_count": 135,
   "id": "bf21a20b-391f-4a17-b2c6-2119df6cd90d",
   "metadata": {},
   "outputs": [
    {
     "data": {
      "text/plain": [
       "('Chad', 'Chad.@xyz.com')"
      ]
     },
     "execution_count": 135,
     "metadata": {},
     "output_type": "execute_result"
    }
   ],
   "source": [
    "s2.name, s2.mail"
   ]
  },
  {
   "cell_type": "code",
   "execution_count": 136,
   "id": "6be4f46b-5ea3-4a21-bf13-3bb7c7fe115c",
   "metadata": {},
   "outputs": [
    {
     "data": {
      "text/plain": [
       "('Michael', 'Michel.@xyz.com')"
      ]
     },
     "execution_count": 136,
     "metadata": {},
     "output_type": "execute_result"
    }
   ],
   "source": [
    "s1.name = 'Michael'\n",
    "s1.name, s1.mail"
   ]
  },
  {
   "cell_type": "code",
   "execution_count": 137,
   "id": "9fbba137-25d7-41d6-8a14-6b16f4db342a",
   "metadata": {},
   "outputs": [
    {
     "data": {
      "text/plain": [
       "('Chad', 'Chad.@xyz.com')"
      ]
     },
     "execution_count": 137,
     "metadata": {},
     "output_type": "execute_result"
    }
   ],
   "source": [
    "s2.name, s2.mail"
   ]
  },
  {
   "cell_type": "code",
   "execution_count": 138,
   "id": "ea0fe295-59b4-48ec-9c59-444af7fcd4f2",
   "metadata": {},
   "outputs": [],
   "source": [
    "##anothe student class\n",
    "class Student:\n",
    "    def __init__(self, first, last):\n",
    "        self.first = first\n",
    "        self.last = last\n",
    "        self.mail = first + \".\" + last + \"@xyz.com\"\n",
    "    def fullname(self):\n",
    "        return '{} {}'.format(self.first, self.last)"
   ]
  },
  {
   "cell_type": "code",
   "execution_count": 139,
   "id": "a598a627-bf54-4f40-a4f5-2afc527bd2aa",
   "metadata": {},
   "outputs": [],
   "source": [
    "s1 = Student('Rodrigo', 'Joseph')"
   ]
  },
  {
   "cell_type": "code",
   "execution_count": 140,
   "id": "a5d218bf-9881-4b21-a2ac-61e95857b2d7",
   "metadata": {},
   "outputs": [
    {
     "name": "stdout",
     "output_type": "stream",
     "text": [
      "Rodrigo Joseph\n"
     ]
    }
   ],
   "source": [
    "print(s1.fullname())"
   ]
  },
  {
   "cell_type": "code",
   "execution_count": 141,
   "id": "c4321c94-435f-4ac3-b9ae-312058067e3c",
   "metadata": {},
   "outputs": [
    {
     "data": {
      "text/plain": [
       "<bound method Student.fullname of <__main__.Student object at 0x0000018717772990>>"
      ]
     },
     "execution_count": 141,
     "metadata": {},
     "output_type": "execute_result"
    }
   ],
   "source": [
    "s1.fullname"
   ]
  },
  {
   "cell_type": "code",
   "execution_count": 142,
   "id": "654d8154-80fd-4a60-ae3f-115641b1780a",
   "metadata": {},
   "outputs": [],
   "source": [
    "s2 = Student('Anthony', 'Hopkins')"
   ]
  },
  {
   "cell_type": "code",
   "execution_count": 143,
   "id": "11f41660-8638-4908-93e4-1cd8f1285805",
   "metadata": {},
   "outputs": [
    {
     "name": "stdout",
     "output_type": "stream",
     "text": [
      "Anthony Hopkins\n"
     ]
    }
   ],
   "source": [
    "print(s2.fullname())"
   ]
  },
  {
   "cell_type": "code",
   "execution_count": 144,
   "id": "54ed1e0d-c136-4a08-a762-2f50f2143e61",
   "metadata": {},
   "outputs": [],
   "source": [
    "s3 = Student('James', 'Reyes')"
   ]
  },
  {
   "cell_type": "code",
   "execution_count": 145,
   "id": "480fe032-f021-45ab-9098-32631f8d129a",
   "metadata": {},
   "outputs": [
    {
     "data": {
      "text/plain": [
       "'James'"
      ]
     },
     "execution_count": 145,
     "metadata": {},
     "output_type": "execute_result"
    }
   ],
   "source": [
    "s3.first"
   ]
  },
  {
   "cell_type": "code",
   "execution_count": 146,
   "id": "71d7c3d1-e70c-4d81-91e6-7d98a9f555d2",
   "metadata": {},
   "outputs": [],
   "source": [
    "del s3.first"
   ]
  },
  {
   "cell_type": "code",
   "execution_count": 147,
   "id": "b758ab11-cf63-470c-9e89-3a0e87725187",
   "metadata": {},
   "outputs": [
    {
     "ename": "AttributeError",
     "evalue": "'Student' object has no attribute 'first'",
     "output_type": "error",
     "traceback": [
      "\u001b[1;31m---------------------------------------------------------------------------\u001b[0m",
      "\u001b[1;31mAttributeError\u001b[0m                            Traceback (most recent call last)",
      "Cell \u001b[1;32mIn[147], line 1\u001b[0m\n\u001b[1;32m----> 1\u001b[0m \u001b[38;5;28mprint\u001b[39m(s3\u001b[38;5;241m.\u001b[39mfirst)\n",
      "\u001b[1;31mAttributeError\u001b[0m: 'Student' object has no attribute 'first'"
     ]
    }
   ],
   "source": [
    "print(s3.first)"
   ]
  },
  {
   "cell_type": "code",
   "execution_count": 148,
   "id": "1efd82f3-686f-4a8a-bff6-554936fa9674",
   "metadata": {},
   "outputs": [
    {
     "name": "stdout",
     "output_type": "stream",
     "text": [
      "Reyes\n"
     ]
    }
   ],
   "source": [
    "print(s3.last)"
   ]
  },
  {
   "cell_type": "code",
   "execution_count": 149,
   "id": "1e4782b1-9433-49e6-842f-4149b81a1dd8",
   "metadata": {},
   "outputs": [
    {
     "ename": "AttributeError",
     "evalue": "'Student' object has no attribute 'first'",
     "output_type": "error",
     "traceback": [
      "\u001b[1;31m---------------------------------------------------------------------------\u001b[0m",
      "\u001b[1;31mAttributeError\u001b[0m                            Traceback (most recent call last)",
      "Cell \u001b[1;32mIn[149], line 1\u001b[0m\n\u001b[1;32m----> 1\u001b[0m \u001b[38;5;28mprint\u001b[39m(s3\u001b[38;5;241m.\u001b[39mfullname())\n",
      "Cell \u001b[1;32mIn[138], line 8\u001b[0m, in \u001b[0;36mStudent.fullname\u001b[1;34m(self)\u001b[0m\n\u001b[0;32m      7\u001b[0m \u001b[38;5;28;01mdef\u001b[39;00m \u001b[38;5;21mfullname\u001b[39m(\u001b[38;5;28mself\u001b[39m):\n\u001b[1;32m----> 8\u001b[0m     \u001b[38;5;28;01mreturn\u001b[39;00m \u001b[38;5;124m'\u001b[39m\u001b[38;5;132;01m{}\u001b[39;00m\u001b[38;5;124m \u001b[39m\u001b[38;5;132;01m{}\u001b[39;00m\u001b[38;5;124m'\u001b[39m\u001b[38;5;241m.\u001b[39mformat(\u001b[38;5;28mself\u001b[39m\u001b[38;5;241m.\u001b[39mfirst, \u001b[38;5;28mself\u001b[39m\u001b[38;5;241m.\u001b[39mlast)\n",
      "\u001b[1;31mAttributeError\u001b[0m: 'Student' object has no attribute 'first'"
     ]
    }
   ],
   "source": [
    "print(s3.fullname())"
   ]
  },
  {
   "cell_type": "code",
   "execution_count": 150,
   "id": "5d415d21-f77d-4c3c-afab-aab27c36540b",
   "metadata": {},
   "outputs": [],
   "source": [
    "class Student:\n",
    "    def __init__(self, first, last):\n",
    "        self.first = first\n",
    "        self.last = last\n",
    "        self.mail = first + \".\" + last + \"@xyz.com\"\n",
    "        \n",
    "    def fullname(self):\n",
    "        return '{} {}'.format(self.first, self.last)\n",
    "    \n",
    "    def uppercase(self):\n",
    "        self.first = self.first.upper()\n",
    "        self.last = self.last.upper()"
   ]
  },
  {
   "cell_type": "code",
   "execution_count": 151,
   "id": "0e832c5e-4cfd-4de1-aca0-410d72b216b2",
   "metadata": {},
   "outputs": [],
   "source": [
    "s1 = Student('Anthony', 'Hopkins')\n",
    "s2 = Student('John', 'Smith')"
   ]
  },
  {
   "cell_type": "code",
   "execution_count": 152,
   "id": "a2656960-a6ec-4282-9289-42dd44558898",
   "metadata": {},
   "outputs": [
    {
     "data": {
      "text/plain": [
       "'Anthony Hopkins'"
      ]
     },
     "execution_count": 152,
     "metadata": {},
     "output_type": "execute_result"
    }
   ],
   "source": [
    "s1.fullname()"
   ]
  },
  {
   "cell_type": "code",
   "execution_count": 153,
   "id": "99b3e516-ffc2-434f-9066-242eb1192b8b",
   "metadata": {},
   "outputs": [
    {
     "data": {
      "text/plain": [
       "'John Smith'"
      ]
     },
     "execution_count": 153,
     "metadata": {},
     "output_type": "execute_result"
    }
   ],
   "source": [
    "s2.fullname()"
   ]
  },
  {
   "cell_type": "code",
   "execution_count": 154,
   "id": "bfcf7636-07d8-4cbb-8a7c-d11cd1ce777e",
   "metadata": {},
   "outputs": [],
   "source": [
    "s1.uppercase()"
   ]
  },
  {
   "cell_type": "code",
   "execution_count": 155,
   "id": "8b6f8094-150c-470d-bc21-a301798a65b8",
   "metadata": {},
   "outputs": [
    {
     "data": {
      "text/plain": [
       "'ANTHONY HOPKINS'"
      ]
     },
     "execution_count": 155,
     "metadata": {},
     "output_type": "execute_result"
    }
   ],
   "source": [
    "s1.fullname()"
   ]
  },
  {
   "cell_type": "code",
   "execution_count": 156,
   "id": "eca86638-d430-4206-9909-b7fec7ec1c4a",
   "metadata": {},
   "outputs": [
    {
     "data": {
      "text/plain": [
       "'John Smith'"
      ]
     },
     "execution_count": 156,
     "metadata": {},
     "output_type": "execute_result"
    }
   ],
   "source": [
    "s2.fullname()"
   ]
  },
  {
   "cell_type": "markdown",
   "id": "5f456321-ec1d-4a95-bdf6-9ee2ec59f5b7",
   "metadata": {},
   "source": [
    "## Class Variables"
   ]
  },
  {
   "cell_type": "code",
   "execution_count": 157,
   "id": "ae7176f1-ea1c-448f-b8bb-61ac303d1f6a",
   "metadata": {},
   "outputs": [],
   "source": [
    "class Competition:\n",
    "    # the class variable is le raise_amount\n",
    "    raise_amount = 1.04\n",
    "    def __init__(self, name, prize):\n",
    "\n",
    "        self.name = name\n",
    "        self.prize = prize\n",
    "        \n",
    "    def raise_prize(self):\n",
    "        self.prize = self.prize * raise_amount"
   ]
  },
  {
   "cell_type": "code",
   "execution_count": 158,
   "id": "d9747fa4-55a8-4f08-80bc-781e3801923c",
   "metadata": {},
   "outputs": [
    {
     "name": "stdout",
     "output_type": "stream",
     "text": [
      "1.04\n"
     ]
    }
   ],
   "source": [
    "debate = Competition('Debate', 500)\n",
    "\n",
    "print(debate.raise_amount)"
   ]
  },
  {
   "cell_type": "code",
   "execution_count": 159,
   "id": "92a822ce-20b5-4f38-8b01-44acce4bddb4",
   "metadata": {},
   "outputs": [
    {
     "data": {
      "text/plain": [
       "1.04"
      ]
     },
     "execution_count": 159,
     "metadata": {},
     "output_type": "execute_result"
    }
   ],
   "source": [
    "Competition.raise_amount"
   ]
  },
  {
   "cell_type": "code",
   "execution_count": 160,
   "id": "7e55e58f-b611-451d-a402-29356a3093c8",
   "metadata": {},
   "outputs": [
    {
     "ename": "NameError",
     "evalue": "name 'raise_amount' is not defined",
     "output_type": "error",
     "traceback": [
      "\u001b[1;31m---------------------------------------------------------------------------\u001b[0m",
      "\u001b[1;31mNameError\u001b[0m                                 Traceback (most recent call last)",
      "Cell \u001b[1;32mIn[160], line 1\u001b[0m\n\u001b[1;32m----> 1\u001b[0m debate\u001b[38;5;241m.\u001b[39mraise_prize()\n",
      "Cell \u001b[1;32mIn[157], line 10\u001b[0m, in \u001b[0;36mCompetition.raise_prize\u001b[1;34m(self)\u001b[0m\n\u001b[0;32m      9\u001b[0m \u001b[38;5;28;01mdef\u001b[39;00m \u001b[38;5;21mraise_prize\u001b[39m(\u001b[38;5;28mself\u001b[39m):\n\u001b[1;32m---> 10\u001b[0m     \u001b[38;5;28mself\u001b[39m\u001b[38;5;241m.\u001b[39mprize \u001b[38;5;241m=\u001b[39m \u001b[38;5;28mself\u001b[39m\u001b[38;5;241m.\u001b[39mprize \u001b[38;5;241m*\u001b[39m raise_amount\n",
      "\u001b[1;31mNameError\u001b[0m: name 'raise_amount' is not defined"
     ]
    }
   ],
   "source": [
    "debate.raise_prize()"
   ]
  },
  {
   "cell_type": "code",
   "execution_count": 161,
   "id": "b5720a47-32fc-4815-881d-e3f606e2acb4",
   "metadata": {},
   "outputs": [],
   "source": [
    "class Competition:\n",
    "    \n",
    "    raise_amount = 1.04\n",
    "    \n",
    "    def __init__(self, name, prize):\n",
    "        \n",
    "        self.name = name \n",
    "        self.prize = prize \n",
    "        \n",
    "    def raise_prize(self):\n",
    "\n",
    "        self.prize = self.prize * Competition.raise_amount"
   ]
  },
  {
   "cell_type": "code",
   "execution_count": 162,
   "id": "2ea80512-89dd-4cff-bf27-512901f2b27a",
   "metadata": {},
   "outputs": [],
   "source": [
    "essay = Competition('Essay', 500)"
   ]
  },
  {
   "cell_type": "code",
   "execution_count": 163,
   "id": "5d6fa7fd-a20c-4e86-abc5-1c0913ee5a98",
   "metadata": {},
   "outputs": [
    {
     "data": {
      "text/plain": [
       "500"
      ]
     },
     "execution_count": 163,
     "metadata": {},
     "output_type": "execute_result"
    }
   ],
   "source": [
    "essay.prize"
   ]
  },
  {
   "cell_type": "code",
   "execution_count": 164,
   "id": "25a0925e-2b1c-4812-acf8-012391451dcb",
   "metadata": {},
   "outputs": [
    {
     "data": {
      "text/plain": [
       "520.0"
      ]
     },
     "execution_count": 164,
     "metadata": {},
     "output_type": "execute_result"
    }
   ],
   "source": [
    "essay.raise_prize()\n",
    "\n",
    "essay.prize"
   ]
  },
  {
   "cell_type": "code",
   "execution_count": 165,
   "id": "6d9531f2-5fc2-435e-ad5f-a7de2915a063",
   "metadata": {},
   "outputs": [],
   "source": [
    "class Competition:\n",
    "    \n",
    "    raise_amount = 1.04\n",
    "    \n",
    "    def __init__(self, name, prize):\n",
    "        self.name = name                                                  \n",
    "        self.prize = prize                         \n",
    "\n",
    "    def raise_prize(self): \n",
    "        self.prize = int( self.prize)  * self.raise_amount       "
   ]
  },
  {
   "cell_type": "code",
   "execution_count": 166,
   "id": "b5692956-963e-48f6-8705-64ff746dab2a",
   "metadata": {},
   "outputs": [
    {
     "data": {
      "text/plain": [
       "100"
      ]
     },
     "execution_count": 166,
     "metadata": {},
     "output_type": "execute_result"
    }
   ],
   "source": [
    "simulation = Competition('Simulation', 100)\n",
    "simulation.prize"
   ]
  },
  {
   "cell_type": "code",
   "execution_count": 167,
   "id": "6ebc61fb-4d8a-4104-a3f2-67f13f73de7c",
   "metadata": {},
   "outputs": [
    {
     "data": {
      "text/plain": [
       "104.0"
      ]
     },
     "execution_count": 167,
     "metadata": {},
     "output_type": "execute_result"
    }
   ],
   "source": [
    "simulation.raise_prize()\n",
    "simulation.prize"
   ]
  },
  {
   "cell_type": "code",
   "execution_count": 168,
   "id": "071dbab8-a7ea-4d68-a50e-6063f09c3616",
   "metadata": {},
   "outputs": [
    {
     "data": {
      "text/plain": [
       "1.04"
      ]
     },
     "execution_count": 168,
     "metadata": {},
     "output_type": "execute_result"
    }
   ],
   "source": [
    "Competition.raise_amount"
   ]
  },
  {
   "cell_type": "code",
   "execution_count": 169,
   "id": "4a67b7a1-e975-49a7-ba67-a3e86fd394d8",
   "metadata": {},
   "outputs": [
    {
     "data": {
      "text/plain": [
       "1.04"
      ]
     },
     "execution_count": 169,
     "metadata": {},
     "output_type": "execute_result"
    }
   ],
   "source": [
    "simulation.raise_amount"
   ]
  },
  {
   "cell_type": "code",
   "execution_count": 170,
   "id": "20486c62-c0ad-4a2e-b46b-daf00d0a1298",
   "metadata": {},
   "outputs": [
    {
     "data": {
      "text/plain": [
       "{'name': 'Simulation', 'prize': 104.0}"
      ]
     },
     "execution_count": 170,
     "metadata": {},
     "output_type": "execute_result"
    }
   ],
   "source": [
    "simulation.__dict__"
   ]
  },
  {
   "cell_type": "code",
   "execution_count": 171,
   "id": "5cb4126d-f968-4c84-9abd-1c79aa60ef85",
   "metadata": {},
   "outputs": [
    {
     "data": {
      "text/plain": [
       "mappingproxy({'__module__': '__main__',\n",
       "              'raise_amount': 1.04,\n",
       "              '__init__': <function __main__.Competition.__init__(self, name, prize)>,\n",
       "              'raise_prize': <function __main__.Competition.raise_prize(self)>,\n",
       "              '__dict__': <attribute '__dict__' of 'Competition' objects>,\n",
       "              '__weakref__': <attribute '__weakref__' of 'Competition' objects>,\n",
       "              '__doc__': None})"
      ]
     },
     "execution_count": 171,
     "metadata": {},
     "output_type": "execute_result"
    }
   ],
   "source": [
    "Competition.__dict__"
   ]
  },
  {
   "cell_type": "code",
   "execution_count": 172,
   "id": "af2e80b1-e97c-40f1-9d0a-61978976845b",
   "metadata": {},
   "outputs": [
    {
     "data": {
      "text/plain": [
       "1.04"
      ]
     },
     "execution_count": 172,
     "metadata": {},
     "output_type": "execute_result"
    }
   ],
   "source": [
    "racing = Competition('Racing', 1000)\n",
    "racing.raise_amount"
   ]
  },
  {
   "cell_type": "code",
   "execution_count": 173,
   "id": "55d5e8ce-4687-4162-bac8-f5520e8391e9",
   "metadata": {},
   "outputs": [
    {
     "data": {
      "text/plain": [
       "1.05"
      ]
     },
     "execution_count": 173,
     "metadata": {},
     "output_type": "execute_result"
    }
   ],
   "source": [
    "Competition.raise_amount = 1.05\n",
    "Competition.raise_amount #changed the raise amount"
   ]
  },
  {
   "cell_type": "code",
   "execution_count": 174,
   "id": "6541d0f7-6f49-4eb8-8030-54b2cc37a1a2",
   "metadata": {},
   "outputs": [
    {
     "data": {
      "text/plain": [
       "(1.05, 10, 1.05)"
      ]
     },
     "execution_count": 174,
     "metadata": {},
     "output_type": "execute_result"
    }
   ],
   "source": [
    "simulation.raise_amount = 10\n",
    "Competition.raise_amount, simulation.raise_amount, racing.raise_amount"
   ]
  },
  {
   "cell_type": "code",
   "execution_count": 175,
   "id": "7ba63ac7-dd95-479d-8436-5f2c9f9edcd8",
   "metadata": {},
   "outputs": [
    {
     "data": {
      "text/plain": [
       "(1.05, 10, 20)"
      ]
     },
     "execution_count": 175,
     "metadata": {},
     "output_type": "execute_result"
    }
   ],
   "source": [
    "racing.raise_amount = 20\n",
    "\n",
    "Competition.raise_amount, simulation.raise_amount, racing.raise_amount"
   ]
  },
  {
   "cell_type": "code",
   "execution_count": 176,
   "id": "a252777f-6302-4abd-832c-c6ecaa929f43",
   "metadata": {},
   "outputs": [
    {
     "data": {
      "text/plain": [
       "mappingproxy({'__module__': '__main__',\n",
       "              'raise_amount': 1.05,\n",
       "              '__init__': <function __main__.Competition.__init__(self, name, prize)>,\n",
       "              'raise_prize': <function __main__.Competition.raise_prize(self)>,\n",
       "              '__dict__': <attribute '__dict__' of 'Competition' objects>,\n",
       "              '__weakref__': <attribute '__weakref__' of 'Competition' objects>,\n",
       "              '__doc__': None})"
      ]
     },
     "execution_count": 176,
     "metadata": {},
     "output_type": "execute_result"
    }
   ],
   "source": [
    "Competition.__dict__"
   ]
  },
  {
   "cell_type": "code",
   "execution_count": 177,
   "id": "d07304f6-28b8-4e22-9784-f5de9dde207b",
   "metadata": {},
   "outputs": [
    {
     "data": {
      "text/plain": [
       "{'name': 'Simulation', 'prize': 104.0, 'raise_amount': 10}"
      ]
     },
     "execution_count": 177,
     "metadata": {},
     "output_type": "execute_result"
    }
   ],
   "source": [
    "simulation.__dict__"
   ]
  },
  {
   "cell_type": "code",
   "execution_count": 178,
   "id": "8739e154-5ba7-4a3f-accb-dbabff273fe1",
   "metadata": {},
   "outputs": [
    {
     "data": {
      "text/plain": [
       "{'name': 'Racing', 'prize': 1000, 'raise_amount': 20}"
      ]
     },
     "execution_count": 178,
     "metadata": {},
     "output_type": "execute_result"
    }
   ],
   "source": [
    "racing.__dict__"
   ]
  },
  {
   "cell_type": "code",
   "execution_count": 179,
   "id": "4670c248-d202-442a-a4dc-c3b923919822",
   "metadata": {},
   "outputs": [],
   "source": [
    "#class variables are shared among all instances but instance variables are unique for every instance of a class"
   ]
  },
  {
   "cell_type": "code",
   "execution_count": 180,
   "id": "04e14104-c8b2-4b39-91cf-095b5f613894",
   "metadata": {},
   "outputs": [],
   "source": [
    "class Competition:\n",
    "    participants = []\n",
    "    def __init__(self, name, prize):\n",
    "        self.name = name\n",
    "        self.prize = prize\n",
    "        "
   ]
  },
  {
   "cell_type": "code",
   "execution_count": 181,
   "id": "5888da67-e097-4a2d-a06c-b56d4443c7f1",
   "metadata": {},
   "outputs": [
    {
     "data": {
      "text/plain": [
       "[]"
      ]
     },
     "execution_count": 181,
     "metadata": {},
     "output_type": "execute_result"
    }
   ],
   "source": [
    "debate = Competition('Debate', 500)\n",
    "debate.participants"
   ]
  },
  {
   "cell_type": "code",
   "execution_count": 182,
   "id": "a4dac8a3-75c3-48bd-a243-727c118da9d5",
   "metadata": {},
   "outputs": [
    {
     "data": {
      "text/plain": [
       "['John']"
      ]
     },
     "execution_count": 182,
     "metadata": {},
     "output_type": "execute_result"
    }
   ],
   "source": [
    "Competition.participants.append('John')\n",
    "Competition.participants"
   ]
  },
  {
   "cell_type": "code",
   "execution_count": 183,
   "id": "7634e6fa-6246-4a36-8c6c-29f34ecd00dd",
   "metadata": {},
   "outputs": [
    {
     "data": {
      "text/plain": [
       "['John']"
      ]
     },
     "execution_count": 183,
     "metadata": {},
     "output_type": "execute_result"
    }
   ],
   "source": [
    "Competition.participants"
   ]
  },
  {
   "cell_type": "code",
   "execution_count": 184,
   "id": "d71fa9eb-0130-4d30-b3c1-b8bec8bb1d34",
   "metadata": {},
   "outputs": [
    {
     "data": {
      "text/plain": [
       "['John', 'Alice']"
      ]
     },
     "execution_count": 184,
     "metadata": {},
     "output_type": "execute_result"
    }
   ],
   "source": [
    "debate.participants.append('Alice')\n",
    "debate.participants\n",
    "Competition.participants"
   ]
  },
  {
   "cell_type": "code",
   "execution_count": 185,
   "id": "849686ac-1c08-4803-90c3-f121a3ba107a",
   "metadata": {},
   "outputs": [
    {
     "data": {
      "text/plain": [
       "['John', 'Alice']"
      ]
     },
     "execution_count": 185,
     "metadata": {},
     "output_type": "execute_result"
    }
   ],
   "source": [
    "essay = Competition('Essay', 456)\n",
    "essay.participants"
   ]
  },
  {
   "cell_type": "code",
   "execution_count": 186,
   "id": "36bedcf0-ad32-4270-a121-17d0770e4c87",
   "metadata": {},
   "outputs": [
    {
     "data": {
      "text/plain": [
       "['John', 'Alice', 'Lily']"
      ]
     },
     "execution_count": 186,
     "metadata": {},
     "output_type": "execute_result"
    }
   ],
   "source": [
    "debate.participants.append('Lily')\n",
    "debate.participants"
   ]
  },
  {
   "cell_type": "code",
   "execution_count": 187,
   "id": "92fdba12-a466-47a9-8960-9ad28c7badd7",
   "metadata": {},
   "outputs": [
    {
     "data": {
      "text/plain": [
       "['John', 'Alice', 'Lily']"
      ]
     },
     "execution_count": 187,
     "metadata": {},
     "output_type": "execute_result"
    }
   ],
   "source": [
    "essay.participants"
   ]
  },
  {
   "cell_type": "code",
   "execution_count": 188,
   "id": "dda489e5-c26e-4d8e-a5c6-93aa33fae465",
   "metadata": {},
   "outputs": [
    {
     "data": {
      "text/plain": [
       "mappingproxy({'__module__': '__main__',\n",
       "              'participants': ['John', 'Alice', 'Lily'],\n",
       "              '__init__': <function __main__.Competition.__init__(self, name, prize)>,\n",
       "              '__dict__': <attribute '__dict__' of 'Competition' objects>,\n",
       "              '__weakref__': <attribute '__weakref__' of 'Competition' objects>,\n",
       "              '__doc__': None})"
      ]
     },
     "execution_count": 188,
     "metadata": {},
     "output_type": "execute_result"
    }
   ],
   "source": [
    "Competition.__dict__"
   ]
  },
  {
   "cell_type": "code",
   "execution_count": 189,
   "id": "dfed66c3-dfbb-46c1-822e-09856abf23dc",
   "metadata": {},
   "outputs": [
    {
     "data": {
      "text/plain": [
       "{'name': 'Debate', 'prize': 500}"
      ]
     },
     "execution_count": 189,
     "metadata": {},
     "output_type": "execute_result"
    }
   ],
   "source": [
    "debate.__dict__"
   ]
  },
  {
   "cell_type": "code",
   "execution_count": 190,
   "id": "c0b0477b-ec0a-4708-8131-22a3c1b54fc0",
   "metadata": {},
   "outputs": [
    {
     "data": {
      "text/plain": [
       "{'name': 'Essay', 'prize': 456}"
      ]
     },
     "execution_count": 190,
     "metadata": {},
     "output_type": "execute_result"
    }
   ],
   "source": [
    "essay.__dict__"
   ]
  },
  {
   "cell_type": "code",
   "execution_count": 191,
   "id": "1ac4d4ac-9c19-46e0-9ed9-47a5d86dfc44",
   "metadata": {},
   "outputs": [],
   "source": [
    "class Competition:\n",
    "    \n",
    "    def __init__(self, name, prize):\n",
    "        self.name = name\n",
    "        self.prize = prize\n",
    "        self.participants = []"
   ]
  },
  {
   "cell_type": "code",
   "execution_count": 192,
   "id": "248b94ee-75af-40ec-9ea4-b46c7ddc3031",
   "metadata": {},
   "outputs": [
    {
     "data": {
      "text/plain": [
       "[]"
      ]
     },
     "execution_count": 192,
     "metadata": {},
     "output_type": "execute_result"
    }
   ],
   "source": [
    "debate = Competition('Debate', 500)\n",
    "debate.participants"
   ]
  },
  {
   "cell_type": "code",
   "execution_count": 193,
   "id": "d72e6bbd-3d2d-4f51-a1c2-15cd2e87ec2f",
   "metadata": {},
   "outputs": [
    {
     "ename": "AttributeError",
     "evalue": "type object 'Competition' has no attribute 'participants'",
     "output_type": "error",
     "traceback": [
      "\u001b[1;31m---------------------------------------------------------------------------\u001b[0m",
      "\u001b[1;31mAttributeError\u001b[0m                            Traceback (most recent call last)",
      "Cell \u001b[1;32mIn[193], line 1\u001b[0m\n\u001b[1;32m----> 1\u001b[0m Competition\u001b[38;5;241m.\u001b[39mparticipants\n",
      "\u001b[1;31mAttributeError\u001b[0m: type object 'Competition' has no attribute 'participants'"
     ]
    }
   ],
   "source": [
    "Competition.participants"
   ]
  },
  {
   "cell_type": "code",
   "execution_count": 194,
   "id": "33ec15e5-e2e3-461f-8252-c739295b2d39",
   "metadata": {},
   "outputs": [
    {
     "data": {
      "text/plain": [
       "['Alice']"
      ]
     },
     "execution_count": 194,
     "metadata": {},
     "output_type": "execute_result"
    }
   ],
   "source": [
    "debate.participants.append('Alice')\n",
    "debate.participants"
   ]
  },
  {
   "cell_type": "code",
   "execution_count": 195,
   "id": "66febb65-d4a2-40c2-b2ec-3c5850a832ab",
   "metadata": {},
   "outputs": [
    {
     "data": {
      "text/plain": [
       "[]"
      ]
     },
     "execution_count": 195,
     "metadata": {},
     "output_type": "execute_result"
    }
   ],
   "source": [
    "essay = Competition('Essay', 456)\n",
    "essay.participants"
   ]
  },
  {
   "cell_type": "code",
   "execution_count": 196,
   "id": "6534adc7-8210-4df6-b7aa-8e917462e520",
   "metadata": {},
   "outputs": [
    {
     "data": {
      "text/plain": [
       "['Michael']"
      ]
     },
     "execution_count": 196,
     "metadata": {},
     "output_type": "execute_result"
    }
   ],
   "source": [
    "essay.participants.append('Michael')\n",
    "essay.participants"
   ]
  },
  {
   "cell_type": "code",
   "execution_count": 197,
   "id": "b0291f87-a79a-43ec-a98f-c04504f4d4f9",
   "metadata": {},
   "outputs": [
    {
     "data": {
      "text/plain": [
       "['Alice']"
      ]
     },
     "execution_count": 197,
     "metadata": {},
     "output_type": "execute_result"
    }
   ],
   "source": [
    "debate.participants"
   ]
  },
  {
   "cell_type": "code",
   "execution_count": 198,
   "id": "53469b68-762a-4fbf-a153-5076f3fd1f30",
   "metadata": {},
   "outputs": [
    {
     "data": {
      "text/plain": [
       "['Alice', 'Lily']"
      ]
     },
     "execution_count": 198,
     "metadata": {},
     "output_type": "execute_result"
    }
   ],
   "source": [
    "debate.participants.append('Lily')\n",
    "debate.participants"
   ]
  },
  {
   "cell_type": "code",
   "execution_count": 199,
   "id": "d7a665e9-455c-4bf0-bb12-c1988fdc9fae",
   "metadata": {},
   "outputs": [
    {
     "data": {
      "text/plain": [
       "['Michael']"
      ]
     },
     "execution_count": 199,
     "metadata": {},
     "output_type": "execute_result"
    }
   ],
   "source": [
    "essay.participants"
   ]
  },
  {
   "cell_type": "code",
   "execution_count": 200,
   "id": "d97898d7-60f8-4ceb-a3f4-952b202d8286",
   "metadata": {},
   "outputs": [
    {
     "data": {
      "text/plain": [
       "mappingproxy({'__module__': '__main__',\n",
       "              '__init__': <function __main__.Competition.__init__(self, name, prize)>,\n",
       "              '__dict__': <attribute '__dict__' of 'Competition' objects>,\n",
       "              '__weakref__': <attribute '__weakref__' of 'Competition' objects>,\n",
       "              '__doc__': None})"
      ]
     },
     "execution_count": 200,
     "metadata": {},
     "output_type": "execute_result"
    }
   ],
   "source": [
    "Competition.__dict__"
   ]
  },
  {
   "cell_type": "code",
   "execution_count": 201,
   "id": "0fc8fc2d-b345-4d35-8d60-ecbcc8ba8094",
   "metadata": {},
   "outputs": [
    {
     "data": {
      "text/plain": [
       "{'name': 'Debate', 'prize': 500, 'participants': ['Alice', 'Lily']}"
      ]
     },
     "execution_count": 201,
     "metadata": {},
     "output_type": "execute_result"
    }
   ],
   "source": [
    "debate.__dict__"
   ]
  },
  {
   "cell_type": "code",
   "execution_count": 202,
   "id": "09cd801d-46a4-4757-be26-f88a6f657590",
   "metadata": {},
   "outputs": [
    {
     "data": {
      "text/plain": [
       "{'name': 'Essay', 'prize': 456, 'participants': ['Michael']}"
      ]
     },
     "execution_count": 202,
     "metadata": {},
     "output_type": "execute_result"
    }
   ],
   "source": [
    "essay.__dict__"
   ]
  },
  {
   "cell_type": "markdown",
   "id": "baaed5b6-0c24-4b68-b20c-965982b7fa96",
   "metadata": {},
   "source": [
    "## Private Variables"
   ]
  },
  {
   "cell_type": "code",
   "execution_count": 203,
   "id": "0f7514c8-f38f-4ee3-8794-8f784f7af12a",
   "metadata": {},
   "outputs": [],
   "source": [
    "class Dog:\n",
    "    def __init__(self, name, breed):\n",
    "        self.name = name\n",
    "        self.breed = breed\n",
    "    def print_details(self):\n",
    "        print('My name is %s and I am a %s' % (self.name, self.breed))"
   ]
  },
  {
   "cell_type": "code",
   "execution_count": 206,
   "id": "e1c5c3cb-2a8f-4c7d-b577-0cafbcb0ceab",
   "metadata": {},
   "outputs": [
    {
     "name": "stdout",
     "output_type": "stream",
     "text": [
      "My name is Jaeger and I am a Corgi\n"
     ]
    }
   ],
   "source": [
    "d1 = Dog('Jaeger', 'Corgi')\n",
    "d1.print_details()"
   ]
  },
  {
   "cell_type": "code",
   "execution_count": 207,
   "id": "9f91c25b-fe8b-4445-8091-24853b8e0168",
   "metadata": {},
   "outputs": [
    {
     "name": "stdout",
     "output_type": "stream",
     "text": [
      "My name is Nemo and I am a Corgi\n"
     ]
    }
   ],
   "source": [
    "d1.name = 'Nemo'\n",
    "d1.print_details()"
   ]
  },
  {
   "cell_type": "code",
   "execution_count": 208,
   "id": "6f923a4b-8fd4-40ec-ad54-e36b05a4907c",
   "metadata": {},
   "outputs": [
    {
     "name": "stdout",
     "output_type": "stream",
     "text": [
      "My name is Nemo and I am a Golden Retriever\n"
     ]
    }
   ],
   "source": [
    "d1.breed = 'Golden Retriever'\n",
    "d1.print_details()"
   ]
  },
  {
   "cell_type": "code",
   "execution_count": 209,
   "id": "d6b1e6ad-6ad6-41c4-9b8b-3610b0d4f23f",
   "metadata": {},
   "outputs": [
    {
     "data": {
      "text/plain": [
       "mappingproxy({'__module__': '__main__',\n",
       "              '__init__': <function __main__.Dog.__init__(self, name, breed)>,\n",
       "              'print_details': <function __main__.Dog.print_details(self)>,\n",
       "              '__dict__': <attribute '__dict__' of 'Dog' objects>,\n",
       "              '__weakref__': <attribute '__weakref__' of 'Dog' objects>,\n",
       "              '__doc__': None})"
      ]
     },
     "execution_count": 209,
     "metadata": {},
     "output_type": "execute_result"
    }
   ],
   "source": [
    "Dog.__dict__"
   ]
  },
  {
   "cell_type": "code",
   "execution_count": 210,
   "id": "6493c9df-2d8e-4403-8f12-5122140c60d1",
   "metadata": {},
   "outputs": [
    {
     "data": {
      "text/plain": [
       "{'name': 'Nemo', 'breed': 'Golden Retriever'}"
      ]
     },
     "execution_count": 210,
     "metadata": {},
     "output_type": "execute_result"
    }
   ],
   "source": [
    "d1.__dict__"
   ]
  },
  {
   "cell_type": "code",
   "execution_count": 211,
   "id": "66a166b6-c863-4019-a8cb-6042dc433522",
   "metadata": {},
   "outputs": [],
   "source": [
    "class Dog:\n",
    "    def __init__(self, name, breed):\n",
    "        self.__name = name\n",
    "        self.__breed = breed\n",
    "    def print_details(self):\n",
    "        print('My name is %s and I am a %s' % (self.__name, self.__breed))"
   ]
  },
  {
   "cell_type": "code",
   "execution_count": 212,
   "id": "68e0fe95-260f-4c7b-9332-5918bcf8c945",
   "metadata": {},
   "outputs": [
    {
     "name": "stdout",
     "output_type": "stream",
     "text": [
      "My name is Moje and I am a Golden Retriever\n"
     ]
    }
   ],
   "source": [
    "d1 = Dog('Moje', 'Golden Retriever')\n",
    "d1.print_details()"
   ]
  },
  {
   "cell_type": "code",
   "execution_count": 213,
   "id": "7df3df74-0cca-4a47-bbdf-2fc6601bb9ba",
   "metadata": {},
   "outputs": [
    {
     "data": {
      "text/plain": [
       "{'_Dog__name': 'Moje', '_Dog__breed': 'Golden Retriever'}"
      ]
     },
     "execution_count": 213,
     "metadata": {},
     "output_type": "execute_result"
    }
   ],
   "source": [
    "d1.__dict__"
   ]
  },
  {
   "cell_type": "code",
   "execution_count": 214,
   "id": "9a82ec90-0956-443f-9830-e80b8a952db9",
   "metadata": {},
   "outputs": [
    {
     "name": "stdout",
     "output_type": "stream",
     "text": [
      "My name is Moje and I am a Golden Retriever\n"
     ]
    }
   ],
   "source": [
    "d1.__name = \"Oba\"\n",
    "d1.print_details()"
   ]
  },
  {
   "cell_type": "code",
   "execution_count": 215,
   "id": "922b12e5-07c2-49d7-b3da-0baedab06999",
   "metadata": {},
   "outputs": [
    {
     "data": {
      "text/plain": [
       "{'_Dog__name': 'Moje', '_Dog__breed': 'Golden Retriever', '__name': 'Oba'}"
      ]
     },
     "execution_count": 215,
     "metadata": {},
     "output_type": "execute_result"
    }
   ],
   "source": [
    "d1.__dict__"
   ]
  },
  {
   "cell_type": "code",
   "execution_count": 216,
   "id": "973a40be-b380-462a-80dd-1cb7e2c518a8",
   "metadata": {},
   "outputs": [
    {
     "name": "stdout",
     "output_type": "stream",
     "text": [
      "My name is Moje and I am a Husky\n"
     ]
    }
   ],
   "source": [
    "d1._Dog__breed = 'Husky'\n",
    "d1.print_details()"
   ]
  },
  {
   "cell_type": "code",
   "execution_count": 217,
   "id": "741b1eac-4555-40f9-a88b-99723c820b3b",
   "metadata": {},
   "outputs": [],
   "source": [
    "class Dog:\n",
    "    def __init__(self, name, breed):\n",
    "        self.__name = name\n",
    "        self.__breed = breed\n",
    "    \n",
    "    def print_details(self):\n",
    "        print('My name is %s and I am a %s' % (self.__name, self.__breed))\n",
    "        \n",
    "    def change_name(self, name):\n",
    "        self.__name = name"
   ]
  },
  {
   "cell_type": "code",
   "execution_count": 218,
   "id": "e1df3883-163b-46c0-b5db-940399c1b4f7",
   "metadata": {},
   "outputs": [
    {
     "name": "stdout",
     "output_type": "stream",
     "text": [
      "My name is Nemo and I am a Husky\n"
     ]
    }
   ],
   "source": [
    "d1 = Dog('Nemo', 'Husky')\n",
    "d1.print_details()"
   ]
  },
  {
   "cell_type": "code",
   "execution_count": 219,
   "id": "3486761e-204c-4b90-bbb2-f80489c7e515",
   "metadata": {},
   "outputs": [
    {
     "name": "stdout",
     "output_type": "stream",
     "text": [
      "My name is Oba and I am a Husky\n"
     ]
    }
   ],
   "source": [
    "d1.change_name(\"Oba\")\n",
    "d1.print_details()"
   ]
  },
  {
   "cell_type": "code",
   "execution_count": 220,
   "id": "ede86e9c-8db7-4139-9bbb-7de97e633881",
   "metadata": {},
   "outputs": [],
   "source": [
    "class Dog:\n",
    "    __species = 'canine'\n",
    "    def __init__(self, name, breed):\n",
    "        self.__name = name\n",
    "        self.__breed = breed\n",
    "        self.__tricks = []\n",
    "    def get_name(self):\n",
    "        return self.__name\n",
    "    def set_name(self, name):\n",
    "        self.__name = name\n",
    "    def get_breed(self):\n",
    "        return self.__breed\n",
    "    def set_breed(self, breed):\n",
    "        self.__breed = breed\n",
    "    def add_trick(self, trick):\n",
    "        self.__tricks.append(trick)\n",
    "    \n",
    "    def print_details(self):\n",
    "        print('My name is %s and I am a %s and I can do tricks! %s' % \n",
    "              (self.__name, self.__breed, self.__tricks))\n"
   ]
  },
  {
   "cell_type": "code",
   "execution_count": 221,
   "id": "20929718-2186-47e9-9aa5-d404eeadd646",
   "metadata": {},
   "outputs": [
    {
     "name": "stdout",
     "output_type": "stream",
     "text": [
      "My name is Moje and I am a Golden Retriever and I can do tricks! []\n"
     ]
    }
   ],
   "source": [
    "d1 = Dog('Moje', 'Golden Retriever')\n",
    "\n",
    "d1.print_details()"
   ]
  },
  {
   "cell_type": "code",
   "execution_count": 222,
   "id": "9a9265cf-ebc7-42a2-b62d-e769fcc30db7",
   "metadata": {},
   "outputs": [
    {
     "name": "stdout",
     "output_type": "stream",
     "text": [
      "My name is Moje and I am a Golden Retriever and I can do tricks! ['roll over']\n"
     ]
    }
   ],
   "source": [
    "d1.add_trick('roll over')\n",
    "d1.print_details()"
   ]
  },
  {
   "cell_type": "code",
   "execution_count": 223,
   "id": "9b876cb5-7a37-43e0-8a3e-1181b29fccb1",
   "metadata": {},
   "outputs": [
    {
     "name": "stdout",
     "output_type": "stream",
     "text": [
      "My name is Moje and I am a Labrador and I can do tricks! ['roll over']\n"
     ]
    }
   ],
   "source": [
    "d1.set_breed('Labrador')\n",
    "d1.print_details()"
   ]
  },
  {
   "cell_type": "code",
   "execution_count": 224,
   "id": "96f4f870-7b39-4812-9141-c99ddfbed0c8",
   "metadata": {},
   "outputs": [],
   "source": [
    "class Dog:\n",
    "    \"\"\" This is a class which defines a dog.\n",
    "        This includes cute dogs as well as ferocious dogs.\n",
    "    \"\"\"\n",
    "    \n",
    "    __species = 'canine'\n",
    "    \n",
    "    def __init__(self, name, breed):\n",
    "        self.__name = name\n",
    "        self.__breed = breed\n",
    "        self.__tricks = []\n",
    "    \n",
    "    def print_details(self):\n",
    "        print('My name is %s and I am a %s' % (self.__name, self.__breed))\n",
    "        print('Here are the tricks I can do: ', self.__tricks)\n",
    "\n",
    "    def change_name(self, name):\n",
    "        self.__name = name\n",
    "\n",
    "    def change_breed(self, breed):\n",
    "        self.__breed = breed\n",
    "\n",
    "    def change_name_and_breed(self, name, breed):\n",
    "        self.change_name(name)\n",
    "        self.change_breed(breed)\n",
    "        \n",
    "    def add_trick(self, trick):\n",
    "        self.__tricks.append(trick)"
   ]
  },
  {
   "cell_type": "code",
   "execution_count": 225,
   "id": "db70c048-b391-4f4e-ba44-1e188ffb3ac5",
   "metadata": {},
   "outputs": [
    {
     "name": "stdout",
     "output_type": "stream",
     "text": [
      "My name is Moje and I am a Golden Retriever\n",
      "Here are the tricks I can do:  []\n"
     ]
    }
   ],
   "source": [
    "d1 = Dog('Moje', 'Golden Retriever')\n",
    "d1.print_details()"
   ]
  },
  {
   "cell_type": "code",
   "execution_count": 226,
   "id": "5a03d147-19fc-4d33-9e6c-e3c289bced81",
   "metadata": {},
   "outputs": [
    {
     "name": "stdout",
     "output_type": "stream",
     "text": [
      "My name is Oba and I am a Labrador\n",
      "Here are the tricks I can do:  []\n"
     ]
    }
   ],
   "source": [
    "d1.change_name_and_breed('Oba', 'Labrador')\n",
    "d1.print_details()"
   ]
  },
  {
   "cell_type": "markdown",
   "id": "09fb0d0b-75a9-4214-8b67-9864db8e7164",
   "metadata": {},
   "source": [
    "## Subclasses & Inheritance"
   ]
  },
  {
   "cell_type": "code",
   "execution_count": 228,
   "id": "23561fcb-26d2-41c3-803d-9d15e0d27736",
   "metadata": {},
   "outputs": [],
   "source": [
    "class Shape:\n",
    "    pass\n",
    "class Shape():\n",
    "    pass\n",
    "class Shape(object):\n",
    "    pass\n",
    "class Shape:\n",
    "    def __init__(self, shape_type):\n",
    "        self.__type = shape_type\n",
    "    \n",
    "    def get_type(self):\n",
    "        return self.__type"
   ]
  },
  {
   "cell_type": "code",
   "execution_count": 229,
   "id": "f6bb8015-4c27-42f3-bc51-64e134415e2c",
   "metadata": {},
   "outputs": [
    {
     "data": {
      "text/plain": [
       "__main__.Shape"
      ]
     },
     "execution_count": 229,
     "metadata": {},
     "output_type": "execute_result"
    }
   ],
   "source": [
    "circle = Shape('circle')\n",
    "\n",
    "type(circle)"
   ]
  },
  {
   "cell_type": "code",
   "execution_count": 230,
   "id": "d7ac9467-c1a5-4ff1-9bb9-a13d64935f04",
   "metadata": {},
   "outputs": [
    {
     "data": {
      "text/plain": [
       "'circle'"
      ]
     },
     "execution_count": 230,
     "metadata": {},
     "output_type": "execute_result"
    }
   ],
   "source": [
    "circle.get_type()"
   ]
  },
  {
   "cell_type": "code",
   "execution_count": 231,
   "id": "4bb41614-4abb-4a7e-b42b-d6601fbf815d",
   "metadata": {},
   "outputs": [
    {
     "data": {
      "text/plain": [
       "__main__.Shape"
      ]
     },
     "execution_count": 231,
     "metadata": {},
     "output_type": "execute_result"
    }
   ],
   "source": [
    "square = Shape('square')\n",
    "type(square)"
   ]
  },
  {
   "cell_type": "code",
   "execution_count": 232,
   "id": "a48e6422-8108-4c7a-9e88-c49ba4a9b057",
   "metadata": {},
   "outputs": [
    {
     "data": {
      "text/plain": [
       "'square'"
      ]
     },
     "execution_count": 232,
     "metadata": {},
     "output_type": "execute_result"
    }
   ],
   "source": [
    "square.get_type()"
   ]
  },
  {
   "cell_type": "code",
   "execution_count": 233,
   "id": "ebd693e3-c571-4e05-80f3-8581908a817c",
   "metadata": {},
   "outputs": [],
   "source": [
    "class Shape:\n",
    "    def __init__(self, shape_type, color='Red'):\n",
    "        self.__type = shape_type\n",
    "        self.__color = color\n",
    "    def get_type(self):\n",
    "        return self.__type\n",
    "    def get_color(self):\n",
    "        return self.__color"
   ]
  },
  {
   "cell_type": "code",
   "execution_count": 234,
   "id": "27af575b-6623-4dc2-99bf-33b7bfe629ad",
   "metadata": {},
   "outputs": [
    {
     "data": {
      "text/plain": [
       "'Red'"
      ]
     },
     "execution_count": 234,
     "metadata": {},
     "output_type": "execute_result"
    }
   ],
   "source": [
    "circle = Shape('circle')\n",
    "circle.get_color()"
   ]
  },
  {
   "cell_type": "code",
   "execution_count": 235,
   "id": "dee56e94-abce-4884-868d-2c4f0fbacdba",
   "metadata": {},
   "outputs": [
    {
     "data": {
      "text/plain": [
       "'Blue'"
      ]
     },
     "execution_count": 235,
     "metadata": {},
     "output_type": "execute_result"
    }
   ],
   "source": [
    "square = Shape('square', color='Blue')\n",
    "square.get_color()"
   ]
  },
  {
   "cell_type": "code",
   "execution_count": 236,
   "id": "b6ce1a58-6cbd-4799-abc8-f010ececb3c8",
   "metadata": {},
   "outputs": [],
   "source": [
    "class Shape:\n",
    "    def __init__(self, shape_type, color='Red'):\n",
    "        self.__type = shape_type\n",
    "        self.__color = color\n",
    "    def get_type(self):\n",
    "        return self.__type\n",
    "    def get_color(self):\n",
    "        return self.__color\n",
    "    def get_area(self):\n",
    "        pass\n",
    "    def get_perimeter(self):\n",
    "        pass"
   ]
  },
  {
   "cell_type": "code",
   "execution_count": 237,
   "id": "afacf722-5354-4203-8b5d-736b1dcd0c30",
   "metadata": {},
   "outputs": [],
   "source": [
    "s = Shape('circle')"
   ]
  },
  {
   "cell_type": "code",
   "execution_count": 238,
   "id": "ca1cab64-dc04-4ba5-9108-ae5b0874fbef",
   "metadata": {},
   "outputs": [],
   "source": [
    "s.get_area()"
   ]
  },
  {
   "cell_type": "code",
   "execution_count": 239,
   "id": "94634e68-53b5-4243-bec5-f8881e8ce218",
   "metadata": {},
   "outputs": [],
   "source": [
    "s.get_perimeter()"
   ]
  },
  {
   "cell_type": "code",
   "execution_count": 240,
   "id": "5da39a37-a1a5-4580-8c01-62cc849ba677",
   "metadata": {},
   "outputs": [],
   "source": [
    "class Circle(Shape):\n",
    "    pass"
   ]
  },
  {
   "cell_type": "code",
   "execution_count": 241,
   "id": "98c4a043-4aea-4192-81c2-fd46f7fd28a2",
   "metadata": {},
   "outputs": [
    {
     "ename": "TypeError",
     "evalue": "Shape.__init__() missing 1 required positional argument: 'shape_type'",
     "output_type": "error",
     "traceback": [
      "\u001b[1;31m---------------------------------------------------------------------------\u001b[0m",
      "\u001b[1;31mTypeError\u001b[0m                                 Traceback (most recent call last)",
      "Cell \u001b[1;32mIn[241], line 1\u001b[0m\n\u001b[1;32m----> 1\u001b[0m circle \u001b[38;5;241m=\u001b[39m Circle()\n",
      "\u001b[1;31mTypeError\u001b[0m: Shape.__init__() missing 1 required positional argument: 'shape_type'"
     ]
    }
   ],
   "source": [
    "circle = Circle()"
   ]
  },
  {
   "cell_type": "code",
   "execution_count": 242,
   "id": "a8351164-f720-497c-85c7-3bfe70643c1a",
   "metadata": {},
   "outputs": [
    {
     "data": {
      "text/plain": [
       "__main__.Circle"
      ]
     },
     "execution_count": 242,
     "metadata": {},
     "output_type": "execute_result"
    }
   ],
   "source": [
    "circle = Circle('circle')\n",
    "type(circle)"
   ]
  },
  {
   "cell_type": "code",
   "execution_count": 243,
   "id": "5bca3579-1ab1-4cc8-8a09-c451f1713e07",
   "metadata": {},
   "outputs": [
    {
     "data": {
      "text/plain": [
       "__main__.Square"
      ]
     },
     "execution_count": 243,
     "metadata": {},
     "output_type": "execute_result"
    }
   ],
   "source": [
    "class Square(Shape):\n",
    "    pass\n",
    "square = Square('square')\n",
    "\n",
    "type(square)"
   ]
  },
  {
   "cell_type": "code",
   "execution_count": 244,
   "id": "0a883989-b069-4c1b-82f8-6cbd7090096d",
   "metadata": {},
   "outputs": [],
   "source": [
    "class Circle(Shape):\n",
    "    \n",
    "    def __init__(self):\n",
    "        Shape.__init__(self, 'circle')"
   ]
  },
  {
   "cell_type": "code",
   "execution_count": 245,
   "id": "f56e8fc3-14ed-4af9-a666-d055997b1def",
   "metadata": {},
   "outputs": [],
   "source": [
    "class Square(Shape):\n",
    "    \n",
    "    def __init__(self):\n",
    "        Shape.__init__(self, 'square')"
   ]
  },
  {
   "cell_type": "code",
   "execution_count": 246,
   "id": "4caf708b-caa9-48e7-8d7c-58075966e266",
   "metadata": {},
   "outputs": [],
   "source": [
    "circle = Circle()\n",
    "square = Square()"
   ]
  },
  {
   "cell_type": "code",
   "execution_count": 247,
   "id": "e6438e82-ac97-4fbf-9868-ce0ac71176ce",
   "metadata": {},
   "outputs": [
    {
     "data": {
      "text/plain": [
       "(__main__.Circle, __main__.Square)"
      ]
     },
     "execution_count": 247,
     "metadata": {},
     "output_type": "execute_result"
    }
   ],
   "source": [
    "type(circle), type(square)"
   ]
  },
  {
   "cell_type": "code",
   "execution_count": 248,
   "id": "b80b6c05-2ba8-42e0-838e-a5d826c1dd9c",
   "metadata": {},
   "outputs": [
    {
     "data": {
      "text/plain": [
       "('circle', 'square')"
      ]
     },
     "execution_count": 248,
     "metadata": {},
     "output_type": "execute_result"
    }
   ],
   "source": [
    "circle.get_type(), square.get_type()"
   ]
  },
  {
   "cell_type": "code",
   "execution_count": 249,
   "id": "769ea77b-55de-498c-b35a-36d9d7cd4ccc",
   "metadata": {},
   "outputs": [
    {
     "data": {
      "text/plain": [
       "('Red', 'Red')"
      ]
     },
     "execution_count": 249,
     "metadata": {},
     "output_type": "execute_result"
    }
   ],
   "source": [
    "circle.get_color(), square.get_color()"
   ]
  },
  {
   "cell_type": "code",
   "execution_count": 250,
   "id": "ae3085cf-f6b5-4c8c-9ddc-1dce7d5ed814",
   "metadata": {},
   "outputs": [],
   "source": [
    "class Circle(Shape):\n",
    "    def __init__(self, color='Green'):\n",
    "        Shape.__init__(self, 'circle', color)     "
   ]
  },
  {
   "cell_type": "code",
   "execution_count": 251,
   "id": "b0d50d3a-9cce-4b13-9625-2d17c5224816",
   "metadata": {},
   "outputs": [
    {
     "data": {
      "text/plain": [
       "'Green'"
      ]
     },
     "execution_count": 251,
     "metadata": {},
     "output_type": "execute_result"
    }
   ],
   "source": [
    "circle = Circle()\n",
    "circle.get_color()"
   ]
  },
  {
   "cell_type": "code",
   "execution_count": 252,
   "id": "049edaab-0239-4c38-b391-64f323795f15",
   "metadata": {},
   "outputs": [
    {
     "data": {
      "text/plain": [
       "'Yellow'"
      ]
     },
     "execution_count": 252,
     "metadata": {},
     "output_type": "execute_result"
    }
   ],
   "source": [
    "circle = Circle('Yellow')\n",
    "circle.get_color()"
   ]
  },
  {
   "cell_type": "code",
   "execution_count": 253,
   "id": "59d5f4a8-3548-43f8-9a4e-2b49da9f1dc8",
   "metadata": {},
   "outputs": [],
   "source": [
    "class Square(Shape):\n",
    "    def __init__(self, color):\n",
    "        Shape.__init__(self, 'square', color) "
   ]
  },
  {
   "cell_type": "code",
   "execution_count": 254,
   "id": "1f6dfb6c-7e6e-4611-8bc6-6e19a2f3a5f7",
   "metadata": {},
   "outputs": [
    {
     "ename": "TypeError",
     "evalue": "Square.__init__() missing 1 required positional argument: 'color'",
     "output_type": "error",
     "traceback": [
      "\u001b[1;31m---------------------------------------------------------------------------\u001b[0m",
      "\u001b[1;31mTypeError\u001b[0m                                 Traceback (most recent call last)",
      "Cell \u001b[1;32mIn[254], line 1\u001b[0m\n\u001b[1;32m----> 1\u001b[0m square \u001b[38;5;241m=\u001b[39m Square()\n",
      "\u001b[1;31mTypeError\u001b[0m: Square.__init__() missing 1 required positional argument: 'color'"
     ]
    }
   ],
   "source": [
    "square = Square()"
   ]
  },
  {
   "cell_type": "code",
   "execution_count": 255,
   "id": "7a876a41-43e4-4d25-a4dd-91b336bc1bc9",
   "metadata": {},
   "outputs": [
    {
     "data": {
      "text/plain": [
       "'Orange'"
      ]
     },
     "execution_count": 255,
     "metadata": {},
     "output_type": "execute_result"
    }
   ],
   "source": [
    "square = Square('Orange')\n",
    "square.get_color()"
   ]
  },
  {
   "cell_type": "code",
   "execution_count": 256,
   "id": "056bfe8d-e656-4da6-9dd8-5b917a574165",
   "metadata": {},
   "outputs": [],
   "source": [
    "import math\n",
    "\n",
    "class Circle(Shape):\n",
    "    def __init__(self, radius):\n",
    "        Shape.__init__(self, 'circle')\n",
    "        \n",
    "        self.__radius = radius\n",
    "        \n",
    "    def get_area(self):\n",
    "        return math.pi * self.__radius * self.__radius\n",
    "    \n",
    "    def get_perimeter(self):\n",
    "        return 2 * math.pi * self.__radius"
   ]
  },
  {
   "cell_type": "code",
   "execution_count": 257,
   "id": "78d08e1d-87bc-4f0b-a086-7606148ee2f2",
   "metadata": {},
   "outputs": [
    {
     "data": {
      "text/plain": [
       "314.1592653589793"
      ]
     },
     "execution_count": 257,
     "metadata": {},
     "output_type": "execute_result"
    }
   ],
   "source": [
    "c = Circle(10)\n",
    "c.get_area()"
   ]
  },
  {
   "cell_type": "code",
   "execution_count": 258,
   "id": "46870885-2d28-4ccc-be18-39c3b2e49690",
   "metadata": {},
   "outputs": [
    {
     "data": {
      "text/plain": [
       "62.83185307179586"
      ]
     },
     "execution_count": 258,
     "metadata": {},
     "output_type": "execute_result"
    }
   ],
   "source": [
    "c.get_perimeter()"
   ]
  },
  {
   "cell_type": "code",
   "execution_count": 259,
   "id": "fade9262-ca44-4727-ad88-96b198ad8350",
   "metadata": {},
   "outputs": [],
   "source": [
    "class Square(Shape):\n",
    "    \n",
    "    def __init__(self, side):\n",
    "        Shape.__init__(self, 'square')\n",
    "        \n",
    "        self.__side = side\n",
    "        \n",
    "    def get_area(self):\n",
    "        return self.__side * self.__side\n",
    "    \n",
    "    def get_perimeter(self):\n",
    "        return 4 * self.__side"
   ]
  },
  {
   "cell_type": "code",
   "execution_count": 260,
   "id": "75e8a914-f036-4872-91a9-89d3f4b213fa",
   "metadata": {},
   "outputs": [],
   "source": [
    "s = Square(10)"
   ]
  },
  {
   "cell_type": "code",
   "execution_count": 261,
   "id": "d8651ba7-49d6-42bb-a6af-c1abf463e9f9",
   "metadata": {},
   "outputs": [
    {
     "data": {
      "text/plain": [
       "100"
      ]
     },
     "execution_count": 261,
     "metadata": {},
     "output_type": "execute_result"
    }
   ],
   "source": [
    "s.get_area()"
   ]
  },
  {
   "cell_type": "code",
   "execution_count": 262,
   "id": "7d789da2-16d2-4dc3-8b43-e790cbc53d82",
   "metadata": {},
   "outputs": [
    {
     "data": {
      "text/plain": [
       "40"
      ]
     },
     "execution_count": 262,
     "metadata": {},
     "output_type": "execute_result"
    }
   ],
   "source": [
    "s.get_perimeter()"
   ]
  },
  {
   "cell_type": "markdown",
   "id": "0fe5a04b-6d4f-496b-9f3e-2d6e9bfd4097",
   "metadata": {},
   "source": [
    "## Multiple & Multilevel Inheritance"
   ]
  },
  {
   "cell_type": "code",
   "execution_count": 263,
   "id": "30217319-a9a9-4c92-b9ff-8c9c4ed7f6b6",
   "metadata": {},
   "outputs": [],
   "source": [
    "class Father:\n",
    "    pass\n",
    "class Mother:\n",
    "    pass"
   ]
  },
  {
   "cell_type": "code",
   "execution_count": 264,
   "id": "df6e2d04-4187-42b3-b739-84808a4094d4",
   "metadata": {},
   "outputs": [],
   "source": [
    "class Child1(Father, Mother):\n",
    "    pass"
   ]
  },
  {
   "cell_type": "code",
   "execution_count": 265,
   "id": "6fbc2c42-18e9-44d5-a665-b454101dd9c6",
   "metadata": {},
   "outputs": [
    {
     "name": "stdout",
     "output_type": "stream",
     "text": [
      "Help on class Child1 in module __main__:\n",
      "\n",
      "class Child1(Father, Mother)\n",
      " |  Method resolution order:\n",
      " |      Child1\n",
      " |      Father\n",
      " |      Mother\n",
      " |      builtins.object\n",
      " |\n",
      " |  Data descriptors inherited from Father:\n",
      " |\n",
      " |  __dict__\n",
      " |      dictionary for instance variables\n",
      " |\n",
      " |  __weakref__\n",
      " |      list of weak references to the object\n",
      "\n"
     ]
    }
   ],
   "source": [
    "help(Child1)"
   ]
  },
  {
   "cell_type": "code",
   "execution_count": 266,
   "id": "1e14f142-bc7e-476d-ab34-6fe67f3810da",
   "metadata": {},
   "outputs": [],
   "source": [
    "class Child2(Mother, Father):\n",
    "    pass"
   ]
  },
  {
   "cell_type": "code",
   "execution_count": 267,
   "id": "e059a7e4-8762-4a30-a221-0e6aed0f5263",
   "metadata": {},
   "outputs": [
    {
     "name": "stdout",
     "output_type": "stream",
     "text": [
      "Help on class Child2 in module __main__:\n",
      "\n",
      "class Child2(Mother, Father)\n",
      " |  Method resolution order:\n",
      " |      Child2\n",
      " |      Mother\n",
      " |      Father\n",
      " |      builtins.object\n",
      " |\n",
      " |  Data descriptors inherited from Mother:\n",
      " |\n",
      " |  __dict__\n",
      " |      dictionary for instance variables\n",
      " |\n",
      " |  __weakref__\n",
      " |      list of weak references to the object\n",
      "\n"
     ]
    }
   ],
   "source": [
    "help(Child2)"
   ]
  },
  {
   "cell_type": "code",
   "execution_count": 268,
   "id": "86162892-83e2-4e05-9752-8365fce5eb45",
   "metadata": {},
   "outputs": [],
   "source": [
    "class Father:\n",
    "    \n",
    "    def height(self):\n",
    "        print('I have inherited my height from my father')\n",
    "\n",
    "class Mother:\n",
    "\n",
    "    def intelligence(self):\n",
    "        print('I have inherited my intelligence from my mother')\n"
   ]
  },
  {
   "cell_type": "code",
   "execution_count": 269,
   "id": "5df0727d-1fdd-494f-b213-53c5a2304efc",
   "metadata": {},
   "outputs": [],
   "source": [
    "class Child(Father, Mother):\n",
    "    \n",
    "    def experience(self):\n",
    "        print('My experiences are all my own')"
   ]
  },
  {
   "cell_type": "code",
   "execution_count": 270,
   "id": "b58748ff-4312-4a62-b1b0-546ae8bf56e2",
   "metadata": {},
   "outputs": [],
   "source": [
    "c = Child()"
   ]
  },
  {
   "cell_type": "code",
   "execution_count": 271,
   "id": "43588d5f-81f8-4c75-9581-a1ce095e0d34",
   "metadata": {},
   "outputs": [
    {
     "name": "stdout",
     "output_type": "stream",
     "text": [
      "I have inherited my height from my father\n"
     ]
    }
   ],
   "source": [
    "c.height()"
   ]
  },
  {
   "cell_type": "code",
   "execution_count": 272,
   "id": "a85abedb-b06b-4a30-ab02-659e2b332fe6",
   "metadata": {},
   "outputs": [
    {
     "name": "stdout",
     "output_type": "stream",
     "text": [
      "I have inherited my intelligence from my mother\n"
     ]
    }
   ],
   "source": [
    "c.intelligence()"
   ]
  },
  {
   "cell_type": "code",
   "execution_count": 273,
   "id": "8f260bc8-af00-4d46-8e77-2553bb931667",
   "metadata": {},
   "outputs": [
    {
     "name": "stdout",
     "output_type": "stream",
     "text": [
      "My experiences are all my own\n"
     ]
    }
   ],
   "source": [
    "c.experience()"
   ]
  },
  {
   "cell_type": "code",
   "execution_count": 274,
   "id": "ff99f11c-3495-4aff-a6b3-2e05888e2212",
   "metadata": {},
   "outputs": [],
   "source": [
    "class Employee:  \n",
    "    def __init__(self, name, age):  \n",
    "        self.__name = name  \n",
    "        self.__age = age  \n",
    "\n",
    "    def show_name(self):  \n",
    "        print(self.__name)  \n",
    "  \n",
    "    def show_age(self):  \n",
    "        print(self.__age)  "
   ]
  },
  {
   "cell_type": "code",
   "execution_count": 275,
   "id": "ee0fd505-fcff-4e74-9ca4-f4ec5a73db7b",
   "metadata": {},
   "outputs": [],
   "source": [
    "class Salary: \n",
    "    def __init__(self, salary):  \n",
    "        self.__salary = salary  \n",
    "    def get_salary(self):  \n",
    "        print(self.__salary)"
   ]
  },
  {
   "cell_type": "code",
   "execution_count": 276,
   "id": "d85a9b9f-962e-490c-94be-e9a279afd29e",
   "metadata": {},
   "outputs": [],
   "source": [
    "class Database(Employee, Salary):  \n",
    "    def __init__(self, name, age, salary):  \n",
    "        Employee.__init__(self, name, age)  \n",
    "        Salary.__init__(self, salary) "
   ]
  },
  {
   "cell_type": "code",
   "execution_count": 277,
   "id": "64136aa0-9f22-48da-94ec-a58a1ca2c24a",
   "metadata": {},
   "outputs": [],
   "source": [
    "emp1 = Database('Robin', 26, 98000)"
   ]
  },
  {
   "cell_type": "code",
   "execution_count": 278,
   "id": "14895473-219f-4cef-81c9-99a39986121f",
   "metadata": {},
   "outputs": [
    {
     "name": "stdout",
     "output_type": "stream",
     "text": [
      "Robin\n"
     ]
    }
   ],
   "source": [
    "emp1.show_name()"
   ]
  },
  {
   "cell_type": "code",
   "execution_count": 279,
   "id": "687cde53-b11e-4ac6-870c-fbbad066e42b",
   "metadata": {},
   "outputs": [
    {
     "name": "stdout",
     "output_type": "stream",
     "text": [
      "26\n"
     ]
    }
   ],
   "source": [
    "emp1.show_age()"
   ]
  },
  {
   "cell_type": "code",
   "execution_count": 280,
   "id": "822b4ffd-bb01-4253-98b2-21c50d5855e8",
   "metadata": {},
   "outputs": [
    {
     "name": "stdout",
     "output_type": "stream",
     "text": [
      "98000\n"
     ]
    }
   ],
   "source": [
    "emp1.get_salary()"
   ]
  },
  {
   "cell_type": "code",
   "execution_count": 281,
   "id": "f86e9913-217d-428b-a8c4-3b867d65f6a5",
   "metadata": {},
   "outputs": [
    {
     "name": "stdout",
     "output_type": "stream",
     "text": [
      "Help on class Database in module __main__:\n",
      "\n",
      "class Database(Employee, Salary)\n",
      " |  Database(name, age, salary)\n",
      " |\n",
      " |  Method resolution order:\n",
      " |      Database\n",
      " |      Employee\n",
      " |      Salary\n",
      " |      builtins.object\n",
      " |\n",
      " |  Methods defined here:\n",
      " |\n",
      " |  __init__(self, name, age, salary)\n",
      " |      Initialize self.  See help(type(self)) for accurate signature.\n",
      " |\n",
      " |  ----------------------------------------------------------------------\n",
      " |  Methods inherited from Employee:\n",
      " |\n",
      " |  show_age(self)\n",
      " |\n",
      " |  show_name(self)\n",
      " |\n",
      " |  ----------------------------------------------------------------------\n",
      " |  Data descriptors inherited from Employee:\n",
      " |\n",
      " |  __dict__\n",
      " |      dictionary for instance variables\n",
      " |\n",
      " |  __weakref__\n",
      " |      list of weak references to the object\n",
      " |\n",
      " |  ----------------------------------------------------------------------\n",
      " |  Methods inherited from Salary:\n",
      " |\n",
      " |  get_salary(self)\n",
      "\n"
     ]
    }
   ],
   "source": [
    "help(Database)"
   ]
  },
  {
   "cell_type": "code",
   "execution_count": 282,
   "id": "27f0a9c2-f28b-42d3-a4f7-194050b58530",
   "metadata": {},
   "outputs": [],
   "source": [
    "##multi level inheritance\n",
    "class Grandparent:\n",
    "    def height(self):\n",
    "        print('I have inherited my height from my grandparent')\n",
    "\n",
    "    \n",
    "class Parent(Grandparent):\n",
    "    def intelligence(self):\n",
    "        print('I have inherited my intelligence from my parent')\n",
    "\n",
    "class Child(Parent):\n",
    "    def experience(self):\n",
    "        print('My experiences are all my own')\n"
   ]
  },
  {
   "cell_type": "code",
   "execution_count": 283,
   "id": "92b10594-b480-42ff-94a6-77b201a4d8fe",
   "metadata": {},
   "outputs": [
    {
     "name": "stdout",
     "output_type": "stream",
     "text": [
      "Help on class Child in module __main__:\n",
      "\n",
      "class Child(Parent)\n",
      " |  Method resolution order:\n",
      " |      Child\n",
      " |      Parent\n",
      " |      Grandparent\n",
      " |      builtins.object\n",
      " |\n",
      " |  Methods defined here:\n",
      " |\n",
      " |  experience(self)\n",
      " |\n",
      " |  ----------------------------------------------------------------------\n",
      " |  Methods inherited from Parent:\n",
      " |\n",
      " |  intelligence(self)\n",
      " |\n",
      " |  ----------------------------------------------------------------------\n",
      " |  Methods inherited from Grandparent:\n",
      " |\n",
      " |  height(self)\n",
      " |\n",
      " |  ----------------------------------------------------------------------\n",
      " |  Data descriptors inherited from Grandparent:\n",
      " |\n",
      " |  __dict__\n",
      " |      dictionary for instance variables\n",
      " |\n",
      " |  __weakref__\n",
      " |      list of weak references to the object\n",
      "\n"
     ]
    }
   ],
   "source": [
    "help(Child)"
   ]
  },
  {
   "cell_type": "code",
   "execution_count": 284,
   "id": "852545a7-458b-4d9e-afeb-3d4f52188c27",
   "metadata": {},
   "outputs": [],
   "source": [
    "c = Child()"
   ]
  },
  {
   "cell_type": "code",
   "execution_count": 285,
   "id": "d3b2769f-4cd5-4b03-8d7b-e9ba24060a9d",
   "metadata": {},
   "outputs": [
    {
     "name": "stdout",
     "output_type": "stream",
     "text": [
      "I have inherited my height from my grandparent\n"
     ]
    }
   ],
   "source": [
    "c.height()"
   ]
  },
  {
   "cell_type": "code",
   "execution_count": 286,
   "id": "5ee19b58-9362-4d0c-a4bc-d6c490997ff7",
   "metadata": {},
   "outputs": [
    {
     "name": "stdout",
     "output_type": "stream",
     "text": [
      "I have inherited my intelligence from my parent\n"
     ]
    }
   ],
   "source": [
    "c.intelligence()"
   ]
  },
  {
   "cell_type": "code",
   "execution_count": 287,
   "id": "c9dc8b21-2611-464e-b1b5-90f8786f2ca6",
   "metadata": {},
   "outputs": [
    {
     "name": "stdout",
     "output_type": "stream",
     "text": [
      "My experiences are all my own\n"
     ]
    }
   ],
   "source": [
    "c.experience()"
   ]
  },
  {
   "cell_type": "code",
   "execution_count": 288,
   "id": "aba9d159-432c-4f60-8c86-9cb86c475786",
   "metadata": {},
   "outputs": [],
   "source": [
    "class Grandparent(object):    \n",
    "    def __init__(self, city): \n",
    "        self.__city = city\n",
    "    def get_city(self): \n",
    "        return self.__city "
   ]
  },
  {
   "cell_type": "code",
   "execution_count": 289,
   "id": "0ea8d2c5-58fb-4021-a9a3-91d152902524",
   "metadata": {},
   "outputs": [],
   "source": [
    "class Parent(Grandparent): \n",
    "    def __init__(self, city, lastname): \n",
    "        Grandparent.__init__(self, city)  \n",
    "        self.__lastname = lastname\n",
    "    def get_lastname(self): \n",
    "        return self.__lastname"
   ]
  },
  {
   "cell_type": "code",
   "execution_count": 290,
   "id": "ddfb96c2-dc5d-469b-91d7-0fd4f2596d00",
   "metadata": {},
   "outputs": [],
   "source": [
    "p1 = Parent(city='Kentucky', lastname='Smith')"
   ]
  },
  {
   "cell_type": "code",
   "execution_count": 291,
   "id": "6271c2e0-512a-47d7-94bf-0ac5856b10e6",
   "metadata": {},
   "outputs": [
    {
     "data": {
      "text/plain": [
       "'Kentucky'"
      ]
     },
     "execution_count": 291,
     "metadata": {},
     "output_type": "execute_result"
    }
   ],
   "source": [
    "p1.get_city()"
   ]
  },
  {
   "cell_type": "code",
   "execution_count": 292,
   "id": "53125be6-2c74-4d35-864d-da0581490db6",
   "metadata": {},
   "outputs": [
    {
     "data": {
      "text/plain": [
       "'Smith'"
      ]
     },
     "execution_count": 292,
     "metadata": {},
     "output_type": "execute_result"
    }
   ],
   "source": [
    "p1.get_lastname()"
   ]
  },
  {
   "cell_type": "code",
   "execution_count": 293,
   "id": "5cc71bd4-1b47-4846-9b37-b977ac9b1f0e",
   "metadata": {},
   "outputs": [],
   "source": [
    "class Person(Parent): \n",
    "    def __init__(self, city, lastname, firstname): \n",
    "        Parent.__init__(self, city, lastname)\n",
    "        self.__firstname = firstname\n",
    "    def get_firstname(self): \n",
    "        return self.__firstname"
   ]
  },
  {
   "cell_type": "code",
   "execution_count": 294,
   "id": "b0c24229-f997-4112-9b3c-aaa18e0c359e",
   "metadata": {},
   "outputs": [],
   "source": [
    "person = Person(\"Kentucky\", \"Smith\", \"Mark\")"
   ]
  },
  {
   "cell_type": "code",
   "execution_count": 295,
   "id": "140e4e88-051c-4bcb-a16d-9a1711827a5e",
   "metadata": {},
   "outputs": [
    {
     "data": {
      "text/plain": [
       "('Kentucky', 'Smith', 'Mark')"
      ]
     },
     "execution_count": 295,
     "metadata": {},
     "output_type": "execute_result"
    }
   ],
   "source": [
    "person.get_city(), person.get_lastname(), person.get_firstname()"
   ]
  },
  {
   "cell_type": "code",
   "execution_count": 296,
   "id": "bb5cbda7-4121-419a-83f5-26af9f98de69",
   "metadata": {},
   "outputs": [
    {
     "name": "stdout",
     "output_type": "stream",
     "text": [
      "Help on class Person in module __main__:\n",
      "\n",
      "class Person(Parent)\n",
      " |  Person(city, lastname, firstname)\n",
      " |\n",
      " |  Method resolution order:\n",
      " |      Person\n",
      " |      Parent\n",
      " |      Grandparent\n",
      " |      builtins.object\n",
      " |\n",
      " |  Methods defined here:\n",
      " |\n",
      " |  __init__(self, city, lastname, firstname)\n",
      " |      Initialize self.  See help(type(self)) for accurate signature.\n",
      " |\n",
      " |  get_firstname(self)\n",
      " |\n",
      " |  ----------------------------------------------------------------------\n",
      " |  Methods inherited from Parent:\n",
      " |\n",
      " |  get_lastname(self)\n",
      " |\n",
      " |  ----------------------------------------------------------------------\n",
      " |  Methods inherited from Grandparent:\n",
      " |\n",
      " |  get_city(self)\n",
      " |\n",
      " |  ----------------------------------------------------------------------\n",
      " |  Data descriptors inherited from Grandparent:\n",
      " |\n",
      " |  __dict__\n",
      " |      dictionary for instance variables\n",
      " |\n",
      " |  __weakref__\n",
      " |      list of weak references to the object\n",
      "\n"
     ]
    }
   ],
   "source": [
    "help(Person)"
   ]
  },
  {
   "cell_type": "code",
   "execution_count": 297,
   "id": "5b4d1173-e38d-4781-bbc5-5d8b00aef68f",
   "metadata": {},
   "outputs": [],
   "source": [
    "class Person(Parent): \n",
    "    def __init__(self, city, lastname, firstname): \n",
    "        Parent.__init__(self, city, lastname)\n",
    "        \n",
    "        self.__firstname = firstname\n",
    "  \n",
    "    def get_firstname(self): \n",
    "        return self.__firstname\n",
    "    \n",
    "    def get_introduction(self):\n",
    "        lastname = super().get_lastname()\n",
    "        city = super().get_city()\n",
    "        \n",
    "        print('Hi I am %s %s from %s' % (self.__firstname, lastname, city))\n",
    "    def get_information(self):\n",
    "        lastname = self.get_lastname()\n",
    "        city = self.get_city()\n",
    "        print('Hi I am %s %s from %s' % (self.__firstname, lastname, city))"
   ]
  },
  {
   "cell_type": "code",
   "execution_count": 298,
   "id": "8da5b591-a765-41c4-9675-072b8820ead6",
   "metadata": {},
   "outputs": [],
   "source": [
    "p = Person('Kentucky', 'Jones', 'Lily')"
   ]
  },
  {
   "cell_type": "code",
   "execution_count": 299,
   "id": "ec129e6f-9866-49ad-beb1-f0a1f3adcced",
   "metadata": {},
   "outputs": [
    {
     "name": "stdout",
     "output_type": "stream",
     "text": [
      "Hi I am Lily Jones from Kentucky\n"
     ]
    }
   ],
   "source": [
    "p.get_introduction()"
   ]
  },
  {
   "cell_type": "code",
   "execution_count": 300,
   "id": "99c5057c-0620-4711-98d2-3238506e316c",
   "metadata": {},
   "outputs": [
    {
     "name": "stdout",
     "output_type": "stream",
     "text": [
      "Hi I am Lily Jones from Kentucky\n"
     ]
    }
   ],
   "source": [
    "p.get_information()"
   ]
  },
  {
   "cell_type": "markdown",
   "id": "639a179a-6277-46bb-813b-05e639e19f29",
   "metadata": {},
   "source": [
    "## Polymorphism"
   ]
  },
  {
   "cell_type": "code",
   "execution_count": 301,
   "id": "9c32ccc8-be9f-4ab7-9e74-8d323c048e21",
   "metadata": {},
   "outputs": [],
   "source": [
    "class Hominidae():\n",
    "    def communication(self):\n",
    "        print(\"They use auditory calls and visual cues.\")\n",
    "    def walk(self):\n",
    "        print(\"They are knuckle-walkers, used to hang and swing from one tree to another\")"
   ]
  },
  {
   "cell_type": "code",
   "execution_count": 302,
   "id": "3f2b2a7d-447c-409c-bf6d-da6db24d75db",
   "metadata": {},
   "outputs": [],
   "source": [
    "class Human(Hominidae):\n",
    "\n",
    "    def communication(self):\n",
    "        print(\"They use language to communicate.\")\n",
    "        \n",
    "    def walk(self):\n",
    "        print(\"They are bipeds.\")"
   ]
  },
  {
   "cell_type": "code",
   "execution_count": 303,
   "id": "1b2f2088-052b-41cb-bd33-df3acea8e6e3",
   "metadata": {},
   "outputs": [],
   "source": [
    "class Gorrila(Hominidae):\n",
    "\n",
    "    def communication(self):\n",
    "        print(\"They use twenty-five distinct vocalizations to communicate.\")\n",
    "        \n",
    "    def walk(self):\n",
    "        print(\"They are knuckle-walkers.\")"
   ]
  },
  {
   "cell_type": "code",
   "execution_count": 304,
   "id": "751669de-fb9a-4ed1-8157-c0f5fb8e654c",
   "metadata": {},
   "outputs": [],
   "source": [
    "hominidae_1 = Hominidae()\n",
    "\n",
    "human_1 = Human()\n",
    "\n",
    "gorrila_1 = Gorrila()"
   ]
  },
  {
   "cell_type": "code",
   "execution_count": 305,
   "id": "e08aa211-9bed-4b1f-a299-604aa74e82b4",
   "metadata": {},
   "outputs": [
    {
     "name": "stdout",
     "output_type": "stream",
     "text": [
      "They use auditory calls and visual cues.\n",
      "They use language to communicate.\n",
      "They use twenty-five distinct vocalizations to communicate.\n"
     ]
    }
   ],
   "source": [
    "hominidae_1.communication()\n",
    "\n",
    "human_1.communication()\n",
    "\n",
    "gorrila_1.communication()"
   ]
  },
  {
   "cell_type": "code",
   "execution_count": 306,
   "id": "bf9ef365-f597-4352-a601-29584d3c5a9c",
   "metadata": {},
   "outputs": [
    {
     "name": "stdout",
     "output_type": "stream",
     "text": [
      "They are knuckle-walkers, used to hang and swing from one tree to another\n",
      "They are bipeds.\n",
      "They are knuckle-walkers.\n"
     ]
    }
   ],
   "source": [
    "hominidae_1.walk()\n",
    "\n",
    "human_1.walk()\n",
    "\n",
    "gorrila_1.walk()"
   ]
  },
  {
   "cell_type": "code",
   "execution_count": 307,
   "id": "e627e3d4-1295-4bf8-bc72-bc49866da06e",
   "metadata": {},
   "outputs": [],
   "source": [
    "class BankAccount:\n",
    "    \n",
    "    def __init__(self, balance):\n",
    "        self.__balance = balance\n",
    "        \n",
    "    def deposit(self, value):\n",
    "        self.__balance =  self.__balance + value\n",
    "        \n",
    "        print('Deposit amount:', value)\n",
    "        print('Balance after depositing:', self.__balance)\n",
    "            \n",
    "    def withdrawal(self, value):\n",
    "        self.__balance =  self.__balance - value\n",
    "        \n",
    "        print('Withdrawal amount:', value)\n",
    "        print('Balance after withdrawal:', self.__balance)"
   ]
  },
  {
   "cell_type": "code",
   "execution_count": 308,
   "id": "b9581194-a237-4c46-842c-ce46e4f2c056",
   "metadata": {},
   "outputs": [],
   "source": [
    "b_1 = BankAccount(1500)"
   ]
  },
  {
   "cell_type": "code",
   "execution_count": 309,
   "id": "017bab4f-2f00-4eac-8111-eb97a8dd679e",
   "metadata": {},
   "outputs": [
    {
     "name": "stdout",
     "output_type": "stream",
     "text": [
      "Deposit amount: 100\n",
      "Balance after depositing: 1600\n"
     ]
    }
   ],
   "source": [
    "b_1.deposit(100)"
   ]
  },
  {
   "cell_type": "code",
   "execution_count": 310,
   "id": "73aed02e-5234-4bb8-bafa-ba12bec708a2",
   "metadata": {},
   "outputs": [
    {
     "name": "stdout",
     "output_type": "stream",
     "text": [
      "Withdrawal amount: 200\n",
      "Balance after withdrawal: 1400\n"
     ]
    }
   ],
   "source": [
    "b_1.withdrawal(200)"
   ]
  },
  {
   "cell_type": "code",
   "execution_count": 311,
   "id": "36a867c4-bcae-43d4-890e-454ff3caeea0",
   "metadata": {},
   "outputs": [],
   "source": [
    "class CurrentAccount(BankAccount):\n",
    "    \n",
    "    def __init__(self, balance):\n",
    "        super().__init__(balance)\n",
    "                  \n",
    "    def withdrawal(self, value):\n",
    "        if value > 1000:\n",
    "            print('Contact your branch manager')\n",
    "        else:\n",
    "            super().withdrawal(value)"
   ]
  },
  {
   "cell_type": "code",
   "execution_count": 312,
   "id": "cf37894a-00d9-4c91-a54a-b809f8cf00d5",
   "metadata": {},
   "outputs": [],
   "source": [
    "c_1 = CurrentAccount(1500)"
   ]
  },
  {
   "cell_type": "code",
   "execution_count": 313,
   "id": "1a9e3812-3cb1-44dd-b375-0db5ef3b44c2",
   "metadata": {},
   "outputs": [
    {
     "name": "stdout",
     "output_type": "stream",
     "text": [
      "Withdrawal amount: 100\n",
      "Balance after withdrawal: 1400\n"
     ]
    }
   ],
   "source": [
    "c_1.withdrawal(100)"
   ]
  },
  {
   "cell_type": "code",
   "execution_count": 314,
   "id": "62db9a82-f053-4b00-a576-1a3699183075",
   "metadata": {},
   "outputs": [
    {
     "name": "stdout",
     "output_type": "stream",
     "text": [
      "Contact your branch manager\n"
     ]
    }
   ],
   "source": [
    "c_1.withdrawal(1400)"
   ]
  },
  {
   "cell_type": "code",
   "execution_count": 315,
   "id": "26891da4-e92a-4ac7-aa02-01bb16a37f2a",
   "metadata": {},
   "outputs": [],
   "source": [
    "class SavingsAccount(BankAccount):\n",
    "    def __init__(self, balance):\n",
    "        super().__init__(balance)\n",
    "    def deposit(self, value):\n",
    "        value += 0.05 * value\n",
    "        super().deposit(value)"
   ]
  },
  {
   "cell_type": "code",
   "execution_count": 316,
   "id": "a12d1cd4-488c-413c-a866-8fc152e7961b",
   "metadata": {},
   "outputs": [],
   "source": [
    "s_1 = SavingsAccount(2000)"
   ]
  },
  {
   "cell_type": "code",
   "execution_count": 317,
   "id": "1a5d2191-a2be-478b-b77c-f78f987fa2a1",
   "metadata": {},
   "outputs": [
    {
     "name": "stdout",
     "output_type": "stream",
     "text": [
      "Deposit amount: 525.0\n",
      "Balance after depositing: 2525.0\n"
     ]
    }
   ],
   "source": [
    "s_1.deposit(500)"
   ]
  },
  {
   "cell_type": "markdown",
   "id": "818c38d4-c442-46eb-8ca1-a7124706956e",
   "metadata": {},
   "source": [
    "## Special/Magic Methods"
   ]
  },
  {
   "cell_type": "code",
   "execution_count": 318,
   "id": "8daaae02-6c84-41ee-8da1-ca6c2f5e685b",
   "metadata": {},
   "outputs": [],
   "source": [
    "class Competition:\n",
    "    def __init__(self, name, prize): \n",
    "        self.__name = name \n",
    "        self.__prize = prize                                                          "
   ]
  },
  {
   "cell_type": "code",
   "execution_count": 319,
   "id": "faeb574e-4204-4611-9545-285e6949c3ac",
   "metadata": {},
   "outputs": [],
   "source": [
    "rowing = Competition('Rowing', 10000)"
   ]
  },
  {
   "cell_type": "code",
   "execution_count": 320,
   "id": "cef042a0-ad35-473d-84be-a3c1105bf7ce",
   "metadata": {},
   "outputs": [
    {
     "name": "stdout",
     "output_type": "stream",
     "text": [
      "<__main__.Competition object at 0x00000187177722D0>\n"
     ]
    }
   ],
   "source": [
    "print(rowing)"
   ]
  },
  {
   "cell_type": "code",
   "execution_count": 321,
   "id": "523dee15-4372-4f35-a906-4f9e881c9a6d",
   "metadata": {},
   "outputs": [
    {
     "data": {
      "text/plain": [
       "<__main__.Competition at 0x187177722d0>"
      ]
     },
     "execution_count": 321,
     "metadata": {},
     "output_type": "execute_result"
    }
   ],
   "source": [
    "rowing"
   ]
  },
  {
   "cell_type": "code",
   "execution_count": 322,
   "id": "e53ed229-fd4b-4ae1-b52a-3942bf735832",
   "metadata": {},
   "outputs": [],
   "source": [
    "class Competition:  \n",
    "    def __init__(self, name, prize): \n",
    "        self.__name = name    \n",
    "        self.__prize = prize\n",
    "    def __repr__(self):\n",
    "        return \"('{}',  {})\".format(self.__name, self.__prize)"
   ]
  },
  {
   "cell_type": "code",
   "execution_count": 323,
   "id": "ca081cc0-a783-4683-8f9b-29e49a075a74",
   "metadata": {},
   "outputs": [],
   "source": [
    "archery = Competition('Archery', 8000)"
   ]
  },
  {
   "cell_type": "code",
   "execution_count": 324,
   "id": "26876a04-f21a-4d9e-99e5-dc69e9b01228",
   "metadata": {},
   "outputs": [
    {
     "name": "stdout",
     "output_type": "stream",
     "text": [
      "('Archery',  8000)\n"
     ]
    }
   ],
   "source": [
    "print(archery)"
   ]
  },
  {
   "cell_type": "code",
   "execution_count": 325,
   "id": "57f255fa-b7eb-49ba-a015-e9144bb1cf8d",
   "metadata": {},
   "outputs": [
    {
     "data": {
      "text/plain": [
       "\"('Archery',  8000)\""
      ]
     },
     "execution_count": 325,
     "metadata": {},
     "output_type": "execute_result"
    }
   ],
   "source": [
    "repr(archery)"
   ]
  },
  {
   "cell_type": "code",
   "execution_count": 326,
   "id": "cbf4d087-99c7-4478-b834-47d31d5c4a32",
   "metadata": {},
   "outputs": [
    {
     "data": {
      "text/plain": [
       "\"('Archery',  8000)\""
      ]
     },
     "execution_count": 326,
     "metadata": {},
     "output_type": "execute_result"
    }
   ],
   "source": [
    "str(archery)"
   ]
  },
  {
   "cell_type": "code",
   "execution_count": 327,
   "id": "4fd1377a-a397-40a9-b501-48aa9aa1b687",
   "metadata": {},
   "outputs": [],
   "source": [
    "class Competition:\n",
    "        \n",
    "    def __init__(self, name, country, prize):\n",
    "        self.__name = name \n",
    "        self.__country = country \n",
    "        self.__prize = prize \n",
    "                                                                       \n",
    "    def get_name_country(self): \n",
    "        return '{} {}'.format(self.__name, self.__country)\n",
    "        \n",
    "    def __repr__(self):\n",
    "        return \"Competition: {} held in {}, prize: {}\" \\\n",
    "            .format(self.__name, self.__country, self.__prize)\n",
    "   \n",
    "    def __str__(self):\n",
    "        return '{} - {}'.format(self.get_name_country(), self.__prize)"
   ]
  },
  {
   "cell_type": "code",
   "execution_count": 328,
   "id": "48d1ef96-a0c2-480f-95b3-e10fd640563e",
   "metadata": {},
   "outputs": [],
   "source": [
    "archery = Competition('Archery', 'United Kingdom', 7500)"
   ]
  },
  {
   "cell_type": "code",
   "execution_count": 329,
   "id": "c947d6a2-6fb3-4638-9938-f1e674b5843f",
   "metadata": {},
   "outputs": [
    {
     "data": {
      "text/plain": [
       "Competition: Archery held in United Kingdom, prize: 7500"
      ]
     },
     "execution_count": 329,
     "metadata": {},
     "output_type": "execute_result"
    }
   ],
   "source": [
    "archery"
   ]
  },
  {
   "cell_type": "code",
   "execution_count": 330,
   "id": "c845c867-7b06-40cd-928e-6845ed7ed8d2",
   "metadata": {},
   "outputs": [
    {
     "name": "stdout",
     "output_type": "stream",
     "text": [
      "Archery United Kingdom - 7500\n"
     ]
    }
   ],
   "source": [
    "print(archery)"
   ]
  },
  {
   "cell_type": "code",
   "execution_count": 331,
   "id": "8094b922-2980-474d-81fc-a6e14c1f4f3b",
   "metadata": {},
   "outputs": [
    {
     "name": "stdout",
     "output_type": "stream",
     "text": [
      "Competition: Archery held in United Kingdom, prize: 7500\n"
     ]
    }
   ],
   "source": [
    "print(repr(archery))"
   ]
  },
  {
   "cell_type": "code",
   "execution_count": 332,
   "id": "d3373872-a4e6-447b-ad2a-d01e1485a141",
   "metadata": {},
   "outputs": [
    {
     "name": "stdout",
     "output_type": "stream",
     "text": [
      "Archery United Kingdom - 7500\n"
     ]
    }
   ],
   "source": [
    "print(str(archery))"
   ]
  },
  {
   "cell_type": "code",
   "execution_count": 333,
   "id": "0a7e7253-ad8e-4517-8206-1e9f68eb9e53",
   "metadata": {},
   "outputs": [
    {
     "name": "stdout",
     "output_type": "stream",
     "text": [
      "Competition: Archery held in United Kingdom, prize: 7500\n"
     ]
    }
   ],
   "source": [
    "print(archery.__repr__())"
   ]
  },
  {
   "cell_type": "code",
   "execution_count": 334,
   "id": "0709b8e0-11bb-4b62-beed-ec92b5c99f11",
   "metadata": {},
   "outputs": [
    {
     "name": "stdout",
     "output_type": "stream",
     "text": [
      "Archery United Kingdom - 7500\n"
     ]
    }
   ],
   "source": [
    "print(archery.__str__())"
   ]
  },
  {
   "cell_type": "code",
   "execution_count": 335,
   "id": "a4843404-7223-409f-8af8-36ff6af7be7d",
   "metadata": {},
   "outputs": [
    {
     "data": {
      "text/plain": [
       "3"
      ]
     },
     "execution_count": 335,
     "metadata": {},
     "output_type": "execute_result"
    }
   ],
   "source": [
    "int.__add__(1, 2)"
   ]
  },
  {
   "cell_type": "code",
   "execution_count": 336,
   "id": "db220e72-ef59-4e94-8227-17901c488c84",
   "metadata": {},
   "outputs": [
    {
     "data": {
      "text/plain": [
       "'ab'"
      ]
     },
     "execution_count": 336,
     "metadata": {},
     "output_type": "execute_result"
    }
   ],
   "source": [
    "'a' + 'b'"
   ]
  },
  {
   "cell_type": "code",
   "execution_count": 337,
   "id": "96206b9e-b35f-4d43-80f8-f5e0dd263324",
   "metadata": {},
   "outputs": [
    {
     "data": {
      "text/plain": [
       "'ab'"
      ]
     },
     "execution_count": 337,
     "metadata": {},
     "output_type": "execute_result"
    }
   ],
   "source": [
    "str.__add__('a', 'b')"
   ]
  },
  {
   "cell_type": "code",
   "execution_count": 338,
   "id": "491bdbf2-00b0-4874-a1db-dcbef7e9928b",
   "metadata": {},
   "outputs": [],
   "source": [
    "class Savings:\n",
    "    def __init__(self, amount): \n",
    "        self.__amount = amount                          "
   ]
  },
  {
   "cell_type": "code",
   "execution_count": 339,
   "id": "e647e80c-2a32-4e6f-afc8-f5adf68f89e9",
   "metadata": {},
   "outputs": [],
   "source": [
    "s1 = Savings(10000)\n",
    "s2 = Savings(2000)"
   ]
  },
  {
   "cell_type": "code",
   "execution_count": 340,
   "id": "7f1ea984-8f9c-4d93-8d2a-b5a50bd6d8de",
   "metadata": {},
   "outputs": [
    {
     "ename": "TypeError",
     "evalue": "unsupported operand type(s) for +: 'Savings' and 'Savings'",
     "output_type": "error",
     "traceback": [
      "\u001b[1;31m---------------------------------------------------------------------------\u001b[0m",
      "\u001b[1;31mTypeError\u001b[0m                                 Traceback (most recent call last)",
      "Cell \u001b[1;32mIn[340], line 1\u001b[0m\n\u001b[1;32m----> 1\u001b[0m s1 \u001b[38;5;241m+\u001b[39m s2\n",
      "\u001b[1;31mTypeError\u001b[0m: unsupported operand type(s) for +: 'Savings' and 'Savings'"
     ]
    }
   ],
   "source": [
    "s1 + s2 "
   ]
  },
  {
   "cell_type": "code",
   "execution_count": 345,
   "id": "b3316c14-6e7c-4427-9a59-f2811f006286",
   "metadata": {},
   "outputs": [],
   "source": [
    "class Savings:\n",
    "    def __init__(self, amount): \n",
    "        self.__amount = amount                          \n",
    "    def __add__(self, other):\n",
    "        return self.__amount + other.__amount"
   ]
  },
  {
   "cell_type": "code",
   "execution_count": 346,
   "id": "a257c913-6d29-4d83-9bbc-a02d463c67b5",
   "metadata": {},
   "outputs": [],
   "source": [
    "s1 = Savings(10000)\n",
    "s2 = Savings(2000)"
   ]
  },
  {
   "cell_type": "code",
   "execution_count": 347,
   "id": "1fdbb007-8662-4367-bcc6-8fb8ccf8cebf",
   "metadata": {},
   "outputs": [
    {
     "data": {
      "text/plain": [
       "12000"
      ]
     },
     "execution_count": 347,
     "metadata": {},
     "output_type": "execute_result"
    }
   ],
   "source": [
    "s1 + s2"
   ]
  },
  {
   "cell_type": "code",
   "execution_count": 348,
   "id": "49b04b1a-2852-4572-bfc1-b22869f361a9",
   "metadata": {},
   "outputs": [],
   "source": [
    "class MethodSub:  #subtraction\n",
    "    def __init__(self,  number):\n",
    "        self.__number = number\n",
    "                                             \n",
    "    def __sub__(self, other):\n",
    "        return self.__number - other.__number"
   ]
  },
  {
   "cell_type": "code",
   "execution_count": 349,
   "id": "de9459f0-3b0a-40a2-9bba-b90bb306dc20",
   "metadata": {},
   "outputs": [],
   "source": [
    "num_1 = MethodSub(10)\n",
    "num_2 = MethodSub(8)"
   ]
  },
  {
   "cell_type": "code",
   "execution_count": 350,
   "id": "84e4cc94-3021-4569-a47e-a0a67f9d31ba",
   "metadata": {},
   "outputs": [
    {
     "data": {
      "text/plain": [
       "2"
      ]
     },
     "execution_count": 350,
     "metadata": {},
     "output_type": "execute_result"
    }
   ],
   "source": [
    "num_1 - num_2"
   ]
  },
  {
   "cell_type": "code",
   "execution_count": 351,
   "id": "dad5e499-7813-4b69-8936-521a9fb9d423",
   "metadata": {},
   "outputs": [],
   "source": [
    "class MethodSub:\n",
    "    def __init__(self,  number):\n",
    "        self.__number = number\n",
    "                                             \n",
    "    def __sub__(self, other):\n",
    "        return self.__number * other.__number"
   ]
  },
  {
   "cell_type": "code",
   "execution_count": 352,
   "id": "8bb22d81-a147-4df3-ab95-f4a539a004f1",
   "metadata": {},
   "outputs": [],
   "source": [
    "num_1 = MethodSub(10)\n",
    "num_2 = MethodSub(8)"
   ]
  },
  {
   "cell_type": "code",
   "execution_count": 353,
   "id": "f9ad038a-810d-4f3a-a413-aadf3403f233",
   "metadata": {},
   "outputs": [
    {
     "data": {
      "text/plain": [
       "80"
      ]
     },
     "execution_count": 353,
     "metadata": {},
     "output_type": "execute_result"
    }
   ],
   "source": [
    "num_1 - num_2"
   ]
  },
  {
   "cell_type": "code",
   "execution_count": 354,
   "id": "c7161c74-ba1c-485e-8a95-332c254f8eca",
   "metadata": {},
   "outputs": [
    {
     "ename": "TypeError",
     "evalue": "unsupported operand type(s) for *: 'MethodSub' and 'MethodSub'",
     "output_type": "error",
     "traceback": [
      "\u001b[1;31m---------------------------------------------------------------------------\u001b[0m",
      "\u001b[1;31mTypeError\u001b[0m                                 Traceback (most recent call last)",
      "Cell \u001b[1;32mIn[354], line 1\u001b[0m\n\u001b[1;32m----> 1\u001b[0m num_1 \u001b[38;5;241m*\u001b[39m num_2\n",
      "\u001b[1;31mTypeError\u001b[0m: unsupported operand type(s) for *: 'MethodSub' and 'MethodSub'"
     ]
    }
   ],
   "source": [
    "num_1 * num_2"
   ]
  },
  {
   "cell_type": "code",
   "execution_count": 355,
   "id": "ae648ac0-b348-4a8d-b2e5-5ec0eaa4a169",
   "metadata": {},
   "outputs": [
    {
     "data": {
      "text/plain": [
       "2.1"
      ]
     },
     "execution_count": 355,
     "metadata": {},
     "output_type": "execute_result"
    }
   ],
   "source": [
    "1.0 * 2.1"
   ]
  },
  {
   "cell_type": "code",
   "execution_count": 356,
   "id": "5c563b0a-5d59-4eb4-bd0d-6cecd7a6ba62",
   "metadata": {},
   "outputs": [
    {
     "data": {
      "text/plain": [
       "2.1"
      ]
     },
     "execution_count": 356,
     "metadata": {},
     "output_type": "execute_result"
    }
   ],
   "source": [
    "float.__mul__(1.0, 2.1)"
   ]
  },
  {
   "cell_type": "code",
   "execution_count": 357,
   "id": "5b19a1b0-6cf4-42c7-a82e-96b4976380e7",
   "metadata": {},
   "outputs": [
    {
     "ename": "TypeError",
     "evalue": "descriptor '__mul__' requires a 'float' object but received a 'int'",
     "output_type": "error",
     "traceback": [
      "\u001b[1;31m---------------------------------------------------------------------------\u001b[0m",
      "\u001b[1;31mTypeError\u001b[0m                                 Traceback (most recent call last)",
      "Cell \u001b[1;32mIn[357], line 1\u001b[0m\n\u001b[1;32m----> 1\u001b[0m \u001b[38;5;28mfloat\u001b[39m\u001b[38;5;241m.\u001b[39m\u001b[38;5;21m__mul__\u001b[39m(\u001b[38;5;241m1\u001b[39m, \u001b[38;5;241m2.1\u001b[39m)\n",
      "\u001b[1;31mTypeError\u001b[0m: descriptor '__mul__' requires a 'float' object but received a 'int'"
     ]
    }
   ],
   "source": [
    "float.__mul__(1, 2.1)"
   ]
  },
  {
   "cell_type": "code",
   "execution_count": 358,
   "id": "3fff9505-506e-4f41-bbfb-f6cb7d93339a",
   "metadata": {},
   "outputs": [],
   "source": [
    "class Savings:\n",
    "    def __init__(self, amount): \n",
    "        self.__amount = amount                          \n",
    "    def __add__(self, other):\n",
    "        return self.__amount + other.__amount\n",
    "    def __mul__(self, other):\n",
    "        if type(other) == int or type(other) == float:\n",
    "            return self.__amount * other\n",
    "        else: \n",
    "            raise ValueError('Can only multiply by int or float')"
   ]
  },
  {
   "cell_type": "code",
   "execution_count": 359,
   "id": "cfa7507c-0061-4e89-8f87-4afaa6d6f8ac",
   "metadata": {},
   "outputs": [],
   "source": [
    "s1 = Savings(1000)\n",
    "s2 = Savings(200)"
   ]
  },
  {
   "cell_type": "code",
   "execution_count": 360,
   "id": "48b180ad-6f86-4207-b23e-13b44dfcb123",
   "metadata": {},
   "outputs": [
    {
     "data": {
      "text/plain": [
       "1200"
      ]
     },
     "execution_count": 360,
     "metadata": {},
     "output_type": "execute_result"
    }
   ],
   "source": [
    "s1 + s2"
   ]
  },
  {
   "cell_type": "code",
   "execution_count": 361,
   "id": "ff718390-46d9-4374-ad71-ba773b8759e2",
   "metadata": {},
   "outputs": [
    {
     "ename": "ValueError",
     "evalue": "Can only multiply by int or float",
     "output_type": "error",
     "traceback": [
      "\u001b[1;31m---------------------------------------------------------------------------\u001b[0m",
      "\u001b[1;31mValueError\u001b[0m                                Traceback (most recent call last)",
      "Cell \u001b[1;32mIn[361], line 1\u001b[0m\n\u001b[1;32m----> 1\u001b[0m s1 \u001b[38;5;241m*\u001b[39m s2\n",
      "Cell \u001b[1;32mIn[358], line 10\u001b[0m, in \u001b[0;36mSavings.__mul__\u001b[1;34m(self, other)\u001b[0m\n\u001b[0;32m      8\u001b[0m     \u001b[38;5;28;01mreturn\u001b[39;00m \u001b[38;5;28mself\u001b[39m\u001b[38;5;241m.\u001b[39m__amount \u001b[38;5;241m*\u001b[39m other\n\u001b[0;32m      9\u001b[0m \u001b[38;5;28;01melse\u001b[39;00m: \n\u001b[1;32m---> 10\u001b[0m     \u001b[38;5;28;01mraise\u001b[39;00m \u001b[38;5;167;01mValueError\u001b[39;00m(\u001b[38;5;124m'\u001b[39m\u001b[38;5;124mCan only multiply by int or float\u001b[39m\u001b[38;5;124m'\u001b[39m)\n",
      "\u001b[1;31mValueError\u001b[0m: Can only multiply by int or float"
     ]
    }
   ],
   "source": [
    "s1 * s2"
   ]
  },
  {
   "cell_type": "code",
   "execution_count": 362,
   "id": "016f1b52-bad4-48f8-b74f-f1225548c926",
   "metadata": {},
   "outputs": [
    {
     "data": {
      "text/plain": [
       "3000"
      ]
     },
     "execution_count": 362,
     "metadata": {},
     "output_type": "execute_result"
    }
   ],
   "source": [
    "s1 * 3"
   ]
  },
  {
   "cell_type": "code",
   "execution_count": 363,
   "id": "a77c525f-9c87-4c98-b4b6-321c3406ec16",
   "metadata": {},
   "outputs": [
    {
     "data": {
      "text/plain": [
       "3"
      ]
     },
     "execution_count": 363,
     "metadata": {},
     "output_type": "execute_result"
    }
   ],
   "source": [
    "10 // 3"
   ]
  },
  {
   "cell_type": "code",
   "execution_count": 364,
   "id": "ee667079-b5b5-4fdb-9cb6-0838a953bd0d",
   "metadata": {},
   "outputs": [],
   "source": [
    "class MethodFloordiv:\n",
    "    def __init__(self,  number): \n",
    "        self.__number = number\n",
    "                                                    \n",
    "    def __floordiv__(self, other):\n",
    "        return self.__number // other.__number"
   ]
  },
  {
   "cell_type": "code",
   "execution_count": 365,
   "id": "8b8b2b6f-4f78-426c-8e2a-0dd5a75080c0",
   "metadata": {},
   "outputs": [],
   "source": [
    "num_1 = MethodFloordiv(10)\n",
    "num_2 = MethodFloordiv(3)"
   ]
  },
  {
   "cell_type": "code",
   "execution_count": 366,
   "id": "2deee368-53b9-4268-a3f8-6a5b5b0288e4",
   "metadata": {},
   "outputs": [
    {
     "data": {
      "text/plain": [
       "3"
      ]
     },
     "execution_count": 366,
     "metadata": {},
     "output_type": "execute_result"
    }
   ],
   "source": [
    "num_1 // num_2"
   ]
  },
  {
   "cell_type": "code",
   "execution_count": 367,
   "id": "b7649b48-725b-47ec-84e3-741605d475f3",
   "metadata": {},
   "outputs": [
    {
     "data": {
      "text/plain": [
       "1"
      ]
     },
     "execution_count": 367,
     "metadata": {},
     "output_type": "execute_result"
    }
   ],
   "source": [
    "5 % 2"
   ]
  },
  {
   "cell_type": "code",
   "execution_count": 368,
   "id": "b29d171e-5f8a-4063-87d1-abb8c3babe22",
   "metadata": {},
   "outputs": [
    {
     "data": {
      "text/plain": [
       "1"
      ]
     },
     "execution_count": 368,
     "metadata": {},
     "output_type": "execute_result"
    }
   ],
   "source": [
    "int.__mod__(5, 2)"
   ]
  },
  {
   "cell_type": "code",
   "execution_count": 369,
   "id": "12a4dccd-c606-4548-bc27-79550493e284",
   "metadata": {},
   "outputs": [],
   "source": [
    "class MethodMod:\n",
    "        \n",
    "    def __init__(self,  number): \n",
    "        self.__number = number                                          \n",
    "        \n",
    "    def __mod__(self, other): \n",
    "        return self.__number % other.__number"
   ]
  },
  {
   "cell_type": "code",
   "execution_count": 370,
   "id": "275a0ad9-6c59-424f-9d1f-0cd297c4a241",
   "metadata": {},
   "outputs": [],
   "source": [
    "num_1 = MethodMod(10)\n",
    "num_2 = MethodMod(3)"
   ]
  },
  {
   "cell_type": "code",
   "execution_count": 371,
   "id": "6005ffe1-0866-419e-a209-81b5204b5dfe",
   "metadata": {},
   "outputs": [
    {
     "data": {
      "text/plain": [
       "1"
      ]
     },
     "execution_count": 371,
     "metadata": {},
     "output_type": "execute_result"
    }
   ],
   "source": [
    "num_1 % num_2"
   ]
  },
  {
   "cell_type": "code",
   "execution_count": 372,
   "id": "dcfa898b-cb18-4251-8147-98da23c46f04",
   "metadata": {},
   "outputs": [
    {
     "data": {
      "text/plain": [
       "36"
      ]
     },
     "execution_count": 372,
     "metadata": {},
     "output_type": "execute_result"
    }
   ],
   "source": [
    "6**2"
   ]
  },
  {
   "cell_type": "code",
   "execution_count": 373,
   "id": "96fb11be-6450-464d-b5fa-7022fdec0467",
   "metadata": {},
   "outputs": [
    {
     "data": {
      "text/plain": [
       "36"
      ]
     },
     "execution_count": 373,
     "metadata": {},
     "output_type": "execute_result"
    }
   ],
   "source": [
    "int.__pow__(6, 2)"
   ]
  },
  {
   "cell_type": "code",
   "execution_count": 374,
   "id": "5a79b31d-28b4-4970-b4a4-d5866e2a1d30",
   "metadata": {},
   "outputs": [],
   "source": [
    "class MethodPower:\n",
    "        \n",
    "    def __init__(self,  number):\n",
    "        self.number = number                                          \n",
    "        \n",
    "    def __pow__(self, other): \n",
    "        return self.number**other.number"
   ]
  },
  {
   "cell_type": "code",
   "execution_count": 375,
   "id": "f4cd90af-8ef7-4438-9948-56f31318d5be",
   "metadata": {},
   "outputs": [],
   "source": [
    "num_1 = MethodPower(10)\n",
    "num_2 = MethodPower(3)"
   ]
  },
  {
   "cell_type": "code",
   "execution_count": 376,
   "id": "7f4092a5-f144-42d8-bf68-83d9a7ee165a",
   "metadata": {},
   "outputs": [
    {
     "data": {
      "text/plain": [
       "1000"
      ]
     },
     "execution_count": 376,
     "metadata": {},
     "output_type": "execute_result"
    }
   ],
   "source": [
    "num_1**num_2"
   ]
  },
  {
   "cell_type": "code",
   "execution_count": 377,
   "id": "5d135582-ecce-4fe2-816f-ed0ef256c8cc",
   "metadata": {},
   "outputs": [
    {
     "data": {
      "text/plain": [
       "7"
      ]
     },
     "execution_count": 377,
     "metadata": {},
     "output_type": "execute_result"
    }
   ],
   "source": [
    "len('test-me')"
   ]
  },
  {
   "cell_type": "code",
   "execution_count": 378,
   "id": "e41aa61e-6e2e-4b21-aae5-2029c4b82bf9",
   "metadata": {},
   "outputs": [
    {
     "data": {
      "text/plain": [
       "7"
      ]
     },
     "execution_count": 378,
     "metadata": {},
     "output_type": "execute_result"
    }
   ],
   "source": [
    "str.__len__('test-me')"
   ]
  },
  {
   "cell_type": "code",
   "execution_count": 379,
   "id": "0191653a-b299-48da-a40a-a2a63609fc99",
   "metadata": {},
   "outputs": [
    {
     "data": {
      "text/plain": [
       "7"
      ]
     },
     "execution_count": 379,
     "metadata": {},
     "output_type": "execute_result"
    }
   ],
   "source": [
    "some_list = [1, 4, 5, 7, 2, 3, 5]\n",
    "len(some_list)"
   ]
  },
  {
   "cell_type": "code",
   "execution_count": 380,
   "id": "f9661964-7c7b-48b4-b2b4-7f90fcc01454",
   "metadata": {},
   "outputs": [],
   "source": [
    "class Participants:\n",
    "       \n",
    "    def __init__(self):\n",
    "        self.__participants = []                            \n",
    "                                    \n",
    "    def add_participant(self, name):\n",
    "        self.__participants.append(name)\n",
    "\n",
    "    def __len__(self):\n",
    "        return len(self.__participants)"
   ]
  },
  {
   "cell_type": "code",
   "execution_count": 381,
   "id": "730bab01-338f-40e6-bf51-e95ee9221fac",
   "metadata": {},
   "outputs": [],
   "source": [
    "p = Participants()"
   ]
  },
  {
   "cell_type": "code",
   "execution_count": 382,
   "id": "6b13bf37-ba1d-485d-8c79-83c674bcaf57",
   "metadata": {},
   "outputs": [
    {
     "data": {
      "text/plain": [
       "0"
      ]
     },
     "execution_count": 382,
     "metadata": {},
     "output_type": "execute_result"
    }
   ],
   "source": [
    "len(p)"
   ]
  },
  {
   "cell_type": "code",
   "execution_count": 383,
   "id": "4c846fbe-76f7-4ec0-abf9-e5fffd6d771f",
   "metadata": {},
   "outputs": [],
   "source": [
    "p.add_participant('James')"
   ]
  },
  {
   "cell_type": "code",
   "execution_count": 384,
   "id": "01b0f193-f50a-47f1-a81f-167e994a2071",
   "metadata": {},
   "outputs": [
    {
     "data": {
      "text/plain": [
       "1"
      ]
     },
     "execution_count": 384,
     "metadata": {},
     "output_type": "execute_result"
    }
   ],
   "source": [
    "len(p)"
   ]
  },
  {
   "cell_type": "code",
   "execution_count": 385,
   "id": "e3394152-e498-4607-a9cf-3e1d3b948e70",
   "metadata": {},
   "outputs": [],
   "source": [
    "p.add_participant('Emily')"
   ]
  },
  {
   "cell_type": "code",
   "execution_count": 386,
   "id": "20181ef0-0c70-4192-9e34-14750d732b20",
   "metadata": {},
   "outputs": [
    {
     "data": {
      "text/plain": [
       "2"
      ]
     },
     "execution_count": 386,
     "metadata": {},
     "output_type": "execute_result"
    }
   ],
   "source": [
    "len(p)"
   ]
  },
  {
   "cell_type": "code",
   "execution_count": 387,
   "id": "eb19b696-4ec9-4bef-80f3-23b0055f6772",
   "metadata": {},
   "outputs": [
    {
     "data": {
      "text/plain": [
       "mappingproxy({'__new__': <function list.__new__(*args, **kwargs)>,\n",
       "              '__repr__': <slot wrapper '__repr__' of 'list' objects>,\n",
       "              '__hash__': None,\n",
       "              '__getattribute__': <slot wrapper '__getattribute__' of 'list' objects>,\n",
       "              '__lt__': <slot wrapper '__lt__' of 'list' objects>,\n",
       "              '__le__': <slot wrapper '__le__' of 'list' objects>,\n",
       "              '__eq__': <slot wrapper '__eq__' of 'list' objects>,\n",
       "              '__ne__': <slot wrapper '__ne__' of 'list' objects>,\n",
       "              '__gt__': <slot wrapper '__gt__' of 'list' objects>,\n",
       "              '__ge__': <slot wrapper '__ge__' of 'list' objects>,\n",
       "              '__iter__': <slot wrapper '__iter__' of 'list' objects>,\n",
       "              '__init__': <slot wrapper '__init__' of 'list' objects>,\n",
       "              '__len__': <slot wrapper '__len__' of 'list' objects>,\n",
       "              '__getitem__': <method '__getitem__' of 'list' objects>,\n",
       "              '__setitem__': <slot wrapper '__setitem__' of 'list' objects>,\n",
       "              '__delitem__': <slot wrapper '__delitem__' of 'list' objects>,\n",
       "              '__add__': <slot wrapper '__add__' of 'list' objects>,\n",
       "              '__mul__': <slot wrapper '__mul__' of 'list' objects>,\n",
       "              '__rmul__': <slot wrapper '__rmul__' of 'list' objects>,\n",
       "              '__contains__': <slot wrapper '__contains__' of 'list' objects>,\n",
       "              '__iadd__': <slot wrapper '__iadd__' of 'list' objects>,\n",
       "              '__imul__': <slot wrapper '__imul__' of 'list' objects>,\n",
       "              '__reversed__': <method '__reversed__' of 'list' objects>,\n",
       "              '__sizeof__': <method '__sizeof__' of 'list' objects>,\n",
       "              'clear': <method 'clear' of 'list' objects>,\n",
       "              'copy': <method 'copy' of 'list' objects>,\n",
       "              'append': <method 'append' of 'list' objects>,\n",
       "              'insert': <method 'insert' of 'list' objects>,\n",
       "              'extend': <method 'extend' of 'list' objects>,\n",
       "              'pop': <method 'pop' of 'list' objects>,\n",
       "              'remove': <method 'remove' of 'list' objects>,\n",
       "              'index': <method 'index' of 'list' objects>,\n",
       "              'count': <method 'count' of 'list' objects>,\n",
       "              'reverse': <method 'reverse' of 'list' objects>,\n",
       "              'sort': <method 'sort' of 'list' objects>,\n",
       "              '__class_getitem__': <method '__class_getitem__' of 'list' objects>,\n",
       "              '__doc__': 'Built-in mutable sequence.\\n\\nIf no argument is given, the constructor creates a new empty list.\\nThe argument must be an iterable if specified.'})"
      ]
     },
     "execution_count": 387,
     "metadata": {},
     "output_type": "execute_result"
    }
   ],
   "source": [
    "list.__dict__"
   ]
  },
  {
   "cell_type": "code",
   "execution_count": 388,
   "id": "31da4d41-310c-43fb-92b8-a51046c82526",
   "metadata": {},
   "outputs": [],
   "source": [
    "some_list = [1, 4, 5, 7, 2, 3, 5]"
   ]
  },
  {
   "cell_type": "code",
   "execution_count": 389,
   "id": "a99126b4-f5d6-42b9-b856-d96cff57ab14",
   "metadata": {},
   "outputs": [
    {
     "name": "stdout",
     "output_type": "stream",
     "text": [
      "1\n",
      "4\n",
      "5\n",
      "7\n",
      "2\n",
      "3\n",
      "5\n"
     ]
    }
   ],
   "source": [
    "for num in some_list:\n",
    "    print(num)"
   ]
  },
  {
   "cell_type": "code",
   "execution_count": 390,
   "id": "c006a6cf-be77-4491-ada0-35445ae3d7cb",
   "metadata": {},
   "outputs": [],
   "source": [
    "class Participants:\n",
    "    def __init__(self):\n",
    "        self.__participants = []\n",
    "        self.__index = 0\n",
    "                                    \n",
    "    def add_participant(self, name):\n",
    "        self.__participants.append(name)\n",
    "\n",
    "    def __len__(self):\n",
    "        return len(self.__participants)\n",
    "\n",
    "    def __iter__(self):\n",
    "        self.__index = 0\n",
    "        return self\n",
    "    \n",
    "    def __next__(self):\n",
    "        if self.__index == len(self.__participants):\n",
    "            raise StopIteration\n",
    "        \n",
    "        p = self.__participants[self.__index]\n",
    "        \n",
    "        self.__index += 1\n",
    "        \n",
    "        return p"
   ]
  },
  {
   "cell_type": "code",
   "execution_count": 391,
   "id": "8502abe0-13eb-4a49-a7dd-cf18e76caaa8",
   "metadata": {},
   "outputs": [],
   "source": [
    "participants = Participants()\n",
    "participants.add_participant('Lily')\n",
    "participants.add_participant('James')\n",
    "participants.add_participant('Harry')\n",
    "participants.add_participant('Ron')\n",
    "participants.add_participant('Hermione')"
   ]
  },
  {
   "cell_type": "code",
   "execution_count": 392,
   "id": "e98dd3dd-a770-4d98-80fe-1474207e8a9b",
   "metadata": {},
   "outputs": [
    {
     "name": "stdout",
     "output_type": "stream",
     "text": [
      "Lily\n",
      "James\n",
      "Harry\n",
      "Ron\n",
      "Hermione\n"
     ]
    }
   ],
   "source": [
    "for p in participants:\n",
    "    print(p)"
   ]
  },
  {
   "cell_type": "code",
   "execution_count": 393,
   "id": "5a3d0453-c12b-44b3-a98e-a1d83fd2f3b6",
   "metadata": {},
   "outputs": [],
   "source": [
    "participants.add_participant('Ginny')"
   ]
  },
  {
   "cell_type": "code",
   "execution_count": 394,
   "id": "7f48808e-f549-4b20-883e-4123779dbe86",
   "metadata": {},
   "outputs": [
    {
     "name": "stdout",
     "output_type": "stream",
     "text": [
      "Lily\n",
      "James\n",
      "Harry\n",
      "Ron\n",
      "Hermione\n",
      "Ginny\n"
     ]
    }
   ],
   "source": [
    "for p in participants:\n",
    "    print(p)"
   ]
  },
  {
   "cell_type": "code",
   "execution_count": 395,
   "id": "733eafe1-4b25-4e67-8f86-8b8b77be1919",
   "metadata": {},
   "outputs": [
    {
     "data": {
      "text/plain": [
       "<__main__.Participants at 0x18717807c80>"
      ]
     },
     "execution_count": 395,
     "metadata": {},
     "output_type": "execute_result"
    }
   ],
   "source": [
    "iter(participants)"
   ]
  },
  {
   "cell_type": "code",
   "execution_count": 396,
   "id": "ab02215c-4cef-446e-a897-c66185f754d5",
   "metadata": {},
   "outputs": [
    {
     "data": {
      "text/plain": [
       "'Lily'"
      ]
     },
     "execution_count": 396,
     "metadata": {},
     "output_type": "execute_result"
    }
   ],
   "source": [
    "next(participants)"
   ]
  },
  {
   "cell_type": "code",
   "execution_count": 397,
   "id": "5bf46301-d902-4f76-a8ad-5bffede0e4bf",
   "metadata": {},
   "outputs": [
    {
     "data": {
      "text/plain": [
       "'James'"
      ]
     },
     "execution_count": 397,
     "metadata": {},
     "output_type": "execute_result"
    }
   ],
   "source": [
    "next(participants)"
   ]
  },
  {
   "cell_type": "code",
   "execution_count": 398,
   "id": "453f52d7-09c7-4d08-9891-21597415b498",
   "metadata": {},
   "outputs": [
    {
     "data": {
      "text/plain": [
       "'Harry'"
      ]
     },
     "execution_count": 398,
     "metadata": {},
     "output_type": "execute_result"
    }
   ],
   "source": [
    "next(participants)"
   ]
  },
  {
   "cell_type": "markdown",
   "id": "5a0dfc49-3fba-4b75-9ae3-ca462d5625a0",
   "metadata": {},
   "source": [
    "## Getters & Setters"
   ]
  },
  {
   "cell_type": "code",
   "execution_count": 399,
   "id": "d6fb8930-228d-4407-8309-2580aa9882fc",
   "metadata": {},
   "outputs": [],
   "source": [
    "class Wrestler: \n",
    "    def __init__(self): \n",
    "         self.__name = '' \n",
    "\n",
    "    def set_name(self, name):\n",
    "        self.__name = name\n",
    "\n",
    "    def get_name(self): \n",
    "        return self.__name"
   ]
  },
  {
   "cell_type": "code",
   "execution_count": 400,
   "id": "d22f5a1f-b67f-41dd-af8b-bcb0ebc0ae29",
   "metadata": {},
   "outputs": [
    {
     "data": {
      "text/plain": [
       "'Steve'"
      ]
     },
     "execution_count": 400,
     "metadata": {},
     "output_type": "execute_result"
    }
   ],
   "source": [
    "w1 = Wrestler()\n",
    "w1.set_name('Steve')\n",
    "w1.get_name()"
   ]
  },
  {
   "cell_type": "code",
   "execution_count": 401,
   "id": "d87f7080-1182-4e7f-bf59-824d952fbf05",
   "metadata": {},
   "outputs": [
    {
     "ename": "AttributeError",
     "evalue": "'Wrestler' object has no attribute 'name'",
     "output_type": "error",
     "traceback": [
      "\u001b[1;31m---------------------------------------------------------------------------\u001b[0m",
      "\u001b[1;31mAttributeError\u001b[0m                            Traceback (most recent call last)",
      "Cell \u001b[1;32mIn[401], line 1\u001b[0m\n\u001b[1;32m----> 1\u001b[0m w1\u001b[38;5;241m.\u001b[39mname\n",
      "\u001b[1;31mAttributeError\u001b[0m: 'Wrestler' object has no attribute 'name'"
     ]
    }
   ],
   "source": [
    "w1.name"
   ]
  },
  {
   "cell_type": "code",
   "execution_count": 402,
   "id": "d651b640-2542-476d-ad8b-67ed6d5e1a3d",
   "metadata": {},
   "outputs": [
    {
     "ename": "AttributeError",
     "evalue": "'Wrestler' object has no attribute '__name'",
     "output_type": "error",
     "traceback": [
      "\u001b[1;31m---------------------------------------------------------------------------\u001b[0m",
      "\u001b[1;31mAttributeError\u001b[0m                            Traceback (most recent call last)",
      "Cell \u001b[1;32mIn[402], line 1\u001b[0m\n\u001b[1;32m----> 1\u001b[0m w1\u001b[38;5;241m.\u001b[39m__name\n",
      "\u001b[1;31mAttributeError\u001b[0m: 'Wrestler' object has no attribute '__name'"
     ]
    }
   ],
   "source": [
    "w1.__name"
   ]
  },
  {
   "cell_type": "code",
   "execution_count": 403,
   "id": "fb24ae23-e286-476c-9c79-c2b47239a7b1",
   "metadata": {},
   "outputs": [
    {
     "data": {
      "text/plain": [
       "{'_Wrestler__name': 'Steve'}"
      ]
     },
     "execution_count": 403,
     "metadata": {},
     "output_type": "execute_result"
    }
   ],
   "source": [
    "w1.__dict__"
   ]
  },
  {
   "cell_type": "code",
   "execution_count": 404,
   "id": "23bd7a5c-ffa8-4aec-8b0e-c3b58597d6bc",
   "metadata": {},
   "outputs": [
    {
     "data": {
      "text/plain": [
       "'Steve'"
      ]
     },
     "execution_count": 404,
     "metadata": {},
     "output_type": "execute_result"
    }
   ],
   "source": [
    "w1._Wrestler__name"
   ]
  },
  {
   "cell_type": "code",
   "execution_count": 405,
   "id": "d8a05ddd-9d57-4fe2-af8d-8c8747f27e33",
   "metadata": {},
   "outputs": [],
   "source": [
    "class Wrestler:\n",
    "    \n",
    "    def __init__(self):\n",
    "        self.__name = ''    \n",
    "    \n",
    "    def set_name(self, name):\n",
    "        print('setter method called')\n",
    "        self.__name = name    \n",
    "        \n",
    "    def get_name(self):\n",
    "        print('getter method called')\n",
    "        return self.__name\n",
    "    \n",
    "    name = property(get_name, set_name)"
   ]
  },
  {
   "cell_type": "code",
   "execution_count": 406,
   "id": "29e75949-6982-4dae-8933-c8055ce5aa4a",
   "metadata": {},
   "outputs": [],
   "source": [
    "w = Wrestler()"
   ]
  },
  {
   "cell_type": "code",
   "execution_count": 407,
   "id": "2a02fc56-fd24-4d0d-bbf3-38117ab83f0e",
   "metadata": {},
   "outputs": [
    {
     "name": "stdout",
     "output_type": "stream",
     "text": [
      "setter method called\n"
     ]
    }
   ],
   "source": [
    "w.name = 'Kart'"
   ]
  },
  {
   "cell_type": "code",
   "execution_count": 408,
   "id": "c4b04cd3-26c4-4394-aeaa-4ab0cbf04e7a",
   "metadata": {},
   "outputs": [
    {
     "name": "stdout",
     "output_type": "stream",
     "text": [
      "getter method called\n"
     ]
    },
    {
     "data": {
      "text/plain": [
       "'Kart'"
      ]
     },
     "execution_count": 408,
     "metadata": {},
     "output_type": "execute_result"
    }
   ],
   "source": [
    "w.name"
   ]
  },
  {
   "cell_type": "code",
   "execution_count": 409,
   "id": "7f52541c-5b4c-4a9d-92c9-2accd8089719",
   "metadata": {},
   "outputs": [],
   "source": [
    "class Wrestler:\n",
    "    \n",
    "    def __init__(self):\n",
    "        self.__name = ''     \n",
    "    \n",
    "    def set_name(self, name):\n",
    "        print('setter method called')\n",
    "        self.__name = name\n",
    "             \n",
    "    def get_name(self):\n",
    "        print('getter method called')\n",
    "        return self.__name\n",
    "    \n",
    "    def del_name(self):\n",
    "        print('deleter method called')\n",
    "        \n",
    "        del self.__name\n",
    "           \n",
    "    name = property(get_name, set_name, del_name)"
   ]
  },
  {
   "cell_type": "code",
   "execution_count": 410,
   "id": "3144b682-db3a-46fa-821c-ce71ab515662",
   "metadata": {},
   "outputs": [],
   "source": [
    "w = Wrestler()"
   ]
  },
  {
   "cell_type": "code",
   "execution_count": 411,
   "id": "88b3bf72-e32c-47e6-b4dd-fd1d96333648",
   "metadata": {},
   "outputs": [
    {
     "name": "stdout",
     "output_type": "stream",
     "text": [
      "setter method called\n"
     ]
    }
   ],
   "source": [
    "w.name = 'Kane'"
   ]
  },
  {
   "cell_type": "code",
   "execution_count": 412,
   "id": "715d5ddd-72a6-481f-ab94-7192318421cc",
   "metadata": {},
   "outputs": [
    {
     "name": "stdout",
     "output_type": "stream",
     "text": [
      "getter method called\n"
     ]
    },
    {
     "data": {
      "text/plain": [
       "'Kane'"
      ]
     },
     "execution_count": 412,
     "metadata": {},
     "output_type": "execute_result"
    }
   ],
   "source": [
    "w.name"
   ]
  },
  {
   "cell_type": "code",
   "execution_count": 413,
   "id": "1a15204b-9bbf-4c99-9e9a-5039f20d2d58",
   "metadata": {},
   "outputs": [
    {
     "name": "stdout",
     "output_type": "stream",
     "text": [
      "deleter method called\n"
     ]
    }
   ],
   "source": [
    "del w.name"
   ]
  },
  {
   "cell_type": "code",
   "execution_count": 414,
   "id": "a01c2866-9612-4ec3-a345-8b710dfebc1c",
   "metadata": {},
   "outputs": [
    {
     "name": "stdout",
     "output_type": "stream",
     "text": [
      "getter method called\n"
     ]
    },
    {
     "ename": "AttributeError",
     "evalue": "'Wrestler' object has no attribute '_Wrestler__name'",
     "output_type": "error",
     "traceback": [
      "\u001b[1;31m---------------------------------------------------------------------------\u001b[0m",
      "\u001b[1;31mAttributeError\u001b[0m                            Traceback (most recent call last)",
      "Cell \u001b[1;32mIn[414], line 1\u001b[0m\n\u001b[1;32m----> 1\u001b[0m w\u001b[38;5;241m.\u001b[39mname\n",
      "Cell \u001b[1;32mIn[409], line 12\u001b[0m, in \u001b[0;36mWrestler.get_name\u001b[1;34m(self)\u001b[0m\n\u001b[0;32m     10\u001b[0m \u001b[38;5;28;01mdef\u001b[39;00m \u001b[38;5;21mget_name\u001b[39m(\u001b[38;5;28mself\u001b[39m):\n\u001b[0;32m     11\u001b[0m     \u001b[38;5;28mprint\u001b[39m(\u001b[38;5;124m'\u001b[39m\u001b[38;5;124mgetter method called\u001b[39m\u001b[38;5;124m'\u001b[39m)\n\u001b[1;32m---> 12\u001b[0m     \u001b[38;5;28;01mreturn\u001b[39;00m \u001b[38;5;28mself\u001b[39m\u001b[38;5;241m.\u001b[39m__name\n",
      "\u001b[1;31mAttributeError\u001b[0m: 'Wrestler' object has no attribute '_Wrestler__name'"
     ]
    }
   ],
   "source": [
    "w.name"
   ]
  },
  {
   "cell_type": "code",
   "execution_count": 415,
   "id": "035abd5a-29e0-49a9-afb6-99c04375e6f0",
   "metadata": {},
   "outputs": [],
   "source": [
    "class Wrestler:  #getter,setter,deleter with property decorator\n",
    "    def __init__(self, name):\n",
    "        self.__name = name\n",
    "        \n",
    "    @property\n",
    "    def name(self):\n",
    "        print('getter method called')\n",
    "        return self.__name \n",
    "\n",
    "    @name.setter\n",
    "    def name(self, value):\n",
    "        print('setter method called')\n",
    "        self.__name = value\n",
    "        \n",
    "    @name.deleter\n",
    "    def name(self):\n",
    "        print('deleter method called')\n",
    "        del self.__name"
   ]
  },
  {
   "cell_type": "code",
   "execution_count": 416,
   "id": "69f830d5-e54d-4afa-81d1-18e842ded708",
   "metadata": {},
   "outputs": [],
   "source": [
    "w = Wrestler('Adam')"
   ]
  },
  {
   "cell_type": "code",
   "execution_count": 417,
   "id": "eb9e18cf-a2a7-4d1b-b215-d4d0ffae857b",
   "metadata": {},
   "outputs": [
    {
     "name": "stdout",
     "output_type": "stream",
     "text": [
      "getter method called\n"
     ]
    },
    {
     "data": {
      "text/plain": [
       "'Adam'"
      ]
     },
     "execution_count": 417,
     "metadata": {},
     "output_type": "execute_result"
    }
   ],
   "source": [
    "w.name"
   ]
  },
  {
   "cell_type": "code",
   "execution_count": 418,
   "id": "9d2d7408-87bb-4810-b4e0-4d750dc78fa7",
   "metadata": {},
   "outputs": [
    {
     "name": "stdout",
     "output_type": "stream",
     "text": [
      "setter method called\n"
     ]
    }
   ],
   "source": [
    "w.name = 'John'"
   ]
  },
  {
   "cell_type": "code",
   "execution_count": 419,
   "id": "ead569b2-7705-4017-9f42-7d6c783607df",
   "metadata": {},
   "outputs": [
    {
     "name": "stdout",
     "output_type": "stream",
     "text": [
      "deleter method called\n"
     ]
    }
   ],
   "source": [
    "del w.name"
   ]
  },
  {
   "cell_type": "code",
   "execution_count": 420,
   "id": "6efe6e2b-60bb-4ae9-bfbd-a5100df90608",
   "metadata": {},
   "outputs": [
    {
     "name": "stdout",
     "output_type": "stream",
     "text": [
      "getter method called\n"
     ]
    },
    {
     "ename": "AttributeError",
     "evalue": "'Wrestler' object has no attribute '_Wrestler__name'",
     "output_type": "error",
     "traceback": [
      "\u001b[1;31m---------------------------------------------------------------------------\u001b[0m",
      "\u001b[1;31mAttributeError\u001b[0m                            Traceback (most recent call last)",
      "Cell \u001b[1;32mIn[420], line 1\u001b[0m\n\u001b[1;32m----> 1\u001b[0m w\u001b[38;5;241m.\u001b[39mname\n",
      "Cell \u001b[1;32mIn[415], line 8\u001b[0m, in \u001b[0;36mWrestler.name\u001b[1;34m(self)\u001b[0m\n\u001b[0;32m      5\u001b[0m \u001b[38;5;129m@property\u001b[39m\n\u001b[0;32m      6\u001b[0m \u001b[38;5;28;01mdef\u001b[39;00m \u001b[38;5;21mname\u001b[39m(\u001b[38;5;28mself\u001b[39m):\n\u001b[0;32m      7\u001b[0m     \u001b[38;5;28mprint\u001b[39m(\u001b[38;5;124m'\u001b[39m\u001b[38;5;124mgetter method called\u001b[39m\u001b[38;5;124m'\u001b[39m)\n\u001b[1;32m----> 8\u001b[0m     \u001b[38;5;28;01mreturn\u001b[39;00m \u001b[38;5;28mself\u001b[39m\u001b[38;5;241m.\u001b[39m__name\n",
      "\u001b[1;31mAttributeError\u001b[0m: 'Wrestler' object has no attribute '_Wrestler__name'"
     ]
    }
   ],
   "source": [
    "w.name"
   ]
  },
  {
   "cell_type": "code",
   "execution_count": 421,
   "id": "00965d67-4aea-48a8-9273-0985ed4df853",
   "metadata": {},
   "outputs": [],
   "source": [
    "class Wrestler:\n",
    "    \n",
    "    def __init__(self, name, age):\n",
    "        self.__name = name\n",
    "        self.__age = age\n",
    "        \n",
    "    @property\n",
    "    def name(self):\n",
    "        print('name getter method called')\n",
    "        return self.__name \n",
    "\n",
    "    @name.setter\n",
    "    def name(self, value):\n",
    "        print('name setter method called')\n",
    "        self.__name = value\n",
    "        \n",
    "    @name.deleter\n",
    "    def name(self):\n",
    "        print('name deleter method called')\n",
    "        del self.__name\n",
    "        \n",
    "    @property\n",
    "    def age(self):\n",
    "        print('age getter method called')\n",
    "        return self.__age\n",
    "\n",
    "    @age.setter\n",
    "    def age(self, value):\n",
    "        print('age setter method called')\n",
    "        self.__age = value\n",
    "        \n",
    "    @age.deleter\n",
    "    def age(self):\n",
    "        print('age deleter method called')\n",
    "        del self.__age"
   ]
  },
  {
   "cell_type": "code",
   "execution_count": 422,
   "id": "049e1c20-e2d2-4392-b7a9-484759a9e15d",
   "metadata": {},
   "outputs": [
    {
     "name": "stdout",
     "output_type": "stream",
     "text": [
      "name getter method called\n"
     ]
    },
    {
     "data": {
      "text/plain": [
       "'Mark'"
      ]
     },
     "execution_count": 422,
     "metadata": {},
     "output_type": "execute_result"
    }
   ],
   "source": [
    "w = Wrestler('Mark', 25)\n",
    "w.name"
   ]
  },
  {
   "cell_type": "code",
   "execution_count": 423,
   "id": "d44ba4c7-81cd-456b-ac38-67f0ff1f3bf4",
   "metadata": {},
   "outputs": [
    {
     "name": "stdout",
     "output_type": "stream",
     "text": [
      "name setter method called\n"
     ]
    }
   ],
   "source": [
    "w.name = 'Joe'"
   ]
  },
  {
   "cell_type": "code",
   "execution_count": 424,
   "id": "05ab457b-d36f-430f-b9ba-fe8d927f9375",
   "metadata": {},
   "outputs": [
    {
     "name": "stdout",
     "output_type": "stream",
     "text": [
      "name deleter method called\n"
     ]
    }
   ],
   "source": [
    "del w.name"
   ]
  },
  {
   "cell_type": "code",
   "execution_count": 425,
   "id": "37693ccb-82cd-44b5-8271-d9b266247377",
   "metadata": {},
   "outputs": [
    {
     "name": "stdout",
     "output_type": "stream",
     "text": [
      "age getter method called\n"
     ]
    },
    {
     "data": {
      "text/plain": [
       "25"
      ]
     },
     "execution_count": 425,
     "metadata": {},
     "output_type": "execute_result"
    }
   ],
   "source": [
    "w.age"
   ]
  },
  {
   "cell_type": "code",
   "execution_count": 426,
   "id": "869f2d6a-3789-4de8-9580-2f24ee8c92e3",
   "metadata": {},
   "outputs": [
    {
     "name": "stdout",
     "output_type": "stream",
     "text": [
      "age setter method called\n"
     ]
    }
   ],
   "source": [
    "w.age = 26"
   ]
  },
  {
   "cell_type": "code",
   "execution_count": 427,
   "id": "568fc47f-efb9-4c08-bda9-a100874c1f7d",
   "metadata": {},
   "outputs": [
    {
     "name": "stdout",
     "output_type": "stream",
     "text": [
      "age deleter method called\n"
     ]
    }
   ],
   "source": [
    "del w.age"
   ]
  },
  {
   "cell_type": "markdown",
   "id": "2442f586-cd13-4fc0-8c7f-be543da91964",
   "metadata": {},
   "source": [
    "## Static Methods"
   ]
  },
  {
   "cell_type": "code",
   "execution_count": 428,
   "id": "924d079b-b4cf-4807-b62f-5a727c7b8ead",
   "metadata": {},
   "outputs": [],
   "source": [
    "class Competition:\n",
    "    \n",
    "    __raise_amount = 1.04\n",
    "    \n",
    "    def __init__(self, name, prize):\n",
    "        self.__name  = name  \n",
    "        self.__prize = prize   \n",
    "\n",
    "    def raise_prize(self):\n",
    "        self.__prize = self.__prize  * self.__raise_amount\n",
    "    \n",
    "    def print_details(self):\n",
    "        print(\"Name: {}, prize: {}\".format(self.__name, self.__prize))\n",
    "\n",
    "    @classmethod \n",
    "    def get_raise_amount(cls):\n",
    "        return cls.__raise_amount\n",
    "    \n",
    "    @classmethod \n",
    "    def set_raise_amount(cls, amount):\n",
    "         cls.__raise_amount = amount"
   ]
  },
  {
   "cell_type": "code",
   "execution_count": 429,
   "id": "631daa88-edb8-41fc-a707-f409123f1147",
   "metadata": {},
   "outputs": [],
   "source": [
    "sprint = Competition('Sprint', 10000)"
   ]
  },
  {
   "cell_type": "code",
   "execution_count": 430,
   "id": "0d6a0a96-8377-4292-a3f3-84d7dbf291f3",
   "metadata": {},
   "outputs": [
    {
     "data": {
      "text/plain": [
       "1.04"
      ]
     },
     "execution_count": 430,
     "metadata": {},
     "output_type": "execute_result"
    }
   ],
   "source": [
    "Competition.get_raise_amount()\n",
    "sprint.get_raise_amount()"
   ]
  },
  {
   "cell_type": "code",
   "execution_count": 431,
   "id": "b6362769-c81a-4e13-af06-b13daf8b7b50",
   "metadata": {},
   "outputs": [],
   "source": [
    "sprint.set_raise_amount(1.06)"
   ]
  },
  {
   "cell_type": "code",
   "execution_count": 432,
   "id": "2b35eabe-6d6e-4aaf-8461-70da5f27ec23",
   "metadata": {},
   "outputs": [
    {
     "data": {
      "text/plain": [
       "1.06"
      ]
     },
     "execution_count": 432,
     "metadata": {},
     "output_type": "execute_result"
    }
   ],
   "source": [
    "sprint.get_raise_amount()"
   ]
  },
  {
   "cell_type": "code",
   "execution_count": 433,
   "id": "4d71fb62-7b4c-499b-ba41-8a9483097e00",
   "metadata": {},
   "outputs": [
    {
     "data": {
      "text/plain": [
       "1.06"
      ]
     },
     "execution_count": 433,
     "metadata": {},
     "output_type": "execute_result"
    }
   ],
   "source": [
    "Competition.get_raise_amount()"
   ]
  },
  {
   "cell_type": "code",
   "execution_count": 434,
   "id": "5be66369-d842-4908-a15d-07df0fb67d10",
   "metadata": {},
   "outputs": [],
   "source": [
    "swimming_str = 'Swimming-8000'"
   ]
  },
  {
   "cell_type": "code",
   "execution_count": 435,
   "id": "6f78454b-ddf5-4906-bb63-1d64fa8a1741",
   "metadata": {},
   "outputs": [],
   "source": [
    "name, prize = swimming_str.split('-')"
   ]
  },
  {
   "cell_type": "code",
   "execution_count": 436,
   "id": "c5a5c0cc-7479-45d5-ad04-14c0d1286253",
   "metadata": {},
   "outputs": [],
   "source": [
    "swimming = Competition(name, prize)"
   ]
  },
  {
   "cell_type": "code",
   "execution_count": 437,
   "id": "6a11d9c3-c51f-4e6a-9d35-76773fe98ea6",
   "metadata": {},
   "outputs": [
    {
     "name": "stdout",
     "output_type": "stream",
     "text": [
      "Name: Swimming, prize: 8000\n"
     ]
    }
   ],
   "source": [
    "swimming.print_details()"
   ]
  },
  {
   "cell_type": "code",
   "execution_count": 438,
   "id": "9e3136e0-5d0e-4f4e-a7d1-11b1481b385d",
   "metadata": {},
   "outputs": [],
   "source": [
    "class Competition:\n",
    "    \n",
    "    __raise_amount = 1.04\n",
    "    \n",
    "    def __init__(self, name, prize):\n",
    "        self.__name  = name  \n",
    "        self.__prize = prize   \n",
    "\n",
    "    def raise_prize(self):\n",
    "        self.__prize = self.__prize  * self.__raise_amount\n",
    "    \n",
    "    def print_details(self):\n",
    "        print(\"Name: {}, prize: {}\".format(self.__name, self.__prize))\n",
    "\n",
    "    @classmethod \n",
    "    def get_raise_amount(cls):\n",
    "        return cls.__raise_amount\n",
    "    \n",
    "    @classmethod \n",
    "    def set_raise_amount(cls, amount):\n",
    "         cls.__raise_amount = amount\n",
    "                                                                             \n",
    "    @classmethod\n",
    "    def from_str(cls, competition_str):\n",
    "        name, prize = competition_str.split('-')\n",
    "        \n",
    "        return cls(name, prize) "
   ]
  },
  {
   "cell_type": "code",
   "execution_count": 439,
   "id": "0e2d873f-a686-4e25-ada2-a53410e93c92",
   "metadata": {},
   "outputs": [],
   "source": [
    "archery_str = 'Archery-8000'"
   ]
  },
  {
   "cell_type": "code",
   "execution_count": 440,
   "id": "c150a0f0-438f-4b0a-bd40-67265119654f",
   "metadata": {},
   "outputs": [],
   "source": [
    "archery = Competition.from_str(archery_str)"
   ]
  },
  {
   "cell_type": "code",
   "execution_count": 441,
   "id": "eab52b7d-efb6-4f41-b5c0-adf6e0575835",
   "metadata": {},
   "outputs": [
    {
     "name": "stdout",
     "output_type": "stream",
     "text": [
      "Name: Archery, prize: 8000\n"
     ]
    }
   ],
   "source": [
    "archery.print_details()"
   ]
  },
  {
   "cell_type": "code",
   "execution_count": 442,
   "id": "6952c983-3d86-47c2-b69c-82ed5a7214db",
   "metadata": {},
   "outputs": [
    {
     "name": "stdout",
     "output_type": "stream",
     "text": [
      "area of the rectangle is : 240\n"
     ]
    }
   ],
   "source": [
    "##creating static methods\n",
    "class Rectangle:\n",
    "\n",
    "    def area(x, y):\n",
    "        return x * y\n",
    "Rectangle.area = staticmethod(Rectangle.area)\n",
    "print('area of the rectangle is :', Rectangle.area(15, 16))"
   ]
  },
  {
   "cell_type": "code",
   "execution_count": 443,
   "id": "fb98c207-4c7e-4509-a55f-8affc3f12aeb",
   "metadata": {},
   "outputs": [],
   "source": [
    "class Rectangle:\n",
    "    @staticmethod\n",
    "    def area(x, y):\n",
    "        return x * y"
   ]
  },
  {
   "cell_type": "code",
   "execution_count": 444,
   "id": "7b5ba87a-2a1f-411a-8f21-70e670a7fbcb",
   "metadata": {},
   "outputs": [
    {
     "name": "stdout",
     "output_type": "stream",
     "text": [
      "area of the rectangle is : 240\n"
     ]
    }
   ],
   "source": [
    "print('area of the rectangle is :', Rectangle.area(15, 16))"
   ]
  },
  {
   "cell_type": "markdown",
   "id": "fca54288-f544-413e-a026-d8b7b9cbe20a",
   "metadata": {},
   "source": [
    "## Abstract Base Class"
   ]
  },
  {
   "cell_type": "code",
   "execution_count": 445,
   "id": "2aabd8b0-78e5-412f-b2db-9427a3113f37",
   "metadata": {},
   "outputs": [],
   "source": [
    "from abc import ABC, abstractmethod\n",
    "class Hominidae():\n",
    "    def diet(self):\n",
    "        pass\n",
    "    \n",
    "    def walk(self):\n",
    "        pass\n",
    "        \n",
    "    def behavior(self):\n",
    "        print(\"They show complex facial expression and social behaviour.\")"
   ]
  },
  {
   "cell_type": "code",
   "execution_count": 446,
   "id": "614161ff-331e-4160-8300-7825f3b9ddc6",
   "metadata": {},
   "outputs": [
    {
     "name": "stdout",
     "output_type": "stream",
     "text": [
      "They show complex facial expression and social behaviour.\n"
     ]
    }
   ],
   "source": [
    "chimpanzee = Hominidae()\n",
    "chimpanzee.behavior()"
   ]
  },
  {
   "cell_type": "code",
   "execution_count": 447,
   "id": "5d13d5ac-53cc-4b3d-b85b-636f7e466711",
   "metadata": {},
   "outputs": [],
   "source": [
    "chimpanzee.diet()\n",
    "chimpanzee.walk()"
   ]
  },
  {
   "cell_type": "code",
   "execution_count": 448,
   "id": "cff64b64-2762-4005-8b6d-79b1f527f65a",
   "metadata": {},
   "outputs": [],
   "source": [
    "class Human(Hominidae):  #child class\n",
    "    def diet(self):\n",
    "        print(\"Humans are omnivorous.\")\n",
    "        \n",
    "    def walk(self):\n",
    "        print(\"They are bipeds.\")"
   ]
  },
  {
   "cell_type": "code",
   "execution_count": 449,
   "id": "8d55b043-2442-41d4-a313-ad6166490346",
   "metadata": {},
   "outputs": [
    {
     "name": "stdout",
     "output_type": "stream",
     "text": [
      "Humans are omnivorous.\n",
      "They are bipeds.\n"
     ]
    }
   ],
   "source": [
    "paul = Human()\n",
    "paul.diet()\n",
    "paul.walk()"
   ]
  },
  {
   "cell_type": "code",
   "execution_count": 450,
   "id": "e582d2f4-7b52-46b9-a7b1-eb64c4eaccc4",
   "metadata": {},
   "outputs": [],
   "source": [
    "class Hominidae(ABC):\n",
    "    def diet(self):\n",
    "        pass\n",
    "    def walk(self):\n",
    "        pass\n",
    "    def behavior(self):\n",
    "        print(\"They show complex facial expression and social behaviour.\")"
   ]
  },
  {
   "cell_type": "code",
   "execution_count": 451,
   "id": "5fc19aff-abda-4292-bc26-7036e2d8d0c1",
   "metadata": {},
   "outputs": [
    {
     "name": "stdout",
     "output_type": "stream",
     "text": [
      "They show complex facial expression and social behaviour.\n"
     ]
    }
   ],
   "source": [
    "chimpanzee = Hominidae()\n",
    "chimpanzee.behavior()"
   ]
  },
  {
   "cell_type": "code",
   "execution_count": 452,
   "id": "5bf1acdb-bafd-4c1d-8e53-9e74a82bc785",
   "metadata": {},
   "outputs": [],
   "source": [
    "class Human(Hominidae):\n",
    "    def diet(self):\n",
    "        print(\"Humans are omnivorous.\")\n",
    "    def walk(self):\n",
    "        print(\"They are bipeds.\")"
   ]
  },
  {
   "cell_type": "code",
   "execution_count": 453,
   "id": "3161d7f6-3e9d-4189-aeca-d4a47ae51546",
   "metadata": {},
   "outputs": [
    {
     "name": "stdout",
     "output_type": "stream",
     "text": [
      "Humans are omnivorous.\n",
      "They are bipeds.\n"
     ]
    }
   ],
   "source": [
    "myra = Human()\n",
    "myra.diet()\n",
    "myra.walk()"
   ]
  },
  {
   "cell_type": "code",
   "execution_count": 454,
   "id": "73c3d8a9-3ba1-4c59-b1e6-10b529aaace4",
   "metadata": {},
   "outputs": [
    {
     "name": "stdout",
     "output_type": "stream",
     "text": [
      "Help on class ABC in module abc:\n",
      "\n",
      "class ABC(builtins.object)\n",
      " |  Helper class that provides a standard way to create an ABC using\n",
      " |  inheritance.\n",
      " |\n",
      " |  Data and other attributes defined here:\n",
      " |\n",
      " |  __abstractmethods__ = frozenset()\n",
      "\n"
     ]
    }
   ],
   "source": [
    "help(ABC)"
   ]
  },
  {
   "cell_type": "code",
   "execution_count": 455,
   "id": "b5bb63a2-0a68-423c-a27b-f19869d7bcbf",
   "metadata": {},
   "outputs": [],
   "source": [
    "class Hominidae(ABC):\n",
    "    @abstractmethod\n",
    "    def diet(self):\n",
    "        pass\n",
    "    \n",
    "    def walk(self):\n",
    "        pass\n",
    "      \n",
    "    def behavior(self):\n",
    "        print(\"They show complex facial expression and social behaviour.\")"
   ]
  },
  {
   "cell_type": "code",
   "execution_count": 456,
   "id": "9652354e-6bd2-4c4f-8a4d-239359cebacd",
   "metadata": {},
   "outputs": [
    {
     "ename": "TypeError",
     "evalue": "Can't instantiate abstract class Hominidae without an implementation for abstract method 'diet'",
     "output_type": "error",
     "traceback": [
      "\u001b[1;31m---------------------------------------------------------------------------\u001b[0m",
      "\u001b[1;31mTypeError\u001b[0m                                 Traceback (most recent call last)",
      "Cell \u001b[1;32mIn[456], line 1\u001b[0m\n\u001b[1;32m----> 1\u001b[0m great_apes \u001b[38;5;241m=\u001b[39m Hominidae()\n",
      "\u001b[1;31mTypeError\u001b[0m: Can't instantiate abstract class Hominidae without an implementation for abstract method 'diet'"
     ]
    }
   ],
   "source": [
    "great_apes = Hominidae()"
   ]
  },
  {
   "cell_type": "code",
   "execution_count": 457,
   "id": "a68cabdb-0beb-4bac-9281-d0c69af5f182",
   "metadata": {},
   "outputs": [],
   "source": [
    "class Human(Hominidae):\n",
    "\n",
    "    def diet(self):\n",
    "        print(\"Humans are omnivorous.\")\n",
    "        \n",
    "    def walk(self):\n",
    "        print(\"They are bipeds.\")"
   ]
  },
  {
   "cell_type": "code",
   "execution_count": 458,
   "id": "2f238117-cf05-47ec-93f7-18bb85acf406",
   "metadata": {},
   "outputs": [
    {
     "name": "stdout",
     "output_type": "stream",
     "text": [
      "Humans are omnivorous.\n",
      "They are bipeds.\n"
     ]
    }
   ],
   "source": [
    "bill = Human()\n",
    "bill.diet()\n",
    "bill.walk()"
   ]
  },
  {
   "cell_type": "code",
   "execution_count": 459,
   "id": "fb3616d8-e910-4add-84ac-d33064315308",
   "metadata": {},
   "outputs": [],
   "source": [
    "class Hominidae(ABC):\n",
    "    @abstractmethod\n",
    "    def diet(self):\n",
    "        pass\n",
    "    \n",
    "    @abstractmethod    \n",
    "    def walk(self):\n",
    "        pass"
   ]
  },
  {
   "cell_type": "code",
   "execution_count": 460,
   "id": "234ed74c-a160-492f-989f-f1ca140d2a57",
   "metadata": {},
   "outputs": [],
   "source": [
    "class Human(Hominidae):\n",
    "    def diet(self):\n",
    "        print(\"Humans are omnivorous.\")"
   ]
  },
  {
   "cell_type": "code",
   "execution_count": 461,
   "id": "d9abbd93-8ed4-4b1f-ba14-5f66ee563e3e",
   "metadata": {},
   "outputs": [
    {
     "ename": "TypeError",
     "evalue": "Can't instantiate abstract class Human without an implementation for abstract method 'walk'",
     "output_type": "error",
     "traceback": [
      "\u001b[1;31m---------------------------------------------------------------------------\u001b[0m",
      "\u001b[1;31mTypeError\u001b[0m                                 Traceback (most recent call last)",
      "Cell \u001b[1;32mIn[461], line 1\u001b[0m\n\u001b[1;32m----> 1\u001b[0m cathy \u001b[38;5;241m=\u001b[39m Human()\n",
      "\u001b[1;31mTypeError\u001b[0m: Can't instantiate abstract class Human without an implementation for abstract method 'walk'"
     ]
    }
   ],
   "source": [
    "cathy = Human()"
   ]
  },
  {
   "cell_type": "code",
   "execution_count": 462,
   "id": "15f77fbe-b330-43b2-a2f2-c99a90219d47",
   "metadata": {},
   "outputs": [],
   "source": [
    "class Human(Hominidae):\n",
    "    def diet(self):\n",
    "        print(\"Humans are omnivorous.\")\n",
    "    def walk(self):\n",
    "        print(\"They are bipeds.\")"
   ]
  },
  {
   "cell_type": "code",
   "execution_count": 463,
   "id": "7f78b108-d9a3-4133-b23c-3dc5e4230cff",
   "metadata": {},
   "outputs": [
    {
     "name": "stdout",
     "output_type": "stream",
     "text": [
      "Humans are omnivorous.\n",
      "They are bipeds.\n"
     ]
    }
   ],
   "source": [
    "cathy = Human()\n",
    "cathy.diet()\n",
    "cathy.walk()"
   ]
  },
  {
   "cell_type": "code",
   "execution_count": null,
   "id": "7bee16fa-cc5a-4f37-8d0f-73d613b05e7d",
   "metadata": {},
   "outputs": [],
   "source": []
  }
 ],
 "metadata": {
  "kernelspec": {
   "display_name": "Python 3 (ipykernel)",
   "language": "python",
   "name": "python3"
  },
  "language_info": {
   "codemirror_mode": {
    "name": "ipython",
    "version": 3
   },
   "file_extension": ".py",
   "mimetype": "text/x-python",
   "name": "python",
   "nbconvert_exporter": "python",
   "pygments_lexer": "ipython3",
   "version": "3.12.5"
  }
 },
 "nbformat": 4,
 "nbformat_minor": 5
}
