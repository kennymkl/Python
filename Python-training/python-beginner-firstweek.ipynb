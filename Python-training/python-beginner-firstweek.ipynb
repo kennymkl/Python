{
 "cells": [
  {
   "cell_type": "markdown",
   "id": "77ae3a34-bdf4-472a-aba1-c1f130a9f5fb",
   "metadata": {},
   "source": [
    "## Calculator Python"
   ]
  },
  {
   "cell_type": "code",
   "execution_count": 18,
   "id": "15b4f518-46a8-4e29-9515-bac17cf15c57",
   "metadata": {},
   "outputs": [
    {
     "name": "stdout",
     "output_type": "stream",
     "text": [
      "Python 3.12.6\n"
     ]
    }
   ],
   "source": [
    "!python --version"
   ]
  },
  {
   "cell_type": "code",
   "execution_count": 3,
   "id": "e0a167b5-72a8-422a-affa-19fe9646c387",
   "metadata": {},
   "outputs": [
    {
     "data": {
      "text/plain": [
       "55.0"
      ]
     },
     "execution_count": 3,
     "metadata": {},
     "output_type": "execute_result"
    }
   ],
   "source": [
    "10 * 5.5"
   ]
  },
  {
   "cell_type": "code",
   "execution_count": 4,
   "id": "973dff4a-260e-4977-bf51-4a6f277662db",
   "metadata": {},
   "outputs": [
    {
     "data": {
      "text/plain": [
       "13"
      ]
     },
     "execution_count": 4,
     "metadata": {},
     "output_type": "execute_result"
    }
   ],
   "source": [
    "2 * 3 * 1 + 2 + 5"
   ]
  },
  {
   "cell_type": "code",
   "execution_count": 5,
   "id": "e20c2922-464b-47d7-8020-15020c70b38f",
   "metadata": {},
   "outputs": [
    {
     "data": {
      "text/plain": [
       "198"
      ]
     },
     "execution_count": 5,
     "metadata": {},
     "output_type": "execute_result"
    }
   ],
   "source": [
    "9 * (2 * 7 + 8)"
   ]
  },
  {
   "cell_type": "code",
   "execution_count": 6,
   "id": "c2161774-2fb7-4118-9d93-3acc06d739e0",
   "metadata": {},
   "outputs": [
    {
     "data": {
      "text/plain": [
       "121"
      ]
     },
     "execution_count": 6,
     "metadata": {},
     "output_type": "execute_result"
    }
   ],
   "source": [
    "11 ** 2"
   ]
  },
  {
   "cell_type": "code",
   "execution_count": 8,
   "id": "c0f1cca6-cf9f-49fa-a177-5bc52b3079fd",
   "metadata": {},
   "outputs": [
    {
     "data": {
      "text/plain": [
       "2.0"
      ]
     },
     "execution_count": 8,
     "metadata": {},
     "output_type": "execute_result"
    }
   ],
   "source": [
    "10 / 5"
   ]
  },
  {
   "cell_type": "code",
   "execution_count": 9,
   "id": "00e79a6a-ca30-44e0-94cd-69f7994287ac",
   "metadata": {},
   "outputs": [
    {
     "data": {
      "text/plain": [
       "2"
      ]
     },
     "execution_count": 9,
     "metadata": {},
     "output_type": "execute_result"
    }
   ],
   "source": [
    "11 // 4"
   ]
  },
  {
   "cell_type": "code",
   "execution_count": 10,
   "id": "b6bafd0e-6aaa-447b-a231-e5488c7f6052",
   "metadata": {},
   "outputs": [
    {
     "data": {
      "text/plain": [
       "3.0"
      ]
     },
     "execution_count": 10,
     "metadata": {},
     "output_type": "execute_result"
    }
   ],
   "source": [
    "10.8 // 3"
   ]
  },
  {
   "cell_type": "code",
   "execution_count": 11,
   "id": "5ad58939-39e8-4a3b-83d3-8c7a518ba45e",
   "metadata": {},
   "outputs": [
    {
     "data": {
      "text/plain": [
       "2.0"
      ]
     },
     "execution_count": 11,
     "metadata": {},
     "output_type": "execute_result"
    }
   ],
   "source": [
    "10.22 // 5"
   ]
  },
  {
   "cell_type": "code",
   "execution_count": 12,
   "id": "42e223cb-f4ad-4297-bab3-8079f8f5254f",
   "metadata": {},
   "outputs": [
    {
     "data": {
      "text/plain": [
       "2"
      ]
     },
     "execution_count": 12,
     "metadata": {},
     "output_type": "execute_result"
    }
   ],
   "source": [
    "50 % 4"
   ]
  },
  {
   "cell_type": "code",
   "execution_count": 14,
   "id": "05a6d19a-4c7a-4e71-996c-390d9e64af9c",
   "metadata": {},
   "outputs": [
    {
     "data": {
      "text/plain": [
       "41.43211111111111"
      ]
     },
     "execution_count": 14,
     "metadata": {},
     "output_type": "execute_result"
    }
   ],
   "source": [
    "(40.5 + 5 * (8.90 - 7.2222) /9)"
   ]
  },
  {
   "cell_type": "code",
   "execution_count": 15,
   "id": "3b3f896d-732c-42ee-b0ec-5007df9bc999",
   "metadata": {},
   "outputs": [
    {
     "data": {
      "text/plain": [
       "'Hello Hello Hello '"
      ]
     },
     "execution_count": 15,
     "metadata": {},
     "output_type": "execute_result"
    }
   ],
   "source": [
    "\"Hello \" * 3"
   ]
  },
  {
   "cell_type": "markdown",
   "id": "09650c57-d5fb-45b7-a210-6cf052f7ee58",
   "metadata": {},
   "source": [
    "## Built in Functions"
   ]
  },
  {
   "cell_type": "code",
   "execution_count": 16,
   "id": "544c9399-6385-4230-9beb-1324682a44d5",
   "metadata": {},
   "outputs": [
    {
     "data": {
      "text/plain": [
       "'Hi World'"
      ]
     },
     "execution_count": 16,
     "metadata": {},
     "output_type": "execute_result"
    }
   ],
   "source": [
    "\"Hi World\""
   ]
  },
  {
   "cell_type": "code",
   "execution_count": 17,
   "id": "2cce9f0b-574a-49d9-abdd-724153769ac6",
   "metadata": {},
   "outputs": [
    {
     "name": "stdout",
     "output_type": "stream",
     "text": [
      "Hi World\n"
     ]
    }
   ],
   "source": [
    "print(\"Hi World\") #invoking print function"
   ]
  },
  {
   "cell_type": "code",
   "execution_count": 19,
   "id": "54bb411e-188a-4678-b0ec-4d8373f0d54c",
   "metadata": {},
   "outputs": [
    {
     "name": "stdout",
     "output_type": "stream",
     "text": [
      "Hello universe\n"
     ]
    }
   ],
   "source": [
    "print('Hello universe')"
   ]
  },
  {
   "cell_type": "code",
   "execution_count": 20,
   "id": "41af8294-723b-4a60-ad01-167b85f52de3",
   "metadata": {},
   "outputs": [
    {
     "ename": "SyntaxError",
     "evalue": "invalid syntax. Perhaps you forgot a comma? (2858105286.py, line 1)",
     "output_type": "error",
     "traceback": [
      "\u001b[1;36m  Cell \u001b[1;32mIn[20], line 1\u001b[1;36m\u001b[0m\n\u001b[1;33m    print(Hello galaxy)\u001b[0m\n\u001b[1;37m          ^\u001b[0m\n\u001b[1;31mSyntaxError\u001b[0m\u001b[1;31m:\u001b[0m invalid syntax. Perhaps you forgot a comma?\n"
     ]
    }
   ],
   "source": [
    "print(Hello galaxy)"
   ]
  },
  {
   "cell_type": "code",
   "execution_count": 22,
   "id": "a7c789a6-1e16-4509-8c1b-2c5894ad9d97",
   "metadata": {},
   "outputs": [
    {
     "ename": "SyntaxError",
     "evalue": "Missing parentheses in call to 'print'. Did you mean print(...)? (2812540051.py, line 1)",
     "output_type": "error",
     "traceback": [
      "\u001b[1;36m  Cell \u001b[1;32mIn[22], line 1\u001b[1;36m\u001b[0m\n\u001b[1;33m    print \"Hello Python 2\"\u001b[0m\n\u001b[1;37m    ^\u001b[0m\n\u001b[1;31mSyntaxError\u001b[0m\u001b[1;31m:\u001b[0m Missing parentheses in call to 'print'. Did you mean print(...)?\n"
     ]
    }
   ],
   "source": [
    "print \"Hello Python 2\""
   ]
  },
  {
   "cell_type": "code",
   "execution_count": 23,
   "id": "ece21d6a-a239-4c17-b8bd-2588d65fb314",
   "metadata": {},
   "outputs": [
    {
     "data": {
      "text/plain": [
       "12"
      ]
     },
     "execution_count": 23,
     "metadata": {},
     "output_type": "execute_result"
    }
   ],
   "source": [
    "len(\"Hello planet\")"
   ]
  },
  {
   "cell_type": "code",
   "execution_count": 24,
   "id": "aee67b7f-de1e-41ee-8eb3-12ff2c8dc994",
   "metadata": {},
   "outputs": [
    {
     "name": "stdout",
     "output_type": "stream",
     "text": [
      "17\n"
     ]
    }
   ],
   "source": [
    "print(8+9)"
   ]
  },
  {
   "cell_type": "code",
   "execution_count": 25,
   "id": "badd37b2-92de-4739-ae3a-7efb994ed0ce",
   "metadata": {},
   "outputs": [
    {
     "data": {
      "text/plain": [
       "19"
      ]
     },
     "execution_count": 25,
     "metadata": {},
     "output_type": "execute_result"
    }
   ],
   "source": [
    "abs(-19)"
   ]
  },
  {
   "cell_type": "code",
   "execution_count": 26,
   "id": "b55f7d94-e53a-40e4-b6f6-d79173473c58",
   "metadata": {},
   "outputs": [
    {
     "data": {
      "text/plain": [
       "19"
      ]
     },
     "execution_count": 26,
     "metadata": {},
     "output_type": "execute_result"
    }
   ],
   "source": [
    "abs(19)"
   ]
  },
  {
   "cell_type": "code",
   "execution_count": 27,
   "id": "dbb527ce-e576-4883-a407-426e63f1a547",
   "metadata": {},
   "outputs": [
    {
     "name": "stdout",
     "output_type": "stream",
     "text": [
      "15.0\n"
     ]
    }
   ],
   "source": [
    "print(abs(8*2-342.21//(5+6)))"
   ]
  },
  {
   "cell_type": "code",
   "execution_count": 28,
   "id": "e2947559-5301-4ab3-8f67-573620c76e0c",
   "metadata": {},
   "outputs": [
    {
     "data": {
      "text/plain": [
       "int"
      ]
     },
     "execution_count": 28,
     "metadata": {},
     "output_type": "execute_result"
    }
   ],
   "source": [
    "type(9)"
   ]
  },
  {
   "cell_type": "code",
   "execution_count": 29,
   "id": "cd163123-0c8e-4538-b43f-4316e23fe92a",
   "metadata": {},
   "outputs": [
    {
     "data": {
      "text/plain": [
       "int"
      ]
     },
     "execution_count": 29,
     "metadata": {},
     "output_type": "execute_result"
    }
   ],
   "source": [
    "type(abs(9))"
   ]
  },
  {
   "cell_type": "code",
   "execution_count": 30,
   "id": "25146351-6e69-426b-a2cb-d29876f8bb52",
   "metadata": {},
   "outputs": [
    {
     "data": {
      "text/plain": [
       "int"
      ]
     },
     "execution_count": 30,
     "metadata": {},
     "output_type": "execute_result"
    }
   ],
   "source": [
    "type(abs(9//3))"
   ]
  },
  {
   "cell_type": "code",
   "execution_count": 31,
   "id": "e0e25a1d-0dfa-4e64-a4f4-b15862beacfd",
   "metadata": {},
   "outputs": [
    {
     "data": {
      "text/plain": [
       "float"
      ]
     },
     "execution_count": 31,
     "metadata": {},
     "output_type": "execute_result"
    }
   ],
   "source": [
    "type(abs(4/3))"
   ]
  },
  {
   "cell_type": "code",
   "execution_count": 32,
   "id": "34d385af-eb2d-4b7d-b98e-8ffcb6a06c20",
   "metadata": {},
   "outputs": [
    {
     "data": {
      "text/plain": [
       "str"
      ]
     },
     "execution_count": 32,
     "metadata": {},
     "output_type": "execute_result"
    }
   ],
   "source": [
    "type(\"Text\")"
   ]
  },
  {
   "cell_type": "code",
   "execution_count": 33,
   "id": "92ba9356-8827-456f-bbd5-ff070bbb16aa",
   "metadata": {},
   "outputs": [
    {
     "data": {
      "text/plain": [
       "19"
      ]
     },
     "execution_count": 33,
     "metadata": {},
     "output_type": "execute_result"
    }
   ],
   "source": [
    "round(18.83)"
   ]
  },
  {
   "cell_type": "code",
   "execution_count": 34,
   "id": "053308f3-7d4c-4571-974a-b9d1ad99e343",
   "metadata": {},
   "outputs": [
    {
     "data": {
      "text/plain": [
       "-22"
      ]
     },
     "execution_count": 34,
     "metadata": {},
     "output_type": "execute_result"
    }
   ],
   "source": [
    "round(-22.11345)"
   ]
  },
  {
   "cell_type": "code",
   "execution_count": 35,
   "id": "1f6afac4-34af-41d5-a2fe-43a1030e61ee",
   "metadata": {},
   "outputs": [
    {
     "data": {
      "text/plain": [
       "455"
      ]
     },
     "execution_count": 35,
     "metadata": {},
     "output_type": "execute_result"
    }
   ],
   "source": [
    "max(1,23,455,-11)"
   ]
  },
  {
   "cell_type": "code",
   "execution_count": 36,
   "id": "34357ff7-10fc-4636-b98f-2bec18e809b2",
   "metadata": {},
   "outputs": [
    {
     "data": {
      "text/plain": [
       "-122"
      ]
     },
     "execution_count": 36,
     "metadata": {},
     "output_type": "execute_result"
    }
   ],
   "source": [
    "min(0,-122,34.4)"
   ]
  },
  {
   "cell_type": "markdown",
   "id": "059eaf73-9fea-43ff-86a3-4bf41da44481",
   "metadata": {},
   "source": [
    "## Variables"
   ]
  },
  {
   "cell_type": "code",
   "execution_count": 37,
   "id": "0f4c668b-f1d6-4df7-ba7a-bb3f09c088bc",
   "metadata": {},
   "outputs": [
    {
     "data": {
      "text/plain": [
       "2400"
      ]
     },
     "execution_count": 37,
     "metadata": {},
     "output_type": "execute_result"
    }
   ],
   "source": [
    "2400"
   ]
  },
  {
   "cell_type": "code",
   "execution_count": 38,
   "id": "2a494181-415d-40b9-bb0e-a35ce6005cae",
   "metadata": {},
   "outputs": [
    {
     "data": {
      "text/plain": [
       "2178"
      ]
     },
     "execution_count": 38,
     "metadata": {},
     "output_type": "execute_result"
    }
   ],
   "source": [
    "3300-1122"
   ]
  },
  {
   "cell_type": "code",
   "execution_count": 39,
   "id": "fbbfd0d3-d4fa-4c9b-ab5b-d53e1afc0194",
   "metadata": {},
   "outputs": [
    {
     "data": {
      "text/plain": [
       "-1110988"
      ]
     },
     "execution_count": 39,
     "metadata": {},
     "output_type": "execute_result"
    }
   ],
   "source": [
    "123-1111111"
   ]
  },
  {
   "cell_type": "code",
   "execution_count": 40,
   "id": "e9d6664c-3c2d-4553-be9a-abc8f8b2a661",
   "metadata": {},
   "outputs": [],
   "source": [
    "salary = 65000"
   ]
  },
  {
   "cell_type": "code",
   "execution_count": 41,
   "id": "134d0bd6-609b-4bfd-af0f-82931298e2c5",
   "metadata": {},
   "outputs": [],
   "source": [
    "house_rent = 0"
   ]
  },
  {
   "cell_type": "code",
   "execution_count": 42,
   "id": "cc71932f-a2e0-4709-a651-bfcdfa4bf9d4",
   "metadata": {},
   "outputs": [
    {
     "data": {
      "text/plain": [
       "0"
      ]
     },
     "execution_count": 42,
     "metadata": {},
     "output_type": "execute_result"
    }
   ],
   "source": [
    "food_exp = 10000\n",
    "house_rent"
   ]
  },
  {
   "cell_type": "code",
   "execution_count": 43,
   "id": "ba127353-473e-45a9-a3a0-3fa5cbc6548a",
   "metadata": {},
   "outputs": [
    {
     "data": {
      "text/plain": [
       "10000"
      ]
     },
     "execution_count": 43,
     "metadata": {},
     "output_type": "execute_result"
    }
   ],
   "source": [
    "food_exp"
   ]
  },
  {
   "cell_type": "code",
   "execution_count": 46,
   "id": "b63524b1-b5ef-40f8-8213-227b1296a869",
   "metadata": {},
   "outputs": [],
   "source": [
    "total_exp = house_rent + food_exp"
   ]
  },
  {
   "cell_type": "code",
   "execution_count": 47,
   "id": "1343bf4b-2063-48d5-b68f-a684f3288bb6",
   "metadata": {},
   "outputs": [
    {
     "data": {
      "text/plain": [
       "10000"
      ]
     },
     "execution_count": 47,
     "metadata": {},
     "output_type": "execute_result"
    }
   ],
   "source": [
    "total_exp"
   ]
  },
  {
   "cell_type": "code",
   "execution_count": 48,
   "id": "4407b647-1d01-4947-bd24-71cf646dc54f",
   "metadata": {},
   "outputs": [
    {
     "data": {
      "text/plain": [
       "55000"
      ]
     },
     "execution_count": 48,
     "metadata": {},
     "output_type": "execute_result"
    }
   ],
   "source": [
    "savings = salary - total_exp\n",
    "savings"
   ]
  },
  {
   "cell_type": "code",
   "execution_count": 49,
   "id": "8951cbf5-b20a-4160-889f-3b1b6f5ebb99",
   "metadata": {},
   "outputs": [],
   "source": [
    "course_fee = 300"
   ]
  },
  {
   "cell_type": "code",
   "execution_count": 50,
   "id": "0e275990-1f47-4ef4-9bfa-3cee71466881",
   "metadata": {},
   "outputs": [],
   "source": [
    "num_of_months = 6"
   ]
  },
  {
   "cell_type": "code",
   "execution_count": 51,
   "id": "e6e246e4-86fa-48d5-aab6-a06b16fb8f92",
   "metadata": {},
   "outputs": [
    {
     "name": "stdout",
     "output_type": "stream",
     "text": [
      "1800\n"
     ]
    }
   ],
   "source": [
    "total_fee = course_fee*num_of_months\n",
    "print(total_fee)"
   ]
  },
  {
   "cell_type": "code",
   "execution_count": 52,
   "id": "dca759e9-46e5-468a-b01d-9c4972c71c4a",
   "metadata": {},
   "outputs": [],
   "source": [
    "num_1 = 2\n",
    "num_2 = 2"
   ]
  },
  {
   "cell_type": "code",
   "execution_count": 53,
   "id": "d936d5c0-14fc-4193-9472-c71ec49bb50c",
   "metadata": {},
   "outputs": [
    {
     "name": "stdout",
     "output_type": "stream",
     "text": [
      "4\n"
     ]
    }
   ],
   "source": [
    "print(num_1+num_2)"
   ]
  },
  {
   "cell_type": "code",
   "execution_count": 54,
   "id": "ae04e7dc-5ee9-4455-b01a-9cd4397acd0a",
   "metadata": {},
   "outputs": [],
   "source": [
    "total_num = num_1+num_2"
   ]
  },
  {
   "cell_type": "code",
   "execution_count": 55,
   "id": "dc089cc8-c9cd-4a62-aa65-8b9fd8a5499b",
   "metadata": {},
   "outputs": [],
   "source": [
    "num_2 = \"2\""
   ]
  },
  {
   "cell_type": "code",
   "execution_count": 56,
   "id": "eb7883ff-7fff-43f4-8697-fc67a0be9e26",
   "metadata": {},
   "outputs": [
    {
     "ename": "TypeError",
     "evalue": "unsupported operand type(s) for +: 'int' and 'str'",
     "output_type": "error",
     "traceback": [
      "\u001b[1;31m---------------------------------------------------------------------------\u001b[0m",
      "\u001b[1;31mTypeError\u001b[0m                                 Traceback (most recent call last)",
      "Cell \u001b[1;32mIn[56], line 1\u001b[0m\n\u001b[1;32m----> 1\u001b[0m total_num \u001b[38;5;241m=\u001b[39m \u001b[43mnum_1\u001b[49m\u001b[38;5;241;43m+\u001b[39;49m\u001b[43mnum_2\u001b[49m\n",
      "\u001b[1;31mTypeError\u001b[0m: unsupported operand type(s) for +: 'int' and 'str'"
     ]
    }
   ],
   "source": [
    "total_num = num_1+num_2"
   ]
  },
  {
   "cell_type": "code",
   "execution_count": 57,
   "id": "55644b2f-b9cd-4eb6-94c6-f5d6dad11cfb",
   "metadata": {},
   "outputs": [
    {
     "data": {
      "text/plain": [
       "4"
      ]
     },
     "execution_count": 57,
     "metadata": {},
     "output_type": "execute_result"
    }
   ],
   "source": [
    "total_num"
   ]
  },
  {
   "cell_type": "markdown",
   "id": "84746ac8-f624-4a1e-ae8c-7158d98d2894",
   "metadata": {},
   "source": [
    "## Types of Variables"
   ]
  },
  {
   "cell_type": "code",
   "execution_count": 58,
   "id": "83ec60d3-51b1-46bd-96eb-a23189f932dd",
   "metadata": {},
   "outputs": [],
   "source": [
    "x = True\n",
    "y = False\n"
   ]
  },
  {
   "cell_type": "code",
   "execution_count": 59,
   "id": "a0ae0b34-34ac-4867-ae78-94c1f202e8bf",
   "metadata": {},
   "outputs": [
    {
     "name": "stdout",
     "output_type": "stream",
     "text": [
      "x and y is False\n"
     ]
    }
   ],
   "source": [
    "print (\"x and y is\",x and y)"
   ]
  },
  {
   "cell_type": "code",
   "execution_count": 64,
   "id": "f2f8a3e5-a1ef-4a28-8b00-be69e227973e",
   "metadata": {},
   "outputs": [
    {
     "name": "stdout",
     "output_type": "stream",
     "text": [
      "x and y is True for x and False for y\n"
     ]
    }
   ],
   "source": [
    "print (\"x and y is\",x,\"for x and\",y,\"for y\")"
   ]
  },
  {
   "cell_type": "code",
   "execution_count": 65,
   "id": "da3a4031-ecc5-499b-9877-8befc5461c79",
   "metadata": {},
   "outputs": [
    {
     "name": "stdout",
     "output_type": "stream",
     "text": [
      "False\n"
     ]
    }
   ],
   "source": [
    "print (not x)"
   ]
  },
  {
   "cell_type": "code",
   "execution_count": 66,
   "id": "7b90ff99-947f-48d1-a04f-f453cd38d928",
   "metadata": {},
   "outputs": [],
   "source": [
    "x = 'xo'"
   ]
  },
  {
   "cell_type": "code",
   "execution_count": 69,
   "id": "ce50143b-f142-47cd-a367-86b04f17e52b",
   "metadata": {},
   "outputs": [
    {
     "name": "stdout",
     "output_type": "stream",
     "text": [
      "A fan is xo\n"
     ]
    }
   ],
   "source": [
    "print(\"A fan is\",x)"
   ]
  },
  {
   "cell_type": "code",
   "execution_count": 70,
   "id": "e10a0793-4e00-48c9-a2ea-bbd450db96c6",
   "metadata": {},
   "outputs": [
    {
     "name": "stdout",
     "output_type": "stream",
     "text": [
      "xoxoxoxo\n"
     ]
    }
   ],
   "source": [
    "x4 = x*4\n",
    "print(x4)"
   ]
  },
  {
   "cell_type": "code",
   "execution_count": 71,
   "id": "8cfa3779-2ed0-4f9b-b7a9-df7bebccdb1c",
   "metadata": {},
   "outputs": [
    {
     "data": {
      "text/plain": [
       "8"
      ]
     },
     "execution_count": 71,
     "metadata": {},
     "output_type": "execute_result"
    }
   ],
   "source": [
    "len(x4)"
   ]
  },
  {
   "cell_type": "markdown",
   "id": "7c7f76c3-c186-4ce0-83b8-854d6c2c7126",
   "metadata": {},
   "source": [
    "## Assign Values to Variables"
   ]
  },
  {
   "cell_type": "code",
   "execution_count": 75,
   "id": "a646f524-4368-4106-aa49-295d4c0ee61f",
   "metadata": {},
   "outputs": [],
   "source": [
    "x = y = z = \"Python version 3\""
   ]
  },
  {
   "cell_type": "code",
   "execution_count": 76,
   "id": "7ba1fb95-0634-4a04-9613-69336c23f530",
   "metadata": {},
   "outputs": [
    {
     "data": {
      "text/plain": [
       "'Python version 3Python version 3'"
      ]
     },
     "execution_count": 76,
     "metadata": {},
     "output_type": "execute_result"
    }
   ],
   "source": [
    "b = x+y\n",
    "b"
   ]
  },
  {
   "cell_type": "code",
   "execution_count": 77,
   "id": "cec23fd5-6331-4d30-b968-2f48e7fe4e60",
   "metadata": {},
   "outputs": [],
   "source": [
    "x = y == z"
   ]
  },
  {
   "cell_type": "code",
   "execution_count": 78,
   "id": "5acb4334-f391-4d69-94cd-da3eeec6c8a6",
   "metadata": {},
   "outputs": [
    {
     "name": "stdout",
     "output_type": "stream",
     "text": [
      "True\n"
     ]
    }
   ],
   "source": [
    "print(x)"
   ]
  },
  {
   "cell_type": "code",
   "execution_count": 79,
   "id": "16327e9b-8f3e-4973-9791-e92d3092b2d0",
   "metadata": {},
   "outputs": [],
   "source": [
    "a,b,c = 5,2,\"The letter c\""
   ]
  },
  {
   "cell_type": "code",
   "execution_count": 80,
   "id": "caa60436-a880-4e9c-9d3b-2414232c8fc4",
   "metadata": {},
   "outputs": [],
   "source": [
    "color_a = \"Red\"\n",
    "color_b = \"Blue\""
   ]
  },
  {
   "cell_type": "code",
   "execution_count": 81,
   "id": "80cc8535-24c7-442e-99a9-9f80137f1dba",
   "metadata": {},
   "outputs": [],
   "source": [
    "color_c = color_a"
   ]
  },
  {
   "cell_type": "code",
   "execution_count": 82,
   "id": "be202b21-0c81-49b7-ab77-3607b7244a74",
   "metadata": {},
   "outputs": [
    {
     "name": "stdout",
     "output_type": "stream",
     "text": [
      "Red Blue Red\n"
     ]
    }
   ],
   "source": [
    "print(color_a,color_b,color_c)"
   ]
  },
  {
   "cell_type": "markdown",
   "id": "830d30fb-fb8d-4930-94fd-a63dfd658473",
   "metadata": {},
   "source": [
    "## Update Variables"
   ]
  },
  {
   "cell_type": "code",
   "execution_count": 83,
   "id": "3666ea34-734f-4b5d-a131-94481c81011a",
   "metadata": {},
   "outputs": [],
   "source": [
    "n1 = 432.22\n",
    "n2 = 34.22\n",
    "n3 = 100"
   ]
  },
  {
   "cell_type": "code",
   "execution_count": 84,
   "id": "f280f071-3a4c-4467-9a70-36352d70797f",
   "metadata": {},
   "outputs": [],
   "source": [
    "s1,s2 = \"Hello\",\"galaxy\""
   ]
  },
  {
   "cell_type": "code",
   "execution_count": 85,
   "id": "88d91452-daf3-4130-bf5f-fe7aeee6403f",
   "metadata": {},
   "outputs": [
    {
     "data": {
      "text/plain": [
       "566.44"
      ]
     },
     "execution_count": 85,
     "metadata": {},
     "output_type": "execute_result"
    }
   ],
   "source": [
    "total_n = n1+n2+n3\n",
    "total_n"
   ]
  },
  {
   "cell_type": "code",
   "execution_count": 86,
   "id": "df673269-e163-4da8-81c7-446501076b5c",
   "metadata": {},
   "outputs": [
    {
     "data": {
      "text/plain": [
       "433.22"
      ]
     },
     "execution_count": 86,
     "metadata": {},
     "output_type": "execute_result"
    }
   ],
   "source": [
    "n1 = n1 + 1\n",
    "n1"
   ]
  },
  {
   "cell_type": "code",
   "execution_count": 87,
   "id": "13c04151-f6c2-4027-80e9-3fe8f86cd5e0",
   "metadata": {},
   "outputs": [
    {
     "data": {
      "text/plain": [
       "44.22"
      ]
     },
     "execution_count": 87,
     "metadata": {},
     "output_type": "execute_result"
    }
   ],
   "source": [
    "n2 = n2 + 10\n",
    "n2"
   ]
  },
  {
   "cell_type": "code",
   "execution_count": 88,
   "id": "5d4d378c-dd5d-4130-91d4-365056500632",
   "metadata": {},
   "outputs": [
    {
     "data": {
      "text/plain": [
       "-455"
      ]
     },
     "execution_count": 88,
     "metadata": {},
     "output_type": "execute_result"
    }
   ],
   "source": [
    "n3 = n3 - 555\n",
    "n3"
   ]
  },
  {
   "cell_type": "code",
   "execution_count": 89,
   "id": "198431f1-6321-4a81-b45b-e0f5eeb6f772",
   "metadata": {},
   "outputs": [],
   "source": [
    "n1 += n1 +2"
   ]
  },
  {
   "cell_type": "code",
   "execution_count": 90,
   "id": "70c07b2d-852a-4368-93c5-2a9ed73269c7",
   "metadata": {},
   "outputs": [
    {
     "data": {
      "text/plain": [
       "868.44"
      ]
     },
     "execution_count": 90,
     "metadata": {},
     "output_type": "execute_result"
    }
   ],
   "source": [
    "n1"
   ]
  },
  {
   "cell_type": "code",
   "execution_count": 91,
   "id": "fd66516d-6bc1-4e1f-bd55-e23685d2be49",
   "metadata": {},
   "outputs": [],
   "source": [
    "n2 += 10"
   ]
  },
  {
   "cell_type": "code",
   "execution_count": 92,
   "id": "7e2bc302-3c75-47ae-b0b6-7ddbf2a35802",
   "metadata": {},
   "outputs": [
    {
     "data": {
      "text/plain": [
       "54.22"
      ]
     },
     "execution_count": 92,
     "metadata": {},
     "output_type": "execute_result"
    }
   ],
   "source": [
    "n2"
   ]
  },
  {
   "cell_type": "code",
   "execution_count": 93,
   "id": "1cf17a2c-c204-4b2f-b454-4b4f873a67d6",
   "metadata": {},
   "outputs": [],
   "source": [
    "n3*=90"
   ]
  },
  {
   "cell_type": "code",
   "execution_count": 94,
   "id": "4511c92a-7037-44ae-86a1-c7bd7da576d6",
   "metadata": {},
   "outputs": [
    {
     "data": {
      "text/plain": [
       "-40950"
      ]
     },
     "execution_count": 94,
     "metadata": {},
     "output_type": "execute_result"
    }
   ],
   "source": [
    "n3"
   ]
  },
  {
   "cell_type": "code",
   "execution_count": 95,
   "id": "d1d5688d-ec41-49af-adaf-eda666c3e8fb",
   "metadata": {},
   "outputs": [
    {
     "data": {
      "text/plain": [
       "-183.6322869955157"
      ]
     },
     "execution_count": 95,
     "metadata": {},
     "output_type": "execute_result"
    }
   ],
   "source": [
    "n3/=223\n",
    "n3"
   ]
  },
  {
   "cell_type": "code",
   "execution_count": 97,
   "id": "7571be71-405e-4a80-984c-28d234e76ae9",
   "metadata": {},
   "outputs": [
    {
     "data": {
      "text/plain": [
       "'HellogalaxyHellogalaxyHellogalaxyHellogalaxy'"
      ]
     },
     "execution_count": 97,
     "metadata": {},
     "output_type": "execute_result"
    }
   ],
   "source": [
    "concat_string = (s1+s2) * 4\n",
    "concat_string"
   ]
  },
  {
   "cell_type": "code",
   "execution_count": 98,
   "id": "02de549e-54df-4c62-80a7-54338c22e192",
   "metadata": {},
   "outputs": [
    {
     "data": {
      "text/plain": [
       "'Hello'"
      ]
     },
     "execution_count": 98,
     "metadata": {},
     "output_type": "execute_result"
    }
   ],
   "source": [
    "new_s1 = s1\n",
    "new_s1"
   ]
  },
  {
   "cell_type": "code",
   "execution_count": 99,
   "id": "ff7f45b3-05de-4cfe-9643-b5e603ea993f",
   "metadata": {},
   "outputs": [],
   "source": [
    "s1 = \"Bye\""
   ]
  },
  {
   "cell_type": "code",
   "execution_count": 100,
   "id": "582ae45e-7591-435a-a6a3-0a3bf2bc0aa5",
   "metadata": {},
   "outputs": [
    {
     "data": {
      "text/plain": [
       "'Hello'"
      ]
     },
     "execution_count": 100,
     "metadata": {},
     "output_type": "execute_result"
    }
   ],
   "source": [
    "new_s1"
   ]
  },
  {
   "cell_type": "code",
   "execution_count": 101,
   "id": "f1b89f9c-aff0-4c7f-a365-7ab5acc7f2de",
   "metadata": {},
   "outputs": [
    {
     "data": {
      "text/plain": [
       "'HelloBye'"
      ]
     },
     "execution_count": 101,
     "metadata": {},
     "output_type": "execute_result"
    }
   ],
   "source": [
    "new_s1 += s1\n",
    "new_s1"
   ]
  },
  {
   "cell_type": "code",
   "execution_count": 102,
   "id": "ba0f3f34-9229-48cb-8354-6071c4229ae9",
   "metadata": {},
   "outputs": [
    {
     "data": {
      "text/plain": [
       "-183.6322869955157"
      ]
     },
     "execution_count": 102,
     "metadata": {},
     "output_type": "execute_result"
    }
   ],
   "source": [
    "some_n = n3\n",
    "some_n"
   ]
  },
  {
   "cell_type": "code",
   "execution_count": 104,
   "id": "08edb97d-de42-496d-b9c6-bcdeb0c683fd",
   "metadata": {},
   "outputs": [
    {
     "data": {
      "text/plain": [
       "101915.91928251121"
      ]
     },
     "execution_count": 104,
     "metadata": {},
     "output_type": "execute_result"
    }
   ],
   "source": [
    "n3 *=(-555)\n",
    "n3"
   ]
  },
  {
   "cell_type": "code",
   "execution_count": 105,
   "id": "6b775139-b634-4518-9231-9990e023e1c6",
   "metadata": {},
   "outputs": [
    {
     "data": {
      "text/plain": [
       "101915.91928251121"
      ]
     },
     "execution_count": 105,
     "metadata": {},
     "output_type": "execute_result"
    }
   ],
   "source": [
    "n3"
   ]
  },
  {
   "cell_type": "markdown",
   "id": "37adb648-bcf5-4d22-836a-3409dc7507ff",
   "metadata": {},
   "source": [
    "## Simple Data Types"
   ]
  },
  {
   "cell_type": "code",
   "execution_count": 106,
   "id": "2bb92af2-dcc6-4f16-961b-f3005d1fb83a",
   "metadata": {},
   "outputs": [
    {
     "data": {
      "text/plain": [
       "int"
      ]
     },
     "execution_count": 106,
     "metadata": {},
     "output_type": "execute_result"
    }
   ],
   "source": [
    "type(233)"
   ]
  },
  {
   "cell_type": "code",
   "execution_count": 107,
   "id": "74cb0345-1c7e-4255-84ef-d7471dbb0d28",
   "metadata": {},
   "outputs": [
    {
     "data": {
      "text/plain": [
       "float"
      ]
     },
     "execution_count": 107,
     "metadata": {},
     "output_type": "execute_result"
    }
   ],
   "source": [
    "type(23.6)"
   ]
  },
  {
   "cell_type": "code",
   "execution_count": 108,
   "id": "3c2d3309-e8a5-4f22-afb8-c057216492eb",
   "metadata": {},
   "outputs": [
    {
     "name": "stdout",
     "output_type": "stream",
     "text": [
      "Data type of 25 is <class 'int'>\n"
     ]
    }
   ],
   "source": [
    "x = 25\n",
    "print(\"Data type of\",x,\"is\",type(25))"
   ]
  },
  {
   "cell_type": "code",
   "execution_count": 109,
   "id": "85ecc4b1-f6c2-41c8-80b6-a8ee5d6a4900",
   "metadata": {},
   "outputs": [
    {
     "data": {
      "text/plain": [
       "complex"
      ]
     },
     "execution_count": 109,
     "metadata": {},
     "output_type": "execute_result"
    }
   ],
   "source": [
    "z = 5j\n",
    "type(z)"
   ]
  },
  {
   "cell_type": "code",
   "execution_count": 110,
   "id": "49fee818-09c8-44e3-9a49-b818c7390b5f",
   "metadata": {},
   "outputs": [
    {
     "name": "stdout",
     "output_type": "stream",
     "text": [
      "(-25+0j)\n"
     ]
    }
   ],
   "source": [
    "print(5j*5j)"
   ]
  },
  {
   "cell_type": "code",
   "execution_count": 112,
   "id": "930539ca-c25e-4832-a31a-cba0c3fbc685",
   "metadata": {},
   "outputs": [
    {
     "name": "stdout",
     "output_type": "stream",
     "text": [
      "7\n"
     ]
    }
   ],
   "source": [
    "print(0b111)"
   ]
  },
  {
   "cell_type": "code",
   "execution_count": 113,
   "id": "d77b2e4d-f6e5-4c66-b1c4-373d7bdd149b",
   "metadata": {},
   "outputs": [
    {
     "data": {
      "text/plain": [
       "int"
      ]
     },
     "execution_count": 113,
     "metadata": {},
     "output_type": "execute_result"
    }
   ],
   "source": [
    "type(0b101)"
   ]
  },
  {
   "cell_type": "markdown",
   "id": "718ab2ce-b16b-4788-b2c5-255b8a571d22",
   "metadata": {},
   "source": [
    "## Strings"
   ]
  },
  {
   "cell_type": "code",
   "execution_count": 114,
   "id": "4cf89e40-51e3-4848-aa02-0f1f6c0e975e",
   "metadata": {},
   "outputs": [
    {
     "name": "stdout",
     "output_type": "stream",
     "text": [
      "python is awesome\n"
     ]
    }
   ],
   "source": [
    "print(\"python \"+\"is \"+\"awesome\")"
   ]
  },
  {
   "cell_type": "code",
   "execution_count": 115,
   "id": "e016865f-1474-4648-bdce-6abc9f135092",
   "metadata": {},
   "outputs": [
    {
     "ename": "TypeError",
     "evalue": "unsupported operand type(s) for -: 'str' and 'int'",
     "output_type": "error",
     "traceback": [
      "\u001b[1;31m---------------------------------------------------------------------------\u001b[0m",
      "\u001b[1;31mTypeError\u001b[0m                                 Traceback (most recent call last)",
      "Cell \u001b[1;32mIn[115], line 1\u001b[0m\n\u001b[1;32m----> 1\u001b[0m \u001b[38;5;28mprint\u001b[39m(\u001b[38;5;124;43m\"\u001b[39;49m\u001b[38;5;124;43mpython\u001b[39;49m\u001b[38;5;124;43m\"\u001b[39;49m\u001b[38;5;241;43m-\u001b[39;49m\u001b[38;5;241;43m3\u001b[39;49m)\n",
      "\u001b[1;31mTypeError\u001b[0m: unsupported operand type(s) for -: 'str' and 'int'"
     ]
    }
   ],
   "source": [
    "print(\"python\"-3)"
   ]
  },
  {
   "cell_type": "code",
   "execution_count": 116,
   "id": "83638f85-7306-4e2f-a736-cd4a69d070dc",
   "metadata": {},
   "outputs": [
    {
     "name": "stdout",
     "output_type": "stream",
     "text": [
      "pythonpythonpythonpythonpythonpythonpythonpython\n"
     ]
    }
   ],
   "source": [
    "print(\"python\"*8)"
   ]
  },
  {
   "cell_type": "code",
   "execution_count": 117,
   "id": "d5266cec-9678-44f6-b3c3-669fec0f5d30",
   "metadata": {},
   "outputs": [
    {
     "name": "stdin",
     "output_type": "stream",
     "text": [
      " Hello galaxy\n"
     ]
    }
   ],
   "source": [
    "answer = input()"
   ]
  },
  {
   "cell_type": "code",
   "execution_count": 118,
   "id": "cb502bb1-31f4-4f5f-ad6b-e9b4c4136c42",
   "metadata": {},
   "outputs": [
    {
     "ename": "SyntaxError",
     "evalue": "unterminated string literal (detected at line 1) (323132246.py, line 1)",
     "output_type": "error",
     "traceback": [
      "\u001b[1;36m  Cell \u001b[1;32mIn[118], line 1\u001b[1;36m\u001b[0m\n\u001b[1;33m    print('I'm learning python')\u001b[0m\n\u001b[1;37m                              ^\u001b[0m\n\u001b[1;31mSyntaxError\u001b[0m\u001b[1;31m:\u001b[0m unterminated string literal (detected at line 1)\n"
     ]
    }
   ],
   "source": [
    "print('I'm learning python')"
   ]
  },
  {
   "cell_type": "code",
   "execution_count": 119,
   "id": "5e69c83c-711d-4de8-9cc8-894fc196f57b",
   "metadata": {},
   "outputs": [
    {
     "name": "stdout",
     "output_type": "stream",
     "text": [
      "I'm learning python\n"
     ]
    }
   ],
   "source": [
    "print(\"I'm learning python\")"
   ]
  },
  {
   "cell_type": "code",
   "execution_count": 120,
   "id": "81bd5be4-6613-4861-891c-fc008a0df500",
   "metadata": {},
   "outputs": [
    {
     "name": "stdout",
     "output_type": "stream",
     "text": [
      "John said \"Hello there\"\n"
     ]
    }
   ],
   "source": [
    "print('John said \"Hello there\"')"
   ]
  },
  {
   "cell_type": "code",
   "execution_count": 121,
   "id": "cc845819-4ad3-436c-860e-978e91eb121b",
   "metadata": {},
   "outputs": [
    {
     "name": "stdout",
     "output_type": "stream",
     "text": [
      "I'm learning Python\n"
     ]
    }
   ],
   "source": [
    "print('I\\'m learning Python')"
   ]
  },
  {
   "cell_type": "code",
   "execution_count": 122,
   "id": "99a68777-0a7e-4f08-b174-4ac5f5ab7483",
   "metadata": {},
   "outputs": [
    {
     "name": "stdout",
     "output_type": "stream",
     "text": [
      "Hello there\n",
      " how are you\n"
     ]
    }
   ],
   "source": [
    "print(\"Hello there\\n how are you\")"
   ]
  },
  {
   "cell_type": "code",
   "execution_count": 123,
   "id": "597d1a56-6d49-4e78-a638-089449830f0b",
   "metadata": {},
   "outputs": [
    {
     "name": "stdout",
     "output_type": "stream",
     "text": [
      "I'm triple\n"
     ]
    }
   ],
   "source": [
    "print(\"\"\"I'm triple\"\"\")"
   ]
  },
  {
   "cell_type": "code",
   "execution_count": 125,
   "id": "62e3f7fc-c714-47b6-8c61-56cc28301891",
   "metadata": {},
   "outputs": [
    {
     "name": "stdout",
     "output_type": "stream",
     "text": [
      "We use triple quotes for very long strings\n",
      "\n",
      "over here\n",
      "right there\n",
      "\n"
     ]
    }
   ],
   "source": [
    "print(\"\"\"We use triple quotes for very long strings\n",
    "\n",
    "over here\n",
    "right there\n",
    "\"\"\")"
   ]
  },
  {
   "cell_type": "markdown",
   "id": "316a2ed5-ec2a-462d-99bb-4397de74f316",
   "metadata": {},
   "source": [
    "## Formatting Operations with Strings"
   ]
  },
  {
   "cell_type": "code",
   "execution_count": 126,
   "id": "dcbd4311-5dd7-4aba-894f-77b95b6cee4b",
   "metadata": {},
   "outputs": [
    {
     "name": "stdout",
     "output_type": "stream",
     "text": [
      "A dog barks\n"
     ]
    }
   ],
   "source": [
    "my_var = 'barks'\n",
    "print('A dog '+my_var)"
   ]
  },
  {
   "cell_type": "code",
   "execution_count": 129,
   "id": "44aeab0a-b3ba-45f8-bc86-a59d781d3786",
   "metadata": {},
   "outputs": [
    {
     "name": "stdout",
     "output_type": "stream",
     "text": [
      "A dog barks\n"
     ]
    }
   ],
   "source": [
    "print(f'A dog {my_var}')"
   ]
  },
  {
   "cell_type": "code",
   "execution_count": 130,
   "id": "e079fbef-a2ec-40e8-8e26-c484b98a4fe8",
   "metadata": {},
   "outputs": [
    {
     "name": "stdout",
     "output_type": "stream",
     "text": [
      "\n",
      "aaaa\n",
      "aaa\n",
      "A dog barks\n"
     ]
    }
   ],
   "source": [
    "print(f'''\n",
    "aaaa\n",
    "aaa\n",
    "A dog {my_var}''')"
   ]
  },
  {
   "cell_type": "code",
   "execution_count": 132,
   "id": "2d41d867-d834-43ea-96f7-b2bfbd3287f8",
   "metadata": {},
   "outputs": [
    {
     "name": "stdout",
     "output_type": "stream",
     "text": [
      "A dog barks\n"
     ]
    }
   ],
   "source": [
    "print(\"A dog {}\".format(my_var))"
   ]
  },
  {
   "cell_type": "code",
   "execution_count": 134,
   "id": "c433dbf3-ce56-48ec-9ef2-0c5b78e74fed",
   "metadata": {},
   "outputs": [
    {
     "name": "stdout",
     "output_type": "stream",
     "text": [
      "Tab is over \t here\n"
     ]
    }
   ],
   "source": [
    "print(\"Tab is over \\t here\")"
   ]
  },
  {
   "cell_type": "code",
   "execution_count": 135,
   "id": "207c995c-bb8c-413f-b375-6b85ec4c6552",
   "metadata": {},
   "outputs": [
    {
     "name": "stdout",
     "output_type": "stream",
     "text": [
      "C:\\Users\\user1\n"
     ]
    }
   ],
   "source": [
    "print(\"C:\\\\Users\\\\user1\")"
   ]
  },
  {
   "cell_type": "markdown",
   "id": "cd8148a2-e970-46e5-84b3-ab4f7a4faa52",
   "metadata": {},
   "source": [
    "## Exercise: Notebooks, Functions & Variables"
   ]
  },
  {
   "cell_type": "code",
   "execution_count": 136,
   "id": "393ae31f-ad6b-4b1c-b583-123d82915578",
   "metadata": {},
   "outputs": [
    {
     "data": {
      "text/plain": [
       "str"
      ]
     },
     "execution_count": 136,
     "metadata": {},
     "output_type": "execute_result"
    }
   ],
   "source": [
    "type('a')"
   ]
  },
  {
   "cell_type": "code",
   "execution_count": 138,
   "id": "1ea8700c-557f-4e84-9ab9-60c04247c5f7",
   "metadata": {},
   "outputs": [
    {
     "data": {
      "text/plain": [
       "2"
      ]
     },
     "execution_count": 138,
     "metadata": {},
     "output_type": "execute_result"
    }
   ],
   "source": [
    "num_x = 6-4\n",
    "num_x"
   ]
  },
  {
   "cell_type": "markdown",
   "id": "25447825-18a0-464f-9964-7c58f3abda14",
   "metadata": {},
   "source": [
    "## Lists"
   ]
  },
  {
   "cell_type": "code",
   "execution_count": 139,
   "id": "4b3d338a-25ca-43a2-be91-0466923330b1",
   "metadata": {},
   "outputs": [
    {
     "data": {
      "text/plain": [
       "[1.22, 211.22, 22.2, 22.2, 34.56]"
      ]
     },
     "execution_count": 139,
     "metadata": {},
     "output_type": "execute_result"
    }
   ],
   "source": [
    "list_float = [1.22,211.22,22.2,22.2,34.56]\n",
    "list_float"
   ]
  },
  {
   "cell_type": "code",
   "execution_count": 140,
   "id": "ba5f8605-795c-44b7-bfe7-152ec98cbbac",
   "metadata": {},
   "outputs": [
    {
     "data": {
      "text/plain": [
       "[True, True, False, False]"
      ]
     },
     "execution_count": 140,
     "metadata": {},
     "output_type": "execute_result"
    }
   ],
   "source": [
    "list_bool = [True,True,False,False]\n",
    "list_bool"
   ]
  },
  {
   "cell_type": "code",
   "execution_count": 141,
   "id": "bc02267c-b5ad-4d0f-b71f-8ad1154d8f49",
   "metadata": {},
   "outputs": [
    {
     "data": {
      "text/plain": [
       "['Toyota', 'Lamborgini', 'Bentley']"
      ]
     },
     "execution_count": 141,
     "metadata": {},
     "output_type": "execute_result"
    }
   ],
   "source": [
    "cars_list = [\"Toyota\", 'Lamborgini','Bentley']\n",
    "cars_list"
   ]
  },
  {
   "cell_type": "code",
   "execution_count": 142,
   "id": "37ffa448-9919-4f81-8343-8204ed275965",
   "metadata": {},
   "outputs": [
    {
     "name": "stdout",
     "output_type": "stream",
     "text": [
      "Toyota\n"
     ]
    }
   ],
   "source": [
    "print(cars_list[0])"
   ]
  },
  {
   "cell_type": "code",
   "execution_count": 143,
   "id": "432755c4-f9f9-43cd-9c9b-6d68b9a07c5c",
   "metadata": {},
   "outputs": [
    {
     "ename": "IndexError",
     "evalue": "list index out of range",
     "output_type": "error",
     "traceback": [
      "\u001b[1;31m---------------------------------------------------------------------------\u001b[0m",
      "\u001b[1;31mIndexError\u001b[0m                                Traceback (most recent call last)",
      "Cell \u001b[1;32mIn[143], line 1\u001b[0m\n\u001b[1;32m----> 1\u001b[0m \u001b[38;5;28mprint\u001b[39m(\u001b[43mcars_list\u001b[49m\u001b[43m[\u001b[49m\u001b[38;5;241;43m4\u001b[39;49m\u001b[43m]\u001b[49m)\n",
      "\u001b[1;31mIndexError\u001b[0m: list index out of range"
     ]
    }
   ],
   "source": [
    "print(cars_list[4])"
   ]
  },
  {
   "cell_type": "code",
   "execution_count": 144,
   "id": "ee7130df-9a17-4f45-bfa6-49c6a9d4199c",
   "metadata": {},
   "outputs": [
    {
     "ename": "IndexError",
     "evalue": "list index out of range",
     "output_type": "error",
     "traceback": [
      "\u001b[1;31m---------------------------------------------------------------------------\u001b[0m",
      "\u001b[1;31mIndexError\u001b[0m                                Traceback (most recent call last)",
      "Cell \u001b[1;32mIn[144], line 1\u001b[0m\n\u001b[1;32m----> 1\u001b[0m \u001b[38;5;28mprint\u001b[39m(\u001b[43mcars_list\u001b[49m\u001b[43m[\u001b[49m\u001b[38;5;241;43m3\u001b[39;49m\u001b[43m]\u001b[49m)\n",
      "\u001b[1;31mIndexError\u001b[0m: list index out of range"
     ]
    }
   ],
   "source": [
    "print(cars_list[3])"
   ]
  },
  {
   "cell_type": "code",
   "execution_count": 145,
   "id": "b83cef78-01e0-4a71-aceb-cfd5e53aab6e",
   "metadata": {},
   "outputs": [
    {
     "data": {
      "text/plain": [
       "4"
      ]
     },
     "execution_count": 145,
     "metadata": {},
     "output_type": "execute_result"
    }
   ],
   "source": [
    "len(cars_list+['Maserati'])"
   ]
  },
  {
   "cell_type": "code",
   "execution_count": 146,
   "id": "9f7fa69d-13e1-4f16-9ff8-db1e4468c24e",
   "metadata": {},
   "outputs": [
    {
     "data": {
      "text/plain": [
       "['Toyota', 'Lamborgini', 'Bentley']"
      ]
     },
     "execution_count": 146,
     "metadata": {},
     "output_type": "execute_result"
    }
   ],
   "source": [
    "cars_list"
   ]
  },
  {
   "cell_type": "code",
   "execution_count": 147,
   "id": "5a12cc72-31f9-4fd9-bc44-8dea61d864b4",
   "metadata": {},
   "outputs": [
    {
     "ename": "TypeError",
     "evalue": "list indices must be integers or slices, not tuple",
     "output_type": "error",
     "traceback": [
      "\u001b[1;31m---------------------------------------------------------------------------\u001b[0m",
      "\u001b[1;31mTypeError\u001b[0m                                 Traceback (most recent call last)",
      "Cell \u001b[1;32mIn[147], line 1\u001b[0m\n\u001b[1;32m----> 1\u001b[0m \u001b[38;5;28mprint\u001b[39m(\u001b[43mcars_list\u001b[49m\u001b[43m[\u001b[49m\u001b[38;5;241;43m1\u001b[39;49m\u001b[43m,\u001b[49m\u001b[38;5;241;43m2\u001b[39;49m\u001b[43m]\u001b[49m)\n",
      "\u001b[1;31mTypeError\u001b[0m: list indices must be integers or slices, not tuple"
     ]
    }
   ],
   "source": [
    "print(cars_list[1,2])"
   ]
  },
  {
   "cell_type": "code",
   "execution_count": 148,
   "id": "6a0469b2-d46f-4d09-94ff-d79f0eec3315",
   "metadata": {},
   "outputs": [
    {
     "name": "stdout",
     "output_type": "stream",
     "text": [
      "['Lamborgini']\n"
     ]
    }
   ],
   "source": [
    "print(cars_list[1:2])"
   ]
  },
  {
   "cell_type": "code",
   "execution_count": 150,
   "id": "340e172a-5cf1-4370-b030-4e99e04108f7",
   "metadata": {},
   "outputs": [
    {
     "name": "stdout",
     "output_type": "stream",
     "text": [
      "['Lamborgini', 'Bentley']\n"
     ]
    }
   ],
   "source": [
    "print(cars_list[1:3]) #slicing"
   ]
  },
  {
   "cell_type": "code",
   "execution_count": 151,
   "id": "0b5e3810-1586-4e48-b36c-afdb70b9b08a",
   "metadata": {},
   "outputs": [
    {
     "name": "stdout",
     "output_type": "stream",
     "text": [
      "Bentley\n"
     ]
    }
   ],
   "source": [
    "print(cars_list[-1]) ##from last position"
   ]
  },
  {
   "cell_type": "code",
   "execution_count": 152,
   "id": "dba33c21-28f4-4e82-b05a-cbdf5da75e83",
   "metadata": {},
   "outputs": [
    {
     "ename": "NameError",
     "evalue": "name 'Maserati' is not defined",
     "output_type": "error",
     "traceback": [
      "\u001b[1;31m---------------------------------------------------------------------------\u001b[0m",
      "\u001b[1;31mNameError\u001b[0m                                 Traceback (most recent call last)",
      "Cell \u001b[1;32mIn[152], line 1\u001b[0m\n\u001b[1;32m----> 1\u001b[0m cars_list [\u001b[38;5;241m3\u001b[39m] \u001b[38;5;241m=\u001b[39m \u001b[43mMaserati\u001b[49m\n\u001b[0;32m      2\u001b[0m cars_list\n",
      "\u001b[1;31mNameError\u001b[0m: name 'Maserati' is not defined"
     ]
    }
   ],
   "source": [
    "cars_list [3] = Maserati\n",
    "cars_list"
   ]
  },
  {
   "cell_type": "code",
   "execution_count": 153,
   "id": "783c902a-3f1e-488d-8a11-80ec4056369b",
   "metadata": {},
   "outputs": [
    {
     "data": {
      "text/plain": [
       "['Toyota', 'Lamborgini', 'Bentley', 'Maserati']"
      ]
     },
     "execution_count": 153,
     "metadata": {},
     "output_type": "execute_result"
    }
   ],
   "source": [
    "cars_list.append('Maserati')\n",
    "cars_list"
   ]
  },
  {
   "cell_type": "code",
   "execution_count": 154,
   "id": "82c5b53b-7dcd-4304-b16e-1c74b7c920dd",
   "metadata": {},
   "outputs": [
    {
     "data": {
      "text/plain": [
       "['Toyota', 'Lamborgini', 'Ferrari', 'Maserati']"
      ]
     },
     "execution_count": 154,
     "metadata": {},
     "output_type": "execute_result"
    }
   ],
   "source": [
    "cars_list[2] = \"Ferrari\"\n",
    "cars_list"
   ]
  },
  {
   "cell_type": "markdown",
   "id": "62747c28-4026-45b6-a92d-c19626e58752",
   "metadata": {},
   "source": [
    "## List Operations"
   ]
  },
  {
   "cell_type": "code",
   "execution_count": 155,
   "id": "c251badf-f1d7-46a2-93b0-8c89de9d0aff",
   "metadata": {},
   "outputs": [
    {
     "data": {
      "text/plain": [
       "['Toyota', 'Lamborgini', 'Ferrari', 'Maserati', 'Buggati']"
      ]
     },
     "execution_count": 155,
     "metadata": {},
     "output_type": "execute_result"
    }
   ],
   "source": [
    "cars_list.append(\"Buggati\")\n",
    "cars_list"
   ]
  },
  {
   "cell_type": "code",
   "execution_count": 156,
   "id": "525a5222-8306-44f1-938e-209145d4b83a",
   "metadata": {},
   "outputs": [
    {
     "data": {
      "text/plain": [
       "['Toyota', 'Lamborgini', 'Ferrari', 'Hyundai', 'Maserati', 'Buggati']"
      ]
     },
     "execution_count": 156,
     "metadata": {},
     "output_type": "execute_result"
    }
   ],
   "source": [
    "cars_list.insert(3,\"Hyundai\")\n",
    "cars_list"
   ]
  },
  {
   "cell_type": "code",
   "execution_count": 157,
   "id": "988529a1-5e28-4742-a2cf-1667263b3cee",
   "metadata": {},
   "outputs": [
    {
     "data": {
      "text/plain": [
       "6"
      ]
     },
     "execution_count": 157,
     "metadata": {},
     "output_type": "execute_result"
    }
   ],
   "source": [
    "len(cars_list)"
   ]
  },
  {
   "cell_type": "code",
   "execution_count": 158,
   "id": "f84f2237-4f01-407c-ba99-ebe5c9d4b5ce",
   "metadata": {},
   "outputs": [
    {
     "data": {
      "text/plain": [
       "['Toyota',\n",
       " 'Lamborgini',\n",
       " 'Ferrari',\n",
       " 'Hyundai',\n",
       " 'Mercedes',\n",
       " 'Maserati',\n",
       " 'Buggati']"
      ]
     },
     "execution_count": 158,
     "metadata": {},
     "output_type": "execute_result"
    }
   ],
   "source": [
    "cars_list.insert(4,'Mercedes')\n",
    "cars_list"
   ]
  },
  {
   "cell_type": "code",
   "execution_count": 160,
   "id": "c1264057-54fc-490a-9070-873df54bfbf7",
   "metadata": {},
   "outputs": [
    {
     "data": {
      "text/plain": [
       "['Toyota',\n",
       " 'Lamborgini',\n",
       " 'Ferrari',\n",
       " 'Hyundai',\n",
       " 'Mercedes',\n",
       " 'Maserati',\n",
       " 'Buggati',\n",
       " 'Ford',\n",
       " 'BMW']"
      ]
     },
     "execution_count": 160,
     "metadata": {},
     "output_type": "execute_result"
    }
   ],
   "source": [
    "cars_list.extend(['Ford','BMW'])\n",
    "cars_list"
   ]
  },
  {
   "cell_type": "code",
   "execution_count": 161,
   "id": "da56a30a-9d8d-41b3-a3e8-bad870e7e4cc",
   "metadata": {},
   "outputs": [
    {
     "data": {
      "text/plain": [
       "['Toyota',\n",
       " 'Lamborgini',\n",
       " 'Ferrari',\n",
       " 'Hyundai',\n",
       " 'Mercedes',\n",
       " 'Maserati',\n",
       " 'Buggati',\n",
       " 'Ford',\n",
       " 'BMW',\n",
       " 'Hennessy',\n",
       " 'Audi']"
      ]
     },
     "execution_count": 161,
     "metadata": {},
     "output_type": "execute_result"
    }
   ],
   "source": [
    "cars_list2 = ['Hennessy','Audi']\n",
    "complete_cars_list = cars_list+cars_list2\n",
    "complete_cars_list"
   ]
  },
  {
   "cell_type": "code",
   "execution_count": 162,
   "id": "fdfe70a2-0347-43fe-a733-eb7a70aa6b76",
   "metadata": {},
   "outputs": [
    {
     "data": {
      "text/plain": [
       "['Toyota',\n",
       " 'Lamborgini',\n",
       " 'Ferrari',\n",
       " 'Hyundai',\n",
       " 'Mercedes',\n",
       " 'Maserati',\n",
       " 'Buggati',\n",
       " 'Ford',\n",
       " 'BMW']"
      ]
     },
     "execution_count": 162,
     "metadata": {},
     "output_type": "execute_result"
    }
   ],
   "source": [
    "cars_list"
   ]
  },
  {
   "cell_type": "code",
   "execution_count": 163,
   "id": "a9b1549a-d8e7-462b-892c-d45d6a748023",
   "metadata": {},
   "outputs": [
    {
     "data": {
      "text/plain": [
       "3"
      ]
     },
     "execution_count": 163,
     "metadata": {},
     "output_type": "execute_result"
    }
   ],
   "source": [
    "complete_cars_list.index('Hyundai')"
   ]
  },
  {
   "cell_type": "code",
   "execution_count": 164,
   "id": "a0ce861e-b016-47fb-a0b2-3489d7fec216",
   "metadata": {},
   "outputs": [
    {
     "data": {
      "text/plain": [
       "['Toyota',\n",
       " 'Lamborgini',\n",
       " 'Ferrari',\n",
       " 'Mercedes',\n",
       " 'Maserati',\n",
       " 'Buggati',\n",
       " 'Ford',\n",
       " 'BMW',\n",
       " 'Hennessy',\n",
       " 'Audi']"
      ]
     },
     "execution_count": 164,
     "metadata": {},
     "output_type": "execute_result"
    }
   ],
   "source": [
    "complete_cars_list.remove('Hyundai')\n",
    "complete_cars_list"
   ]
  },
  {
   "cell_type": "code",
   "execution_count": 165,
   "id": "c1ae2574-4979-4bcd-b2f7-27ed1a00036f",
   "metadata": {},
   "outputs": [
    {
     "ename": "ValueError",
     "evalue": "'Hyundai' is not in list",
     "output_type": "error",
     "traceback": [
      "\u001b[1;31m---------------------------------------------------------------------------\u001b[0m",
      "\u001b[1;31mValueError\u001b[0m                                Traceback (most recent call last)",
      "Cell \u001b[1;32mIn[165], line 1\u001b[0m\n\u001b[1;32m----> 1\u001b[0m \u001b[43mcomplete_cars_list\u001b[49m\u001b[38;5;241;43m.\u001b[39;49m\u001b[43mindex\u001b[49m\u001b[43m(\u001b[49m\u001b[38;5;124;43m'\u001b[39;49m\u001b[38;5;124;43mHyundai\u001b[39;49m\u001b[38;5;124;43m'\u001b[39;49m\u001b[43m)\u001b[49m\n",
      "\u001b[1;31mValueError\u001b[0m: 'Hyundai' is not in list"
     ]
    }
   ],
   "source": [
    "complete_cars_list.index('Hyundai')"
   ]
  },
  {
   "cell_type": "markdown",
   "id": "1f73ace6-9a74-42bc-be8e-fc7451b89ca4",
   "metadata": {},
   "source": [
    "## Useful List Operations"
   ]
  },
  {
   "cell_type": "code",
   "execution_count": 166,
   "id": "0e9e8787-fd57-47e7-b9d0-bbad635f4eda",
   "metadata": {},
   "outputs": [
    {
     "data": {
      "text/plain": [
       "['Toyota',\n",
       " 'Lamborgini',\n",
       " 'Ferrari',\n",
       " 'Mercedes',\n",
       " 'Maserati',\n",
       " 'Buggati',\n",
       " 'Ford',\n",
       " 'BMW',\n",
       " 'Hennessy',\n",
       " 'Audi',\n",
       " 'Volkswagen',\n",
       " 'Honda']"
      ]
     },
     "execution_count": 166,
     "metadata": {},
     "output_type": "execute_result"
    }
   ],
   "source": [
    "complete_cars_list += ['Volkswagen','Honda']\n",
    "complete_cars_list"
   ]
  },
  {
   "cell_type": "code",
   "execution_count": 167,
   "id": "090ce631-3d4e-4fb2-ae8b-9164d659c989",
   "metadata": {},
   "outputs": [
    {
     "data": {
      "text/plain": [
       "['Audi',\n",
       " 'BMW',\n",
       " 'Buggati',\n",
       " 'Ferrari',\n",
       " 'Ford',\n",
       " 'Hennessy',\n",
       " 'Honda',\n",
       " 'Lamborgini',\n",
       " 'Maserati',\n",
       " 'Mercedes',\n",
       " 'Toyota',\n",
       " 'Volkswagen']"
      ]
     },
     "execution_count": 167,
     "metadata": {},
     "output_type": "execute_result"
    }
   ],
   "source": [
    "complete_cars_list.sort()\n",
    "complete_cars_list"
   ]
  },
  {
   "cell_type": "code",
   "execution_count": 168,
   "id": "461c68ea-302f-4318-9277-caced01441ab",
   "metadata": {},
   "outputs": [
    {
     "data": {
      "text/plain": [
       "['Volkswagen',\n",
       " 'Toyota',\n",
       " 'Mercedes',\n",
       " 'Maserati',\n",
       " 'Lamborgini',\n",
       " 'Honda',\n",
       " 'Hennessy',\n",
       " 'Ford',\n",
       " 'Ferrari',\n",
       " 'Buggati',\n",
       " 'BMW',\n",
       " 'Audi']"
      ]
     },
     "execution_count": 168,
     "metadata": {},
     "output_type": "execute_result"
    }
   ],
   "source": [
    "complete_cars_list.reverse()\n",
    "complete_cars_list"
   ]
  },
  {
   "cell_type": "code",
   "execution_count": 169,
   "id": "114e511b-94ed-4f2a-a670-53438e339972",
   "metadata": {},
   "outputs": [
    {
     "data": {
      "text/plain": [
       "['Volkswagen',\n",
       " 'Toyota',\n",
       " 'Mercedes',\n",
       " 'Maserati',\n",
       " 'Lamborgini',\n",
       " 'Honda',\n",
       " 'Hennessy',\n",
       " 'Ford',\n",
       " 'Ferrari',\n",
       " 'Buggati',\n",
       " 'BMW']"
      ]
     },
     "execution_count": 169,
     "metadata": {},
     "output_type": "execute_result"
    }
   ],
   "source": [
    "complete_cars_list.pop()\n",
    "complete_cars_list"
   ]
  },
  {
   "cell_type": "code",
   "execution_count": 170,
   "id": "523760f0-2989-4166-a6ee-1a73685bc029",
   "metadata": {},
   "outputs": [
    {
     "data": {
      "text/plain": [
       "2"
      ]
     },
     "execution_count": 170,
     "metadata": {},
     "output_type": "execute_result"
    }
   ],
   "source": [
    "complete_cars_list.append('Ferrari')\n",
    "complete_cars_list.count('Ferrari')"
   ]
  },
  {
   "cell_type": "code",
   "execution_count": 171,
   "id": "31c6b1ea-2c65-49f9-9a1b-bc23046ad443",
   "metadata": {},
   "outputs": [
    {
     "data": {
      "text/plain": [
       "{'BMW',\n",
       " 'Buggati',\n",
       " 'Ferrari',\n",
       " 'Ford',\n",
       " 'Hennessy',\n",
       " 'Honda',\n",
       " 'Lamborgini',\n",
       " 'Maserati',\n",
       " 'Mercedes',\n",
       " 'Toyota',\n",
       " 'Volkswagen'}"
      ]
     },
     "execution_count": 171,
     "metadata": {},
     "output_type": "execute_result"
    }
   ],
   "source": [
    "set(complete_cars_list) #convert to set and removes duplicates"
   ]
  },
  {
   "cell_type": "code",
   "execution_count": 172,
   "id": "f9a6c171-6afc-4094-842b-369dee35aa04",
   "metadata": {},
   "outputs": [
    {
     "data": {
      "text/plain": [
       "['Hennessy', 'Audi']"
      ]
     },
     "execution_count": 172,
     "metadata": {},
     "output_type": "execute_result"
    }
   ],
   "source": [
    "cars_list2"
   ]
  },
  {
   "cell_type": "code",
   "execution_count": 173,
   "id": "e8fe8f3c-4db9-4b97-8248-1b9755b67b11",
   "metadata": {},
   "outputs": [],
   "source": [
    "cars_list.clear()"
   ]
  },
  {
   "cell_type": "code",
   "execution_count": 174,
   "id": "416a4aa7-c149-44b7-8e11-58e0318eaf61",
   "metadata": {},
   "outputs": [],
   "source": [
    "cars_list2.clear()"
   ]
  },
  {
   "cell_type": "code",
   "execution_count": 175,
   "id": "9de2e3b2-c171-4557-8f35-a4698c597839",
   "metadata": {},
   "outputs": [
    {
     "data": {
      "text/plain": [
       "[]"
      ]
     },
     "execution_count": 175,
     "metadata": {},
     "output_type": "execute_result"
    }
   ],
   "source": [
    "cars_list"
   ]
  },
  {
   "cell_type": "code",
   "execution_count": 178,
   "id": "29a140fd-c505-4e63-8676-de29dd72654b",
   "metadata": {},
   "outputs": [
    {
     "data": {
      "text/plain": [
       "[]"
      ]
     },
     "execution_count": 178,
     "metadata": {},
     "output_type": "execute_result"
    }
   ],
   "source": [
    "cars_list2"
   ]
  },
  {
   "cell_type": "code",
   "execution_count": 179,
   "id": "52377081-366c-4b6c-a004-283edcb6d7eb",
   "metadata": {},
   "outputs": [],
   "source": [
    "import copy"
   ]
  },
  {
   "cell_type": "code",
   "execution_count": 180,
   "id": "4f021d76-8a1b-4583-971f-6066363d239a",
   "metadata": {},
   "outputs": [
    {
     "data": {
      "text/plain": [
       "['Volkswagen',\n",
       " 'Toyota',\n",
       " 'Mercedes',\n",
       " 'Maserati',\n",
       " 'Lamborgini',\n",
       " 'Honda',\n",
       " 'Hennessy',\n",
       " 'Ford',\n",
       " 'Ferrari',\n",
       " 'Buggati',\n",
       " 'BMW',\n",
       " 'Ferrari']"
      ]
     },
     "execution_count": 180,
     "metadata": {},
     "output_type": "execute_result"
    }
   ],
   "source": [
    "new_cars_list = copy.deepcopy(complete_cars_list) #deep copy does not reflect changes of original\n",
    "new_cars_list"
   ]
  },
  {
   "cell_type": "code",
   "execution_count": 181,
   "id": "734d65fd-116f-45d9-afdf-4dafb4ed54fc",
   "metadata": {},
   "outputs": [
    {
     "data": {
      "text/plain": [
       "['Volkswagen',\n",
       " 'Toyota',\n",
       " 'Mercedes',\n",
       " 'Maserati',\n",
       " 'Lamborgini',\n",
       " 'Honda',\n",
       " 'Hennessy',\n",
       " 'Ford',\n",
       " 'Ferrari',\n",
       " 'Buggati',\n",
       " 'BMW',\n",
       " 'Ferrari']"
      ]
     },
     "execution_count": 181,
     "metadata": {},
     "output_type": "execute_result"
    }
   ],
   "source": [
    "new_cars_list2 = complete_cars_list[:] #deep copy does not reflect changes of original\n",
    "new_cars_list"
   ]
  },
  {
   "cell_type": "code",
   "execution_count": 182,
   "id": "27f0914c-edf0-4ed6-ab3d-cd0336ae488f",
   "metadata": {},
   "outputs": [
    {
     "data": {
      "text/plain": [
       "['Volkswagen',\n",
       " 'Toyota',\n",
       " 'Mercedes',\n",
       " 'Maserati',\n",
       " 'Lamborgini',\n",
       " 'Honda',\n",
       " 'Hennessy',\n",
       " 'Ford',\n",
       " 'Ferrari',\n",
       " 'Buggati',\n",
       " 'BMW',\n",
       " 'Ferrari',\n",
       " 'Chevrolet']"
      ]
     },
     "execution_count": 182,
     "metadata": {},
     "output_type": "execute_result"
    }
   ],
   "source": [
    "shallow_copy_cars = complete_cars_list # refer to the same list\n",
    "shallow_copy_cars+=['Chevrolet']\n",
    "shallow_copy_cars"
   ]
  },
  {
   "cell_type": "code",
   "execution_count": 183,
   "id": "d7659ced-9413-4a78-99a8-410cae6e12db",
   "metadata": {},
   "outputs": [
    {
     "data": {
      "text/plain": [
       "['Volkswagen',\n",
       " 'Toyota',\n",
       " 'Mercedes',\n",
       " 'Maserati',\n",
       " 'Lamborgini',\n",
       " 'Honda',\n",
       " 'Hennessy',\n",
       " 'Ford',\n",
       " 'Ferrari',\n",
       " 'Buggati',\n",
       " 'BMW',\n",
       " 'Ferrari']"
      ]
     },
     "execution_count": 183,
     "metadata": {},
     "output_type": "execute_result"
    }
   ],
   "source": [
    "shallow_copy_cars.remove('Chevrolet')\n",
    "complete_cars_list"
   ]
  },
  {
   "cell_type": "markdown",
   "id": "1db09640-bae6-438e-b840-da3cca8a7c4b",
   "metadata": {},
   "source": [
    "## Built in List Functions"
   ]
  },
  {
   "cell_type": "code",
   "execution_count": 184,
   "id": "012c350c-1ae6-4da2-9e03-d0dfa4a44a93",
   "metadata": {},
   "outputs": [
    {
     "data": {
      "text/plain": [
       "[12, 20, 22, 34, 56, 11, 23]"
      ]
     },
     "execution_count": 184,
     "metadata": {},
     "output_type": "execute_result"
    }
   ],
   "source": [
    "list_num = [12,20,22,34,56,11,23]\n",
    "list_num"
   ]
  },
  {
   "cell_type": "code",
   "execution_count": 185,
   "id": "ed08370f-d479-4fe1-b348-7924a3d42f95",
   "metadata": {},
   "outputs": [
    {
     "data": {
      "text/plain": [
       "56"
      ]
     },
     "execution_count": 185,
     "metadata": {},
     "output_type": "execute_result"
    }
   ],
   "source": [
    "max(list_num)"
   ]
  },
  {
   "cell_type": "code",
   "execution_count": 186,
   "id": "99654e0f-45d6-4c17-8834-0411c3de8551",
   "metadata": {},
   "outputs": [
    {
     "data": {
      "text/plain": [
       "11"
      ]
     },
     "execution_count": 186,
     "metadata": {},
     "output_type": "execute_result"
    }
   ],
   "source": [
    "min(list_num)"
   ]
  },
  {
   "cell_type": "code",
   "execution_count": 187,
   "id": "acc14ae1-f4c1-40ad-8a2d-66c7ad1fa4d7",
   "metadata": {},
   "outputs": [
    {
     "data": {
      "text/plain": [
       "7"
      ]
     },
     "execution_count": 187,
     "metadata": {},
     "output_type": "execute_result"
    }
   ],
   "source": [
    "len(list_num)"
   ]
  },
  {
   "cell_type": "code",
   "execution_count": 188,
   "id": "bba4a5f5-459e-47c3-afc9-54c19961c063",
   "metadata": {},
   "outputs": [],
   "source": [
    "list_num.sort()"
   ]
  },
  {
   "cell_type": "code",
   "execution_count": 189,
   "id": "5b538cb6-fff0-4d99-854c-a9aff9c4e486",
   "metadata": {},
   "outputs": [
    {
     "data": {
      "text/plain": [
       "[11, 12, 20, 22, 23, 34, 56]"
      ]
     },
     "execution_count": 189,
     "metadata": {},
     "output_type": "execute_result"
    }
   ],
   "source": [
    "list_num"
   ]
  },
  {
   "cell_type": "code",
   "execution_count": 190,
   "id": "9943cc97-3d91-46ad-a0f7-796d0cf77ef5",
   "metadata": {},
   "outputs": [
    {
     "data": {
      "text/plain": [
       "[11, 12, 20, 22, 23, 34, 56, 24]"
      ]
     },
     "execution_count": 190,
     "metadata": {},
     "output_type": "execute_result"
    }
   ],
   "source": [
    "list_num.append(24)\n",
    "list_num\n"
   ]
  },
  {
   "cell_type": "code",
   "execution_count": 191,
   "id": "44b8788e-388b-4efc-8506-2c8c359cd6b9",
   "metadata": {},
   "outputs": [
    {
     "data": {
      "text/plain": [
       "[11, 12, 20, 22, 23, 24, 34, 56]"
      ]
     },
     "execution_count": 191,
     "metadata": {},
     "output_type": "execute_result"
    }
   ],
   "source": [
    "new_list_num = sorted(list_num)\n",
    "new_list_num"
   ]
  },
  {
   "cell_type": "code",
   "execution_count": 192,
   "id": "a14b744e-827f-4bc7-b920-a4d4967e4e59",
   "metadata": {},
   "outputs": [
    {
     "data": {
      "text/plain": [
       "[11, 12, 20, 22, 23, 34, 56, 24]"
      ]
     },
     "execution_count": 192,
     "metadata": {},
     "output_type": "execute_result"
    }
   ],
   "source": [
    "list_num ## no sorting happened"
   ]
  },
  {
   "cell_type": "code",
   "execution_count": 193,
   "id": "e371b591-ac8b-4a7f-8447-a734b772d834",
   "metadata": {},
   "outputs": [
    {
     "data": {
      "text/plain": [
       "[11, 12, 20, 22, 23, 34, 56, 24, 11, 12, 20, 22, 23, 34, 56, 24]"
      ]
     },
     "execution_count": 193,
     "metadata": {},
     "output_type": "execute_result"
    }
   ],
   "source": [
    "list_num *= 2 # concatenates it with itself twice\n",
    "list_num"
   ]
  },
  {
   "cell_type": "code",
   "execution_count": 194,
   "id": "54e87cbb-132a-423a-8e4a-1f7db1226727",
   "metadata": {},
   "outputs": [
    {
     "ename": "TypeError",
     "evalue": "'int' object is not iterable",
     "output_type": "error",
     "traceback": [
      "\u001b[1;31m---------------------------------------------------------------------------\u001b[0m",
      "\u001b[1;31mTypeError\u001b[0m                                 Traceback (most recent call last)",
      "Cell \u001b[1;32mIn[194], line 1\u001b[0m\n\u001b[1;32m----> 1\u001b[0m \u001b[43mlist_num\u001b[49m\u001b[43m \u001b[49m\u001b[38;5;241;43m+\u001b[39;49m\u001b[38;5;241;43m=\u001b[39;49m\u001b[43m \u001b[49m\u001b[38;5;241;43m2\u001b[39;49m \u001b[38;5;66;03m# concatenates it with itself twice\u001b[39;00m\n\u001b[0;32m      2\u001b[0m list_num\n",
      "\u001b[1;31mTypeError\u001b[0m: 'int' object is not iterable"
     ]
    }
   ],
   "source": [
    "list_num += 2 # not applicable for lists\n",
    "list_num"
   ]
  },
  {
   "cell_type": "code",
   "execution_count": 195,
   "id": "5d85bf01-be1c-41b4-8a41-639d74c16126",
   "metadata": {},
   "outputs": [
    {
     "data": {
      "text/plain": [
       "False"
      ]
     },
     "execution_count": 195,
     "metadata": {},
     "output_type": "execute_result"
    }
   ],
   "source": [
    "all([0]) ##all are non zero elements"
   ]
  },
  {
   "cell_type": "code",
   "execution_count": 196,
   "id": "2345e093-701a-4bbe-a5cd-d7a2434d4fd6",
   "metadata": {},
   "outputs": [
    {
     "data": {
      "text/plain": [
       "True"
      ]
     },
     "execution_count": 196,
     "metadata": {},
     "output_type": "execute_result"
    }
   ],
   "source": [
    "all([1,1]) ## all are non zero elements"
   ]
  },
  {
   "cell_type": "code",
   "execution_count": 197,
   "id": "dd31505b-ae23-43eb-bbd1-ae93a9e14c39",
   "metadata": {},
   "outputs": [
    {
     "data": {
      "text/plain": [
       "True"
      ]
     },
     "execution_count": 197,
     "metadata": {},
     "output_type": "execute_result"
    }
   ],
   "source": [
    "all([1,2])"
   ]
  },
  {
   "cell_type": "code",
   "execution_count": 198,
   "id": "8af0aeea-1b08-43a8-b871-ace2c969e7b1",
   "metadata": {},
   "outputs": [
    {
     "data": {
      "text/plain": [
       "False"
      ]
     },
     "execution_count": 198,
     "metadata": {},
     "output_type": "execute_result"
    }
   ],
   "source": [
    "any([0]) ##function in Python checks if any element in an iterable is True. If at least one element is True, it returns True, otherwise it returns False"
   ]
  },
  {
   "cell_type": "code",
   "execution_count": 199,
   "id": "3c78fd8c-d9e2-4366-805d-6a4f8471ce6c",
   "metadata": {},
   "outputs": [
    {
     "data": {
      "text/plain": [
       "True"
      ]
     },
     "execution_count": 199,
     "metadata": {},
     "output_type": "execute_result"
    }
   ],
   "source": [
    "any([0,1]) #at least one is True"
   ]
  },
  {
   "cell_type": "code",
   "execution_count": 200,
   "id": "ec5ea05e-365f-421c-b691-3dfbd140f701",
   "metadata": {},
   "outputs": [
    {
     "data": {
      "text/plain": [
       "False"
      ]
     },
     "execution_count": 200,
     "metadata": {},
     "output_type": "execute_result"
    }
   ],
   "source": [
    "any([])"
   ]
  },
  {
   "cell_type": "code",
   "execution_count": 201,
   "id": "517914b6-b567-4c51-b696-4223c5d2136a",
   "metadata": {},
   "outputs": [
    {
     "data": {
      "text/plain": [
       "True"
      ]
     },
     "execution_count": 201,
     "metadata": {},
     "output_type": "execute_result"
    }
   ],
   "source": [
    "any([2,3])"
   ]
  },
  {
   "cell_type": "markdown",
   "id": "3dd773b9-799e-49be-83a7-76ca414a00bb",
   "metadata": {},
   "source": [
    "## Perform Slice Operations"
   ]
  },
  {
   "cell_type": "code",
   "execution_count": 203,
   "id": "ffd92e3b-46e8-44d8-938b-0c01f98976e0",
   "metadata": {},
   "outputs": [
    {
     "data": {
      "text/plain": [
       "'BMW'"
      ]
     },
     "execution_count": 203,
     "metadata": {},
     "output_type": "execute_result"
    }
   ],
   "source": [
    "complete_cars_list[-2]"
   ]
  },
  {
   "cell_type": "code",
   "execution_count": 204,
   "id": "f720f617-77db-4393-905f-235008b13e3f",
   "metadata": {},
   "outputs": [
    {
     "data": {
      "text/plain": [
       "['Volkswagen',\n",
       " 'Toyota',\n",
       " 'Mercedes',\n",
       " 'Maserati',\n",
       " 'Lamborgini',\n",
       " 'Honda',\n",
       " 'Hennessy',\n",
       " 'Ford',\n",
       " 'Ferrari',\n",
       " 'Buggati',\n",
       " 'BMW',\n",
       " 'Ferrari']"
      ]
     },
     "execution_count": 204,
     "metadata": {},
     "output_type": "execute_result"
    }
   ],
   "source": [
    "complete_cars_list"
   ]
  },
  {
   "cell_type": "code",
   "execution_count": 205,
   "id": "9aeebafd-a7b8-4fea-af5c-1fcb89869fe2",
   "metadata": {},
   "outputs": [
    {
     "data": {
      "text/plain": [
       "['Volkswagen', 'Toyota', 'Mercedes', 'Maserati']"
      ]
     },
     "execution_count": 205,
     "metadata": {},
     "output_type": "execute_result"
    }
   ],
   "source": [
    "complete_cars_list[0:4] #inclusive first index and exclusive of last index"
   ]
  },
  {
   "cell_type": "code",
   "execution_count": 206,
   "id": "2806d625-a1ed-4ab5-bae7-db094cb84ebb",
   "metadata": {},
   "outputs": [
    {
     "data": {
      "text/plain": [
       "['Toyota', 'Mercedes', 'Maserati']"
      ]
     },
     "execution_count": 206,
     "metadata": {},
     "output_type": "execute_result"
    }
   ],
   "source": [
    "complete_cars_list[1:4] #inclusive first index and exclusive of last index"
   ]
  },
  {
   "cell_type": "markdown",
   "id": "dc14735c-6506-4728-ae62-bb69a3e4f01c",
   "metadata": {},
   "source": [
    "#### List slicing creates a deep copy so any changes will not affect"
   ]
  },
  {
   "cell_type": "code",
   "execution_count": 208,
   "id": "ece587b6-c5be-4991-a2ef-05aa71da6edf",
   "metadata": {},
   "outputs": [
    {
     "data": {
      "text/plain": [
       "['Volkswagen',\n",
       " 'Toyota',\n",
       " 'Mercedes',\n",
       " 'Maserati',\n",
       " 'Lamborgini',\n",
       " 'Honda',\n",
       " 'Hennessy']"
      ]
     },
     "execution_count": 208,
     "metadata": {},
     "output_type": "execute_result"
    }
   ],
   "source": [
    "complete_cars_list[0:7]"
   ]
  },
  {
   "cell_type": "code",
   "execution_count": 209,
   "id": "6e8b846e-108e-44b9-95a4-61aefe03f3aa",
   "metadata": {},
   "outputs": [
    {
     "data": {
      "text/plain": [
       "['Honda']"
      ]
     },
     "execution_count": 209,
     "metadata": {},
     "output_type": "execute_result"
    }
   ],
   "source": [
    "complete_cars_list[5:6] #only shows at index 5"
   ]
  },
  {
   "cell_type": "code",
   "execution_count": 210,
   "id": "2cee3c71-92da-4325-a9b8-5f589f4926ab",
   "metadata": {},
   "outputs": [
    {
     "data": {
      "text/plain": [
       "['Volkswagen', 'Toyota', 'Mercedes']"
      ]
     },
     "execution_count": 210,
     "metadata": {},
     "output_type": "execute_result"
    }
   ],
   "source": [
    "complete_cars_list[:3] ##interpret start at very beginning"
   ]
  },
  {
   "cell_type": "code",
   "execution_count": 211,
   "id": "61f49c4f-31be-4b0c-a5c4-48900b51bb80",
   "metadata": {},
   "outputs": [
    {
     "data": {
      "text/plain": [
       "['Maserati',\n",
       " 'Lamborgini',\n",
       " 'Honda',\n",
       " 'Hennessy',\n",
       " 'Ford',\n",
       " 'Ferrari',\n",
       " 'Buggati',\n",
       " 'BMW',\n",
       " 'Ferrari']"
      ]
     },
     "execution_count": 211,
     "metadata": {},
     "output_type": "execute_result"
    }
   ],
   "source": [
    "complete_cars_list[3:] ##interpret to end at the very last"
   ]
  },
  {
   "cell_type": "code",
   "execution_count": 215,
   "id": "ff15cfd9-5920-4c01-909c-d620afbc201c",
   "metadata": {},
   "outputs": [
    {
     "data": {
      "text/plain": [
       "['Volkswagen',\n",
       " 'Toyota',\n",
       " 'Mercedes',\n",
       " 'Maserati',\n",
       " 'Lamborgini',\n",
       " 'Honda',\n",
       " 'Hennessy',\n",
       " 'Ford']"
      ]
     },
     "execution_count": 215,
     "metadata": {},
     "output_type": "execute_result"
    }
   ],
   "source": [
    "complete_cars_list[0:-4] #start to 4th until the last index (not including this)"
   ]
  },
  {
   "cell_type": "code",
   "execution_count": 214,
   "id": "ad997c16-8384-4677-9f85-74f6a412381a",
   "metadata": {},
   "outputs": [
    {
     "data": {
      "text/plain": [
       "['Volkswagen',\n",
       " 'Toyota',\n",
       " 'Mercedes',\n",
       " 'Maserati',\n",
       " 'Lamborgini',\n",
       " 'Honda',\n",
       " 'Hennessy',\n",
       " 'Ford',\n",
       " 'Ferrari',\n",
       " 'Buggati',\n",
       " 'BMW',\n",
       " 'Ferrari']"
      ]
     },
     "execution_count": 214,
     "metadata": {},
     "output_type": "execute_result"
    }
   ],
   "source": [
    "complete_cars_list"
   ]
  },
  {
   "cell_type": "markdown",
   "id": "bc42b2bf-973e-4bb5-98c2-7cbf8e9fa523",
   "metadata": {},
   "source": [
    "## Step Size in Slicing Operations"
   ]
  },
  {
   "cell_type": "code",
   "execution_count": 219,
   "id": "b057569a-1312-46b7-9378-365b22e9933e",
   "metadata": {},
   "outputs": [
    {
     "data": {
      "text/plain": [
       "['Volkswagen',\n",
       " 'Toyota',\n",
       " 'Mercedes',\n",
       " 'Maserati',\n",
       " 'Lamborgini',\n",
       " 'Honda',\n",
       " 'Hennessy',\n",
       " 'Ford',\n",
       " 'Ferrari',\n",
       " 'Buggati',\n",
       " 'BMW',\n",
       " 'Ferrari']"
      ]
     },
     "execution_count": 219,
     "metadata": {},
     "output_type": "execute_result"
    }
   ],
   "source": [
    "complete_cars_list"
   ]
  },
  {
   "cell_type": "code",
   "execution_count": 218,
   "id": "5f377c36-8788-4d2d-9c02-ddac8e9d213f",
   "metadata": {},
   "outputs": [
    {
     "data": {
      "text/plain": [
       "['Volkswagen', 'Mercedes', 'Lamborgini']"
      ]
     },
     "execution_count": 218,
     "metadata": {},
     "output_type": "execute_result"
    }
   ],
   "source": [
    "my_car_list = complete_cars_list[:]\n",
    "my_car_list[0:5:2] #skips or how much it moves from"
   ]
  },
  {
   "cell_type": "code",
   "execution_count": 221,
   "id": "4719f028-e2fa-4767-b94d-f3c01cfbce56",
   "metadata": {},
   "outputs": [
    {
     "data": {
      "text/plain": [
       "['Mercedes', 'Honda']"
      ]
     },
     "execution_count": 221,
     "metadata": {},
     "output_type": "execute_result"
    }
   ],
   "source": [
    "my_car_list[2:7:3] ##you skip two other elements"
   ]
  },
  {
   "cell_type": "code",
   "execution_count": 224,
   "id": "2a6183f7-9981-4aa9-9daa-5522e67676cd",
   "metadata": {},
   "outputs": [
    {
     "data": {
      "text/plain": [
       "['Toyota', 'Maserati']"
      ]
     },
     "execution_count": 224,
     "metadata": {},
     "output_type": "execute_result"
    }
   ],
   "source": [
    "my_car_list[1:4:2]"
   ]
  },
  {
   "cell_type": "code",
   "execution_count": 225,
   "id": "9fe2ee39-6cd3-4d87-a8df-4e3cf0f60ba8",
   "metadata": {},
   "outputs": [
    {
     "data": {
      "text/plain": [
       "['Ferrari',\n",
       " 'BMW',\n",
       " 'Buggati',\n",
       " 'Ferrari',\n",
       " 'Ford',\n",
       " 'Hennessy',\n",
       " 'Honda',\n",
       " 'Lamborgini',\n",
       " 'Maserati',\n",
       " 'Mercedes',\n",
       " 'Toyota',\n",
       " 'Volkswagen']"
      ]
     },
     "execution_count": 225,
     "metadata": {},
     "output_type": "execute_result"
    }
   ],
   "source": [
    "my_car_list[::-1] #step in reverse order"
   ]
  },
  {
   "cell_type": "code",
   "execution_count": 227,
   "id": "9da383aa-0a31-4a82-b9b6-429c5f175b9c",
   "metadata": {},
   "outputs": [
    {
     "data": {
      "text/plain": [
       "['Ferrari',\n",
       " 'Ford',\n",
       " 'Hennessy',\n",
       " 'Honda',\n",
       " 'Lamborgini',\n",
       " 'Maserati',\n",
       " 'Mercedes',\n",
       " 'Toyota']"
      ]
     },
     "execution_count": 227,
     "metadata": {},
     "output_type": "execute_result"
    }
   ],
   "source": [
    "my_car_list[-4:0:-1]"
   ]
  },
  {
   "cell_type": "code",
   "execution_count": 228,
   "id": "8ebd234b-1c74-4142-a76e-64e40480b9e5",
   "metadata": {},
   "outputs": [
    {
     "data": {
      "text/plain": [
       "['Ferrari', 'Buggati', 'Ford', 'Honda', 'Maserati', 'Toyota']"
      ]
     },
     "execution_count": 228,
     "metadata": {},
     "output_type": "execute_result"
    }
   ],
   "source": [
    "my_car_list[::-2] #skips one element"
   ]
  },
  {
   "cell_type": "code",
   "execution_count": 229,
   "id": "1e1b3289-0039-4984-a468-c739116884d8",
   "metadata": {},
   "outputs": [
    {
     "data": {
      "text/plain": [
       "12"
      ]
     },
     "execution_count": 229,
     "metadata": {},
     "output_type": "execute_result"
    }
   ],
   "source": [
    "len(my_car_list)"
   ]
  },
  {
   "cell_type": "code",
   "execution_count": 230,
   "id": "08c0e8ce-69d3-42f6-b115-b1194703564d",
   "metadata": {},
   "outputs": [],
   "source": [
    "my_car_list[6:-1] = ['Dodge','Nissan']"
   ]
  },
  {
   "cell_type": "code",
   "execution_count": 231,
   "id": "cc8b9a0b-e931-48e4-bb41-4cdca41e639c",
   "metadata": {},
   "outputs": [
    {
     "data": {
      "text/plain": [
       "['Volkswagen',\n",
       " 'Toyota',\n",
       " 'Mercedes',\n",
       " 'Maserati',\n",
       " 'Lamborgini',\n",
       " 'Honda',\n",
       " 'Dodge',\n",
       " 'Nissan',\n",
       " 'Ferrari']"
      ]
     },
     "execution_count": 231,
     "metadata": {},
     "output_type": "execute_result"
    }
   ],
   "source": [
    "my_car_list"
   ]
  },
  {
   "cell_type": "code",
   "execution_count": 232,
   "id": "91064c81-ac19-48a9-9e0b-88521de8572d",
   "metadata": {},
   "outputs": [
    {
     "data": {
      "text/plain": [
       "True"
      ]
     },
     "execution_count": 232,
     "metadata": {},
     "output_type": "execute_result"
    }
   ],
   "source": [
    "'Nissan' in my_car_list"
   ]
  },
  {
   "cell_type": "code",
   "execution_count": 233,
   "id": "d9918ae5-89c7-470d-ad3e-24319fb36eb1",
   "metadata": {},
   "outputs": [
    {
     "data": {
      "text/plain": [
       "'Nissan'"
      ]
     },
     "execution_count": 233,
     "metadata": {},
     "output_type": "execute_result"
    }
   ],
   "source": [
    "my_car_list.pop(-2)"
   ]
  },
  {
   "cell_type": "code",
   "execution_count": 234,
   "id": "13348987-5b80-48f1-a8ac-cc647eefa9a9",
   "metadata": {},
   "outputs": [
    {
     "data": {
      "text/plain": [
       "['Volkswagen',\n",
       " 'Toyota',\n",
       " 'Mercedes',\n",
       " 'Maserati',\n",
       " 'Lamborgini',\n",
       " 'Honda',\n",
       " 'Dodge',\n",
       " 'Ferrari']"
      ]
     },
     "execution_count": 234,
     "metadata": {},
     "output_type": "execute_result"
    }
   ],
   "source": [
    "my_car_list"
   ]
  },
  {
   "cell_type": "markdown",
   "id": "b1303797-1137-4ca5-be81-541852c0f62e",
   "metadata": {},
   "source": [
    "## Strings as a List of Characters"
   ]
  },
  {
   "cell_type": "code",
   "execution_count": 235,
   "id": "8368e8a9-98fc-4927-ac30-80273ae9cd02",
   "metadata": {},
   "outputs": [
    {
     "data": {
      "text/plain": [
       "'g'"
      ]
     },
     "execution_count": 235,
     "metadata": {},
     "output_type": "execute_result"
    }
   ],
   "source": [
    "x = 'galaxy'\n",
    "x[0]"
   ]
  },
  {
   "cell_type": "code",
   "execution_count": 236,
   "id": "16dcb2e2-cdc7-4f02-a049-ee9f190a887d",
   "metadata": {},
   "outputs": [
    {
     "data": {
      "text/plain": [
       "'a'"
      ]
     },
     "execution_count": 236,
     "metadata": {},
     "output_type": "execute_result"
    }
   ],
   "source": [
    "x[3]"
   ]
  },
  {
   "cell_type": "code",
   "execution_count": 237,
   "id": "5d7c4f6b-2880-411a-beb2-0197bb6ed3df",
   "metadata": {},
   "outputs": [
    {
     "ename": "IndexError",
     "evalue": "string index out of range",
     "output_type": "error",
     "traceback": [
      "\u001b[1;31m---------------------------------------------------------------------------\u001b[0m",
      "\u001b[1;31mIndexError\u001b[0m                                Traceback (most recent call last)",
      "Cell \u001b[1;32mIn[237], line 1\u001b[0m\n\u001b[1;32m----> 1\u001b[0m \u001b[43mx\u001b[49m\u001b[43m[\u001b[49m\u001b[38;5;241;43m6\u001b[39;49m\u001b[43m]\u001b[49m\n",
      "\u001b[1;31mIndexError\u001b[0m: string index out of range"
     ]
    }
   ],
   "source": [
    "x[6]"
   ]
  },
  {
   "cell_type": "code",
   "execution_count": 238,
   "id": "88840a40-931e-4eb5-b355-463e9d33bab5",
   "metadata": {},
   "outputs": [
    {
     "ename": "TypeError",
     "evalue": "'str' object does not support item assignment",
     "output_type": "error",
     "traceback": [
      "\u001b[1;31m---------------------------------------------------------------------------\u001b[0m",
      "\u001b[1;31mTypeError\u001b[0m                                 Traceback (most recent call last)",
      "Cell \u001b[1;32mIn[238], line 1\u001b[0m\n\u001b[1;32m----> 1\u001b[0m \u001b[43mx\u001b[49m\u001b[43m[\u001b[49m\u001b[38;5;241;43m1\u001b[39;49m\u001b[43m]\u001b[49m\u001b[38;5;241m=\u001b[39m\u001b[38;5;124m'\u001b[39m\u001b[38;5;124mb\u001b[39m\u001b[38;5;124m'\u001b[39m \u001b[38;5;66;03m#strings are immutable (not able to be changed like a set)\u001b[39;00m\n",
      "\u001b[1;31mTypeError\u001b[0m: 'str' object does not support item assignment"
     ]
    }
   ],
   "source": [
    "x[1]='b' #strings are immutable (not able to be changed like a dict)"
   ]
  },
  {
   "cell_type": "code",
   "execution_count": 242,
   "id": "476cdccf-4543-4f95-819a-c32c75470f5e",
   "metadata": {},
   "outputs": [
    {
     "name": "stdout",
     "output_type": "stream",
     "text": [
      "g\n"
     ]
    }
   ],
   "source": [
    "a,b,c,d,e,f = x # needs to be assigned to exact number of chars\n",
    "print(a)"
   ]
  },
  {
   "cell_type": "code",
   "execution_count": 243,
   "id": "81c741af-e7fa-472e-b6b8-6286fa3ea755",
   "metadata": {},
   "outputs": [
    {
     "name": "stdout",
     "output_type": "stream",
     "text": [
      "a\n"
     ]
    }
   ],
   "source": [
    "a,b,_,_,_,_ = x #doesnt really care about the underscores\n",
    "print(b)"
   ]
  },
  {
   "cell_type": "code",
   "execution_count": 1,
   "id": "85785cfd-ce25-4a9b-a41f-ccf6f2615b1f",
   "metadata": {},
   "outputs": [
    {
     "name": "stdin",
     "output_type": "stream",
     "text": [
      "Where are you from? Los Angeles\n"
     ]
    }
   ],
   "source": [
    "place = input('Where are you from?')"
   ]
  },
  {
   "cell_type": "code",
   "execution_count": 2,
   "id": "b7496abb-2c51-4465-bd74-2253023166f6",
   "metadata": {},
   "outputs": [
    {
     "data": {
      "text/plain": [
       "11"
      ]
     },
     "execution_count": 2,
     "metadata": {},
     "output_type": "execute_result"
    }
   ],
   "source": [
    "len(place)"
   ]
  },
  {
   "cell_type": "code",
   "execution_count": 3,
   "id": "4a6fa983-f2f6-4a7d-89b3-65a9712d15b9",
   "metadata": {},
   "outputs": [
    {
     "data": {
      "text/plain": [
       "'Angeles'"
      ]
     },
     "execution_count": 3,
     "metadata": {},
     "output_type": "execute_result"
    }
   ],
   "source": [
    "place[4:]"
   ]
  },
  {
   "cell_type": "code",
   "execution_count": 5,
   "id": "8cfca604-9ba6-4032-b02d-0d209fd832a7",
   "metadata": {},
   "outputs": [
    {
     "data": {
      "text/plain": [
       "'Angeles'"
      ]
     },
     "execution_count": 5,
     "metadata": {},
     "output_type": "execute_result"
    }
   ],
   "source": [
    "place[-7:]"
   ]
  },
  {
   "cell_type": "code",
   "execution_count": 6,
   "id": "59cbd774-ae1c-48ed-8f4e-82dcb2525141",
   "metadata": {},
   "outputs": [
    {
     "data": {
      "text/plain": [
       "'LsAgls'"
      ]
     },
     "execution_count": 6,
     "metadata": {},
     "output_type": "execute_result"
    }
   ],
   "source": [
    "place[0:11:2]"
   ]
  },
  {
   "cell_type": "code",
   "execution_count": 7,
   "id": "9978bbdf-52e2-46f0-8a0f-7dc4f531f9e4",
   "metadata": {},
   "outputs": [
    {
     "data": {
      "text/plain": [
       "'Los Angeles'"
      ]
     },
     "execution_count": 7,
     "metadata": {},
     "output_type": "execute_result"
    }
   ],
   "source": [
    "place[0:11:1]"
   ]
  },
  {
   "cell_type": "code",
   "execution_count": 8,
   "id": "dc0e79ca-7e10-4f06-98d0-1cc58f2fb22a",
   "metadata": {},
   "outputs": [],
   "source": [
    "secondwordplace = place[-7:]"
   ]
  },
  {
   "cell_type": "code",
   "execution_count": 9,
   "id": "925e476e-0348-4e0a-96c7-b3d8eb276cbc",
   "metadata": {},
   "outputs": [
    {
     "data": {
      "text/plain": [
       "'Angeles'"
      ]
     },
     "execution_count": 9,
     "metadata": {},
     "output_type": "execute_result"
    }
   ],
   "source": [
    "secondwordplace"
   ]
  },
  {
   "cell_type": "code",
   "execution_count": 10,
   "id": "ffcf790f-1b26-409f-a3d4-0fe109b0aa34",
   "metadata": {},
   "outputs": [
    {
     "ename": "NameError",
     "evalue": "name 'secondwordplace' is not defined",
     "output_type": "error",
     "traceback": [
      "\u001b[1;31m---------------------------------------------------------------------------\u001b[0m",
      "\u001b[1;31mNameError\u001b[0m                                 Traceback (most recent call last)",
      "Cell \u001b[1;32mIn[10], line 2\u001b[0m\n\u001b[0;32m      1\u001b[0m \u001b[38;5;28;01mdel\u001b[39;00m secondwordplace\n\u001b[1;32m----> 2\u001b[0m \u001b[43msecondwordplace\u001b[49m\n",
      "\u001b[1;31mNameError\u001b[0m: name 'secondwordplace' is not defined"
     ]
    }
   ],
   "source": [
    "del secondwordplace\n",
    "secondwordplace"
   ]
  },
  {
   "cell_type": "markdown",
   "id": "09d314c4-f159-43af-912b-48a386b9a7d1",
   "metadata": {},
   "source": [
    "## Invoking Functions on Strings"
   ]
  },
  {
   "cell_type": "code",
   "execution_count": 12,
   "id": "db94a135-de2e-4163-8acd-d46f083491b7",
   "metadata": {},
   "outputs": [
    {
     "name": "stdout",
     "output_type": "stream",
     "text": [
      "True\n"
     ]
    }
   ],
   "source": [
    "print(place.startswith('L')) #startswith"
   ]
  },
  {
   "cell_type": "code",
   "execution_count": 13,
   "id": "3e0ed73d-f441-4ab7-9f46-84fbe57fa02c",
   "metadata": {},
   "outputs": [
    {
     "name": "stdout",
     "output_type": "stream",
     "text": [
      "False\n"
     ]
    }
   ],
   "source": [
    "print(place.startswith('r'))"
   ]
  },
  {
   "cell_type": "code",
   "execution_count": 14,
   "id": "3f1077fe-f61d-42fe-bc4c-e7accc438105",
   "metadata": {},
   "outputs": [
    {
     "name": "stdout",
     "output_type": "stream",
     "text": [
      "True\n"
     ]
    }
   ],
   "source": [
    "print(place.endswith('s')) #endswith"
   ]
  },
  {
   "cell_type": "code",
   "execution_count": 15,
   "id": "ddae7131-10f2-4834-91d5-4cff2605df22",
   "metadata": {},
   "outputs": [
    {
     "name": "stdout",
     "output_type": "stream",
     "text": [
      "True\n"
     ]
    }
   ],
   "source": [
    "print(place.endswith('Angeles')) #not just singular char"
   ]
  },
  {
   "cell_type": "code",
   "execution_count": 16,
   "id": "01424993-f489-49a0-b310-cc1c0b83bae3",
   "metadata": {},
   "outputs": [
    {
     "data": {
      "text/plain": [
       "2"
      ]
     },
     "execution_count": 16,
     "metadata": {},
     "output_type": "execute_result"
    }
   ],
   "source": [
    "place.count('e') #count occurences"
   ]
  },
  {
   "cell_type": "code",
   "execution_count": 18,
   "id": "118bbb40-386d-4e86-89ad-5422df3f824e",
   "metadata": {},
   "outputs": [
    {
     "data": {
      "text/plain": [
       "'LOS ANGELES'"
      ]
     },
     "execution_count": 18,
     "metadata": {},
     "output_type": "execute_result"
    }
   ],
   "source": [
    "upper_place = place.upper()\n",
    "upper_place"
   ]
  },
  {
   "cell_type": "code",
   "execution_count": 19,
   "id": "17f236a8-56f1-4660-a193-201887e1b577",
   "metadata": {},
   "outputs": [
    {
     "data": {
      "text/plain": [
       "2"
      ]
     },
     "execution_count": 19,
     "metadata": {},
     "output_type": "execute_result"
    }
   ],
   "source": [
    "upper_place.count('E')"
   ]
  },
  {
   "cell_type": "code",
   "execution_count": 20,
   "id": "dd8ba3f0-c125-457f-bffc-176dbda4f813",
   "metadata": {},
   "outputs": [
    {
     "data": {
      "text/plain": [
       "False"
      ]
     },
     "execution_count": 20,
     "metadata": {},
     "output_type": "execute_result"
    }
   ],
   "source": [
    "place == upper_place #check if equal"
   ]
  },
  {
   "cell_type": "code",
   "execution_count": 22,
   "id": "4a0f3032-a572-45a8-b16f-266abac9b1b2",
   "metadata": {},
   "outputs": [
    {
     "data": {
      "text/plain": [
       "'los angeles'"
      ]
     },
     "execution_count": 22,
     "metadata": {},
     "output_type": "execute_result"
    }
   ],
   "source": [
    "lower_place = upper_place.lower()\n",
    "lower_place #lowercase"
   ]
  },
  {
   "cell_type": "code",
   "execution_count": 23,
   "id": "f5722d97-3fda-46f7-9eac-35b72ee5383b",
   "metadata": {},
   "outputs": [
    {
     "data": {
      "text/plain": [
       "7"
      ]
     },
     "execution_count": 23,
     "metadata": {},
     "output_type": "execute_result"
    }
   ],
   "source": [
    "place.find('e') #find index position"
   ]
  },
  {
   "cell_type": "code",
   "execution_count": 24,
   "id": "7b36fbde-8e77-4790-b70f-3b6c2c868134",
   "metadata": {},
   "outputs": [
    {
     "data": {
      "text/plain": [
       "4"
      ]
     },
     "execution_count": 24,
     "metadata": {},
     "output_type": "execute_result"
    }
   ],
   "source": [
    "place.find('Angeles')"
   ]
  },
  {
   "cell_type": "code",
   "execution_count": 25,
   "id": "c58bfc78-91ca-488d-9f71-0067a162691c",
   "metadata": {},
   "outputs": [
    {
     "ename": "ValueError",
     "evalue": "substring not found",
     "output_type": "error",
     "traceback": [
      "\u001b[1;31m---------------------------------------------------------------------------\u001b[0m",
      "\u001b[1;31mValueError\u001b[0m                                Traceback (most recent call last)",
      "Cell \u001b[1;32mIn[25], line 1\u001b[0m\n\u001b[1;32m----> 1\u001b[0m \u001b[43mplace\u001b[49m\u001b[38;5;241;43m.\u001b[39;49m\u001b[43mindex\u001b[49m\u001b[43m(\u001b[49m\u001b[38;5;124;43m'\u001b[39;49m\u001b[38;5;124;43mR\u001b[39;49m\u001b[38;5;124;43m'\u001b[39;49m\u001b[43m)\u001b[49m \u001b[38;5;66;03m#similar operation but throws error if not found unlike .find()\u001b[39;00m\n",
      "\u001b[1;31mValueError\u001b[0m: substring not found"
     ]
    }
   ],
   "source": [
    "place.index('R') #similar operation but throws error if not found unlike .find()"
   ]
  },
  {
   "cell_type": "code",
   "execution_count": 26,
   "id": "9e43ba73-3cd3-4046-b0fa-7da6fd53417d",
   "metadata": {},
   "outputs": [
    {
     "data": {
      "text/plain": [
       "4"
      ]
     },
     "execution_count": 26,
     "metadata": {},
     "output_type": "execute_result"
    }
   ],
   "source": [
    "place.index('Angeles')"
   ]
  },
  {
   "cell_type": "code",
   "execution_count": 27,
   "id": "cfd59fda-09b7-4fe5-a495-52f07a638ca0",
   "metadata": {},
   "outputs": [
    {
     "data": {
      "text/plain": [
       "['Los ', 'ngeles']"
      ]
     },
     "execution_count": 27,
     "metadata": {},
     "output_type": "execute_result"
    }
   ],
   "source": [
    "split_place = place.split('A')\n",
    "split_place"
   ]
  },
  {
   "cell_type": "code",
   "execution_count": 28,
   "id": "de714911-c29e-4632-ba94-6ce5a9c68fd0",
   "metadata": {},
   "outputs": [
    {
     "data": {
      "text/plain": [
       "['Los', 'Angeles']"
      ]
     },
     "execution_count": 28,
     "metadata": {},
     "output_type": "execute_result"
    }
   ],
   "source": [
    "split_place = place.split(' ')\n",
    "split_place ##splits on space"
   ]
  },
  {
   "cell_type": "code",
   "execution_count": 29,
   "id": "effc235e-cbe7-4ef7-918c-8d434cf72ac6",
   "metadata": {},
   "outputs": [
    {
     "data": {
      "text/plain": [
       "'Los,Angeles'"
      ]
     },
     "execution_count": 29,
     "metadata": {},
     "output_type": "execute_result"
    }
   ],
   "source": [
    "join_char = ',' #uses as the delimitter\n",
    "join_char.join(split_place)"
   ]
  },
  {
   "cell_type": "code",
   "execution_count": 30,
   "id": "ef5738f6-1aa6-4e40-9dcc-690f1f9fa04a",
   "metadata": {},
   "outputs": [
    {
     "data": {
      "text/plain": [
       "'Los Angeles'"
      ]
     },
     "execution_count": 30,
     "metadata": {},
     "output_type": "execute_result"
    }
   ],
   "source": [
    "join_char = ' ' #uses as the delimitter\n",
    "join_char.join(split_place)"
   ]
  },
  {
   "cell_type": "code",
   "execution_count": 31,
   "id": "fb197621-f619-46f6-9110-efa40b937c99",
   "metadata": {},
   "outputs": [
    {
     "data": {
      "text/plain": [
       "'Los|Angeles'"
      ]
     },
     "execution_count": 31,
     "metadata": {},
     "output_type": "execute_result"
    }
   ],
   "source": [
    "##or you can just simply include the character straight\n",
    "'|'.join(split_place)"
   ]
  },
  {
   "cell_type": "markdown",
   "id": "d18cca0d-454d-48e0-ad35-f180fe887f43",
   "metadata": {},
   "source": [
    "## Slicing on Strings"
   ]
  },
  {
   "cell_type": "code",
   "execution_count": 33,
   "id": "02bd0aaa-9bc9-4983-a181-b6efeb244fea",
   "metadata": {},
   "outputs": [
    {
     "name": "stdout",
     "output_type": "stream",
     "text": [
      "Hello galax\n"
     ]
    }
   ],
   "source": [
    "my_string = \"Hello galaxy I'm using Python\" #define variable for string, may not use single quotes for this one\n",
    "print(my_string[0:11])"
   ]
  },
  {
   "cell_type": "code",
   "execution_count": 34,
   "id": "3ad07e4c-8765-4862-bc5e-acb06c17fa70",
   "metadata": {},
   "outputs": [
    {
     "name": "stdout",
     "output_type": "stream",
     "text": [
      "galaxy I'm \n"
     ]
    }
   ],
   "source": [
    "print(my_string[6:17])"
   ]
  },
  {
   "cell_type": "code",
   "execution_count": 35,
   "id": "9b142396-34e2-4ed3-8244-e278cf6e9d1c",
   "metadata": {},
   "outputs": [
    {
     "name": "stdout",
     "output_type": "stream",
     "text": [
      "Hlga msgyo\n"
     ]
    }
   ],
   "source": [
    "print(my_string[::3]) #how many characters to skip with step function"
   ]
  },
  {
   "cell_type": "code",
   "execution_count": 39,
   "id": "2299929a-04c8-4abb-b8b4-17c2b73c2b15",
   "metadata": {},
   "outputs": [
    {
     "name": "stdout",
     "output_type": "stream",
     "text": [
      "sm agl\n"
     ]
    }
   ],
   "source": [
    "print(my_string[18:0:-3]) #when step is negative the start and end should also reflect"
   ]
  },
  {
   "cell_type": "code",
   "execution_count": 44,
   "id": "38117e17-547e-4bd8-93e4-96781906189f",
   "metadata": {},
   "outputs": [
    {
     "name": "stdout",
     "output_type": "stream",
     "text": [
      "olleH\n"
     ]
    }
   ],
   "source": [
    "print(my_string[4::-1])"
   ]
  },
  {
   "cell_type": "code",
   "execution_count": 45,
   "id": "7596a468-84ac-44cf-a8e2-82d182bdbec7",
   "metadata": {},
   "outputs": [
    {
     "data": {
      "text/plain": [
       "['Hello', 'galaxy', \"I'm\", 'using', 'Python']"
      ]
     },
     "execution_count": 45,
     "metadata": {},
     "output_type": "execute_result"
    }
   ],
   "source": [
    "some_string = my_string.split()\n",
    "some_string #now is a list"
   ]
  },
  {
   "cell_type": "code",
   "execution_count": 46,
   "id": "4f8f2cd8-e9f9-4ef5-9c7f-ffa0827d14db",
   "metadata": {},
   "outputs": [
    {
     "data": {
      "text/plain": [
       "False"
      ]
     },
     "execution_count": 46,
     "metadata": {},
     "output_type": "execute_result"
    }
   ],
   "source": [
    "my_string.isupper() #are all strings in uppercase"
   ]
  },
  {
   "cell_type": "code",
   "execution_count": 48,
   "id": "18635d3e-683d-47f0-acb7-c3c6bf034a5f",
   "metadata": {},
   "outputs": [
    {
     "data": {
      "text/plain": [
       "True"
      ]
     },
     "execution_count": 48,
     "metadata": {},
     "output_type": "execute_result"
    }
   ],
   "source": [
    "my_string.lower().islower()"
   ]
  },
  {
   "cell_type": "markdown",
   "id": "003b3014-f795-4755-9062-1b32b19cbd52",
   "metadata": {},
   "source": [
    "## Tuples"
   ]
  },
  {
   "cell_type": "code",
   "execution_count": 51,
   "id": "43aebf8f-a488-4f2e-9da5-d82b6fd5b9b3",
   "metadata": {},
   "outputs": [
    {
     "data": {
      "text/plain": [
       "()"
      ]
     },
     "execution_count": 51,
     "metadata": {},
     "output_type": "execute_result"
    }
   ],
   "source": [
    "my_tuple = ()\n",
    "my_tuple\n"
   ]
  },
  {
   "cell_type": "code",
   "execution_count": 52,
   "id": "6a3fdb26-8c16-4414-8610-5865dfb18c70",
   "metadata": {},
   "outputs": [
    {
     "data": {
      "text/plain": [
       "tuple"
      ]
     },
     "execution_count": 52,
     "metadata": {},
     "output_type": "execute_result"
    }
   ],
   "source": [
    "type(my_tuple)"
   ]
  },
  {
   "cell_type": "code",
   "execution_count": 53,
   "id": "5bae99af-c2bc-4428-8a86-743eb9d8be50",
   "metadata": {},
   "outputs": [
    {
     "name": "stdout",
     "output_type": "stream",
     "text": [
      "(1, 2, 3, 4, 5)\n"
     ]
    }
   ],
   "source": [
    "int_tuple = (1,2,3,4,5) #rounded brackets\n",
    "print(int_tuple)\n"
   ]
  },
  {
   "cell_type": "code",
   "execution_count": 55,
   "id": "cd871430-3e0e-4b27-89f2-efca35bb57b0",
   "metadata": {},
   "outputs": [
    {
     "name": "stdout",
     "output_type": "stream",
     "text": [
      "('Hello', 'Galaxy', 'Universe', 'Hello', 'Galaxy', 'Universe', 'Hello', 'Galaxy', 'Universe')\n"
     ]
    }
   ],
   "source": [
    "string_tuple = (\"Hello\",\"Galaxy\",\"Universe\")\n",
    "print(string_tuple * 3) #repeating the whole tuple thrice"
   ]
  },
  {
   "cell_type": "code",
   "execution_count": 58,
   "id": "9a8b857d-ebfc-4754-b4a4-d499855e8576",
   "metadata": {},
   "outputs": [
    {
     "data": {
      "text/plain": [
       "tuple"
      ]
     },
     "execution_count": 58,
     "metadata": {},
     "output_type": "execute_result"
    }
   ],
   "source": [
    "my_new_tuple = 1,\"Hello\",34.5 #tuple by default even if not using parenthesis\n",
    "type(my_new_tuple) "
   ]
  },
  {
   "cell_type": "code",
   "execution_count": 59,
   "id": "fe2ee795-fc1f-4eca-88d6-dcb1a3d87edd",
   "metadata": {},
   "outputs": [
    {
     "data": {
      "text/plain": [
       "(1, 2, 3, 4, 5, (6, 7, 7, 8), [9, 10, 11])"
      ]
     },
     "execution_count": 59,
     "metadata": {},
     "output_type": "execute_result"
    }
   ],
   "source": [
    "mixed_tuple = (1,2,3,4,5,(6,7,7,8),[9,10,11])\n",
    "mixed_tuple"
   ]
  },
  {
   "cell_type": "code",
   "execution_count": 62,
   "id": "8baa1103-7071-484d-b1f4-05c8b1679707",
   "metadata": {},
   "outputs": [
    {
     "data": {
      "text/plain": [
       "[9, 10, 11]"
      ]
     },
     "execution_count": 62,
     "metadata": {},
     "output_type": "execute_result"
    }
   ],
   "source": [
    "mixed_tuple[6]"
   ]
  },
  {
   "cell_type": "code",
   "execution_count": 63,
   "id": "64bf5aa6-264f-4d84-847a-c3a156b92ab5",
   "metadata": {},
   "outputs": [
    {
     "data": {
      "text/plain": [
       "9"
      ]
     },
     "execution_count": 63,
     "metadata": {},
     "output_type": "execute_result"
    }
   ],
   "source": [
    "mixed_tuple[6][0]"
   ]
  },
  {
   "cell_type": "code",
   "execution_count": 64,
   "id": "de2c805c-d3dd-46b0-9c84-3d0ec0391e09",
   "metadata": {},
   "outputs": [
    {
     "data": {
      "text/plain": [
       "(2, 3, 4, 5, (6, 7, 7, 8), [9, 10, 11])"
      ]
     },
     "execution_count": 64,
     "metadata": {},
     "output_type": "execute_result"
    }
   ],
   "source": [
    "mixed_tuple[1:]"
   ]
  },
  {
   "cell_type": "code",
   "execution_count": 65,
   "id": "5873b3dc-8653-4867-830b-f7245610e844",
   "metadata": {},
   "outputs": [
    {
     "data": {
      "text/plain": [
       "(1, 3, 5, [9, 10, 11])"
      ]
     },
     "execution_count": 65,
     "metadata": {},
     "output_type": "execute_result"
    }
   ],
   "source": [
    "mixed_tuple[0:7:2] #slicing operations for tuple returns a tuple aswell"
   ]
  },
  {
   "cell_type": "code",
   "execution_count": 66,
   "id": "4bd5b56b-ad1f-4067-99bd-d111be7a2a99",
   "metadata": {},
   "outputs": [
    {
     "data": {
      "text/plain": [
       "[9, 10, 11]"
      ]
     },
     "execution_count": 66,
     "metadata": {},
     "output_type": "execute_result"
    }
   ],
   "source": [
    "mixed_tuple[-1]"
   ]
  },
  {
   "cell_type": "code",
   "execution_count": 67,
   "id": "735cd021-847f-4a3a-8616-e5a38e2658ce",
   "metadata": {},
   "outputs": [
    {
     "data": {
      "text/plain": [
       "2"
      ]
     },
     "execution_count": 67,
     "metadata": {},
     "output_type": "execute_result"
    }
   ],
   "source": [
    "mixed_tuple.index(3)"
   ]
  },
  {
   "cell_type": "code",
   "execution_count": 68,
   "id": "0edd1c4b-314c-4ac0-a8a3-7a8d5cc07624",
   "metadata": {},
   "outputs": [
    {
     "data": {
      "text/plain": [
       "True"
      ]
     },
     "execution_count": 68,
     "metadata": {},
     "output_type": "execute_result"
    }
   ],
   "source": [
    "3 in mixed_tuple"
   ]
  },
  {
   "cell_type": "code",
   "execution_count": 69,
   "id": "3648c442-0178-4169-b792-bcaf63dc0627",
   "metadata": {},
   "outputs": [
    {
     "data": {
      "text/plain": [
       "True"
      ]
     },
     "execution_count": 69,
     "metadata": {},
     "output_type": "execute_result"
    }
   ],
   "source": [
    "[9,10,11] in mixed_tuple"
   ]
  },
  {
   "cell_type": "code",
   "execution_count": 71,
   "id": "1abfcda8-41f6-4e05-90c8-2006839b2d6f",
   "metadata": {},
   "outputs": [
    {
     "data": {
      "text/plain": [
       "6"
      ]
     },
     "execution_count": 71,
     "metadata": {},
     "output_type": "execute_result"
    }
   ],
   "source": [
    "int_tuple = 1,2,3\n",
    "sum(int_tuple)"
   ]
  },
  {
   "cell_type": "code",
   "execution_count": 72,
   "id": "f695742c-21bf-44d3-a32a-196b3e589e51",
   "metadata": {},
   "outputs": [
    {
     "data": {
      "text/plain": [
       "{1, 2, 3}"
      ]
     },
     "execution_count": 72,
     "metadata": {},
     "output_type": "execute_result"
    }
   ],
   "source": [
    "int_tuple = (1,2,2,2,2,2,3,3,3,3)\n",
    "set(int_tuple) #convert tuple to set so no elements will repeat"
   ]
  },
  {
   "cell_type": "markdown",
   "id": "3a4e2222-e848-45cd-9cff-1b75316591bd",
   "metadata": {},
   "source": [
    "## Tuple Being Immutable"
   ]
  },
  {
   "cell_type": "code",
   "execution_count": 1,
   "id": "ff59e81c-4145-48a8-8d57-d94d082581ab",
   "metadata": {},
   "outputs": [],
   "source": [
    "tuple_a = (1,2,3,4,5)"
   ]
  },
  {
   "cell_type": "code",
   "execution_count": 2,
   "id": "f65f9c19-92c5-45ab-90eb-301ba2ad1e6c",
   "metadata": {},
   "outputs": [
    {
     "name": "stdout",
     "output_type": "stream",
     "text": [
      "<zip object at 0x00000211740F6240>\n"
     ]
    }
   ],
   "source": [
    "tuple_b = ('a','b','c')\n",
    "zipped = zip (tuple_a,tuple_b)\n",
    "print(zipped)"
   ]
  },
  {
   "cell_type": "code",
   "execution_count": 3,
   "id": "6ed55cb1-617c-4196-aaaa-2b731db8f9fc",
   "metadata": {},
   "outputs": [
    {
     "name": "stdout",
     "output_type": "stream",
     "text": [
      "((1, 'a'), (2, 'b'), (3, 'c'))\n"
     ]
    }
   ],
   "source": [
    "result = tuple(zipped)\n",
    "print(result) #a tupple of tupples"
   ]
  },
  {
   "cell_type": "code",
   "execution_count": 4,
   "id": "9e606c31-0f0d-4687-8ba7-b09a3d77a987",
   "metadata": {},
   "outputs": [],
   "source": [
    "tuple_x,tuple_y = zip(*result)\n"
   ]
  },
  {
   "cell_type": "code",
   "execution_count": 5,
   "id": "bd9a5ae4-f007-4cbe-80b6-4cfa88e86832",
   "metadata": {},
   "outputs": [
    {
     "name": "stdout",
     "output_type": "stream",
     "text": [
      "(1, 2, 3)\n",
      "('a', 'b', 'c')\n"
     ]
    }
   ],
   "source": [
    "print(tuple_x)\n",
    "print(tuple_y)"
   ]
  },
  {
   "cell_type": "code",
   "execution_count": 7,
   "id": "77085c2e-75cb-4eed-b6f8-31f456772d84",
   "metadata": {},
   "outputs": [
    {
     "name": "stdout",
     "output_type": "stream",
     "text": [
      "[(1, 'a'), (2, 'b'), (3, 'c')]\n"
     ]
    }
   ],
   "source": [
    "zipped_list = zip(tuple_a,tuple_b)\n",
    "result  = list(zipped_list)\n",
    "print(result)"
   ]
  },
  {
   "cell_type": "code",
   "execution_count": 9,
   "id": "d0a9b0bb-18a8-4d58-b3e3-ff82629ccd06",
   "metadata": {},
   "outputs": [],
   "source": [
    " a = ('John','Josh')\n",
    "b = ('Yes','No')\n",
    "x = zip(a,b)"
   ]
  },
  {
   "cell_type": "code",
   "execution_count": 10,
   "id": "6f710319-964b-42ff-836c-d35b883800ad",
   "metadata": {},
   "outputs": [
    {
     "data": {
      "text/plain": [
       "{'John': 'Yes', 'Josh': 'No'}"
      ]
     },
     "execution_count": 10,
     "metadata": {},
     "output_type": "execute_result"
    }
   ],
   "source": [
    "dict(x)"
   ]
  },
  {
   "cell_type": "code",
   "execution_count": 11,
   "id": "c2813f0a-60fb-4a49-8984-8d967d55f5b0",
   "metadata": {},
   "outputs": [],
   "source": [
    "c = ('Just','Rex')\n",
    "d = ('For','You')\n",
    "e = ('Es', 'La')\n",
    "y = zip(c,d,e)"
   ]
  },
  {
   "cell_type": "code",
   "execution_count": 12,
   "id": "b0f8a272-2740-43d2-bc89-277b866d00c3",
   "metadata": {},
   "outputs": [
    {
     "data": {
      "text/plain": [
       "{('Just', 'For', 'Es'), ('Rex', 'You', 'La')}"
      ]
     },
     "execution_count": 12,
     "metadata": {},
     "output_type": "execute_result"
    }
   ],
   "source": [
    "set(y)"
   ]
  },
  {
   "cell_type": "markdown",
   "id": "a8848450-6da5-4fce-ac46-239bb01818f4",
   "metadata": {},
   "source": [
    "## Other Complex Datasets"
   ]
  },
  {
   "cell_type": "code",
   "execution_count": 13,
   "id": "cd568b33-1f9b-44a7-bdc4-a22b50bf5dd3",
   "metadata": {},
   "outputs": [
    {
     "name": "stdout",
     "output_type": "stream",
     "text": [
      "[1, 2.43, 'hex', False]\n"
     ]
    }
   ],
   "source": [
    "num_list = [1,2.43,'hex',False]\n",
    "print(num_list)"
   ]
  },
  {
   "cell_type": "code",
   "execution_count": 14,
   "id": "1fd89b60-a893-4033-bf9b-ebd32986378b",
   "metadata": {},
   "outputs": [
    {
     "data": {
      "text/plain": [
       "list"
      ]
     },
     "execution_count": 14,
     "metadata": {},
     "output_type": "execute_result"
    }
   ],
   "source": [
    "type(num_list)"
   ]
  },
  {
   "cell_type": "code",
   "execution_count": 15,
   "id": "e443e64c-a89d-429d-82c0-06baecfa9e47",
   "metadata": {},
   "outputs": [
    {
     "data": {
      "text/plain": [
       "float"
      ]
     },
     "execution_count": 15,
     "metadata": {},
     "output_type": "execute_result"
    }
   ],
   "source": [
    "type(num_list[1])"
   ]
  },
  {
   "cell_type": "code",
   "execution_count": 16,
   "id": "3b3c09e7-4dd2-4487-8e80-4db2c2ede588",
   "metadata": {},
   "outputs": [
    {
     "data": {
      "text/plain": [
       "bool"
      ]
     },
     "execution_count": 16,
     "metadata": {},
     "output_type": "execute_result"
    }
   ],
   "source": [
    "type(num_list[3])"
   ]
  },
  {
   "cell_type": "code",
   "execution_count": 17,
   "id": "7168982f-82dc-47f4-9065-5d0af7e66b39",
   "metadata": {},
   "outputs": [
    {
     "data": {
      "text/plain": [
       "(1, 2.5, 'jx', True)"
      ]
     },
     "execution_count": 17,
     "metadata": {},
     "output_type": "execute_result"
    }
   ],
   "source": [
    "num_t = (1,2.5,'jx',True)\n",
    "num_t"
   ]
  },
  {
   "cell_type": "code",
   "execution_count": 18,
   "id": "0dfcafdc-a691-482f-8e64-67cd6cfdad0f",
   "metadata": {},
   "outputs": [
    {
     "data": {
      "text/plain": [
       "bool"
      ]
     },
     "execution_count": 18,
     "metadata": {},
     "output_type": "execute_result"
    }
   ],
   "source": [
    "type(num_t[3])"
   ]
  },
  {
   "cell_type": "code",
   "execution_count": 19,
   "id": "589f832f-af13-43f4-a673-5a5fba7ebcc0",
   "metadata": {},
   "outputs": [
    {
     "data": {
      "text/plain": [
       "{'a': 2, 'b': 3, 'c': 4, 'd': 4}"
      ]
     },
     "execution_count": 19,
     "metadata": {},
     "output_type": "execute_result"
    }
   ],
   "source": [
    "my_dict = {'a':2,'b':3,'c':4,'d':4}\n",
    "my_dict"
   ]
  },
  {
   "cell_type": "code",
   "execution_count": 21,
   "id": "8717fb29-24d4-48d8-83d5-5f08dc2de77e",
   "metadata": {},
   "outputs": [
    {
     "data": {
      "text/plain": [
       "{1, 2, 3, 4, 5}"
      ]
     },
     "execution_count": 21,
     "metadata": {},
     "output_type": "execute_result"
    }
   ],
   "source": [
    "set_a = {1,2,2,2,2,3,4,4,4,5}\n",
    "set_a"
   ]
  },
  {
   "cell_type": "markdown",
   "id": "3d65723f-43a9-40f8-9e39-e00038494598",
   "metadata": {},
   "source": [
    "## Dictionaries & Sets in Python"
   ]
  },
  {
   "cell_type": "code",
   "execution_count": 22,
   "id": "9feab6bf-c402-4b9a-8e01-12a20cdd7609",
   "metadata": {},
   "outputs": [],
   "source": [
    "empty_dict = {}\n",
    "#mapping of key value pairs"
   ]
  },
  {
   "cell_type": "code",
   "execution_count": 23,
   "id": "e6110c7b-d2bc-414c-9025-6101ac2509e7",
   "metadata": {},
   "outputs": [
    {
     "data": {
      "text/plain": [
       "{'Darren': 'Duccati', 'Kenn': 'Toyota', 'Raki': 'Harley'}"
      ]
     },
     "execution_count": 23,
     "metadata": {},
     "output_type": "execute_result"
    }
   ],
   "source": [
    "bike_owners = {'Darren':'Duccati', 'Kenn':'Toyota','Raki':'Harley'}\n",
    "bike_owners"
   ]
  },
  {
   "cell_type": "code",
   "execution_count": 24,
   "id": "e8009aef-105a-4161-bdff-6a12ce8c73c2",
   "metadata": {},
   "outputs": [
    {
     "data": {
      "text/plain": [
       "'Duccati'"
      ]
     },
     "execution_count": 24,
     "metadata": {},
     "output_type": "execute_result"
    }
   ],
   "source": [
    "bike_owners['Darren'] #use the key as reference not an index"
   ]
  },
  {
   "cell_type": "code",
   "execution_count": 25,
   "id": "45906d5e-7113-46cf-830e-d931c5dbac02",
   "metadata": {},
   "outputs": [
    {
     "ename": "KeyError",
     "evalue": "'Duccati'",
     "output_type": "error",
     "traceback": [
      "\u001b[1;31m---------------------------------------------------------------------------\u001b[0m",
      "\u001b[1;31mKeyError\u001b[0m                                  Traceback (most recent call last)",
      "Cell \u001b[1;32mIn[25], line 1\u001b[0m\n\u001b[1;32m----> 1\u001b[0m \u001b[43mbike_owners\u001b[49m\u001b[43m[\u001b[49m\u001b[38;5;124;43m'\u001b[39;49m\u001b[38;5;124;43mDuccati\u001b[39;49m\u001b[38;5;124;43m'\u001b[39;49m\u001b[43m]\u001b[49m \u001b[38;5;66;03m#you cant use a value as reference because keys are the ones unique\u001b[39;00m\n",
      "\u001b[1;31mKeyError\u001b[0m: 'Duccati'"
     ]
    }
   ],
   "source": [
    "bike_owners['Duccati'] #you cant use a value as reference because keys are the ones unique"
   ]
  },
  {
   "cell_type": "code",
   "execution_count": 26,
   "id": "d5fda1fc-c12f-4d6f-8026-f53b676b9ae3",
   "metadata": {},
   "outputs": [],
   "source": [
    "int_dict = {1:2,2:2,3:2}"
   ]
  },
  {
   "cell_type": "code",
   "execution_count": 27,
   "id": "61b16afd-d618-4419-b9a2-723d89f70b90",
   "metadata": {},
   "outputs": [
    {
     "data": {
      "text/plain": [
       "{1: 2, 2: 2, 3: 2}"
      ]
     },
     "execution_count": 27,
     "metadata": {},
     "output_type": "execute_result"
    }
   ],
   "source": [
    "int_dict #keys are unique but not necessarily the values should be"
   ]
  },
  {
   "cell_type": "code",
   "execution_count": 28,
   "id": "4e7d6769-e660-4ca6-b412-c6efd738d94e",
   "metadata": {},
   "outputs": [
    {
     "data": {
      "text/plain": [
       "{'Jake': 1994, 'Ingrid': 2001, 'Ian': 2002}"
      ]
     },
     "execution_count": 28,
     "metadata": {},
     "output_type": "execute_result"
    }
   ],
   "source": [
    "student_details = {'Jake':1994,'Ingrid':2001,'Ian':2002}\n",
    "student_details"
   ]
  },
  {
   "cell_type": "code",
   "execution_count": 29,
   "id": "f50ff086-34f1-4264-bb7b-270f4f86ef83",
   "metadata": {},
   "outputs": [
    {
     "data": {
      "text/plain": [
       "dict_keys(['Jake', 'Ingrid', 'Ian'])"
      ]
     },
     "execution_count": 29,
     "metadata": {},
     "output_type": "execute_result"
    }
   ],
   "source": [
    "student_details.keys()"
   ]
  },
  {
   "cell_type": "code",
   "execution_count": 30,
   "id": "891d607b-f6ed-494e-a553-1db91dd62ffc",
   "metadata": {},
   "outputs": [
    {
     "data": {
      "text/plain": [
       "False"
      ]
     },
     "execution_count": 30,
     "metadata": {},
     "output_type": "execute_result"
    }
   ],
   "source": [
    "'Henry' in student_details.keys() #asked if an element is seen among the keys"
   ]
  },
  {
   "cell_type": "code",
   "execution_count": 31,
   "id": "f6df63a3-0404-48a6-bb7b-55bbb68d660d",
   "metadata": {},
   "outputs": [
    {
     "data": {
      "text/plain": [
       "dict_values([1994, 2001, 2002])"
      ]
     },
     "execution_count": 31,
     "metadata": {},
     "output_type": "execute_result"
    }
   ],
   "source": [
    "student_details.values()\n"
   ]
  },
  {
   "cell_type": "code",
   "execution_count": 32,
   "id": "890d9187-4126-4258-8b82-9d4239decca5",
   "metadata": {},
   "outputs": [
    {
     "data": {
      "text/plain": [
       "{'Jake': 1990, 'Ingrid': 2001, 'Ian': 2002}"
      ]
     },
     "execution_count": 32,
     "metadata": {},
     "output_type": "execute_result"
    }
   ],
   "source": [
    "#dicts can also be updated by just assignment\n",
    "student_details['Jake'] = 1990\n",
    "student_details"
   ]
  },
  {
   "cell_type": "code",
   "execution_count": 2,
   "id": "e878c949-c5ca-4805-b63c-0ae8508b9dcf",
   "metadata": {},
   "outputs": [
    {
     "data": {
      "text/plain": [
       "1994"
      ]
     },
     "execution_count": 2,
     "metadata": {},
     "output_type": "execute_result"
    }
   ],
   "source": [
    "student_details = {'Jake':1994,'Ingrid':2001,'Ian':2002}\n",
    "student_details.get('Jake')"
   ]
  },
  {
   "cell_type": "code",
   "execution_count": 3,
   "id": "db2a8a05-61cf-412e-9739-4f27dcb7e4ff",
   "metadata": {},
   "outputs": [
    {
     "data": {
      "text/plain": [
       "{'Jake': 1994, 'Ian': 2002}"
      ]
     },
     "execution_count": 3,
     "metadata": {},
     "output_type": "execute_result"
    }
   ],
   "source": [
    "del student_details['Ingrid']\n",
    "student_details"
   ]
  },
  {
   "cell_type": "markdown",
   "id": "bfcbe345-258c-4177-bc68-55e3131e06c6",
   "metadata": {},
   "source": [
    "## Nesting Complex Data Types with Dictionaries"
   ]
  },
  {
   "cell_type": "code",
   "execution_count": 4,
   "id": "ec60cce1-7985-4fc2-bb2a-2fe086ef5b44",
   "metadata": {},
   "outputs": [
    {
     "data": {
      "text/plain": [
       "{}"
      ]
     },
     "execution_count": 4,
     "metadata": {},
     "output_type": "execute_result"
    }
   ],
   "source": [
    "fruit_qty = {}\n",
    "fruit_qty"
   ]
  },
  {
   "cell_type": "code",
   "execution_count": 5,
   "id": "2bdc83cd-2c90-4c76-80a1-36830ff849d2",
   "metadata": {},
   "outputs": [],
   "source": [
    "fruit_qty['Orange']=30\n",
    "fruit_qty['Apple']=40"
   ]
  },
  {
   "cell_type": "code",
   "execution_count": 6,
   "id": "fe64c2cb-7b25-41f9-8447-c7588ec27875",
   "metadata": {},
   "outputs": [
    {
     "data": {
      "text/plain": [
       "{'Orange': 30, 'Apple': 40}"
      ]
     },
     "execution_count": 6,
     "metadata": {},
     "output_type": "execute_result"
    }
   ],
   "source": [
    "fruit_qty"
   ]
  },
  {
   "cell_type": "code",
   "execution_count": 7,
   "id": "d1556865-d1bd-4150-8ca2-1a0d1671f8e5",
   "metadata": {},
   "outputs": [
    {
     "ename": "KeyError",
     "evalue": "'Watermelon'",
     "output_type": "error",
     "traceback": [
      "\u001b[1;31m---------------------------------------------------------------------------\u001b[0m",
      "\u001b[1;31mKeyError\u001b[0m                                  Traceback (most recent call last)",
      "Cell \u001b[1;32mIn[7], line 1\u001b[0m\n\u001b[1;32m----> 1\u001b[0m \u001b[43mfruit_qty\u001b[49m\u001b[43m[\u001b[49m\u001b[38;5;124;43m'\u001b[39;49m\u001b[38;5;124;43mWatermelon\u001b[39;49m\u001b[38;5;124;43m'\u001b[39;49m\u001b[43m]\u001b[49m\n",
      "\u001b[1;31mKeyError\u001b[0m: 'Watermelon'"
     ]
    }
   ],
   "source": [
    "fruit_qty['Watermelon']"
   ]
  },
  {
   "cell_type": "code",
   "execution_count": 8,
   "id": "449ffbaf-047f-4ef0-ac8d-735fe2e9b0ec",
   "metadata": {},
   "outputs": [],
   "source": [
    "fruit_qty['Watermelon']=10"
   ]
  },
  {
   "cell_type": "code",
   "execution_count": 9,
   "id": "17dd51b0-e626-48a2-8eee-32fd80e68e00",
   "metadata": {},
   "outputs": [],
   "source": [
    "fruit_qty_consumed = {'Banana':[10,20,30,40],'Orange':[11,22,12,34],'Apple':(1,2,2,3)}"
   ]
  },
  {
   "cell_type": "code",
   "execution_count": 10,
   "id": "5ba218ab-2243-4341-ad7f-ec477e1c1a84",
   "metadata": {},
   "outputs": [
    {
     "data": {
      "text/plain": [
       "{'Banana': [10, 20, 30, 40], 'Orange': [11, 22, 12, 34], 'Apple': (1, 2, 2, 3)}"
      ]
     },
     "execution_count": 10,
     "metadata": {},
     "output_type": "execute_result"
    }
   ],
   "source": [
    "fruit_qty_consumed"
   ]
  },
  {
   "cell_type": "code",
   "execution_count": 11,
   "id": "dc04e0fc-94a2-405a-897d-b0181d16f69c",
   "metadata": {},
   "outputs": [
    {
     "data": {
      "text/plain": [
       "{'Banana': [10, 20, 30, 40], 'Orange': [11, 69, 12, 34], 'Apple': (1, 2, 2, 3)}"
      ]
     },
     "execution_count": 11,
     "metadata": {},
     "output_type": "execute_result"
    }
   ],
   "source": [
    "fruit_qty_consumed[\"Orange\"][1]=69\n",
    "fruit_qty_consumed"
   ]
  },
  {
   "cell_type": "code",
   "execution_count": 12,
   "id": "4c396ce0-acc0-403c-bfc2-d9451bbf7ca0",
   "metadata": {},
   "outputs": [
    {
     "data": {
      "text/plain": [
       "80"
      ]
     },
     "execution_count": 12,
     "metadata": {},
     "output_type": "execute_result"
    }
   ],
   "source": [
    "fruit_nested = {'Apple':{'Banana':80}}\n",
    "fruit_nested['Apple']['Banana']"
   ]
  },
  {
   "cell_type": "code",
   "execution_count": 13,
   "id": "b5fa1e0a-bb61-4050-8cb0-df74051d970d",
   "metadata": {},
   "outputs": [
    {
     "data": {
      "text/plain": [
       "3"
      ]
     },
     "execution_count": 13,
     "metadata": {},
     "output_type": "execute_result"
    }
   ],
   "source": [
    "student_details = {'Jake':1994,'Ingrid':2001,'Ian':2002}\n",
    "len(student_details.keys())"
   ]
  },
  {
   "cell_type": "code",
   "execution_count": 14,
   "id": "81653366-8226-4b18-b0b0-9cf0d81ef83a",
   "metadata": {},
   "outputs": [
    {
     "data": {
      "text/plain": [
       "['Ian', 'Ingrid', 'Jake']"
      ]
     },
     "execution_count": 14,
     "metadata": {},
     "output_type": "execute_result"
    }
   ],
   "source": [
    "sorted(student_details) #sorts the keys"
   ]
  },
  {
   "cell_type": "code",
   "execution_count": 15,
   "id": "dbaba316-b1be-4f79-a8cd-abc1a950bccd",
   "metadata": {},
   "outputs": [
    {
     "data": {
      "text/plain": [
       "['Jake', 'Ingrid', 'Ian']"
      ]
     },
     "execution_count": 15,
     "metadata": {},
     "output_type": "execute_result"
    }
   ],
   "source": [
    "sorted(student_details,reverse=True)"
   ]
  },
  {
   "cell_type": "code",
   "execution_count": 16,
   "id": "e9afe956-16d3-43ea-ac70-48ad1a5a2e08",
   "metadata": {},
   "outputs": [
    {
     "data": {
      "text/plain": [
       "dict_items([('Jake', 1994), ('Ingrid', 2001), ('Ian', 2002)])"
      ]
     },
     "execution_count": 16,
     "metadata": {},
     "output_type": "execute_result"
    }
   ],
   "source": [
    "student_details.items() #key value pairs in form of tuple"
   ]
  },
  {
   "cell_type": "code",
   "execution_count": 17,
   "id": "03a4ff1c-e2e5-4a51-8b88-a0ee429cc9f2",
   "metadata": {},
   "outputs": [
    {
     "data": {
      "text/plain": [
       "{'Jake': 1994, 'Ingrid': 2001, 'Ian': 2002}"
      ]
     },
     "execution_count": 17,
     "metadata": {},
     "output_type": "execute_result"
    }
   ],
   "source": [
    "copy_student_details = student_details.copy()\n",
    "copy_student_details"
   ]
  },
  {
   "cell_type": "code",
   "execution_count": 18,
   "id": "0bbf8a9f-1338-4144-9992-e82804fc9f1b",
   "metadata": {},
   "outputs": [
    {
     "data": {
      "text/plain": [
       "1994"
      ]
     },
     "execution_count": 18,
     "metadata": {},
     "output_type": "execute_result"
    }
   ],
   "source": [
    "copy_student_details.pop('Jake') #pop key and returns the value of popped key"
   ]
  },
  {
   "cell_type": "code",
   "execution_count": 19,
   "id": "a580b028-4116-4872-ade4-26bb256a282e",
   "metadata": {},
   "outputs": [
    {
     "data": {
      "text/plain": [
       "('Ian', 2002)"
      ]
     },
     "execution_count": 19,
     "metadata": {},
     "output_type": "execute_result"
    }
   ],
   "source": [
    "copy_student_details.popitem() #randomly pops value key pair"
   ]
  },
  {
   "cell_type": "code",
   "execution_count": 20,
   "id": "fe07731f-0521-4d30-bcdc-b3c8352e638b",
   "metadata": {},
   "outputs": [
    {
     "data": {
      "text/plain": [
       "{'Ingrid': 2001}"
      ]
     },
     "execution_count": 20,
     "metadata": {},
     "output_type": "execute_result"
    }
   ],
   "source": [
    "copy_student_details"
   ]
  },
  {
   "cell_type": "code",
   "execution_count": 21,
   "id": "b396c523-7357-47c4-9ad8-dc0694afa707",
   "metadata": {},
   "outputs": [],
   "source": [
    "copy_student_details.clear() #clears all entries in the dict"
   ]
  },
  {
   "cell_type": "code",
   "execution_count": 22,
   "id": "6fb8a79c-ed4b-4fb1-8c6c-74d74bbe6545",
   "metadata": {},
   "outputs": [],
   "source": [
    "del copy_student_details #free up the memory of that dict"
   ]
  },
  {
   "cell_type": "markdown",
   "id": "b81a9d66-65f4-4639-80cd-8d19ebb41bdc",
   "metadata": {},
   "source": [
    "## Sets"
   ]
  },
  {
   "cell_type": "code",
   "execution_count": 26,
   "id": "7c30df98-fc31-4a45-a203-648346287180",
   "metadata": {},
   "outputs": [],
   "source": [
    "set_string = {\"Bob\",\"Ava\",\"Kim\"}"
   ]
  },
  {
   "cell_type": "code",
   "execution_count": 27,
   "id": "e1e088f5-fea0-433b-a114-32b4c2f1800e",
   "metadata": {},
   "outputs": [
    {
     "name": "stdout",
     "output_type": "stream",
     "text": [
      "{'Bob', 'Ava', 'Kim'}\n"
     ]
    }
   ],
   "source": [
    "print(set_string)"
   ]
  },
  {
   "cell_type": "code",
   "execution_count": 28,
   "id": "08e49bb4-dd6e-4ee6-9c17-7b6163a1cd2e",
   "metadata": {},
   "outputs": [
    {
     "data": {
      "text/plain": [
       "set"
      ]
     },
     "execution_count": 28,
     "metadata": {},
     "output_type": "execute_result"
    }
   ],
   "source": [
    "type(set_string)"
   ]
  },
  {
   "cell_type": "code",
   "execution_count": 30,
   "id": "72b5e20b-50a5-44d7-9291-7af5fb33c676",
   "metadata": {},
   "outputs": [],
   "source": [
    "empy_set = set()"
   ]
  },
  {
   "cell_type": "code",
   "execution_count": 31,
   "id": "4fdba8a2-0268-4353-9da0-cbc624edf20d",
   "metadata": {},
   "outputs": [
    {
     "ename": "TypeError",
     "evalue": "unhashable type: 'list'",
     "output_type": "error",
     "traceback": [
      "\u001b[1;31m---------------------------------------------------------------------------\u001b[0m",
      "\u001b[1;31mTypeError\u001b[0m                                 Traceback (most recent call last)",
      "Cell \u001b[1;32mIn[31], line 1\u001b[0m\n\u001b[1;32m----> 1\u001b[0m mixed_set \u001b[38;5;241m=\u001b[39m {\u001b[38;5;124m'\u001b[39m\u001b[38;5;124mJust\u001b[39m\u001b[38;5;124m'\u001b[39m,\u001b[38;5;241m80\u001b[39m,\u001b[38;5;28;01mTrue\u001b[39;00m,(\u001b[38;5;241m1\u001b[39m,\u001b[38;5;241m2\u001b[39m,\u001b[38;5;241m3\u001b[39m),[\u001b[38;5;241m4\u001b[39m,\u001b[38;5;241m5\u001b[39m,\u001b[38;5;241m6\u001b[39m]}\n",
      "\u001b[1;31mTypeError\u001b[0m: unhashable type: 'list'"
     ]
    }
   ],
   "source": [
    "mixed_set = {'Just',80,True,(1,2,3),[4,5,6]} #cant have a list because its immutable"
   ]
  },
  {
   "cell_type": "code",
   "execution_count": 34,
   "id": "17ba00fa-6935-4e20-8550-42b469183a05",
   "metadata": {},
   "outputs": [],
   "source": [
    "mixed_set = {'Just',80,True,(1,2,3)} #in its nature, it is mutable"
   ]
  },
  {
   "cell_type": "code",
   "execution_count": 35,
   "id": "9b246188-461d-4050-aecc-aef8cc53e4aa",
   "metadata": {},
   "outputs": [
    {
     "ename": "TypeError",
     "evalue": "'set' object is not subscriptable",
     "output_type": "error",
     "traceback": [
      "\u001b[1;31m---------------------------------------------------------------------------\u001b[0m",
      "\u001b[1;31mTypeError\u001b[0m                                 Traceback (most recent call last)",
      "Cell \u001b[1;32mIn[35], line 1\u001b[0m\n\u001b[1;32m----> 1\u001b[0m \u001b[43mmixed_set\u001b[49m\u001b[43m[\u001b[49m\u001b[38;5;241;43m1\u001b[39;49m\u001b[43m]\u001b[49m\n",
      "\u001b[1;31mTypeError\u001b[0m: 'set' object is not subscriptable"
     ]
    }
   ],
   "source": [
    "mixed_set[1] #not ordered so they do not support indexing"
   ]
  },
  {
   "cell_type": "code",
   "execution_count": 36,
   "id": "5c436bfa-655b-4823-a06c-a9beae19f07d",
   "metadata": {},
   "outputs": [
    {
     "data": {
      "text/plain": [
       "{(1, 2, 3), 80, 9.2, 'Just', True}"
      ]
     },
     "execution_count": 36,
     "metadata": {},
     "output_type": "execute_result"
    }
   ],
   "source": [
    "mixed_set.add(9.2)\n",
    "mixed_set"
   ]
  },
  {
   "cell_type": "code",
   "execution_count": 37,
   "id": "19ff1fdb-86f0-478e-8b39-dd535e9ec7a5",
   "metadata": {},
   "outputs": [
    {
     "data": {
      "text/plain": [
       "5"
      ]
     },
     "execution_count": 37,
     "metadata": {},
     "output_type": "execute_result"
    }
   ],
   "source": [
    "len(mixed_set)"
   ]
  },
  {
   "cell_type": "code",
   "execution_count": 39,
   "id": "fc72bcf2-5df5-4a48-886d-a55c87f3aa95",
   "metadata": {},
   "outputs": [
    {
     "data": {
      "text/plain": [
       "'Kim'"
      ]
     },
     "execution_count": 39,
     "metadata": {},
     "output_type": "execute_result"
    }
   ],
   "source": [
    "max(set_string)"
   ]
  },
  {
   "cell_type": "code",
   "execution_count": 40,
   "id": "2b61f46e-eeab-4015-be30-da0e62fa8685",
   "metadata": {},
   "outputs": [
    {
     "data": {
      "text/plain": [
       "'Ava'"
      ]
     },
     "execution_count": 40,
     "metadata": {},
     "output_type": "execute_result"
    }
   ],
   "source": [
    "min(set_string)"
   ]
  },
  {
   "cell_type": "code",
   "execution_count": 41,
   "id": "aab323d7-82a9-4011-85dd-6bf0e7ab2683",
   "metadata": {},
   "outputs": [],
   "source": [
    "set_string.discard('Kim')"
   ]
  },
  {
   "cell_type": "code",
   "execution_count": 42,
   "id": "c58342d3-ce91-4bec-b081-e1971583755d",
   "metadata": {},
   "outputs": [
    {
     "ename": "KeyError",
     "evalue": "'Kim'",
     "output_type": "error",
     "traceback": [
      "\u001b[1;31m---------------------------------------------------------------------------\u001b[0m",
      "\u001b[1;31mKeyError\u001b[0m                                  Traceback (most recent call last)",
      "Cell \u001b[1;32mIn[42], line 1\u001b[0m\n\u001b[1;32m----> 1\u001b[0m \u001b[43mset_string\u001b[49m\u001b[38;5;241;43m.\u001b[39;49m\u001b[43mremove\u001b[49m\u001b[43m(\u001b[49m\u001b[38;5;124;43m'\u001b[39;49m\u001b[38;5;124;43mKim\u001b[39;49m\u001b[38;5;124;43m'\u001b[39;49m\u001b[43m)\u001b[49m \u001b[38;5;66;03m#error\u001b[39;00m\n",
      "\u001b[1;31mKeyError\u001b[0m: 'Kim'"
     ]
    }
   ],
   "source": [
    "set_string.remove('Kim') #error"
   ]
  },
  {
   "cell_type": "code",
   "execution_count": 44,
   "id": "b3dc81b6-8756-4016-a38c-7e80797c0129",
   "metadata": {},
   "outputs": [],
   "source": [
    "set_string.discard('Kim') #without error"
   ]
  },
  {
   "cell_type": "code",
   "execution_count": 45,
   "id": "0a927921-6934-4dbd-bcf4-4f9ba1626b47",
   "metadata": {},
   "outputs": [
    {
     "data": {
      "text/plain": [
       "{(1, 2, 3), 80, 9.2, 'Ava', 'Bob', 'Just', True}"
      ]
     },
     "execution_count": 45,
     "metadata": {},
     "output_type": "execute_result"
    }
   ],
   "source": [
    "set_string.union(mixed_set)"
   ]
  },
  {
   "cell_type": "code",
   "execution_count": 48,
   "id": "abc6eb0c-6df4-408c-9ba3-b364679e3646",
   "metadata": {},
   "outputs": [
    {
     "data": {
      "text/plain": [
       "{'Ava', 'Bob'}"
      ]
     },
     "execution_count": 48,
     "metadata": {},
     "output_type": "execute_result"
    }
   ],
   "source": [
    "set_string.intersection({'Bob','Ava'})"
   ]
  },
  {
   "cell_type": "code",
   "execution_count": 50,
   "id": "23771dd9-7fce-4fc8-92b3-4f317c1102a7",
   "metadata": {},
   "outputs": [],
   "source": [
    "set_string.intersection_update({'Bob','Ava'})"
   ]
  },
  {
   "cell_type": "code",
   "execution_count": 51,
   "id": "4497e9b0-2140-49a4-a6f4-2219406b07b4",
   "metadata": {},
   "outputs": [
    {
     "data": {
      "text/plain": [
       "{'Ava', 'Bob'}"
      ]
     },
     "execution_count": 51,
     "metadata": {},
     "output_type": "execute_result"
    }
   ],
   "source": [
    "set_string #all the intersections only will be the one used to update what the set now contains"
   ]
  },
  {
   "cell_type": "code",
   "execution_count": 53,
   "id": "722728d7-a818-46f8-8b20-b96e8dfebcd1",
   "metadata": {},
   "outputs": [
    {
     "data": {
      "text/plain": [
       "True"
      ]
     },
     "execution_count": 53,
     "metadata": {},
     "output_type": "execute_result"
    }
   ],
   "source": [
    "{'Ava','Bob'}.isdisjoint({'Casa'}) #yes because it does not contain elements"
   ]
  },
  {
   "cell_type": "code",
   "execution_count": 54,
   "id": "f147980d-d8c3-4b21-8cc3-2a8f5d9503cd",
   "metadata": {},
   "outputs": [
    {
     "data": {
      "text/plain": [
       "True"
      ]
     },
     "execution_count": 54,
     "metadata": {},
     "output_type": "execute_result"
    }
   ],
   "source": [
    "{'Ava','Bob'}.issuperset({'Ava'})"
   ]
  },
  {
   "cell_type": "code",
   "execution_count": 56,
   "id": "6c0e8278-98c0-42d1-a3c8-b0f23aa64e0b",
   "metadata": {},
   "outputs": [
    {
     "data": {
      "text/plain": [
       "True"
      ]
     },
     "execution_count": 56,
     "metadata": {},
     "output_type": "execute_result"
    }
   ],
   "source": [
    "{'Ava'}.issubset({'Ava','Bob'})"
   ]
  },
  {
   "cell_type": "markdown",
   "id": "c7447540-eaa6-4fb1-9d98-3fe988d07011",
   "metadata": {},
   "source": [
    "## Nested Lists"
   ]
  },
  {
   "cell_type": "code",
   "execution_count": 58,
   "id": "ba42b382-0967-40ef-9100-5be41373b6f4",
   "metadata": {},
   "outputs": [],
   "source": [
    "car_matrix = [['Hennessey',1928],['Speed',111]]"
   ]
  },
  {
   "cell_type": "code",
   "execution_count": 59,
   "id": "b089a00d-acf2-4d1c-ad05-844b1e036746",
   "metadata": {},
   "outputs": [
    {
     "data": {
      "text/plain": [
       "1928"
      ]
     },
     "execution_count": 59,
     "metadata": {},
     "output_type": "execute_result"
    }
   ],
   "source": [
    "car_matrix[0][1]"
   ]
  },
  {
   "cell_type": "code",
   "execution_count": 63,
   "id": "ff6942af-1c24-4a86-b324-1df60d2e1d7a",
   "metadata": {},
   "outputs": [
    {
     "data": {
      "text/plain": [
       "[1928]"
      ]
     },
     "execution_count": 63,
     "metadata": {},
     "output_type": "execute_result"
    }
   ],
   "source": [
    "car_matrix[0][-1:0:-1] #slicing"
   ]
  },
  {
   "cell_type": "markdown",
   "id": "dd7ea038-e281-4ca7-8c0f-9d79a28a687f",
   "metadata": {},
   "source": [
    "## Performing List Conversion"
   ]
  },
  {
   "cell_type": "code",
   "execution_count": 65,
   "id": "b26fd278-3ad7-45e7-85e5-bb51dc111f07",
   "metadata": {},
   "outputs": [],
   "source": [
    "some_list = [3,4,5,6,6,6]"
   ]
  },
  {
   "cell_type": "code",
   "execution_count": 66,
   "id": "ca1fadc5-b2e3-4a9d-b509-f3528ebeeaa8",
   "metadata": {},
   "outputs": [
    {
     "data": {
      "text/plain": [
       "{3, 4, 5, 6}"
      ]
     },
     "execution_count": 66,
     "metadata": {},
     "output_type": "execute_result"
    }
   ],
   "source": [
    "set(some_list)"
   ]
  },
  {
   "cell_type": "code",
   "execution_count": 67,
   "id": "a6533c92-ad58-49dc-a7c1-78695cbd05b1",
   "metadata": {},
   "outputs": [
    {
     "data": {
      "text/plain": [
       "{1: 2, 2: 2.1, 3: 2.1}"
      ]
     },
     "execution_count": 67,
     "metadata": {},
     "output_type": "execute_result"
    }
   ],
   "source": [
    "some_list = [[1,2],[2,2.1],[3,2.1]]\n",
    "dict(some_list) #can convert to dict but cant do for three and above"
   ]
  },
  {
   "cell_type": "code",
   "execution_count": 68,
   "id": "de8aa5b2-edf2-4177-9828-82e13328e44b",
   "metadata": {},
   "outputs": [
    {
     "data": {
      "text/plain": [
       "{1: 2, 2: 2.1, 3: [5, 6]}"
      ]
     },
     "execution_count": 68,
     "metadata": {},
     "output_type": "execute_result"
    }
   ],
   "source": [
    "some_list = [[1,2],[2,2.1],[3,[5,6]]]\n",
    "dict(some_list) #doesnt care if the value has a nested list"
   ]
  },
  {
   "cell_type": "code",
   "execution_count": 69,
   "id": "c39e1b3b-1863-4d54-9672-d90e986d0550",
   "metadata": {},
   "outputs": [
    {
     "data": {
      "text/plain": [
       "[['Hennessey', 1928], ['Speed', 111]]"
      ]
     },
     "execution_count": 69,
     "metadata": {},
     "output_type": "execute_result"
    }
   ],
   "source": [
    "car_matrix"
   ]
  },
  {
   "cell_type": "code",
   "execution_count": 70,
   "id": "b014d3c3-e1cb-4d47-9433-7513abe9b924",
   "metadata": {},
   "outputs": [
    {
     "data": {
      "text/plain": [
       "{'Hennessey': 1928, 'Speed': 111}"
      ]
     },
     "execution_count": 70,
     "metadata": {},
     "output_type": "execute_result"
    }
   ],
   "source": [
    "dict(car_matrix)"
   ]
  },
  {
   "cell_type": "code",
   "execution_count": 72,
   "id": "2846f784-18b1-460c-8d06-bda2f8a3ba61",
   "metadata": {},
   "outputs": [
    {
     "data": {
      "text/plain": [
       "dict_values([1928, 111])"
      ]
     },
     "execution_count": 72,
     "metadata": {},
     "output_type": "execute_result"
    }
   ],
   "source": [
    "dict(car_matrix).values()"
   ]
  },
  {
   "cell_type": "markdown",
   "id": "2534ab7a-7ce2-4d36-84e1-c346c90e3524",
   "metadata": {},
   "source": [
    "## Shallow and Deep Copies"
   ]
  },
  {
   "cell_type": "code",
   "execution_count": 73,
   "id": "baa06055-edb4-4b50-8cbe-61665d26bf07",
   "metadata": {},
   "outputs": [],
   "source": [
    "import copy #or use [:]\n",
    "og_str = 'hello'\n"
   ]
  },
  {
   "cell_type": "code",
   "execution_count": 75,
   "id": "76f4dca0-c48a-44ec-afbb-47f33923e580",
   "metadata": {},
   "outputs": [],
   "source": [
    "deep_str = copy.copy(og_str) #same with copy.deepcopy but not for nested"
   ]
  },
  {
   "cell_type": "code",
   "execution_count": 76,
   "id": "84c451da-0e06-4cd7-9540-0a86b231dfd6",
   "metadata": {},
   "outputs": [],
   "source": [
    "deep_str = og_str[:]"
   ]
  },
  {
   "cell_type": "code",
   "execution_count": 81,
   "id": "ee023408-75f7-489f-a2f0-9a0700732d2d",
   "metadata": {},
   "outputs": [],
   "source": [
    "deep_str = 'bye'"
   ]
  },
  {
   "cell_type": "code",
   "execution_count": 82,
   "id": "74aaa7f3-1f81-484f-9805-a34382d1297f",
   "metadata": {},
   "outputs": [
    {
     "data": {
      "text/plain": [
       "['Ava', 'Bob', 'Cam']"
      ]
     },
     "execution_count": 82,
     "metadata": {},
     "output_type": "execute_result"
    }
   ],
   "source": [
    "names = ['Ava','Dave','Cam']\n",
    "new_names = names\n",
    "new_names[1] = 'Bob'\n",
    "names  #shallow copy had been used so just a reference"
   ]
  },
  {
   "cell_type": "code",
   "execution_count": 83,
   "id": "133efbf1-c842-4338-b98f-fd1ea1b2200b",
   "metadata": {},
   "outputs": [
    {
     "data": {
      "text/plain": [
       "['Ava', 'Bob', 'Cam']"
      ]
     },
     "execution_count": 83,
     "metadata": {},
     "output_type": "execute_result"
    }
   ],
   "source": [
    "deep_names = copy.copy(names)\n",
    "deep_names[1] = 'Abel'\n",
    "names #deep copy so separate entity"
   ]
  },
  {
   "cell_type": "code",
   "execution_count": 84,
   "id": "259cec5e-3c29-498f-9793-2d9a9d748c08",
   "metadata": {},
   "outputs": [
    {
     "data": {
      "text/plain": [
       "[[10, 2, 3], [4, 5, 6], [7, 8, 9]]"
      ]
     },
     "execution_count": 84,
     "metadata": {},
     "output_type": "execute_result"
    }
   ],
   "source": [
    "old_list = [[1,2,3],[4,5,6],[7,8,9]]\n",
    "new_list = copy.copy(old_list)\n",
    "new_list[0][0] = 10\n",
    "old_list #it made a deep copy of the outer list but the inner nested list will reflect"
   ]
  },
  {
   "cell_type": "code",
   "execution_count": 89,
   "id": "41201e39-39e0-41fb-b86c-118e4ae0d49a",
   "metadata": {},
   "outputs": [
    {
     "data": {
      "text/plain": [
       "[[1, 2, 3], [4, 5, 6], [7, 8, 9]]"
      ]
     },
     "execution_count": 89,
     "metadata": {},
     "output_type": "execute_result"
    }
   ],
   "source": [
    "old_list = [[1,2,3],[4,5,6],[7,8,9]]\n",
    "new_list = copy.deepcopy(old_list) #the .deepcopy() handles this scenario\n",
    "new_list[0][0] = 10 #any changes wont reflect since it does deep copy no matter what\n",
    "old_list"
   ]
  },
  {
   "cell_type": "code",
   "execution_count": 92,
   "id": "55e0d44d-f7f0-4e6a-81c4-4810a5309acd",
   "metadata": {},
   "outputs": [],
   "source": [
    "old_tuple = ('Bob','Bobby','Bobt',['Banana','Cherry'])\n",
    "new_tuple = old_tuple"
   ]
  },
  {
   "cell_type": "code",
   "execution_count": 95,
   "id": "94ddcac2-3233-4d79-927f-e83d3f67bd82",
   "metadata": {},
   "outputs": [
    {
     "data": {
      "text/plain": [
       "('Bob', 'Bobby', 'Bobt', ['Banana', 'Watermelon'])"
      ]
     },
     "execution_count": 95,
     "metadata": {},
     "output_type": "execute_result"
    }
   ],
   "source": [
    "new_tuple[3][1] = 'Watermelon'\n",
    "old_tuple  #updates as a reference even if using .copy so need to use copy.deepcopy"
   ]
  },
  {
   "cell_type": "code",
   "execution_count": 96,
   "id": "f2ee39c4-acfe-4a2e-9b5d-a1ecc55c5a5d",
   "metadata": {},
   "outputs": [
    {
     "data": {
      "text/plain": [
       "('Bob', 'Bobby', 'Bobt', ['Banana', 'Watermelon'])"
      ]
     },
     "execution_count": 96,
     "metadata": {},
     "output_type": "execute_result"
    }
   ],
   "source": [
    "new_tuple = copy.deepcopy(old_tuple)\n",
    "new_tuple[3][1] = 'Pumpkin'\n",
    "old_tuple #no changes made"
   ]
  },
  {
   "cell_type": "code",
   "execution_count": 102,
   "id": "41aa6cf7-2d49-416f-b780-609020c550eb",
   "metadata": {},
   "outputs": [],
   "source": [
    "dict_months = {'jan':1,'feb':5,'march':67,'april':[67,77]}\n",
    "copy_dict = copy.copy(dict_months)"
   ]
  },
  {
   "cell_type": "code",
   "execution_count": 103,
   "id": "c9310753-737f-4f8d-a680-ff55603614ee",
   "metadata": {},
   "outputs": [
    {
     "data": {
      "text/plain": [
       "{'jan': 1, 'feb': 5, 'march': 67, 'april': [67, 77]}"
      ]
     },
     "execution_count": 103,
     "metadata": {},
     "output_type": "execute_result"
    }
   ],
   "source": [
    "copy_dict['jan'] = 2009\n",
    "dict_months #no changes as its a deep copy"
   ]
  },
  {
   "cell_type": "code",
   "execution_count": 104,
   "id": "15a08432-843b-4b73-90b9-0aa6db0cc224",
   "metadata": {},
   "outputs": [],
   "source": [
    "copy_dict = copy.deepcopy(dict_months)"
   ]
  },
  {
   "cell_type": "code",
   "execution_count": 106,
   "id": "a2968ae5-7cd4-4dbc-8c5c-ec12929fe7ec",
   "metadata": {},
   "outputs": [
    {
     "data": {
      "text/plain": [
       "{'jan': 1, 'feb': 5, 'march': 67, 'april': [67, 77]}"
      ]
     },
     "execution_count": 106,
     "metadata": {},
     "output_type": "execute_result"
    }
   ],
   "source": [
    "copy_dict['april'] = [23,22]\n",
    "dict_months"
   ]
  },
  {
   "cell_type": "code",
   "execution_count": 107,
   "id": "92d403a4-516d-4522-b4c2-721643508c26",
   "metadata": {},
   "outputs": [
    {
     "data": {
      "text/plain": [
       "{'jan': 1, 'feb': 5, 'march': 67, 'april': [23, 22]}"
      ]
     },
     "execution_count": 107,
     "metadata": {},
     "output_type": "execute_result"
    }
   ],
   "source": [
    "copy_dict"
   ]
  },
  {
   "cell_type": "markdown",
   "id": "e046f030-1410-4c9a-b6e2-1195c92948a3",
   "metadata": {},
   "source": [
    "## Python Conditions"
   ]
  },
  {
   "cell_type": "code",
   "execution_count": 108,
   "id": "b7b1dab2-ff9b-4fba-841a-b8a6f07c4faa",
   "metadata": {},
   "outputs": [
    {
     "data": {
      "text/plain": [
       "True"
      ]
     },
     "execution_count": 108,
     "metadata": {},
     "output_type": "execute_result"
    }
   ],
   "source": [
    "10 == 10"
   ]
  },
  {
   "cell_type": "code",
   "execution_count": 109,
   "id": "a0d3bf5e-7ec0-4518-9dd7-2ae937e1c20c",
   "metadata": {},
   "outputs": [
    {
     "data": {
      "text/plain": [
       "True"
      ]
     },
     "execution_count": 109,
     "metadata": {},
     "output_type": "execute_result"
    }
   ],
   "source": [
    "'Hello' == 'Hello'"
   ]
  },
  {
   "cell_type": "code",
   "execution_count": 110,
   "id": "05f867cb-5b4b-4321-8221-51ee9883386c",
   "metadata": {},
   "outputs": [
    {
     "data": {
      "text/plain": [
       "False"
      ]
     },
     "execution_count": 110,
     "metadata": {},
     "output_type": "execute_result"
    }
   ],
   "source": [
    "'Hello' == 10"
   ]
  },
  {
   "cell_type": "code",
   "execution_count": 111,
   "id": "4365d3f0-ceb5-45d9-869c-3911b123b4b4",
   "metadata": {},
   "outputs": [
    {
     "data": {
      "text/plain": [
       "True"
      ]
     },
     "execution_count": 111,
     "metadata": {},
     "output_type": "execute_result"
    }
   ],
   "source": [
    "20 != 10"
   ]
  },
  {
   "cell_type": "code",
   "execution_count": 114,
   "id": "f86b3a18-e0dc-4f73-b3f7-45d99a034d89",
   "metadata": {},
   "outputs": [
    {
     "data": {
      "text/plain": [
       "True"
      ]
     },
     "execution_count": 114,
     "metadata": {},
     "output_type": "execute_result"
    }
   ],
   "source": [
    "(2+3) < 6"
   ]
  },
  {
   "cell_type": "code",
   "execution_count": 115,
   "id": "cf02fc7d-36ca-4f4f-8fda-10d7aa590fbc",
   "metadata": {},
   "outputs": [
    {
     "data": {
      "text/plain": [
       "True"
      ]
     },
     "execution_count": 115,
     "metadata": {},
     "output_type": "execute_result"
    }
   ],
   "source": [
    "8+5 == 10+3"
   ]
  },
  {
   "cell_type": "code",
   "execution_count": 116,
   "id": "2c050c78-499a-409a-b15c-c9ad1ab75a89",
   "metadata": {},
   "outputs": [
    {
     "data": {
      "text/plain": [
       "True"
      ]
     },
     "execution_count": 116,
     "metadata": {},
     "output_type": "execute_result"
    }
   ],
   "source": [
    "0 == 40%2"
   ]
  },
  {
   "cell_type": "code",
   "execution_count": 117,
   "id": "7810a5d0-e4d6-41af-923f-e8e29a6a396f",
   "metadata": {},
   "outputs": [
    {
     "data": {
      "text/plain": [
       "True"
      ]
     },
     "execution_count": 117,
     "metadata": {},
     "output_type": "execute_result"
    }
   ],
   "source": [
    "5 > 3 and 4 < 6"
   ]
  },
  {
   "cell_type": "code",
   "execution_count": 118,
   "id": "f0ad0ee4-8bdf-44eb-a860-302e295483d1",
   "metadata": {},
   "outputs": [
    {
     "data": {
      "text/plain": [
       "False"
      ]
     },
     "execution_count": 118,
     "metadata": {},
     "output_type": "execute_result"
    }
   ],
   "source": [
    "10 == 10 == True"
   ]
  },
  {
   "cell_type": "code",
   "execution_count": 119,
   "id": "1b4e1380-7842-4869-b545-9d9698849447",
   "metadata": {},
   "outputs": [
    {
     "data": {
      "text/plain": [
       "True"
      ]
     },
     "execution_count": 119,
     "metadata": {},
     "output_type": "execute_result"
    }
   ],
   "source": [
    "(10 == 10) == True"
   ]
  },
  {
   "cell_type": "code",
   "execution_count": 120,
   "id": "0b773519-c3ec-42e0-b115-b31bfb8517a9",
   "metadata": {},
   "outputs": [
    {
     "data": {
      "text/plain": [
       "False"
      ]
     },
     "execution_count": 120,
     "metadata": {},
     "output_type": "execute_result"
    }
   ],
   "source": [
    "4 > 6 or 2 > 3"
   ]
  },
  {
   "cell_type": "markdown",
   "id": "64307795-b793-4ee0-a9f3-5e9f542a6ee1",
   "metadata": {},
   "source": [
    "## If statements"
   ]
  },
  {
   "cell_type": "code",
   "execution_count": 121,
   "id": "cc492e71-b00a-452f-857d-ef14f4a3464d",
   "metadata": {},
   "outputs": [
    {
     "name": "stdout",
     "output_type": "stream",
     "text": [
      "10 is less than 15\n"
     ]
    }
   ],
   "source": [
    "if 10 < 15:\n",
    "    print(\"10 is less than 15\")"
   ]
  },
  {
   "cell_type": "code",
   "execution_count": 2,
   "id": "5d4569e6-dd90-454a-9d80-d94b93376d1c",
   "metadata": {},
   "outputs": [
    {
     "name": "stdout",
     "output_type": "stream",
     "text": [
      "Alexa is in the list\n"
     ]
    }
   ],
   "source": [
    "if 'Alexa' in ['Alexa','Robert','Alice','Bobby']:\n",
    "    print(\"Alexa is in the list\")"
   ]
  },
  {
   "cell_type": "code",
   "execution_count": 4,
   "id": "36cdbf07-c2b2-4e43-80e6-1a042d36282f",
   "metadata": {},
   "outputs": [
    {
     "name": "stdout",
     "output_type": "stream",
     "text": [
      "5 is greater than 3\n"
     ]
    }
   ],
   "source": [
    "a = 5\n",
    "b = 3\n",
    "if a>b and b<a:\n",
    "    print(a,\"is greater than\",b)"
   ]
  },
  {
   "cell_type": "code",
   "execution_count": 6,
   "id": "33e811b0-6327-4f4e-8227-fc8ce6f03f03",
   "metadata": {},
   "outputs": [
    {
     "name": "stdout",
     "output_type": "stream",
     "text": [
      "45 is not greater than 78\n"
     ]
    }
   ],
   "source": [
    "x = 45\n",
    "y = 78\n",
    "if not (x>y):\n",
    "    print(x,\"is not greater than\",y)"
   ]
  },
  {
   "cell_type": "markdown",
   "id": "5843059f-d071-4d74-add4-5c6993d0bf70",
   "metadata": {},
   "source": [
    "## If and Elif"
   ]
  },
  {
   "cell_type": "code",
   "execution_count": 7,
   "id": "65038a49-808e-4651-9343-799f91a2edfe",
   "metadata": {},
   "outputs": [
    {
     "name": "stdout",
     "output_type": "stream",
     "text": [
      "The expected happened\n"
     ]
    }
   ],
   "source": [
    "if x > y:\n",
    "    print(\"Shouldn't happen\")\n",
    "else:\n",
    "    print(\"The expected happened\")"
   ]
  },
  {
   "cell_type": "code",
   "execution_count": 8,
   "id": "1d2401b0-f63d-420a-aa04-9feb2675c31a",
   "metadata": {},
   "outputs": [
    {
     "name": "stdout",
     "output_type": "stream",
     "text": [
      "num before expression:  50\n",
      "num after expression: 30\n"
     ]
    }
   ],
   "source": [
    "num = 50\n",
    "print(\"num before expression: \",num)\n",
    "num = num - 20 if num > 20 else num +20\n",
    "print(\"num after expression:\",num)"
   ]
  },
  {
   "cell_type": "code",
   "execution_count": 9,
   "id": "8b785c39-490f-4a72-91df-21fcefa02cb8",
   "metadata": {},
   "outputs": [
    {
     "name": "stdout",
     "output_type": "stream",
     "text": [
      "Expected\n"
     ]
    }
   ],
   "source": [
    "if 15 > 20:\n",
    "    print(\"Shouldn't\")\n",
    "elif 15 == 20:\n",
    "    print(\"Impossible\")\n",
    "else:\n",
    "    print(\"Expected\")\n",
    "    "
   ]
  },
  {
   "cell_type": "code",
   "execution_count": 10,
   "id": "5a112064-cc0e-44fa-84d1-633cb2090ad0",
   "metadata": {},
   "outputs": [
    {
     "name": "stdout",
     "output_type": "stream",
     "text": [
      "Expected\n",
      "Yes\n"
     ]
    }
   ],
   "source": [
    "##Nested if else statements\n",
    "if 15 > 20:\n",
    "    print(\"Shouldn't\")\n",
    "elif 15 == 20:\n",
    "    print(\"Impossible\")\n",
    "else:\n",
    "    print(\"Expected\")\n",
    "    if 3 > 4:\n",
    "        print(\"No way\")\n",
    "    else:\n",
    "        print(\"Yes\")\n",
    "    "
   ]
  },
  {
   "cell_type": "code",
   "execution_count": 12,
   "id": "27731b4e-11bb-4465-814d-62604a893896",
   "metadata": {},
   "outputs": [
    {
     "data": {
      "text/plain": [
       "66.0"
      ]
     },
     "execution_count": 12,
     "metadata": {},
     "output_type": "execute_result"
    }
   ],
   "source": [
    "##Type conversion\n",
    "type(66)\n",
    "float(66)"
   ]
  },
  {
   "cell_type": "code",
   "execution_count": 13,
   "id": "3aae3b9c-d496-492d-82c1-28ec3f12016e",
   "metadata": {},
   "outputs": [
    {
     "data": {
      "text/plain": [
       "float"
      ]
     },
     "execution_count": 13,
     "metadata": {},
     "output_type": "execute_result"
    }
   ],
   "source": [
    "z = 66\n",
    "type(a)\n",
    "my_float_z = float(z)\n",
    "type(my_float_z)"
   ]
  },
  {
   "cell_type": "code",
   "execution_count": 14,
   "id": "99173f22-64cc-4cdf-9d9b-1a026276e211",
   "metadata": {},
   "outputs": [
    {
     "data": {
      "text/plain": [
       "66"
      ]
     },
     "execution_count": 14,
     "metadata": {},
     "output_type": "execute_result"
    }
   ],
   "source": [
    "int(66.6)"
   ]
  },
  {
   "cell_type": "code",
   "execution_count": 15,
   "id": "22e90448-14df-45b4-9573-9cd8584bd489",
   "metadata": {},
   "outputs": [
    {
     "name": "stdout",
     "output_type": "stream",
     "text": [
      "John has 5524.53 points.\n"
     ]
    }
   ],
   "source": [
    "print(\"John has \"+ str(5524.53) + \" points.\")"
   ]
  },
  {
   "cell_type": "code",
   "execution_count": 16,
   "id": "520aace4-8235-4902-8beb-52ec91446ff3",
   "metadata": {},
   "outputs": [
    {
     "ename": "TypeError",
     "evalue": "can only concatenate str (not \"int\") to str",
     "output_type": "error",
     "traceback": [
      "\u001b[1;31m---------------------------------------------------------------------------\u001b[0m",
      "\u001b[1;31mTypeError\u001b[0m                                 Traceback (most recent call last)",
      "Cell \u001b[1;32mIn[16], line 1\u001b[0m\n\u001b[1;32m----> 1\u001b[0m \u001b[38;5;28mprint\u001b[39m(\u001b[38;5;124;43m\"\u001b[39;49m\u001b[38;5;124;43mJohn\u001b[39;49m\u001b[38;5;124;43m'\u001b[39;49m\u001b[38;5;124;43ms age is\u001b[39;49m\u001b[38;5;124;43m\"\u001b[39;49m\u001b[38;5;241;43m+\u001b[39;49m\u001b[43mz\u001b[49m)\n",
      "\u001b[1;31mTypeError\u001b[0m: can only concatenate str (not \"int\") to str"
     ]
    }
   ],
   "source": [
    "print(\"John's age is\"+z) #commas work for this case but if +, need to convert to str for concat"
   ]
  },
  {
   "cell_type": "code",
   "execution_count": 17,
   "id": "53ba9470-2cca-426f-a8b3-fc4913e2da07",
   "metadata": {},
   "outputs": [
    {
     "name": "stdout",
     "output_type": "stream",
     "text": [
      "John'a age is 66\n"
     ]
    }
   ],
   "source": [
    "print(\"John'a age is \"+ str(z))"
   ]
  },
  {
   "cell_type": "code",
   "execution_count": 18,
   "id": "e82a3eb8-65cd-4fb2-98bc-6a8453fbe41d",
   "metadata": {},
   "outputs": [
    {
     "data": {
      "text/plain": [
       "'0b101'"
      ]
     },
     "execution_count": 18,
     "metadata": {},
     "output_type": "execute_result"
    }
   ],
   "source": [
    "bin(5)"
   ]
  },
  {
   "cell_type": "code",
   "execution_count": 19,
   "id": "7f5db5b4-6dfa-4862-b6e4-53999a73f95e",
   "metadata": {},
   "outputs": [
    {
     "data": {
      "text/plain": [
       "10"
      ]
     },
     "execution_count": 19,
     "metadata": {},
     "output_type": "execute_result"
    }
   ],
   "source": [
    "int('0b1010',2)"
   ]
  },
  {
   "cell_type": "code",
   "execution_count": 22,
   "id": "5f7c38bc-aef5-4bd7-a028-6b1ec777a3f6",
   "metadata": {},
   "outputs": [
    {
     "data": {
      "text/plain": [
       "11210768"
      ]
     },
     "execution_count": 22,
     "metadata": {},
     "output_type": "execute_result"
    }
   ],
   "source": [
    "int('AB1010',16)"
   ]
  },
  {
   "cell_type": "code",
   "execution_count": 23,
   "id": "89b8e026-f28a-400a-a147-d96e5dba9d16",
   "metadata": {},
   "outputs": [
    {
     "data": {
      "text/plain": [
       "1052843"
      ]
     },
     "execution_count": 23,
     "metadata": {},
     "output_type": "execute_result"
    }
   ],
   "source": [
    "int('0x1010AB',16)"
   ]
  },
  {
   "cell_type": "code",
   "execution_count": 24,
   "id": "544b731c-c8a9-4fe2-b468-cf8598d03571",
   "metadata": {},
   "outputs": [
    {
     "data": {
      "text/plain": [
       "'a'"
      ]
     },
     "execution_count": 24,
     "metadata": {},
     "output_type": "execute_result"
    }
   ],
   "source": [
    "chr(97)"
   ]
  },
  {
   "cell_type": "code",
   "execution_count": 26,
   "id": "86f98e67-9fb9-4af8-b1a3-4db25ef4c6c0",
   "metadata": {},
   "outputs": [
    {
     "data": {
      "text/plain": [
       "1j"
      ]
     },
     "execution_count": 26,
     "metadata": {},
     "output_type": "execute_result"
    }
   ],
   "source": [
    "complex(1j)"
   ]
  },
  {
   "cell_type": "code",
   "execution_count": 27,
   "id": "087d25de-da86-4d11-a332-59485de209cb",
   "metadata": {},
   "outputs": [
    {
     "data": {
      "text/plain": [
       "(1+2j)"
      ]
     },
     "execution_count": 27,
     "metadata": {},
     "output_type": "execute_result"
    }
   ],
   "source": [
    "complex(1,2)"
   ]
  },
  {
   "cell_type": "code",
   "execution_count": 9,
   "id": "14928bc2-e4f2-4063-8f6f-6fff30cd75c2",
   "metadata": {},
   "outputs": [
    {
     "name": "stdout",
     "output_type": "stream",
     "text": [
      "['Blue', 'Green', 'Red', 'White']\n"
     ]
    }
   ],
   "source": [
    "new_list = [\"Red\", \"Blue\", \"White\", \"Green\"]\n",
    "z = sorted(new_list)\n",
    "d = list(z)\n",
    "d[0], d[1], d[2], d[3] = d[3], d[2], d[1], d[0]\n",
    "d[0], d[1], d[2], d[3]\n",
    "print(z)"
   ]
  },
  {
   "cell_type": "markdown",
   "id": "49c4e67f-c777-4918-969b-1847d9a2d2bc",
   "metadata": {},
   "source": [
    "## Loops and Conditional Statements"
   ]
  },
  {
   "cell_type": "code",
   "execution_count": 17,
   "id": "0b163d69-bcc1-4af7-a1b6-22a96832ea06",
   "metadata": {},
   "outputs": [
    {
     "name": "stdout",
     "output_type": "stream",
     "text": [
      "H\n",
      "e\n",
      "l\n",
      "l\n",
      "o\n"
     ]
    }
   ],
   "source": [
    "for letter in ['H','e','l','l','o']:\n",
    "    print(letter)"
   ]
  },
  {
   "cell_type": "code",
   "execution_count": 1,
   "id": "afe60436-0157-45f8-a51d-1cd9abfe0622",
   "metadata": {},
   "outputs": [
    {
     "name": "stdout",
     "output_type": "stream",
     "text": [
      "h\n",
      "e\n",
      "l\n",
      "l\n",
      "o\n",
      "No more characters left\n"
     ]
    }
   ],
   "source": [
    "stringch = \"hello\"\n",
    "for letter in stringch:\n",
    "    print(letter)\n",
    "else:\n",
    "    print(\"No more characters left\")"
   ]
  },
  {
   "cell_type": "code",
   "execution_count": 2,
   "id": "ea1a2399-1f3e-4728-9c16-9287a43a8eac",
   "metadata": {},
   "outputs": [
    {
     "name": "stdout",
     "output_type": "stream",
     "text": [
      "new york is present in the list\n"
     ]
    }
   ],
   "source": [
    "us_cities = [\"new york\",\"los angeles\",\"chicago\"]\n",
    "for city in us_cities:\n",
    "    if city == \"new york\":\n",
    "        print(\"new york is present in the list\")"
   ]
  },
  {
   "cell_type": "code",
   "execution_count": 6,
   "id": "4e676822-5662-4390-9187-9a30a66fe751",
   "metadata": {},
   "outputs": [
    {
     "name": "stdout",
     "output_type": "stream",
     "text": [
      "1 is an odd number found in the list\n",
      "2 is an even number found in the list\n",
      "3 is an odd number found in the list\n",
      "3 is an odd number found in the list\n",
      "34 is an even number found in the list\n",
      "4 is an even number found in the list\n",
      "4 is an even number found in the list\n",
      "5 is an odd number found in the list\n"
     ]
    }
   ],
   "source": [
    "numbers = [1,2,3,3,34,4,4,5]\n",
    "for num in numbers:\n",
    "    if num % 2 == 0:\n",
    "        print(num,\"is an even number found in the list\")\n",
    "    else:\n",
    "        print(num,\"is an odd number found in the list\")"
   ]
  },
  {
   "cell_type": "code",
   "execution_count": 8,
   "id": "e909921d-8721-4037-87f2-466e7b21e4cc",
   "metadata": {},
   "outputs": [
    {
     "name": "stdout",
     "output_type": "stream",
     "text": [
      "bobby\n",
      "gum\n",
      "harold\n",
      "jj\n",
      "simon\n"
     ]
    }
   ],
   "source": [
    "all_names = [['bobby','gum'],['harold','jj','simon']]\n",
    "for sublist in all_names:\n",
    "    for name in sublist:\n",
    "        print(name)"
   ]
  },
  {
   "cell_type": "code",
   "execution_count": 10,
   "id": "d6d82ff3-04ea-41dd-b7ad-20ff46eb2851",
   "metadata": {},
   "outputs": [
    {
     "data": {
      "text/plain": [
       "range(0, 5)"
      ]
     },
     "execution_count": 10,
     "metadata": {},
     "output_type": "execute_result"
    }
   ],
   "source": [
    "##range\n",
    "my_range = range(5)\n",
    "my_range"
   ]
  },
  {
   "cell_type": "code",
   "execution_count": 11,
   "id": "050bae8d-a73a-45bc-a9ac-55761ee0df2b",
   "metadata": {},
   "outputs": [
    {
     "data": {
      "text/plain": [
       "(0, 1, 2, 3, 4)"
      ]
     },
     "execution_count": 11,
     "metadata": {},
     "output_type": "execute_result"
    }
   ],
   "source": [
    "tuple(my_range)"
   ]
  },
  {
   "cell_type": "code",
   "execution_count": 12,
   "id": "752c4177-8672-4ce0-aec3-01e69266acad",
   "metadata": {},
   "outputs": [
    {
     "data": {
      "text/plain": [
       "[0, 1, 2, 3, 4]"
      ]
     },
     "execution_count": 12,
     "metadata": {},
     "output_type": "execute_result"
    }
   ],
   "source": [
    "list(my_range)"
   ]
  },
  {
   "cell_type": "code",
   "execution_count": 13,
   "id": "4e0fae8e-5371-4233-9837-7d7ebc88e01a",
   "metadata": {},
   "outputs": [
    {
     "data": {
      "text/plain": [
       "[-5, -4, -3, -2, -1, 0, 1, 2, 3, 4]"
      ]
     },
     "execution_count": 13,
     "metadata": {},
     "output_type": "execute_result"
    }
   ],
   "source": [
    "list(range(-5,5)) #just like slicing included beginning non included end"
   ]
  },
  {
   "cell_type": "code",
   "execution_count": 14,
   "id": "3ea18b64-5992-4317-b6e2-f37c8a726d99",
   "metadata": {},
   "outputs": [
    {
     "name": "stdout",
     "output_type": "stream",
     "text": [
      "0\n",
      "1\n",
      "2\n",
      "3\n",
      "4\n",
      "5\n"
     ]
    }
   ],
   "source": [
    "for i in range(6):\n",
    "    print (i)"
   ]
  },
  {
   "cell_type": "code",
   "execution_count": 16,
   "id": "7684c7fa-10da-4152-835b-ea543e80b2b1",
   "metadata": {},
   "outputs": [
    {
     "name": "stdout",
     "output_type": "stream",
     "text": [
      "Hello\n",
      "Hello\n",
      "Hello\n"
     ]
    }
   ],
   "source": [
    "for _ in range(3):#i doesnt really matter then can use _ as convension\n",
    "    print(\"Hello\")"
   ]
  },
  {
   "cell_type": "code",
   "execution_count": 18,
   "id": "5ba65815-9670-4e8a-a36f-1cfd81d775f0",
   "metadata": {},
   "outputs": [
    {
     "name": "stdout",
     "output_type": "stream",
     "text": [
      "python\n",
      "python\n",
      "python\n",
      "python\n"
     ]
    }
   ],
   "source": [
    "for _ in range(2**2):\n",
    "    print(\"python\")"
   ]
  },
  {
   "cell_type": "code",
   "execution_count": 19,
   "id": "0d787075-f59f-4c64-9dc4-552c10799df5",
   "metadata": {},
   "outputs": [
    {
     "name": "stdout",
     "output_type": "stream",
     "text": [
      "number: 5\n",
      "number: 6\n",
      "number: 7\n",
      "number: 8\n",
      "number: 9\n"
     ]
    }
   ],
   "source": [
    "for num in range(5,10):\n",
    "    print(\"number:\",num)"
   ]
  },
  {
   "cell_type": "code",
   "execution_count": 20,
   "id": "11b19396-4590-4660-9588-bc6635da69ec",
   "metadata": {},
   "outputs": [
    {
     "name": "stdout",
     "output_type": "stream",
     "text": [
      "4\n",
      "3\n",
      "2\n",
      "1\n",
      "0\n"
     ]
    }
   ],
   "source": [
    "x = range(5)\n",
    "\n",
    "for i in reversed(x):\n",
    "    print(i)"
   ]
  },
  {
   "cell_type": "code",
   "execution_count": 21,
   "id": "a18dfc21-6e43-4aa5-b7d7-5f6b82213b78",
   "metadata": {},
   "outputs": [
    {
     "name": "stdout",
     "output_type": "stream",
     "text": [
      "e\n",
      "m\n",
      "o\n",
      "c\n",
      "l\n",
      "e\n",
      "w\n"
     ]
    }
   ],
   "source": [
    "for i in reversed(\"welcome\"):\n",
    "    print(i)"
   ]
  },
  {
   "cell_type": "code",
   "execution_count": 24,
   "id": "1e34e171-4669-47ff-b0ac-fcfe465f3598",
   "metadata": {},
   "outputs": [
    {
     "data": {
      "text/plain": [
       "[5, 7, 9]"
      ]
     },
     "execution_count": 24,
     "metadata": {},
     "output_type": "execute_result"
    }
   ],
   "source": [
    "list(range(5,10,2)) #a step can be used in ranges aswell like slicing"
   ]
  },
  {
   "cell_type": "code",
   "execution_count": 25,
   "id": "a27f4eaf-d876-479e-9139-5af7b8413f8c",
   "metadata": {},
   "outputs": [
    {
     "data": {
      "text/plain": [
       "[-2, -4, -6, -8]"
      ]
     },
     "execution_count": 25,
     "metadata": {},
     "output_type": "execute_result"
    }
   ],
   "source": [
    "list(range(-2,-10,-2))"
   ]
  },
  {
   "cell_type": "code",
   "execution_count": 29,
   "id": "7145b0fa-cf4e-4ce3-b617-34e0dbf10f45",
   "metadata": {},
   "outputs": [
    {
     "name": "stdout",
     "output_type": "stream",
     "text": [
      "yes\n",
      "yello\n"
     ]
    }
   ],
   "source": [
    "my_dict = {0:'yes',1:'yello'}\n",
    "for num in my_dict.values():\n",
    "    print(num)"
   ]
  },
  {
   "cell_type": "code",
   "execution_count": 31,
   "id": "d14ea03a-9d8e-4a58-9a6c-857d4da80bd5",
   "metadata": {},
   "outputs": [
    {
     "name": "stdout",
     "output_type": "stream",
     "text": [
      "0\n",
      "1\n"
     ]
    }
   ],
   "source": [
    "my_dict = {0:'yes',1:'yello'}\n",
    "for num in my_dict:\n",
    "    print(num)"
   ]
  },
  {
   "cell_type": "markdown",
   "id": "db0b10e6-03a4-4749-8fda-256fa02e9c9a",
   "metadata": {},
   "source": [
    "## Break, Continue, Pass Statement"
   ]
  },
  {
   "cell_type": "code",
   "execution_count": 32,
   "id": "9ce7f0d9-d78b-4089-80ca-dbdb798eb535",
   "metadata": {},
   "outputs": [
    {
     "name": "stdout",
     "output_type": "stream",
     "text": [
      "p\n",
      "y\n",
      "t\n",
      "h\n",
      "o\n"
     ]
    }
   ],
   "source": [
    "for letter in \"python\":\n",
    "    print(letter)\n",
    "    if letter == 'o':\n",
    "        break #o terminates the loop"
   ]
  },
  {
   "cell_type": "code",
   "execution_count": 33,
   "id": "a53b8755-fc1d-4b38-932e-79661001c0de",
   "metadata": {},
   "outputs": [
    {
     "name": "stdout",
     "output_type": "stream",
     "text": [
      "A letter c was found. break loop\n"
     ]
    }
   ],
   "source": [
    "for char in 'icecream':\n",
    "    if char == 'c':\n",
    "        print('A letter c was found. break loop')\n",
    "        break\n",
    "else:\n",
    "    print('The letter c was never found in the string')"
   ]
  },
  {
   "cell_type": "code",
   "execution_count": 34,
   "id": "e48d0ede-55ba-43e2-8d47-859b40f5017d",
   "metadata": {},
   "outputs": [
    {
     "name": "stdin",
     "output_type": "stream",
     "text": [
      "Enter a number 3\n"
     ]
    },
    {
     "name": "stdout",
     "output_type": "stream",
     "text": [
      "3 is a prime number\n"
     ]
    }
   ],
   "source": [
    "num = int(input('Enter a number'))\n",
    "for i in range(2,num):\n",
    "    if num % i == 0:\n",
    "        print(\"It is not a prime number\")\n",
    "        break\n",
    "else:\n",
    "    print(num,\"is a prime number\")"
   ]
  },
  {
   "cell_type": "code",
   "execution_count": 35,
   "id": "8a621406-c9a9-4670-beb3-1a503aaeb085",
   "metadata": {},
   "outputs": [
    {
     "name": "stdout",
     "output_type": "stream",
     "text": [
      "f\n",
      "u\n",
      "t\n",
      "u\n",
      "e\n",
      "The end\n"
     ]
    }
   ],
   "source": [
    "##continue statements\n",
    "for letter in \"future\":\n",
    "    if letter == 'r':\n",
    "        continue # after the continue statement it will all be terminated\n",
    "    print(letter) # this will be terminated within the for loop\n",
    "print('The end')"
   ]
  },
  {
   "cell_type": "code",
   "execution_count": 37,
   "id": "91981b27-54bf-47ad-a7a0-69d87cb8a746",
   "metadata": {},
   "outputs": [
    {
     "name": "stdout",
     "output_type": "stream",
     "text": [
      "s\n",
      "t\n",
      "r\n",
      "i\n",
      "n\n",
      "g\n"
     ]
    }
   ],
   "source": [
    "## pass statement\n",
    "for letter in 'string':\n",
    "    if letter == 'r':\n",
    "        pass #use to denote nothing is to be done\n",
    "    print(letter)"
   ]
  },
  {
   "cell_type": "code",
   "execution_count": 40,
   "id": "8e4fa29d-4387-4c20-b8c2-768f74e92866",
   "metadata": {},
   "outputs": [
    {
     "name": "stdout",
     "output_type": "stream",
     "text": [
      "Count of odds 0\n",
      "Total count 1\n",
      "1\n",
      "Count of odds 1\n",
      "Total count 2\n",
      "Count of odds 1\n",
      "Total count 3\n",
      "3\n",
      "Count of odds 2\n",
      "Total count 4\n",
      "Count of odds 2\n",
      "Total count 5\n",
      "5\n",
      "Count of odds 3\n",
      "Total count 6\n",
      "Count of odds 3\n",
      "Total count 7\n",
      "7\n",
      "Count of odds 4\n",
      "Total count 8\n",
      "Count of odds 4\n",
      "Total count 9\n",
      "9\n",
      "Count of odds 5\n",
      "Total count 10\n"
     ]
    }
   ],
   "source": [
    "odd_count = 0\n",
    "total_count = 0\n",
    "\n",
    "for i in range(10):\n",
    "    if (i%2==0):\n",
    "        pass\n",
    "    else:\n",
    "        print(i)\n",
    "        odd_count+=1\n",
    "    total_count+=1\n",
    "    print(\"Count of odds\",odd_count)\n",
    "    print(\"Total count\",total_count)"
   ]
  },
  {
   "cell_type": "code",
   "execution_count": 44,
   "id": "87ff687a-29dd-4da3-89ba-0f3d06e355d9",
   "metadata": {},
   "outputs": [
    {
     "name": "stdin",
     "output_type": "stream",
     "text": [
      "Enter a number: 1h3bhj3b2j\n"
     ]
    },
    {
     "name": "stdout",
     "output_type": "stream",
     "text": [
      "No. of digits: 4\n",
      "No. of letters: 6\n"
     ]
    }
   ],
   "source": [
    "my_str = input(\"Enter a number:\")\n",
    "digits = 0\n",
    "letters = 0\n",
    "\n",
    "for i in my_str:\n",
    "    if i.isdigit():\n",
    "        digits+=1\n",
    "    elif i.isalpha():\n",
    "        letters+=1\n",
    "    else:\n",
    "        pass\n",
    "print(\"No. of digits:\",digits)\n",
    "print(\"No. of letters:\",letters)"
   ]
  },
  {
   "cell_type": "code",
   "execution_count": 45,
   "id": "e1d504fd-c588-4b86-a830-962887977dda",
   "metadata": {},
   "outputs": [
    {
     "data": {
      "text/plain": [
       "[0, 1, 4, 9, 16, 25, 36, 49, 64, 81]"
      ]
     },
     "execution_count": 45,
     "metadata": {},
     "output_type": "execute_result"
    }
   ],
   "source": [
    "##comprehensions\n",
    "num = range(10)\n",
    "[x*x for x in num] #operation to perform x * x in a for looped num filled with x"
   ]
  },
  {
   "cell_type": "code",
   "execution_count": 47,
   "id": "1ccc7a02-4a23-472e-ae58-2473596fe11e",
   "metadata": {},
   "outputs": [
    {
     "data": {
      "text/plain": [
       "['f', 'u', 'l', 'l', 't', 'a', 'n', 'k']"
      ]
     },
     "execution_count": 47,
     "metadata": {},
     "output_type": "execute_result"
    }
   ],
   "source": [
    "letters = [letter for letter in 'fulltank']\n",
    "letters"
   ]
  },
  {
   "cell_type": "code",
   "execution_count": 50,
   "id": "7fdbc4ef-5941-4719-a2a8-c8286a197c4e",
   "metadata": {},
   "outputs": [
    {
     "data": {
      "text/plain": [
       "['A', 'I', '/', 'M', 'L']"
      ]
     },
     "execution_count": 50,
     "metadata": {},
     "output_type": "execute_result"
    }
   ],
   "source": [
    "list_of_words = ['all','imitate',\"/comment\",'meticulous','lava']\n",
    "items = [word[0].upper() for word in list_of_words]\n",
    "items"
   ]
  },
  {
   "cell_type": "code",
   "execution_count": 51,
   "id": "0b2bf0e4-550f-4a7e-a646-f79eca7cac3a",
   "metadata": {},
   "outputs": [
    {
     "data": {
      "text/plain": [
       "['a', 'i', '/', 'm', 'l']"
      ]
     },
     "execution_count": 51,
     "metadata": {},
     "output_type": "execute_result"
    }
   ],
   "source": [
    "[word.lower() for word in items]"
   ]
  },
  {
   "cell_type": "code",
   "execution_count": 52,
   "id": "ff900fc0-72a4-4a9d-a96d-944beeef87c1",
   "metadata": {},
   "outputs": [
    {
     "data": {
      "text/plain": [
       "[0, 4, 16, 36, 64]"
      ]
     },
     "execution_count": 52,
     "metadata": {},
     "output_type": "execute_result"
    }
   ],
   "source": [
    "[x*x for x in num if x%2 == 0]"
   ]
  },
  {
   "cell_type": "code",
   "execution_count": 54,
   "id": "d377006a-089e-466d-a915-c60b17be926f",
   "metadata": {},
   "outputs": [
    {
     "data": {
      "text/plain": [
       "[0, 27, 54, 81, 108, 135, 162, 189, 216, 243, 270, 297]"
      ]
     },
     "execution_count": 54,
     "metadata": {},
     "output_type": "execute_result"
    }
   ],
   "source": [
    "multiples_27 = [num for num in range(300) if num%27==0]\n",
    "multiples_27"
   ]
  },
  {
   "cell_type": "markdown",
   "id": "67f543c7-1df6-4627-aeec-6d12c0cf12c6",
   "metadata": {},
   "source": [
    "## While loops"
   ]
  },
  {
   "cell_type": "code",
   "execution_count": 55,
   "id": "344a8cc6-fca5-4980-8555-dc3057fdf589",
   "metadata": {},
   "outputs": [
    {
     "name": "stdout",
     "output_type": "stream",
     "text": [
      "20\n",
      "21\n",
      "22\n",
      "23\n",
      "24\n"
     ]
    }
   ],
   "source": [
    "number = 20\n",
    "while number < 25:\n",
    "    print(number)\n",
    "    number+=1"
   ]
  },
  {
   "cell_type": "code",
   "execution_count": null,
   "id": "6e4c08d2-7b08-45df-a748-16c9b29af91b",
   "metadata": {},
   "outputs": [],
   "source": []
  }
 ],
 "metadata": {
  "kernelspec": {
   "display_name": "Python 3 (ipykernel)",
   "language": "python",
   "name": "python3"
  },
  "language_info": {
   "codemirror_mode": {
    "name": "ipython",
    "version": 3
   },
   "file_extension": ".py",
   "mimetype": "text/x-python",
   "name": "python",
   "nbconvert_exporter": "python",
   "pygments_lexer": "ipython3",
   "version": "3.12.4"
  }
 },
 "nbformat": 4,
 "nbformat_minor": 5
}
